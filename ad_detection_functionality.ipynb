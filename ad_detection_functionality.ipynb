{
  "nbformat": 4,
  "nbformat_minor": 0,
  "metadata": {
    "colab": {
      "name": "ad_detection_functionality.ipynb",
      "provenance": [],
      "collapsed_sections": [],
      "toc_visible": true,
      "mount_file_id": "196YF8X9d1mn-L2TckTFmzbUSTidUmjFp",
      "authorship_tag": "ABX9TyOkSPG7Jd5vtcMl6YV68SX2"
    },
    "kernelspec": {
      "name": "python3",
      "display_name": "Python 3"
    },
    "language_info": {
      "name": "python"
    },
    "accelerator": "GPU",
    "widgets": {
      "application/vnd.jupyter.widget-state+json": {
        "8541bd823dd748db9e0c47f550142f9f": {
          "model_module": "@jupyter-widgets/controls",
          "model_name": "HBoxModel",
          "state": {
            "_view_name": "HBoxView",
            "_dom_classes": [],
            "_model_name": "HBoxModel",
            "_view_module": "@jupyter-widgets/controls",
            "_model_module_version": "1.5.0",
            "_view_count": null,
            "_view_module_version": "1.5.0",
            "box_style": "",
            "layout": "IPY_MODEL_4c568ad91d294e3bb2d20bd3758740e3",
            "_model_module": "@jupyter-widgets/controls",
            "children": [
              "IPY_MODEL_5320bb1237f44bbe85ac265a7b29f22b",
              "IPY_MODEL_86cbe3061d9048a69be6399e4f1cdb4f"
            ]
          }
        },
        "4c568ad91d294e3bb2d20bd3758740e3": {
          "model_module": "@jupyter-widgets/base",
          "model_name": "LayoutModel",
          "state": {
            "_view_name": "LayoutView",
            "grid_template_rows": null,
            "right": null,
            "justify_content": null,
            "_view_module": "@jupyter-widgets/base",
            "overflow": null,
            "_model_module_version": "1.2.0",
            "_view_count": null,
            "flex_flow": null,
            "width": null,
            "min_width": null,
            "border": null,
            "align_items": null,
            "bottom": null,
            "_model_module": "@jupyter-widgets/base",
            "top": null,
            "grid_column": null,
            "overflow_y": null,
            "overflow_x": null,
            "grid_auto_flow": null,
            "grid_area": null,
            "grid_template_columns": null,
            "flex": null,
            "_model_name": "LayoutModel",
            "justify_items": null,
            "grid_row": null,
            "max_height": null,
            "align_content": null,
            "visibility": null,
            "align_self": null,
            "height": null,
            "min_height": null,
            "padding": null,
            "grid_auto_rows": null,
            "grid_gap": null,
            "max_width": null,
            "order": null,
            "_view_module_version": "1.2.0",
            "grid_template_areas": null,
            "object_position": null,
            "object_fit": null,
            "grid_auto_columns": null,
            "margin": null,
            "display": null,
            "left": null
          }
        },
        "5320bb1237f44bbe85ac265a7b29f22b": {
          "model_module": "@jupyter-widgets/controls",
          "model_name": "FloatProgressModel",
          "state": {
            "_view_name": "ProgressView",
            "style": "IPY_MODEL_cacdd95c33a3492293f369791bedece4",
            "_dom_classes": [],
            "description": "100%",
            "_model_name": "FloatProgressModel",
            "bar_style": "success",
            "max": 698611,
            "_view_module": "@jupyter-widgets/controls",
            "_model_module_version": "1.5.0",
            "value": 698611,
            "_view_count": null,
            "_view_module_version": "1.5.0",
            "orientation": "horizontal",
            "min": 0,
            "description_tooltip": null,
            "_model_module": "@jupyter-widgets/controls",
            "layout": "IPY_MODEL_8cc05609b6f64b359ec0ce7c870ee88c"
          }
        },
        "86cbe3061d9048a69be6399e4f1cdb4f": {
          "model_module": "@jupyter-widgets/controls",
          "model_name": "HTMLModel",
          "state": {
            "_view_name": "HTMLView",
            "style": "IPY_MODEL_a76073a5876e4c1fb71ec0aeed722ca2",
            "_dom_classes": [],
            "description": "",
            "_model_name": "HTMLModel",
            "placeholder": "​",
            "_view_module": "@jupyter-widgets/controls",
            "_model_module_version": "1.5.0",
            "value": " 698611/698611 [05:02&lt;00:00, 2307.81it/s]",
            "_view_count": null,
            "_view_module_version": "1.5.0",
            "description_tooltip": null,
            "_model_module": "@jupyter-widgets/controls",
            "layout": "IPY_MODEL_4f8296fbf12d456498c4160c3b7f66ea"
          }
        },
        "cacdd95c33a3492293f369791bedece4": {
          "model_module": "@jupyter-widgets/controls",
          "model_name": "ProgressStyleModel",
          "state": {
            "_view_name": "StyleView",
            "_model_name": "ProgressStyleModel",
            "description_width": "initial",
            "_view_module": "@jupyter-widgets/base",
            "_model_module_version": "1.5.0",
            "_view_count": null,
            "_view_module_version": "1.2.0",
            "bar_color": null,
            "_model_module": "@jupyter-widgets/controls"
          }
        },
        "8cc05609b6f64b359ec0ce7c870ee88c": {
          "model_module": "@jupyter-widgets/base",
          "model_name": "LayoutModel",
          "state": {
            "_view_name": "LayoutView",
            "grid_template_rows": null,
            "right": null,
            "justify_content": null,
            "_view_module": "@jupyter-widgets/base",
            "overflow": null,
            "_model_module_version": "1.2.0",
            "_view_count": null,
            "flex_flow": null,
            "width": null,
            "min_width": null,
            "border": null,
            "align_items": null,
            "bottom": null,
            "_model_module": "@jupyter-widgets/base",
            "top": null,
            "grid_column": null,
            "overflow_y": null,
            "overflow_x": null,
            "grid_auto_flow": null,
            "grid_area": null,
            "grid_template_columns": null,
            "flex": null,
            "_model_name": "LayoutModel",
            "justify_items": null,
            "grid_row": null,
            "max_height": null,
            "align_content": null,
            "visibility": null,
            "align_self": null,
            "height": null,
            "min_height": null,
            "padding": null,
            "grid_auto_rows": null,
            "grid_gap": null,
            "max_width": null,
            "order": null,
            "_view_module_version": "1.2.0",
            "grid_template_areas": null,
            "object_position": null,
            "object_fit": null,
            "grid_auto_columns": null,
            "margin": null,
            "display": null,
            "left": null
          }
        },
        "a76073a5876e4c1fb71ec0aeed722ca2": {
          "model_module": "@jupyter-widgets/controls",
          "model_name": "DescriptionStyleModel",
          "state": {
            "_view_name": "StyleView",
            "_model_name": "DescriptionStyleModel",
            "description_width": "",
            "_view_module": "@jupyter-widgets/base",
            "_model_module_version": "1.5.0",
            "_view_count": null,
            "_view_module_version": "1.2.0",
            "_model_module": "@jupyter-widgets/controls"
          }
        },
        "4f8296fbf12d456498c4160c3b7f66ea": {
          "model_module": "@jupyter-widgets/base",
          "model_name": "LayoutModel",
          "state": {
            "_view_name": "LayoutView",
            "grid_template_rows": null,
            "right": null,
            "justify_content": null,
            "_view_module": "@jupyter-widgets/base",
            "overflow": null,
            "_model_module_version": "1.2.0",
            "_view_count": null,
            "flex_flow": null,
            "width": null,
            "min_width": null,
            "border": null,
            "align_items": null,
            "bottom": null,
            "_model_module": "@jupyter-widgets/base",
            "top": null,
            "grid_column": null,
            "overflow_y": null,
            "overflow_x": null,
            "grid_auto_flow": null,
            "grid_area": null,
            "grid_template_columns": null,
            "flex": null,
            "_model_name": "LayoutModel",
            "justify_items": null,
            "grid_row": null,
            "max_height": null,
            "align_content": null,
            "visibility": null,
            "align_self": null,
            "height": null,
            "min_height": null,
            "padding": null,
            "grid_auto_rows": null,
            "grid_gap": null,
            "max_width": null,
            "order": null,
            "_view_module_version": "1.2.0",
            "grid_template_areas": null,
            "object_position": null,
            "object_fit": null,
            "grid_auto_columns": null,
            "margin": null,
            "display": null,
            "left": null
          }
        },
        "31ca4758ccb04f33b053837f070068fd": {
          "model_module": "@jupyter-widgets/controls",
          "model_name": "HBoxModel",
          "state": {
            "_view_name": "HBoxView",
            "_dom_classes": [],
            "_model_name": "HBoxModel",
            "_view_module": "@jupyter-widgets/controls",
            "_model_module_version": "1.5.0",
            "_view_count": null,
            "_view_module_version": "1.5.0",
            "box_style": "",
            "layout": "IPY_MODEL_691365c6e8b843acb1c41d2da303d471",
            "_model_module": "@jupyter-widgets/controls",
            "children": [
              "IPY_MODEL_b30441a32ed74bbfa595bcfbfac1f3df",
              "IPY_MODEL_78a1dd5df7b04fca98d5ba857aba2bee"
            ]
          }
        },
        "691365c6e8b843acb1c41d2da303d471": {
          "model_module": "@jupyter-widgets/base",
          "model_name": "LayoutModel",
          "state": {
            "_view_name": "LayoutView",
            "grid_template_rows": null,
            "right": null,
            "justify_content": null,
            "_view_module": "@jupyter-widgets/base",
            "overflow": null,
            "_model_module_version": "1.2.0",
            "_view_count": null,
            "flex_flow": null,
            "width": null,
            "min_width": null,
            "border": null,
            "align_items": null,
            "bottom": null,
            "_model_module": "@jupyter-widgets/base",
            "top": null,
            "grid_column": null,
            "overflow_y": null,
            "overflow_x": null,
            "grid_auto_flow": null,
            "grid_area": null,
            "grid_template_columns": null,
            "flex": null,
            "_model_name": "LayoutModel",
            "justify_items": null,
            "grid_row": null,
            "max_height": null,
            "align_content": null,
            "visibility": null,
            "align_self": null,
            "height": null,
            "min_height": null,
            "padding": null,
            "grid_auto_rows": null,
            "grid_gap": null,
            "max_width": null,
            "order": null,
            "_view_module_version": "1.2.0",
            "grid_template_areas": null,
            "object_position": null,
            "object_fit": null,
            "grid_auto_columns": null,
            "margin": null,
            "display": null,
            "left": null
          }
        },
        "b30441a32ed74bbfa595bcfbfac1f3df": {
          "model_module": "@jupyter-widgets/controls",
          "model_name": "FloatProgressModel",
          "state": {
            "_view_name": "ProgressView",
            "style": "IPY_MODEL_61ca4a1fb344485b9bdf527c7cf46d2e",
            "_dom_classes": [],
            "description": "Epoch: 1, train: 100%",
            "_model_name": "FloatProgressModel",
            "bar_style": "success",
            "max": 581942,
            "_view_module": "@jupyter-widgets/controls",
            "_model_module_version": "1.5.0",
            "value": 581942,
            "_view_count": null,
            "_view_module_version": "1.5.0",
            "orientation": "horizontal",
            "min": 0,
            "description_tooltip": null,
            "_model_module": "@jupyter-widgets/controls",
            "layout": "IPY_MODEL_372e6f772c2a4fa1af55850653f230fb"
          }
        },
        "78a1dd5df7b04fca98d5ba857aba2bee": {
          "model_module": "@jupyter-widgets/controls",
          "model_name": "HTMLModel",
          "state": {
            "_view_name": "HTMLView",
            "style": "IPY_MODEL_d0601a7c47dc4db1bcbd8d976f5c0096",
            "_dom_classes": [],
            "description": "",
            "_model_name": "HTMLModel",
            "placeholder": "​",
            "_view_module": "@jupyter-widgets/controls",
            "_model_module_version": "1.5.0",
            "value": " 581942/581942 [57:05&lt;00:00, 169.89it/s, train_loss=0.0615]",
            "_view_count": null,
            "_view_module_version": "1.5.0",
            "description_tooltip": null,
            "_model_module": "@jupyter-widgets/controls",
            "layout": "IPY_MODEL_b0b9da7c8fd74119bfb092e231535141"
          }
        },
        "61ca4a1fb344485b9bdf527c7cf46d2e": {
          "model_module": "@jupyter-widgets/controls",
          "model_name": "ProgressStyleModel",
          "state": {
            "_view_name": "StyleView",
            "_model_name": "ProgressStyleModel",
            "description_width": "initial",
            "_view_module": "@jupyter-widgets/base",
            "_model_module_version": "1.5.0",
            "_view_count": null,
            "_view_module_version": "1.2.0",
            "bar_color": null,
            "_model_module": "@jupyter-widgets/controls"
          }
        },
        "372e6f772c2a4fa1af55850653f230fb": {
          "model_module": "@jupyter-widgets/base",
          "model_name": "LayoutModel",
          "state": {
            "_view_name": "LayoutView",
            "grid_template_rows": null,
            "right": null,
            "justify_content": null,
            "_view_module": "@jupyter-widgets/base",
            "overflow": null,
            "_model_module_version": "1.2.0",
            "_view_count": null,
            "flex_flow": null,
            "width": null,
            "min_width": null,
            "border": null,
            "align_items": null,
            "bottom": null,
            "_model_module": "@jupyter-widgets/base",
            "top": null,
            "grid_column": null,
            "overflow_y": null,
            "overflow_x": null,
            "grid_auto_flow": null,
            "grid_area": null,
            "grid_template_columns": null,
            "flex": null,
            "_model_name": "LayoutModel",
            "justify_items": null,
            "grid_row": null,
            "max_height": null,
            "align_content": null,
            "visibility": null,
            "align_self": null,
            "height": null,
            "min_height": null,
            "padding": null,
            "grid_auto_rows": null,
            "grid_gap": null,
            "max_width": null,
            "order": null,
            "_view_module_version": "1.2.0",
            "grid_template_areas": null,
            "object_position": null,
            "object_fit": null,
            "grid_auto_columns": null,
            "margin": null,
            "display": null,
            "left": null
          }
        },
        "d0601a7c47dc4db1bcbd8d976f5c0096": {
          "model_module": "@jupyter-widgets/controls",
          "model_name": "DescriptionStyleModel",
          "state": {
            "_view_name": "StyleView",
            "_model_name": "DescriptionStyleModel",
            "description_width": "",
            "_view_module": "@jupyter-widgets/base",
            "_model_module_version": "1.5.0",
            "_view_count": null,
            "_view_module_version": "1.2.0",
            "_model_module": "@jupyter-widgets/controls"
          }
        },
        "b0b9da7c8fd74119bfb092e231535141": {
          "model_module": "@jupyter-widgets/base",
          "model_name": "LayoutModel",
          "state": {
            "_view_name": "LayoutView",
            "grid_template_rows": null,
            "right": null,
            "justify_content": null,
            "_view_module": "@jupyter-widgets/base",
            "overflow": null,
            "_model_module_version": "1.2.0",
            "_view_count": null,
            "flex_flow": null,
            "width": null,
            "min_width": null,
            "border": null,
            "align_items": null,
            "bottom": null,
            "_model_module": "@jupyter-widgets/base",
            "top": null,
            "grid_column": null,
            "overflow_y": null,
            "overflow_x": null,
            "grid_auto_flow": null,
            "grid_area": null,
            "grid_template_columns": null,
            "flex": null,
            "_model_name": "LayoutModel",
            "justify_items": null,
            "grid_row": null,
            "max_height": null,
            "align_content": null,
            "visibility": null,
            "align_self": null,
            "height": null,
            "min_height": null,
            "padding": null,
            "grid_auto_rows": null,
            "grid_gap": null,
            "max_width": null,
            "order": null,
            "_view_module_version": "1.2.0",
            "grid_template_areas": null,
            "object_position": null,
            "object_fit": null,
            "grid_auto_columns": null,
            "margin": null,
            "display": null,
            "left": null
          }
        },
        "249a643a55c24fb589808c71f9e2997a": {
          "model_module": "@jupyter-widgets/controls",
          "model_name": "HBoxModel",
          "state": {
            "_view_name": "HBoxView",
            "_dom_classes": [],
            "_model_name": "HBoxModel",
            "_view_module": "@jupyter-widgets/controls",
            "_model_module_version": "1.5.0",
            "_view_count": null,
            "_view_module_version": "1.5.0",
            "box_style": "",
            "layout": "IPY_MODEL_b76d57def93340038af1015466c51345",
            "_model_module": "@jupyter-widgets/controls",
            "children": [
              "IPY_MODEL_0600f60785cb4509a4951e4e800557c7",
              "IPY_MODEL_7304a95e7bf944bd8305d3dad305346b"
            ]
          }
        },
        "b76d57def93340038af1015466c51345": {
          "model_module": "@jupyter-widgets/base",
          "model_name": "LayoutModel",
          "state": {
            "_view_name": "LayoutView",
            "grid_template_rows": null,
            "right": null,
            "justify_content": null,
            "_view_module": "@jupyter-widgets/base",
            "overflow": null,
            "_model_module_version": "1.2.0",
            "_view_count": null,
            "flex_flow": null,
            "width": null,
            "min_width": null,
            "border": null,
            "align_items": null,
            "bottom": null,
            "_model_module": "@jupyter-widgets/base",
            "top": null,
            "grid_column": null,
            "overflow_y": null,
            "overflow_x": null,
            "grid_auto_flow": null,
            "grid_area": null,
            "grid_template_columns": null,
            "flex": null,
            "_model_name": "LayoutModel",
            "justify_items": null,
            "grid_row": null,
            "max_height": null,
            "align_content": null,
            "visibility": null,
            "align_self": null,
            "height": null,
            "min_height": null,
            "padding": null,
            "grid_auto_rows": null,
            "grid_gap": null,
            "max_width": null,
            "order": null,
            "_view_module_version": "1.2.0",
            "grid_template_areas": null,
            "object_position": null,
            "object_fit": null,
            "grid_auto_columns": null,
            "margin": null,
            "display": null,
            "left": null
          }
        },
        "0600f60785cb4509a4951e4e800557c7": {
          "model_module": "@jupyter-widgets/controls",
          "model_name": "FloatProgressModel",
          "state": {
            "_view_name": "ProgressView",
            "style": "IPY_MODEL_e7a2285e5cef4e5cb4b140ac68262b9b",
            "_dom_classes": [],
            "description": "Epoch: 1, validation: 100%",
            "_model_name": "FloatProgressModel",
            "bar_style": "success",
            "max": 102696,
            "_view_module": "@jupyter-widgets/controls",
            "_model_module_version": "1.5.0",
            "value": 102696,
            "_view_count": null,
            "_view_module_version": "1.5.0",
            "orientation": "horizontal",
            "min": 0,
            "description_tooltip": null,
            "_model_module": "@jupyter-widgets/controls",
            "layout": "IPY_MODEL_53f1f4c430ca477384909ce36857fe40"
          }
        },
        "7304a95e7bf944bd8305d3dad305346b": {
          "model_module": "@jupyter-widgets/controls",
          "model_name": "HTMLModel",
          "state": {
            "_view_name": "HTMLView",
            "style": "IPY_MODEL_707023a327a14dba9499de9e3f280a36",
            "_dom_classes": [],
            "description": "",
            "_model_name": "HTMLModel",
            "placeholder": "​",
            "_view_module": "@jupyter-widgets/controls",
            "_model_module_version": "1.5.0",
            "value": " 102696/102696 [00:53&lt;00:00, 1931.80it/s, valid_loss=0.0612]",
            "_view_count": null,
            "_view_module_version": "1.5.0",
            "description_tooltip": null,
            "_model_module": "@jupyter-widgets/controls",
            "layout": "IPY_MODEL_84f1c0cdc7734bc6bb2423f000fc14e0"
          }
        },
        "e7a2285e5cef4e5cb4b140ac68262b9b": {
          "model_module": "@jupyter-widgets/controls",
          "model_name": "ProgressStyleModel",
          "state": {
            "_view_name": "StyleView",
            "_model_name": "ProgressStyleModel",
            "description_width": "initial",
            "_view_module": "@jupyter-widgets/base",
            "_model_module_version": "1.5.0",
            "_view_count": null,
            "_view_module_version": "1.2.0",
            "bar_color": null,
            "_model_module": "@jupyter-widgets/controls"
          }
        },
        "53f1f4c430ca477384909ce36857fe40": {
          "model_module": "@jupyter-widgets/base",
          "model_name": "LayoutModel",
          "state": {
            "_view_name": "LayoutView",
            "grid_template_rows": null,
            "right": null,
            "justify_content": null,
            "_view_module": "@jupyter-widgets/base",
            "overflow": null,
            "_model_module_version": "1.2.0",
            "_view_count": null,
            "flex_flow": null,
            "width": null,
            "min_width": null,
            "border": null,
            "align_items": null,
            "bottom": null,
            "_model_module": "@jupyter-widgets/base",
            "top": null,
            "grid_column": null,
            "overflow_y": null,
            "overflow_x": null,
            "grid_auto_flow": null,
            "grid_area": null,
            "grid_template_columns": null,
            "flex": null,
            "_model_name": "LayoutModel",
            "justify_items": null,
            "grid_row": null,
            "max_height": null,
            "align_content": null,
            "visibility": null,
            "align_self": null,
            "height": null,
            "min_height": null,
            "padding": null,
            "grid_auto_rows": null,
            "grid_gap": null,
            "max_width": null,
            "order": null,
            "_view_module_version": "1.2.0",
            "grid_template_areas": null,
            "object_position": null,
            "object_fit": null,
            "grid_auto_columns": null,
            "margin": null,
            "display": null,
            "left": null
          }
        },
        "707023a327a14dba9499de9e3f280a36": {
          "model_module": "@jupyter-widgets/controls",
          "model_name": "DescriptionStyleModel",
          "state": {
            "_view_name": "StyleView",
            "_model_name": "DescriptionStyleModel",
            "description_width": "",
            "_view_module": "@jupyter-widgets/base",
            "_model_module_version": "1.5.0",
            "_view_count": null,
            "_view_module_version": "1.2.0",
            "_model_module": "@jupyter-widgets/controls"
          }
        },
        "84f1c0cdc7734bc6bb2423f000fc14e0": {
          "model_module": "@jupyter-widgets/base",
          "model_name": "LayoutModel",
          "state": {
            "_view_name": "LayoutView",
            "grid_template_rows": null,
            "right": null,
            "justify_content": null,
            "_view_module": "@jupyter-widgets/base",
            "overflow": null,
            "_model_module_version": "1.2.0",
            "_view_count": null,
            "flex_flow": null,
            "width": null,
            "min_width": null,
            "border": null,
            "align_items": null,
            "bottom": null,
            "_model_module": "@jupyter-widgets/base",
            "top": null,
            "grid_column": null,
            "overflow_y": null,
            "overflow_x": null,
            "grid_auto_flow": null,
            "grid_area": null,
            "grid_template_columns": null,
            "flex": null,
            "_model_name": "LayoutModel",
            "justify_items": null,
            "grid_row": null,
            "max_height": null,
            "align_content": null,
            "visibility": null,
            "align_self": null,
            "height": null,
            "min_height": null,
            "padding": null,
            "grid_auto_rows": null,
            "grid_gap": null,
            "max_width": null,
            "order": null,
            "_view_module_version": "1.2.0",
            "grid_template_areas": null,
            "object_position": null,
            "object_fit": null,
            "grid_auto_columns": null,
            "margin": null,
            "display": null,
            "left": null
          }
        },
        "0f1d25e062db4dd29bda890b75ff1260": {
          "model_module": "@jupyter-widgets/controls",
          "model_name": "HBoxModel",
          "state": {
            "_view_name": "HBoxView",
            "_dom_classes": [],
            "_model_name": "HBoxModel",
            "_view_module": "@jupyter-widgets/controls",
            "_model_module_version": "1.5.0",
            "_view_count": null,
            "_view_module_version": "1.5.0",
            "box_style": "",
            "layout": "IPY_MODEL_53e1426311aa4ee5a0934a6e4183de90",
            "_model_module": "@jupyter-widgets/controls",
            "children": [
              "IPY_MODEL_475118c006fc49b68e186cfd8ecf5e2c",
              "IPY_MODEL_82a76566af29498fb94e07121ba997d6"
            ]
          }
        },
        "53e1426311aa4ee5a0934a6e4183de90": {
          "model_module": "@jupyter-widgets/base",
          "model_name": "LayoutModel",
          "state": {
            "_view_name": "LayoutView",
            "grid_template_rows": null,
            "right": null,
            "justify_content": null,
            "_view_module": "@jupyter-widgets/base",
            "overflow": null,
            "_model_module_version": "1.2.0",
            "_view_count": null,
            "flex_flow": null,
            "width": null,
            "min_width": null,
            "border": null,
            "align_items": null,
            "bottom": null,
            "_model_module": "@jupyter-widgets/base",
            "top": null,
            "grid_column": null,
            "overflow_y": null,
            "overflow_x": null,
            "grid_auto_flow": null,
            "grid_area": null,
            "grid_template_columns": null,
            "flex": null,
            "_model_name": "LayoutModel",
            "justify_items": null,
            "grid_row": null,
            "max_height": null,
            "align_content": null,
            "visibility": null,
            "align_self": null,
            "height": null,
            "min_height": null,
            "padding": null,
            "grid_auto_rows": null,
            "grid_gap": null,
            "max_width": null,
            "order": null,
            "_view_module_version": "1.2.0",
            "grid_template_areas": null,
            "object_position": null,
            "object_fit": null,
            "grid_auto_columns": null,
            "margin": null,
            "display": null,
            "left": null
          }
        },
        "475118c006fc49b68e186cfd8ecf5e2c": {
          "model_module": "@jupyter-widgets/controls",
          "model_name": "FloatProgressModel",
          "state": {
            "_view_name": "ProgressView",
            "style": "IPY_MODEL_1baf321fe1c945578c26e44752feab5f",
            "_dom_classes": [],
            "description": "Epoch: 2, train: 100%",
            "_model_name": "FloatProgressModel",
            "bar_style": "success",
            "max": 581942,
            "_view_module": "@jupyter-widgets/controls",
            "_model_module_version": "1.5.0",
            "value": 581942,
            "_view_count": null,
            "_view_module_version": "1.5.0",
            "orientation": "horizontal",
            "min": 0,
            "description_tooltip": null,
            "_model_module": "@jupyter-widgets/controls",
            "layout": "IPY_MODEL_d871a5e85bad40958b364b834dc0f80f"
          }
        },
        "82a76566af29498fb94e07121ba997d6": {
          "model_module": "@jupyter-widgets/controls",
          "model_name": "HTMLModel",
          "state": {
            "_view_name": "HTMLView",
            "style": "IPY_MODEL_6737f445b2724f5a979ac2ad0dc71e1e",
            "_dom_classes": [],
            "description": "",
            "_model_name": "HTMLModel",
            "placeholder": "​",
            "_view_module": "@jupyter-widgets/controls",
            "_model_module_version": "1.5.0",
            "value": " 581942/581942 [42:53&lt;00:00, 226.15it/s, train_loss=0.0387]",
            "_view_count": null,
            "_view_module_version": "1.5.0",
            "description_tooltip": null,
            "_model_module": "@jupyter-widgets/controls",
            "layout": "IPY_MODEL_47030b2e00a74abb99e5e063ccda7233"
          }
        },
        "1baf321fe1c945578c26e44752feab5f": {
          "model_module": "@jupyter-widgets/controls",
          "model_name": "ProgressStyleModel",
          "state": {
            "_view_name": "StyleView",
            "_model_name": "ProgressStyleModel",
            "description_width": "initial",
            "_view_module": "@jupyter-widgets/base",
            "_model_module_version": "1.5.0",
            "_view_count": null,
            "_view_module_version": "1.2.0",
            "bar_color": null,
            "_model_module": "@jupyter-widgets/controls"
          }
        },
        "d871a5e85bad40958b364b834dc0f80f": {
          "model_module": "@jupyter-widgets/base",
          "model_name": "LayoutModel",
          "state": {
            "_view_name": "LayoutView",
            "grid_template_rows": null,
            "right": null,
            "justify_content": null,
            "_view_module": "@jupyter-widgets/base",
            "overflow": null,
            "_model_module_version": "1.2.0",
            "_view_count": null,
            "flex_flow": null,
            "width": null,
            "min_width": null,
            "border": null,
            "align_items": null,
            "bottom": null,
            "_model_module": "@jupyter-widgets/base",
            "top": null,
            "grid_column": null,
            "overflow_y": null,
            "overflow_x": null,
            "grid_auto_flow": null,
            "grid_area": null,
            "grid_template_columns": null,
            "flex": null,
            "_model_name": "LayoutModel",
            "justify_items": null,
            "grid_row": null,
            "max_height": null,
            "align_content": null,
            "visibility": null,
            "align_self": null,
            "height": null,
            "min_height": null,
            "padding": null,
            "grid_auto_rows": null,
            "grid_gap": null,
            "max_width": null,
            "order": null,
            "_view_module_version": "1.2.0",
            "grid_template_areas": null,
            "object_position": null,
            "object_fit": null,
            "grid_auto_columns": null,
            "margin": null,
            "display": null,
            "left": null
          }
        },
        "6737f445b2724f5a979ac2ad0dc71e1e": {
          "model_module": "@jupyter-widgets/controls",
          "model_name": "DescriptionStyleModel",
          "state": {
            "_view_name": "StyleView",
            "_model_name": "DescriptionStyleModel",
            "description_width": "",
            "_view_module": "@jupyter-widgets/base",
            "_model_module_version": "1.5.0",
            "_view_count": null,
            "_view_module_version": "1.2.0",
            "_model_module": "@jupyter-widgets/controls"
          }
        },
        "47030b2e00a74abb99e5e063ccda7233": {
          "model_module": "@jupyter-widgets/base",
          "model_name": "LayoutModel",
          "state": {
            "_view_name": "LayoutView",
            "grid_template_rows": null,
            "right": null,
            "justify_content": null,
            "_view_module": "@jupyter-widgets/base",
            "overflow": null,
            "_model_module_version": "1.2.0",
            "_view_count": null,
            "flex_flow": null,
            "width": null,
            "min_width": null,
            "border": null,
            "align_items": null,
            "bottom": null,
            "_model_module": "@jupyter-widgets/base",
            "top": null,
            "grid_column": null,
            "overflow_y": null,
            "overflow_x": null,
            "grid_auto_flow": null,
            "grid_area": null,
            "grid_template_columns": null,
            "flex": null,
            "_model_name": "LayoutModel",
            "justify_items": null,
            "grid_row": null,
            "max_height": null,
            "align_content": null,
            "visibility": null,
            "align_self": null,
            "height": null,
            "min_height": null,
            "padding": null,
            "grid_auto_rows": null,
            "grid_gap": null,
            "max_width": null,
            "order": null,
            "_view_module_version": "1.2.0",
            "grid_template_areas": null,
            "object_position": null,
            "object_fit": null,
            "grid_auto_columns": null,
            "margin": null,
            "display": null,
            "left": null
          }
        },
        "3fdcc7323cdd4311b6277a9cc167d20d": {
          "model_module": "@jupyter-widgets/controls",
          "model_name": "HBoxModel",
          "state": {
            "_view_name": "HBoxView",
            "_dom_classes": [],
            "_model_name": "HBoxModel",
            "_view_module": "@jupyter-widgets/controls",
            "_model_module_version": "1.5.0",
            "_view_count": null,
            "_view_module_version": "1.5.0",
            "box_style": "",
            "layout": "IPY_MODEL_e7793bf8eb984a07bfd55c0532b620fe",
            "_model_module": "@jupyter-widgets/controls",
            "children": [
              "IPY_MODEL_da33f3922a19416ca5aa843571b5ef65",
              "IPY_MODEL_145557427b364c86aaf18779c7872145"
            ]
          }
        },
        "e7793bf8eb984a07bfd55c0532b620fe": {
          "model_module": "@jupyter-widgets/base",
          "model_name": "LayoutModel",
          "state": {
            "_view_name": "LayoutView",
            "grid_template_rows": null,
            "right": null,
            "justify_content": null,
            "_view_module": "@jupyter-widgets/base",
            "overflow": null,
            "_model_module_version": "1.2.0",
            "_view_count": null,
            "flex_flow": null,
            "width": null,
            "min_width": null,
            "border": null,
            "align_items": null,
            "bottom": null,
            "_model_module": "@jupyter-widgets/base",
            "top": null,
            "grid_column": null,
            "overflow_y": null,
            "overflow_x": null,
            "grid_auto_flow": null,
            "grid_area": null,
            "grid_template_columns": null,
            "flex": null,
            "_model_name": "LayoutModel",
            "justify_items": null,
            "grid_row": null,
            "max_height": null,
            "align_content": null,
            "visibility": null,
            "align_self": null,
            "height": null,
            "min_height": null,
            "padding": null,
            "grid_auto_rows": null,
            "grid_gap": null,
            "max_width": null,
            "order": null,
            "_view_module_version": "1.2.0",
            "grid_template_areas": null,
            "object_position": null,
            "object_fit": null,
            "grid_auto_columns": null,
            "margin": null,
            "display": null,
            "left": null
          }
        },
        "da33f3922a19416ca5aa843571b5ef65": {
          "model_module": "@jupyter-widgets/controls",
          "model_name": "FloatProgressModel",
          "state": {
            "_view_name": "ProgressView",
            "style": "IPY_MODEL_2310fa7707404906a2f1bf80cda95047",
            "_dom_classes": [],
            "description": "Epoch: 2, validation: 100%",
            "_model_name": "FloatProgressModel",
            "bar_style": "success",
            "max": 102696,
            "_view_module": "@jupyter-widgets/controls",
            "_model_module_version": "1.5.0",
            "value": 102696,
            "_view_count": null,
            "_view_module_version": "1.5.0",
            "orientation": "horizontal",
            "min": 0,
            "description_tooltip": null,
            "_model_module": "@jupyter-widgets/controls",
            "layout": "IPY_MODEL_a1196a1bd3514d8e9957b3a52f4f7796"
          }
        },
        "145557427b364c86aaf18779c7872145": {
          "model_module": "@jupyter-widgets/controls",
          "model_name": "HTMLModel",
          "state": {
            "_view_name": "HTMLView",
            "style": "IPY_MODEL_aa30f5e25766494e9515d38d91fdd067",
            "_dom_classes": [],
            "description": "",
            "_model_name": "HTMLModel",
            "placeholder": "​",
            "_view_module": "@jupyter-widgets/controls",
            "_model_module_version": "1.5.0",
            "value": " 102696/102696 [01:22&lt;00:00, 1251.93it/s, valid_loss=0.0462]",
            "_view_count": null,
            "_view_module_version": "1.5.0",
            "description_tooltip": null,
            "_model_module": "@jupyter-widgets/controls",
            "layout": "IPY_MODEL_06819fdc9f0f45ea8542b399d76cf3c8"
          }
        },
        "2310fa7707404906a2f1bf80cda95047": {
          "model_module": "@jupyter-widgets/controls",
          "model_name": "ProgressStyleModel",
          "state": {
            "_view_name": "StyleView",
            "_model_name": "ProgressStyleModel",
            "description_width": "initial",
            "_view_module": "@jupyter-widgets/base",
            "_model_module_version": "1.5.0",
            "_view_count": null,
            "_view_module_version": "1.2.0",
            "bar_color": null,
            "_model_module": "@jupyter-widgets/controls"
          }
        },
        "a1196a1bd3514d8e9957b3a52f4f7796": {
          "model_module": "@jupyter-widgets/base",
          "model_name": "LayoutModel",
          "state": {
            "_view_name": "LayoutView",
            "grid_template_rows": null,
            "right": null,
            "justify_content": null,
            "_view_module": "@jupyter-widgets/base",
            "overflow": null,
            "_model_module_version": "1.2.0",
            "_view_count": null,
            "flex_flow": null,
            "width": null,
            "min_width": null,
            "border": null,
            "align_items": null,
            "bottom": null,
            "_model_module": "@jupyter-widgets/base",
            "top": null,
            "grid_column": null,
            "overflow_y": null,
            "overflow_x": null,
            "grid_auto_flow": null,
            "grid_area": null,
            "grid_template_columns": null,
            "flex": null,
            "_model_name": "LayoutModel",
            "justify_items": null,
            "grid_row": null,
            "max_height": null,
            "align_content": null,
            "visibility": null,
            "align_self": null,
            "height": null,
            "min_height": null,
            "padding": null,
            "grid_auto_rows": null,
            "grid_gap": null,
            "max_width": null,
            "order": null,
            "_view_module_version": "1.2.0",
            "grid_template_areas": null,
            "object_position": null,
            "object_fit": null,
            "grid_auto_columns": null,
            "margin": null,
            "display": null,
            "left": null
          }
        },
        "aa30f5e25766494e9515d38d91fdd067": {
          "model_module": "@jupyter-widgets/controls",
          "model_name": "DescriptionStyleModel",
          "state": {
            "_view_name": "StyleView",
            "_model_name": "DescriptionStyleModel",
            "description_width": "",
            "_view_module": "@jupyter-widgets/base",
            "_model_module_version": "1.5.0",
            "_view_count": null,
            "_view_module_version": "1.2.0",
            "_model_module": "@jupyter-widgets/controls"
          }
        },
        "06819fdc9f0f45ea8542b399d76cf3c8": {
          "model_module": "@jupyter-widgets/base",
          "model_name": "LayoutModel",
          "state": {
            "_view_name": "LayoutView",
            "grid_template_rows": null,
            "right": null,
            "justify_content": null,
            "_view_module": "@jupyter-widgets/base",
            "overflow": null,
            "_model_module_version": "1.2.0",
            "_view_count": null,
            "flex_flow": null,
            "width": null,
            "min_width": null,
            "border": null,
            "align_items": null,
            "bottom": null,
            "_model_module": "@jupyter-widgets/base",
            "top": null,
            "grid_column": null,
            "overflow_y": null,
            "overflow_x": null,
            "grid_auto_flow": null,
            "grid_area": null,
            "grid_template_columns": null,
            "flex": null,
            "_model_name": "LayoutModel",
            "justify_items": null,
            "grid_row": null,
            "max_height": null,
            "align_content": null,
            "visibility": null,
            "align_self": null,
            "height": null,
            "min_height": null,
            "padding": null,
            "grid_auto_rows": null,
            "grid_gap": null,
            "max_width": null,
            "order": null,
            "_view_module_version": "1.2.0",
            "grid_template_areas": null,
            "object_position": null,
            "object_fit": null,
            "grid_auto_columns": null,
            "margin": null,
            "display": null,
            "left": null
          }
        },
        "90a6c3df750b403d81fea52febae3a2d": {
          "model_module": "@jupyter-widgets/controls",
          "model_name": "HBoxModel",
          "state": {
            "_view_name": "HBoxView",
            "_dom_classes": [],
            "_model_name": "HBoxModel",
            "_view_module": "@jupyter-widgets/controls",
            "_model_module_version": "1.5.0",
            "_view_count": null,
            "_view_module_version": "1.5.0",
            "box_style": "",
            "layout": "IPY_MODEL_89bc62a9828841309659bc0c883856cf",
            "_model_module": "@jupyter-widgets/controls",
            "children": [
              "IPY_MODEL_f1bea6e0a6764b85ba98919bc9f1759a",
              "IPY_MODEL_2199d51db9d64543a2e4b806de0cf3fd"
            ]
          }
        },
        "89bc62a9828841309659bc0c883856cf": {
          "model_module": "@jupyter-widgets/base",
          "model_name": "LayoutModel",
          "state": {
            "_view_name": "LayoutView",
            "grid_template_rows": null,
            "right": null,
            "justify_content": null,
            "_view_module": "@jupyter-widgets/base",
            "overflow": null,
            "_model_module_version": "1.2.0",
            "_view_count": null,
            "flex_flow": null,
            "width": null,
            "min_width": null,
            "border": null,
            "align_items": null,
            "bottom": null,
            "_model_module": "@jupyter-widgets/base",
            "top": null,
            "grid_column": null,
            "overflow_y": null,
            "overflow_x": null,
            "grid_auto_flow": null,
            "grid_area": null,
            "grid_template_columns": null,
            "flex": null,
            "_model_name": "LayoutModel",
            "justify_items": null,
            "grid_row": null,
            "max_height": null,
            "align_content": null,
            "visibility": null,
            "align_self": null,
            "height": null,
            "min_height": null,
            "padding": null,
            "grid_auto_rows": null,
            "grid_gap": null,
            "max_width": null,
            "order": null,
            "_view_module_version": "1.2.0",
            "grid_template_areas": null,
            "object_position": null,
            "object_fit": null,
            "grid_auto_columns": null,
            "margin": null,
            "display": null,
            "left": null
          }
        },
        "f1bea6e0a6764b85ba98919bc9f1759a": {
          "model_module": "@jupyter-widgets/controls",
          "model_name": "FloatProgressModel",
          "state": {
            "_view_name": "ProgressView",
            "style": "IPY_MODEL_926da2ec6fba4ae896941ed93a74f5fa",
            "_dom_classes": [],
            "description": "Epoch: 3, train: 100%",
            "_model_name": "FloatProgressModel",
            "bar_style": "success",
            "max": 581942,
            "_view_module": "@jupyter-widgets/controls",
            "_model_module_version": "1.5.0",
            "value": 581942,
            "_view_count": null,
            "_view_module_version": "1.5.0",
            "orientation": "horizontal",
            "min": 0,
            "description_tooltip": null,
            "_model_module": "@jupyter-widgets/controls",
            "layout": "IPY_MODEL_0453fd44cb1c418da27ffd309f064b56"
          }
        },
        "2199d51db9d64543a2e4b806de0cf3fd": {
          "model_module": "@jupyter-widgets/controls",
          "model_name": "HTMLModel",
          "state": {
            "_view_name": "HTMLView",
            "style": "IPY_MODEL_ee6f67d49d56442eb7a77dc8c607859c",
            "_dom_classes": [],
            "description": "",
            "_model_name": "HTMLModel",
            "placeholder": "​",
            "_view_module": "@jupyter-widgets/controls",
            "_model_module_version": "1.5.0",
            "value": " 581942/581942 [28:32&lt;00:00, 339.72it/s, train_loss=0.0288]",
            "_view_count": null,
            "_view_module_version": "1.5.0",
            "description_tooltip": null,
            "_model_module": "@jupyter-widgets/controls",
            "layout": "IPY_MODEL_49006aaa79254b5a84705b1362680ee3"
          }
        },
        "926da2ec6fba4ae896941ed93a74f5fa": {
          "model_module": "@jupyter-widgets/controls",
          "model_name": "ProgressStyleModel",
          "state": {
            "_view_name": "StyleView",
            "_model_name": "ProgressStyleModel",
            "description_width": "initial",
            "_view_module": "@jupyter-widgets/base",
            "_model_module_version": "1.5.0",
            "_view_count": null,
            "_view_module_version": "1.2.0",
            "bar_color": null,
            "_model_module": "@jupyter-widgets/controls"
          }
        },
        "0453fd44cb1c418da27ffd309f064b56": {
          "model_module": "@jupyter-widgets/base",
          "model_name": "LayoutModel",
          "state": {
            "_view_name": "LayoutView",
            "grid_template_rows": null,
            "right": null,
            "justify_content": null,
            "_view_module": "@jupyter-widgets/base",
            "overflow": null,
            "_model_module_version": "1.2.0",
            "_view_count": null,
            "flex_flow": null,
            "width": null,
            "min_width": null,
            "border": null,
            "align_items": null,
            "bottom": null,
            "_model_module": "@jupyter-widgets/base",
            "top": null,
            "grid_column": null,
            "overflow_y": null,
            "overflow_x": null,
            "grid_auto_flow": null,
            "grid_area": null,
            "grid_template_columns": null,
            "flex": null,
            "_model_name": "LayoutModel",
            "justify_items": null,
            "grid_row": null,
            "max_height": null,
            "align_content": null,
            "visibility": null,
            "align_self": null,
            "height": null,
            "min_height": null,
            "padding": null,
            "grid_auto_rows": null,
            "grid_gap": null,
            "max_width": null,
            "order": null,
            "_view_module_version": "1.2.0",
            "grid_template_areas": null,
            "object_position": null,
            "object_fit": null,
            "grid_auto_columns": null,
            "margin": null,
            "display": null,
            "left": null
          }
        },
        "ee6f67d49d56442eb7a77dc8c607859c": {
          "model_module": "@jupyter-widgets/controls",
          "model_name": "DescriptionStyleModel",
          "state": {
            "_view_name": "StyleView",
            "_model_name": "DescriptionStyleModel",
            "description_width": "",
            "_view_module": "@jupyter-widgets/base",
            "_model_module_version": "1.5.0",
            "_view_count": null,
            "_view_module_version": "1.2.0",
            "_model_module": "@jupyter-widgets/controls"
          }
        },
        "49006aaa79254b5a84705b1362680ee3": {
          "model_module": "@jupyter-widgets/base",
          "model_name": "LayoutModel",
          "state": {
            "_view_name": "LayoutView",
            "grid_template_rows": null,
            "right": null,
            "justify_content": null,
            "_view_module": "@jupyter-widgets/base",
            "overflow": null,
            "_model_module_version": "1.2.0",
            "_view_count": null,
            "flex_flow": null,
            "width": null,
            "min_width": null,
            "border": null,
            "align_items": null,
            "bottom": null,
            "_model_module": "@jupyter-widgets/base",
            "top": null,
            "grid_column": null,
            "overflow_y": null,
            "overflow_x": null,
            "grid_auto_flow": null,
            "grid_area": null,
            "grid_template_columns": null,
            "flex": null,
            "_model_name": "LayoutModel",
            "justify_items": null,
            "grid_row": null,
            "max_height": null,
            "align_content": null,
            "visibility": null,
            "align_self": null,
            "height": null,
            "min_height": null,
            "padding": null,
            "grid_auto_rows": null,
            "grid_gap": null,
            "max_width": null,
            "order": null,
            "_view_module_version": "1.2.0",
            "grid_template_areas": null,
            "object_position": null,
            "object_fit": null,
            "grid_auto_columns": null,
            "margin": null,
            "display": null,
            "left": null
          }
        },
        "c904d6d1a2bb40d38075881ec41af36f": {
          "model_module": "@jupyter-widgets/controls",
          "model_name": "HBoxModel",
          "state": {
            "_view_name": "HBoxView",
            "_dom_classes": [],
            "_model_name": "HBoxModel",
            "_view_module": "@jupyter-widgets/controls",
            "_model_module_version": "1.5.0",
            "_view_count": null,
            "_view_module_version": "1.5.0",
            "box_style": "",
            "layout": "IPY_MODEL_f1cc6b3dd58546ddbcd58a41c283d8be",
            "_model_module": "@jupyter-widgets/controls",
            "children": [
              "IPY_MODEL_486f2bda01794e7c87f0f0d19726edd5",
              "IPY_MODEL_3cd6a46a7d58493688fc26a5ab2e01d3"
            ]
          }
        },
        "f1cc6b3dd58546ddbcd58a41c283d8be": {
          "model_module": "@jupyter-widgets/base",
          "model_name": "LayoutModel",
          "state": {
            "_view_name": "LayoutView",
            "grid_template_rows": null,
            "right": null,
            "justify_content": null,
            "_view_module": "@jupyter-widgets/base",
            "overflow": null,
            "_model_module_version": "1.2.0",
            "_view_count": null,
            "flex_flow": null,
            "width": null,
            "min_width": null,
            "border": null,
            "align_items": null,
            "bottom": null,
            "_model_module": "@jupyter-widgets/base",
            "top": null,
            "grid_column": null,
            "overflow_y": null,
            "overflow_x": null,
            "grid_auto_flow": null,
            "grid_area": null,
            "grid_template_columns": null,
            "flex": null,
            "_model_name": "LayoutModel",
            "justify_items": null,
            "grid_row": null,
            "max_height": null,
            "align_content": null,
            "visibility": null,
            "align_self": null,
            "height": null,
            "min_height": null,
            "padding": null,
            "grid_auto_rows": null,
            "grid_gap": null,
            "max_width": null,
            "order": null,
            "_view_module_version": "1.2.0",
            "grid_template_areas": null,
            "object_position": null,
            "object_fit": null,
            "grid_auto_columns": null,
            "margin": null,
            "display": null,
            "left": null
          }
        },
        "486f2bda01794e7c87f0f0d19726edd5": {
          "model_module": "@jupyter-widgets/controls",
          "model_name": "FloatProgressModel",
          "state": {
            "_view_name": "ProgressView",
            "style": "IPY_MODEL_599fd179fd0b4642898043955db082d6",
            "_dom_classes": [],
            "description": "Epoch: 3, validation: 100%",
            "_model_name": "FloatProgressModel",
            "bar_style": "success",
            "max": 102696,
            "_view_module": "@jupyter-widgets/controls",
            "_model_module_version": "1.5.0",
            "value": 102696,
            "_view_count": null,
            "_view_module_version": "1.5.0",
            "orientation": "horizontal",
            "min": 0,
            "description_tooltip": null,
            "_model_module": "@jupyter-widgets/controls",
            "layout": "IPY_MODEL_d638bef5e4a445af95baa15128af8c0b"
          }
        },
        "3cd6a46a7d58493688fc26a5ab2e01d3": {
          "model_module": "@jupyter-widgets/controls",
          "model_name": "HTMLModel",
          "state": {
            "_view_name": "HTMLView",
            "style": "IPY_MODEL_8761e6443e9944318bffd54142c1f2ae",
            "_dom_classes": [],
            "description": "",
            "_model_name": "HTMLModel",
            "placeholder": "​",
            "_view_module": "@jupyter-widgets/controls",
            "_model_module_version": "1.5.0",
            "value": " 102696/102696 [00:53&lt;00:00, 1921.14it/s, valid_loss=0.0441]",
            "_view_count": null,
            "_view_module_version": "1.5.0",
            "description_tooltip": null,
            "_model_module": "@jupyter-widgets/controls",
            "layout": "IPY_MODEL_4d90b7ac231746ec890a3272d528972a"
          }
        },
        "599fd179fd0b4642898043955db082d6": {
          "model_module": "@jupyter-widgets/controls",
          "model_name": "ProgressStyleModel",
          "state": {
            "_view_name": "StyleView",
            "_model_name": "ProgressStyleModel",
            "description_width": "initial",
            "_view_module": "@jupyter-widgets/base",
            "_model_module_version": "1.5.0",
            "_view_count": null,
            "_view_module_version": "1.2.0",
            "bar_color": null,
            "_model_module": "@jupyter-widgets/controls"
          }
        },
        "d638bef5e4a445af95baa15128af8c0b": {
          "model_module": "@jupyter-widgets/base",
          "model_name": "LayoutModel",
          "state": {
            "_view_name": "LayoutView",
            "grid_template_rows": null,
            "right": null,
            "justify_content": null,
            "_view_module": "@jupyter-widgets/base",
            "overflow": null,
            "_model_module_version": "1.2.0",
            "_view_count": null,
            "flex_flow": null,
            "width": null,
            "min_width": null,
            "border": null,
            "align_items": null,
            "bottom": null,
            "_model_module": "@jupyter-widgets/base",
            "top": null,
            "grid_column": null,
            "overflow_y": null,
            "overflow_x": null,
            "grid_auto_flow": null,
            "grid_area": null,
            "grid_template_columns": null,
            "flex": null,
            "_model_name": "LayoutModel",
            "justify_items": null,
            "grid_row": null,
            "max_height": null,
            "align_content": null,
            "visibility": null,
            "align_self": null,
            "height": null,
            "min_height": null,
            "padding": null,
            "grid_auto_rows": null,
            "grid_gap": null,
            "max_width": null,
            "order": null,
            "_view_module_version": "1.2.0",
            "grid_template_areas": null,
            "object_position": null,
            "object_fit": null,
            "grid_auto_columns": null,
            "margin": null,
            "display": null,
            "left": null
          }
        },
        "8761e6443e9944318bffd54142c1f2ae": {
          "model_module": "@jupyter-widgets/controls",
          "model_name": "DescriptionStyleModel",
          "state": {
            "_view_name": "StyleView",
            "_model_name": "DescriptionStyleModel",
            "description_width": "",
            "_view_module": "@jupyter-widgets/base",
            "_model_module_version": "1.5.0",
            "_view_count": null,
            "_view_module_version": "1.2.0",
            "_model_module": "@jupyter-widgets/controls"
          }
        },
        "4d90b7ac231746ec890a3272d528972a": {
          "model_module": "@jupyter-widgets/base",
          "model_name": "LayoutModel",
          "state": {
            "_view_name": "LayoutView",
            "grid_template_rows": null,
            "right": null,
            "justify_content": null,
            "_view_module": "@jupyter-widgets/base",
            "overflow": null,
            "_model_module_version": "1.2.0",
            "_view_count": null,
            "flex_flow": null,
            "width": null,
            "min_width": null,
            "border": null,
            "align_items": null,
            "bottom": null,
            "_model_module": "@jupyter-widgets/base",
            "top": null,
            "grid_column": null,
            "overflow_y": null,
            "overflow_x": null,
            "grid_auto_flow": null,
            "grid_area": null,
            "grid_template_columns": null,
            "flex": null,
            "_model_name": "LayoutModel",
            "justify_items": null,
            "grid_row": null,
            "max_height": null,
            "align_content": null,
            "visibility": null,
            "align_self": null,
            "height": null,
            "min_height": null,
            "padding": null,
            "grid_auto_rows": null,
            "grid_gap": null,
            "max_width": null,
            "order": null,
            "_view_module_version": "1.2.0",
            "grid_template_areas": null,
            "object_position": null,
            "object_fit": null,
            "grid_auto_columns": null,
            "margin": null,
            "display": null,
            "left": null
          }
        },
        "96b7be3a154e4521a372a4161f4bcd43": {
          "model_module": "@jupyter-widgets/controls",
          "model_name": "HBoxModel",
          "state": {
            "_view_name": "HBoxView",
            "_dom_classes": [],
            "_model_name": "HBoxModel",
            "_view_module": "@jupyter-widgets/controls",
            "_model_module_version": "1.5.0",
            "_view_count": null,
            "_view_module_version": "1.5.0",
            "box_style": "",
            "layout": "IPY_MODEL_8a75892c223847a586c30ab9c7bdb186",
            "_model_module": "@jupyter-widgets/controls",
            "children": [
              "IPY_MODEL_fe699109e0894f579b3280f662d2d9ba",
              "IPY_MODEL_888aaff99a994277b7b134c072ec89b3"
            ]
          }
        },
        "8a75892c223847a586c30ab9c7bdb186": {
          "model_module": "@jupyter-widgets/base",
          "model_name": "LayoutModel",
          "state": {
            "_view_name": "LayoutView",
            "grid_template_rows": null,
            "right": null,
            "justify_content": null,
            "_view_module": "@jupyter-widgets/base",
            "overflow": null,
            "_model_module_version": "1.2.0",
            "_view_count": null,
            "flex_flow": null,
            "width": null,
            "min_width": null,
            "border": null,
            "align_items": null,
            "bottom": null,
            "_model_module": "@jupyter-widgets/base",
            "top": null,
            "grid_column": null,
            "overflow_y": null,
            "overflow_x": null,
            "grid_auto_flow": null,
            "grid_area": null,
            "grid_template_columns": null,
            "flex": null,
            "_model_name": "LayoutModel",
            "justify_items": null,
            "grid_row": null,
            "max_height": null,
            "align_content": null,
            "visibility": null,
            "align_self": null,
            "height": null,
            "min_height": null,
            "padding": null,
            "grid_auto_rows": null,
            "grid_gap": null,
            "max_width": null,
            "order": null,
            "_view_module_version": "1.2.0",
            "grid_template_areas": null,
            "object_position": null,
            "object_fit": null,
            "grid_auto_columns": null,
            "margin": null,
            "display": null,
            "left": null
          }
        },
        "fe699109e0894f579b3280f662d2d9ba": {
          "model_module": "@jupyter-widgets/controls",
          "model_name": "FloatProgressModel",
          "state": {
            "_view_name": "ProgressView",
            "style": "IPY_MODEL_af6a6fed83c2416f8a410f2b0859015c",
            "_dom_classes": [],
            "description": "Epoch: 4, train: 100%",
            "_model_name": "FloatProgressModel",
            "bar_style": "success",
            "max": 581942,
            "_view_module": "@jupyter-widgets/controls",
            "_model_module_version": "1.5.0",
            "value": 581942,
            "_view_count": null,
            "_view_module_version": "1.5.0",
            "orientation": "horizontal",
            "min": 0,
            "description_tooltip": null,
            "_model_module": "@jupyter-widgets/controls",
            "layout": "IPY_MODEL_3829876fc1cd4ef089a297bbba666724"
          }
        },
        "888aaff99a994277b7b134c072ec89b3": {
          "model_module": "@jupyter-widgets/controls",
          "model_name": "HTMLModel",
          "state": {
            "_view_name": "HTMLView",
            "style": "IPY_MODEL_5c93d56b3d794afbb55542ee37de7d43",
            "_dom_classes": [],
            "description": "",
            "_model_name": "HTMLModel",
            "placeholder": "​",
            "_view_module": "@jupyter-widgets/controls",
            "_model_module_version": "1.5.0",
            "value": " 581942/581942 [14:20&lt;00:00, 676.62it/s, train_loss=0.021]",
            "_view_count": null,
            "_view_module_version": "1.5.0",
            "description_tooltip": null,
            "_model_module": "@jupyter-widgets/controls",
            "layout": "IPY_MODEL_06498620f4fd49669f79965bc1d6e883"
          }
        },
        "af6a6fed83c2416f8a410f2b0859015c": {
          "model_module": "@jupyter-widgets/controls",
          "model_name": "ProgressStyleModel",
          "state": {
            "_view_name": "StyleView",
            "_model_name": "ProgressStyleModel",
            "description_width": "initial",
            "_view_module": "@jupyter-widgets/base",
            "_model_module_version": "1.5.0",
            "_view_count": null,
            "_view_module_version": "1.2.0",
            "bar_color": null,
            "_model_module": "@jupyter-widgets/controls"
          }
        },
        "3829876fc1cd4ef089a297bbba666724": {
          "model_module": "@jupyter-widgets/base",
          "model_name": "LayoutModel",
          "state": {
            "_view_name": "LayoutView",
            "grid_template_rows": null,
            "right": null,
            "justify_content": null,
            "_view_module": "@jupyter-widgets/base",
            "overflow": null,
            "_model_module_version": "1.2.0",
            "_view_count": null,
            "flex_flow": null,
            "width": null,
            "min_width": null,
            "border": null,
            "align_items": null,
            "bottom": null,
            "_model_module": "@jupyter-widgets/base",
            "top": null,
            "grid_column": null,
            "overflow_y": null,
            "overflow_x": null,
            "grid_auto_flow": null,
            "grid_area": null,
            "grid_template_columns": null,
            "flex": null,
            "_model_name": "LayoutModel",
            "justify_items": null,
            "grid_row": null,
            "max_height": null,
            "align_content": null,
            "visibility": null,
            "align_self": null,
            "height": null,
            "min_height": null,
            "padding": null,
            "grid_auto_rows": null,
            "grid_gap": null,
            "max_width": null,
            "order": null,
            "_view_module_version": "1.2.0",
            "grid_template_areas": null,
            "object_position": null,
            "object_fit": null,
            "grid_auto_columns": null,
            "margin": null,
            "display": null,
            "left": null
          }
        },
        "5c93d56b3d794afbb55542ee37de7d43": {
          "model_module": "@jupyter-widgets/controls",
          "model_name": "DescriptionStyleModel",
          "state": {
            "_view_name": "StyleView",
            "_model_name": "DescriptionStyleModel",
            "description_width": "",
            "_view_module": "@jupyter-widgets/base",
            "_model_module_version": "1.5.0",
            "_view_count": null,
            "_view_module_version": "1.2.0",
            "_model_module": "@jupyter-widgets/controls"
          }
        },
        "06498620f4fd49669f79965bc1d6e883": {
          "model_module": "@jupyter-widgets/base",
          "model_name": "LayoutModel",
          "state": {
            "_view_name": "LayoutView",
            "grid_template_rows": null,
            "right": null,
            "justify_content": null,
            "_view_module": "@jupyter-widgets/base",
            "overflow": null,
            "_model_module_version": "1.2.0",
            "_view_count": null,
            "flex_flow": null,
            "width": null,
            "min_width": null,
            "border": null,
            "align_items": null,
            "bottom": null,
            "_model_module": "@jupyter-widgets/base",
            "top": null,
            "grid_column": null,
            "overflow_y": null,
            "overflow_x": null,
            "grid_auto_flow": null,
            "grid_area": null,
            "grid_template_columns": null,
            "flex": null,
            "_model_name": "LayoutModel",
            "justify_items": null,
            "grid_row": null,
            "max_height": null,
            "align_content": null,
            "visibility": null,
            "align_self": null,
            "height": null,
            "min_height": null,
            "padding": null,
            "grid_auto_rows": null,
            "grid_gap": null,
            "max_width": null,
            "order": null,
            "_view_module_version": "1.2.0",
            "grid_template_areas": null,
            "object_position": null,
            "object_fit": null,
            "grid_auto_columns": null,
            "margin": null,
            "display": null,
            "left": null
          }
        },
        "21d1c3e020ea4c5c9129e064f84a8749": {
          "model_module": "@jupyter-widgets/controls",
          "model_name": "HBoxModel",
          "state": {
            "_view_name": "HBoxView",
            "_dom_classes": [],
            "_model_name": "HBoxModel",
            "_view_module": "@jupyter-widgets/controls",
            "_model_module_version": "1.5.0",
            "_view_count": null,
            "_view_module_version": "1.5.0",
            "box_style": "",
            "layout": "IPY_MODEL_6a1ecb6dcf8d4ad7864424cdd37577d3",
            "_model_module": "@jupyter-widgets/controls",
            "children": [
              "IPY_MODEL_c6c5ffaf6a1646d2a4dc5050091ec660",
              "IPY_MODEL_fce96fc41844410799af8ff8dedd5263"
            ]
          }
        },
        "6a1ecb6dcf8d4ad7864424cdd37577d3": {
          "model_module": "@jupyter-widgets/base",
          "model_name": "LayoutModel",
          "state": {
            "_view_name": "LayoutView",
            "grid_template_rows": null,
            "right": null,
            "justify_content": null,
            "_view_module": "@jupyter-widgets/base",
            "overflow": null,
            "_model_module_version": "1.2.0",
            "_view_count": null,
            "flex_flow": null,
            "width": null,
            "min_width": null,
            "border": null,
            "align_items": null,
            "bottom": null,
            "_model_module": "@jupyter-widgets/base",
            "top": null,
            "grid_column": null,
            "overflow_y": null,
            "overflow_x": null,
            "grid_auto_flow": null,
            "grid_area": null,
            "grid_template_columns": null,
            "flex": null,
            "_model_name": "LayoutModel",
            "justify_items": null,
            "grid_row": null,
            "max_height": null,
            "align_content": null,
            "visibility": null,
            "align_self": null,
            "height": null,
            "min_height": null,
            "padding": null,
            "grid_auto_rows": null,
            "grid_gap": null,
            "max_width": null,
            "order": null,
            "_view_module_version": "1.2.0",
            "grid_template_areas": null,
            "object_position": null,
            "object_fit": null,
            "grid_auto_columns": null,
            "margin": null,
            "display": null,
            "left": null
          }
        },
        "c6c5ffaf6a1646d2a4dc5050091ec660": {
          "model_module": "@jupyter-widgets/controls",
          "model_name": "FloatProgressModel",
          "state": {
            "_view_name": "ProgressView",
            "style": "IPY_MODEL_822bf16fb8334614a2f75833cf8907df",
            "_dom_classes": [],
            "description": "Epoch: 4, validation: 100%",
            "_model_name": "FloatProgressModel",
            "bar_style": "success",
            "max": 102696,
            "_view_module": "@jupyter-widgets/controls",
            "_model_module_version": "1.5.0",
            "value": 102696,
            "_view_count": null,
            "_view_module_version": "1.5.0",
            "orientation": "horizontal",
            "min": 0,
            "description_tooltip": null,
            "_model_module": "@jupyter-widgets/controls",
            "layout": "IPY_MODEL_00adef61173c466b9947dbdf0b91ff85"
          }
        },
        "fce96fc41844410799af8ff8dedd5263": {
          "model_module": "@jupyter-widgets/controls",
          "model_name": "HTMLModel",
          "state": {
            "_view_name": "HTMLView",
            "style": "IPY_MODEL_8d67bc746a0748439914d27cae005c0a",
            "_dom_classes": [],
            "description": "",
            "_model_name": "HTMLModel",
            "placeholder": "​",
            "_view_module": "@jupyter-widgets/controls",
            "_model_module_version": "1.5.0",
            "value": " 102696/102696 [00:55&lt;00:00, 1836.71it/s, valid_loss=0.0458]",
            "_view_count": null,
            "_view_module_version": "1.5.0",
            "description_tooltip": null,
            "_model_module": "@jupyter-widgets/controls",
            "layout": "IPY_MODEL_029b4dc0ac48416ca6efff2abbd59d5c"
          }
        },
        "822bf16fb8334614a2f75833cf8907df": {
          "model_module": "@jupyter-widgets/controls",
          "model_name": "ProgressStyleModel",
          "state": {
            "_view_name": "StyleView",
            "_model_name": "ProgressStyleModel",
            "description_width": "initial",
            "_view_module": "@jupyter-widgets/base",
            "_model_module_version": "1.5.0",
            "_view_count": null,
            "_view_module_version": "1.2.0",
            "bar_color": null,
            "_model_module": "@jupyter-widgets/controls"
          }
        },
        "00adef61173c466b9947dbdf0b91ff85": {
          "model_module": "@jupyter-widgets/base",
          "model_name": "LayoutModel",
          "state": {
            "_view_name": "LayoutView",
            "grid_template_rows": null,
            "right": null,
            "justify_content": null,
            "_view_module": "@jupyter-widgets/base",
            "overflow": null,
            "_model_module_version": "1.2.0",
            "_view_count": null,
            "flex_flow": null,
            "width": null,
            "min_width": null,
            "border": null,
            "align_items": null,
            "bottom": null,
            "_model_module": "@jupyter-widgets/base",
            "top": null,
            "grid_column": null,
            "overflow_y": null,
            "overflow_x": null,
            "grid_auto_flow": null,
            "grid_area": null,
            "grid_template_columns": null,
            "flex": null,
            "_model_name": "LayoutModel",
            "justify_items": null,
            "grid_row": null,
            "max_height": null,
            "align_content": null,
            "visibility": null,
            "align_self": null,
            "height": null,
            "min_height": null,
            "padding": null,
            "grid_auto_rows": null,
            "grid_gap": null,
            "max_width": null,
            "order": null,
            "_view_module_version": "1.2.0",
            "grid_template_areas": null,
            "object_position": null,
            "object_fit": null,
            "grid_auto_columns": null,
            "margin": null,
            "display": null,
            "left": null
          }
        },
        "8d67bc746a0748439914d27cae005c0a": {
          "model_module": "@jupyter-widgets/controls",
          "model_name": "DescriptionStyleModel",
          "state": {
            "_view_name": "StyleView",
            "_model_name": "DescriptionStyleModel",
            "description_width": "",
            "_view_module": "@jupyter-widgets/base",
            "_model_module_version": "1.5.0",
            "_view_count": null,
            "_view_module_version": "1.2.0",
            "_model_module": "@jupyter-widgets/controls"
          }
        },
        "029b4dc0ac48416ca6efff2abbd59d5c": {
          "model_module": "@jupyter-widgets/base",
          "model_name": "LayoutModel",
          "state": {
            "_view_name": "LayoutView",
            "grid_template_rows": null,
            "right": null,
            "justify_content": null,
            "_view_module": "@jupyter-widgets/base",
            "overflow": null,
            "_model_module_version": "1.2.0",
            "_view_count": null,
            "flex_flow": null,
            "width": null,
            "min_width": null,
            "border": null,
            "align_items": null,
            "bottom": null,
            "_model_module": "@jupyter-widgets/base",
            "top": null,
            "grid_column": null,
            "overflow_y": null,
            "overflow_x": null,
            "grid_auto_flow": null,
            "grid_area": null,
            "grid_template_columns": null,
            "flex": null,
            "_model_name": "LayoutModel",
            "justify_items": null,
            "grid_row": null,
            "max_height": null,
            "align_content": null,
            "visibility": null,
            "align_self": null,
            "height": null,
            "min_height": null,
            "padding": null,
            "grid_auto_rows": null,
            "grid_gap": null,
            "max_width": null,
            "order": null,
            "_view_module_version": "1.2.0",
            "grid_template_areas": null,
            "object_position": null,
            "object_fit": null,
            "grid_auto_columns": null,
            "margin": null,
            "display": null,
            "left": null
          }
        }
      }
    }
  },
  "cells": [
    {
      "cell_type": "markdown",
      "metadata": {
        "id": "9_JSdzDI3rux"
      },
      "source": [
        "# Определение рекламного текста с помощью LSTM-сети"
      ]
    },
    {
      "cell_type": "markdown",
      "metadata": {
        "id": "brigHoTZ32vt"
      },
      "source": [
        "## Импорты"
      ]
    },
    {
      "cell_type": "code",
      "metadata": {
        "colab": {
          "base_uri": "https://localhost:8080/"
        },
        "id": "vSqJNrqCxvUj",
        "outputId": "e1a5bb75-ea91-4744-c8ed-4d3eed9549b0"
      },
      "source": [
        "!pip3 install gensim==3.8.1 emoji"
      ],
      "execution_count": 8,
      "outputs": [
        {
          "output_type": "stream",
          "text": [
            "Collecting gensim==3.8.1\n",
            "\u001b[?25l  Downloading https://files.pythonhosted.org/packages/44/93/c6011037f24e3106d13f3be55297bf84ece2bf15b278cc4776339dc52db5/gensim-3.8.1-cp37-cp37m-manylinux1_x86_64.whl (24.2MB)\n",
            "\u001b[K     |████████████████████████████████| 24.2MB 125kB/s \n",
            "\u001b[?25hCollecting emoji\n",
            "\u001b[?25l  Downloading https://files.pythonhosted.org/packages/24/fa/b3368f41b95a286f8d300e323449ab4e86b85334c2e0b477e94422b8ed0f/emoji-1.2.0-py3-none-any.whl (131kB)\n",
            "\u001b[K     |████████████████████████████████| 133kB 28.7MB/s \n",
            "\u001b[?25hRequirement already satisfied: smart-open>=1.8.1 in /usr/local/lib/python3.7/dist-packages (from gensim==3.8.1) (5.0.0)\n",
            "Requirement already satisfied: six>=1.5.0 in /usr/local/lib/python3.7/dist-packages (from gensim==3.8.1) (1.15.0)\n",
            "Requirement already satisfied: numpy>=1.11.3 in /usr/local/lib/python3.7/dist-packages (from gensim==3.8.1) (1.19.5)\n",
            "Requirement already satisfied: scipy>=0.18.1 in /usr/local/lib/python3.7/dist-packages (from gensim==3.8.1) (1.4.1)\n",
            "Installing collected packages: gensim, emoji\n",
            "  Found existing installation: gensim 3.6.0\n",
            "    Uninstalling gensim-3.6.0:\n",
            "      Successfully uninstalled gensim-3.6.0\n",
            "Successfully installed emoji-1.2.0 gensim-3.8.1\n"
          ],
          "name": "stdout"
        }
      ]
    },
    {
      "cell_type": "code",
      "metadata": {
        "colab": {
          "base_uri": "https://localhost:8080/"
        },
        "id": "W2nU0ATdx4Mo",
        "outputId": "1310c7a2-51e6-412d-f4c0-769e016c6525"
      },
      "source": [
        "import re\n",
        "import torch\n",
        "import nltk\n",
        "import json\n",
        "import emoji\n",
        "import numpy as np\n",
        "import pandas as pd\n",
        "import matplotlib.pyplot as plt\n",
        "import seaborn as sns\n",
        "\n",
        "from string import punctuation\n",
        "from collections import OrderedDict\n",
        "from gensim.models import KeyedVectors\n",
        "from sklearn.model_selection import train_test_split\n",
        "from sklearn.metrics import f1_score, accuracy_score, classification_report\n",
        "\n",
        "from torch import nn\n",
        "from torch.utils.data import Dataset, DataLoader\n",
        "from torch.optim.lr_scheduler import StepLR\n",
        "\n",
        "from tqdm.notebook import tqdm as tqdm_notebook\n",
        "from nltk.tokenize import WordPunctTokenizer\n",
        "\n",
        "nltk.download(\"punkt\")\n",
        "\n",
        "punct = punctuation+'«»—…“”*№–'"
      ],
      "execution_count": 12,
      "outputs": [
        {
          "output_type": "stream",
          "text": [
            "[nltk_data] Downloading package punkt to /root/nltk_data...\n",
            "[nltk_data]   Package punkt is already up-to-date!\n"
          ],
          "name": "stdout"
        }
      ]
    },
    {
      "cell_type": "code",
      "metadata": {
        "colab": {
          "base_uri": "https://localhost:8080/"
        },
        "id": "clqXbp5NzWU_",
        "outputId": "f17984a2-0b31-4d51-f4b2-980cf2717399"
      },
      "source": [
        "!unzip /content/drive/MyDrive/thesis_datasets/2ch_corpus.txt.zip"
      ],
      "execution_count": 1,
      "outputs": [
        {
          "output_type": "stream",
          "text": [
            "Archive:  /content/drive/MyDrive/thesis_datasets/2ch_corpus.txt.zip\n",
            "  inflating: 2ch_corpus.txt          \n",
            "  inflating: __MACOSX/._2ch_corpus.txt  \n"
          ],
          "name": "stdout"
        }
      ]
    },
    {
      "cell_type": "code",
      "metadata": {
        "id": "h3IUOPYlx7cG"
      },
      "source": [
        "ad_data_path = \"/content/drive/MyDrive/thesis_datasets/context_advertising_no_dups.csv\"\n",
        "non_ad_data_path = \"2ch_corpus.txt\"\n",
        "toxic_data_path = \"/content/drive/MyDrive/thesis_datasets/toxic_dataset.csv\"\n",
        "data_path = \"/content/drive/MyDrive/thesis_datasets/ad_dataset.csv\"\n",
        "\n",
        "test_data_path = '/content/drive/MyDrive/thesis_datasets/ad_dataset_test.csv'\n",
        "train_data_path = '/content/drive/MyDrive/thesis_datasets/ad_dataset_train.csv'\n",
        "valid_data_path = '/content/drive/MyDrive/thesis_datasets/ad_dataset_valid.csv'\n",
        "\n",
        "vector_model_path = \"/content/drive/MyDrive/thesis_datasets/araneum_none_fasttextcbow_300_5_2018.model\"\n",
        "\n",
        "ad_model_best_state_path = \"/content/drive/MyDrive/thesis_datasets/ad_model_best.pth\"\n",
        "ad_opt_best_state_path = \"/content/drive/MyDrive/thesis_datasets/ad_opt_best.pth\"\n",
        "ad_model_last_state_path = \"/content/drive/MyDrive/thesis_datasets/ad_model_last.pth\"\n",
        "ad_opt_last_state_path = \"/content/drive/MyDrive/thesis_datasets/ad_opt_last.pth\"\n",
        "\n",
        "ad_vocab_path = '/content/drive/MyDrive/thesis_datasets/ad_vocab.json'"
      ],
      "execution_count": 13,
      "outputs": []
    },
    {
      "cell_type": "markdown",
      "metadata": {
        "id": "EAGhOcZ2ye0s"
      },
      "source": [
        "## Подготовка датасета"
      ]
    },
    {
      "cell_type": "markdown",
      "metadata": {
        "id": "TXXS8ANK4AGr"
      },
      "source": [
        "Так как в датасете рекламных текстов содержатся только рекламные тексты, необходимо добавить примерно такое же количество нерекламных текстов. В качестве нерекламных текстов выступают датасеты для функциональностей определения токсичности текста и определения наличия в тексте нецензурных слов."
      ]
    },
    {
      "cell_type": "code",
      "metadata": {
        "id": "UA3cfKZTyhVo"
      },
      "source": [
        "# ad_data = pd.read_csv(ad_data_path)\n",
        "# toxic_data = pd.read_csv(toxic_data_path)\n",
        "# with open(non_ad_data_path, \"r\") as non_ad:\n",
        "#     non_ad_data = non_ad.readlines()"
      ],
      "execution_count": 11,
      "outputs": []
    },
    {
      "cell_type": "code",
      "metadata": {
        "colab": {
          "base_uri": "https://localhost:8080/"
        },
        "id": "C78H4DMryk9T",
        "outputId": "96649800-d1ac-45a4-8896-082535a32856"
      },
      "source": [
        "# len(ad_data)"
      ],
      "execution_count": 8,
      "outputs": [
        {
          "output_type": "execute_result",
          "data": {
            "text/plain": [
              "350007"
            ]
          },
          "metadata": {
            "tags": []
          },
          "execution_count": 8
        }
      ]
    },
    {
      "cell_type": "code",
      "metadata": {
        "colab": {
          "base_uri": "https://localhost:8080/"
        },
        "id": "MnGjRHgLzkkj",
        "outputId": "35cfe849-d703-4741-d17f-8feabed8f1c5"
      },
      "source": [
        "# len(non_ad_data)"
      ],
      "execution_count": 9,
      "outputs": [
        {
          "output_type": "execute_result",
          "data": {
            "text/plain": [
              "85903"
            ]
          },
          "metadata": {
            "tags": []
          },
          "execution_count": 9
        }
      ]
    },
    {
      "cell_type": "code",
      "metadata": {
        "colab": {
          "base_uri": "https://localhost:8080/"
        },
        "id": "RjlRFrMr0FmJ",
        "outputId": "9231fbc7-1450-4b12-b748-e89cce141a6a"
      },
      "source": [
        "# len(toxic_data)"
      ],
      "execution_count": 12,
      "outputs": [
        {
          "output_type": "execute_result",
          "data": {
            "text/plain": [
              "262702"
            ]
          },
          "metadata": {
            "tags": []
          },
          "execution_count": 12
        }
      ]
    },
    {
      "cell_type": "code",
      "metadata": {
        "id": "Rgs5yu9h00W2"
      },
      "source": [
        "# ad_dataset = pd.DataFrame()\n",
        "# ad_dataset[\"texts\"] = ad_data.atext.values.tolist() + non_ad_data + toxic_data.texts.values.tolist()\n",
        "# ad_dataset[\"ad\"] = [1 for _ in range(len(ad_data))] + [0 for _ in range(len(non_ad_data) + len(toxic_data))]"
      ],
      "execution_count": 19,
      "outputs": []
    },
    {
      "cell_type": "code",
      "metadata": {
        "colab": {
          "base_uri": "https://localhost:8080/",
          "height": 204
        },
        "id": "o-6wNPI41Plm",
        "outputId": "429e2b0a-cf6f-4347-e8ad-044a2221298e"
      },
      "source": [
        "# ad_dataset.head()"
      ],
      "execution_count": 20,
      "outputs": [
        {
          "output_type": "execute_result",
          "data": {
            "text/html": [
              "<div>\n",
              "<style scoped>\n",
              "    .dataframe tbody tr th:only-of-type {\n",
              "        vertical-align: middle;\n",
              "    }\n",
              "\n",
              "    .dataframe tbody tr th {\n",
              "        vertical-align: top;\n",
              "    }\n",
              "\n",
              "    .dataframe thead th {\n",
              "        text-align: right;\n",
              "    }\n",
              "</style>\n",
              "<table border=\"1\" class=\"dataframe\">\n",
              "  <thead>\n",
              "    <tr style=\"text-align: right;\">\n",
              "      <th></th>\n",
              "      <th>texts</th>\n",
              "      <th>ad</th>\n",
              "    </tr>\n",
              "  </thead>\n",
              "  <tbody>\n",
              "    <tr>\n",
              "      <th>0</th>\n",
              "      <td>Детский пейнтбол. Спортивный пейнтбол. Тактиче...</td>\n",
              "      <td>1</td>\n",
              "    </tr>\n",
              "    <tr>\n",
              "      <th>1</th>\n",
              "      <td>Успейте купить антигравитационный чехол для IP...</td>\n",
              "      <td>1</td>\n",
              "    </tr>\n",
              "    <tr>\n",
              "      <th>2</th>\n",
              "      <td>Антигравитационный чехол для телефона купить з...</td>\n",
              "      <td>1</td>\n",
              "    </tr>\n",
              "    <tr>\n",
              "      <th>3</th>\n",
              "      <td>Без справок! Получите до 3 000 грн. на карту п...</td>\n",
              "      <td>1</td>\n",
              "    </tr>\n",
              "    <tr>\n",
              "      <th>4</th>\n",
              "      <td>Акция! Получите Кредит Онлайн под 0%. Без Спра...</td>\n",
              "      <td>1</td>\n",
              "    </tr>\n",
              "  </tbody>\n",
              "</table>\n",
              "</div>"
            ],
            "text/plain": [
              "                                               texts  ad\n",
              "0  Детский пейнтбол. Спортивный пейнтбол. Тактиче...   1\n",
              "1  Успейте купить антигравитационный чехол для IP...   1\n",
              "2  Антигравитационный чехол для телефона купить з...   1\n",
              "3  Без справок! Получите до 3 000 грн. на карту п...   1\n",
              "4  Акция! Получите Кредит Онлайн под 0%. Без Спра...   1"
            ]
          },
          "metadata": {
            "tags": []
          },
          "execution_count": 20
        }
      ]
    },
    {
      "cell_type": "code",
      "metadata": {
        "colab": {
          "base_uri": "https://localhost:8080/"
        },
        "id": "LiTXSOA91XbN",
        "outputId": "3cf2a50d-af99-4213-ac18-18283393abdf"
      },
      "source": [
        "# len(ad_dataset)"
      ],
      "execution_count": 22,
      "outputs": [
        {
          "output_type": "execute_result",
          "data": {
            "text/plain": [
              "698612"
            ]
          },
          "metadata": {
            "tags": []
          },
          "execution_count": 22
        }
      ]
    },
    {
      "cell_type": "code",
      "metadata": {
        "id": "Mp574wrw0eNt"
      },
      "source": [
        "# ad_dataset = ad_dataset.sample(frac=1)\n",
        "# ad_dataset.to_csv(data_path, index=False)"
      ],
      "execution_count": 24,
      "outputs": []
    },
    {
      "cell_type": "markdown",
      "metadata": {
        "id": "u32Y-Vur1p13"
      },
      "source": [
        "## Данные"
      ]
    },
    {
      "cell_type": "code",
      "metadata": {
        "id": "RreHgQUe1rIW"
      },
      "source": [
        "data = pd.read_csv(data_path)"
      ],
      "execution_count": 10,
      "outputs": []
    },
    {
      "cell_type": "code",
      "metadata": {
        "id": "9TbS2tFM3MgP"
      },
      "source": [
        "data.dropna(inplace=True)"
      ],
      "execution_count": 14,
      "outputs": []
    },
    {
      "cell_type": "code",
      "metadata": {
        "colab": {
          "base_uri": "https://localhost:8080/",
          "height": 204
        },
        "id": "1pQOreFl1yM0",
        "outputId": "b31d68a2-2ed9-4122-a61c-e2c28fd41d7a"
      },
      "source": [
        "# data.head()"
      ],
      "execution_count": 26,
      "outputs": [
        {
          "output_type": "execute_result",
          "data": {
            "text/html": [
              "<div>\n",
              "<style scoped>\n",
              "    .dataframe tbody tr th:only-of-type {\n",
              "        vertical-align: middle;\n",
              "    }\n",
              "\n",
              "    .dataframe tbody tr th {\n",
              "        vertical-align: top;\n",
              "    }\n",
              "\n",
              "    .dataframe thead th {\n",
              "        text-align: right;\n",
              "    }\n",
              "</style>\n",
              "<table border=\"1\" class=\"dataframe\">\n",
              "  <thead>\n",
              "    <tr style=\"text-align: right;\">\n",
              "      <th></th>\n",
              "      <th>texts</th>\n",
              "      <th>ad</th>\n",
              "    </tr>\n",
              "  </thead>\n",
              "  <tbody>\n",
              "    <tr>\n",
              "      <th>0</th>\n",
              "      <td>Asus vivobook x540sa за 17 990 руб. Доставка!</td>\n",
              "      <td>1</td>\n",
              "    </tr>\n",
              "    <tr>\n",
              "      <th>1</th>\n",
              "      <td>а мне лучше многолетники!\\n</td>\n",
              "      <td>0</td>\n",
              "    </tr>\n",
              "    <tr>\n",
              "      <th>2</th>\n",
              "      <td>Швейные машины Зингер. Сравните цены всех инте...</td>\n",
              "      <td>1</td>\n",
              "    </tr>\n",
              "    <tr>\n",
              "      <th>3</th>\n",
              "      <td>Купить Levenhuk! Levenhuk Левенгук Ra R72 ED D...</td>\n",
              "      <td>1</td>\n",
              "    </tr>\n",
              "    <tr>\n",
              "      <th>4</th>\n",
              "      <td>а что означает это клеймо?\\n</td>\n",
              "      <td>0</td>\n",
              "    </tr>\n",
              "  </tbody>\n",
              "</table>\n",
              "</div>"
            ],
            "text/plain": [
              "                                               texts  ad\n",
              "0      Asus vivobook x540sa за 17 990 руб. Доставка!   1\n",
              "1                        а мне лучше многолетники!\\n   0\n",
              "2  Швейные машины Зингер. Сравните цены всех инте...   1\n",
              "3  Купить Levenhuk! Levenhuk Левенгук Ra R72 ED D...   1\n",
              "4                       а что означает это клеймо?\\n   0"
            ]
          },
          "metadata": {
            "tags": []
          },
          "execution_count": 26
        }
      ]
    },
    {
      "cell_type": "code",
      "metadata": {
        "colab": {
          "base_uri": "https://localhost:8080/"
        },
        "id": "mZEXhDWa3Ue4",
        "outputId": "42a52b04-6ba4-4f6b-e074-56146d4ee2d1"
      },
      "source": [
        "# len(data)"
      ],
      "execution_count": 44,
      "outputs": [
        {
          "output_type": "execute_result",
          "data": {
            "text/plain": [
              "698611"
            ]
          },
          "metadata": {
            "tags": []
          },
          "execution_count": 44
        }
      ]
    },
    {
      "cell_type": "markdown",
      "metadata": {
        "id": "uryI29Xs4ZOE"
      },
      "source": [
        "Здесь нет проблемы несбалансированности классов, поэтому в дальнейшем в качестве метрики можно будет использовать f1 macro."
      ]
    },
    {
      "cell_type": "code",
      "metadata": {
        "colab": {
          "base_uri": "https://localhost:8080/",
          "height": 296
        },
        "id": "rF5UphPZ2BcA",
        "outputId": "1a500d00-99ba-478f-c50f-a626f6d7698b"
      },
      "source": [
        "# sns.countplot(x='ad', data=data)"
      ],
      "execution_count": 45,
      "outputs": [
        {
          "output_type": "execute_result",
          "data": {
            "text/plain": [
              "<matplotlib.axes._subplots.AxesSubplot at 0x7fdb2a1ecc90>"
            ]
          },
          "metadata": {
            "tags": []
          },
          "execution_count": 45
        },
        {
          "output_type": "display_data",
          "data": {
            "image/png": "[encoded data removed]",
            "text/plain": [
              "<Figure size 432x288 with 1 Axes>"
            ]
          },
          "metadata": {
            "tags": [],
            "needs_background": "light"
          }
        }
      ]
    },
    {
      "cell_type": "code",
      "metadata": {
        "id": "-TGgmkYk2G_W"
      },
      "source": [
        "# X_train, X_test, y_train, y_test = train_test_split(data.texts, data.ad, test_size=0.02, random_state=42)"
      ],
      "execution_count": 46,
      "outputs": []
    },
    {
      "cell_type": "code",
      "metadata": {
        "colab": {
          "base_uri": "https://localhost:8080/"
        },
        "id": "xu_YrHlt2NLd",
        "outputId": "19f62ea3-04df-4e5c-cfe4-8a1d8dd3e4c8"
      },
      "source": [
        "# len(X_train), len(X_test), len(y_train), len(y_test)"
      ],
      "execution_count": 47,
      "outputs": [
        {
          "output_type": "execute_result",
          "data": {
            "text/plain": [
              "(684638, 13973, 684638, 13973)"
            ]
          },
          "metadata": {
            "tags": []
          },
          "execution_count": 47
        }
      ]
    },
    {
      "cell_type": "code",
      "metadata": {
        "id": "49nGlh9J2Oxq"
      },
      "source": [
        "# test_data = pd.DataFrame()\n",
        "# test_data[\"texts\"] = X_test\n",
        "# test_data[\"ad\"] = y_test\n",
        "# test_data.to_csv(test_data_path, index=False)"
      ],
      "execution_count": 48,
      "outputs": []
    },
    {
      "cell_type": "code",
      "metadata": {
        "id": "vwlYYi9Z2QUa"
      },
      "source": [
        "# train_texts, valid_texts, train_targets, valid_targets = train_test_split(X_train, y_train, test_size=0.15, random_state=42)"
      ],
      "execution_count": 49,
      "outputs": []
    },
    {
      "cell_type": "code",
      "metadata": {
        "colab": {
          "base_uri": "https://localhost:8080/"
        },
        "id": "ngyfgsD02Rnt",
        "outputId": "de9db043-f684-424d-f276-44153a798014"
      },
      "source": [
        "# len(train_texts), len(valid_texts)"
      ],
      "execution_count": 50,
      "outputs": [
        {
          "output_type": "execute_result",
          "data": {
            "text/plain": [
              "(581942, 102696)"
            ]
          },
          "metadata": {
            "tags": []
          },
          "execution_count": 50
        }
      ]
    },
    {
      "cell_type": "code",
      "metadata": {
        "id": "0wfAuT7y2S8i"
      },
      "source": [
        "# train_data = pd.DataFrame()\n",
        "# train_data[\"texts\"] = train_texts\n",
        "# train_data[\"ad\"] = train_targets\n",
        "# train_data.to_csv(train_data_path, index=False)\n",
        "\n",
        "# valid_data = pd.DataFrame()\n",
        "# valid_data[\"texts\"] = valid_texts\n",
        "# valid_data[\"ad\"] = valid_targets\n",
        "# valid_data.to_csv(valid_data_path, index=False)"
      ],
      "execution_count": 51,
      "outputs": []
    },
    {
      "cell_type": "code",
      "metadata": {
        "id": "kuRBZB2b2Udy"
      },
      "source": [
        "train_data = pd.read_csv(train_data_path)\n",
        "valid_data = pd.read_csv(valid_data_path)\n",
        "\n",
        "train_texts = train_data[\"texts\"]\n",
        "train_targets = train_data[\"ad\"]\n",
        "valid_texts = valid_data[\"texts\"] \n",
        "valid_targets = valid_data[\"ad\"]"
      ],
      "execution_count": 6,
      "outputs": []
    },
    {
      "cell_type": "code",
      "metadata": {
        "id": "swwqGwXe2WxP"
      },
      "source": [
        "tokenizer = WordPunctTokenizer().tokenize"
      ],
      "execution_count": 15,
      "outputs": []
    },
    {
      "cell_type": "code",
      "metadata": {
        "id": "dab85ou32c6y"
      },
      "source": [
        "lengths = [len(tokenizer(x)) for x in data.texts]"
      ],
      "execution_count": 54,
      "outputs": []
    },
    {
      "cell_type": "code",
      "metadata": {
        "colab": {
          "base_uri": "https://localhost:8080/",
          "height": 336
        },
        "id": "cy-4ASFi2eLx",
        "outputId": "da1a6631-fa58-4ffa-b893-8c56b063f7fa"
      },
      "source": [
        "sns.distplot(lengths)"
      ],
      "execution_count": 55,
      "outputs": [
        {
          "output_type": "stream",
          "text": [
            "/usr/local/lib/python3.7/dist-packages/seaborn/distributions.py:2557: FutureWarning: `distplot` is a deprecated function and will be removed in a future version. Please adapt your code to use either `displot` (a figure-level function with similar flexibility) or `histplot` (an axes-level function for histograms).\n",
            "  warnings.warn(msg, FutureWarning)\n"
          ],
          "name": "stderr"
        },
        {
          "output_type": "execute_result",
          "data": {
            "text/plain": [
              "<matplotlib.axes._subplots.AxesSubplot at 0x7fdb20ff1750>"
            ]
          },
          "metadata": {
            "tags": []
          },
          "execution_count": 55
        },
        {
          "output_type": "display_data",
          "data": {
            "image/png": "[encoded data removed]",
            "text/plain": [
              "<Figure size 432x288 with 1 Axes>"
            ]
          },
          "metadata": {
            "tags": [],
            "needs_background": "light"
          }
        }
      ]
    },
    {
      "cell_type": "code",
      "metadata": {
        "colab": {
          "base_uri": "https://localhost:8080/"
        },
        "id": "uOaxHey42gLn",
        "outputId": "9976282a-2a63-451c-811f-88f56fbbe36b"
      },
      "source": [
        "np.mean(lengths)"
      ],
      "execution_count": 56,
      "outputs": [
        {
          "output_type": "execute_result",
          "data": {
            "text/plain": [
              "16.073368441092395"
            ]
          },
          "metadata": {
            "tags": []
          },
          "execution_count": 56
        }
      ]
    },
    {
      "cell_type": "code",
      "metadata": {
        "colab": {
          "base_uri": "https://localhost:8080/"
        },
        "id": "HcwSqmQH2haZ",
        "outputId": "075ad46d-8373-4a87-f47a-40e5157b6612"
      },
      "source": [
        "np.max(lengths)"
      ],
      "execution_count": 57,
      "outputs": [
        {
          "output_type": "execute_result",
          "data": {
            "text/plain": [
              "1743"
            ]
          },
          "metadata": {
            "tags": []
          },
          "execution_count": 57
        }
      ]
    },
    {
      "cell_type": "code",
      "metadata": {
        "id": "gPj3zJiA2ix6"
      },
      "source": [
        "max_len = 30"
      ],
      "execution_count": 8,
      "outputs": []
    },
    {
      "cell_type": "markdown",
      "metadata": {
        "id": "0sN7ZwGI3tXA"
      },
      "source": [
        "## Эмбеддинги"
      ]
    },
    {
      "cell_type": "code",
      "metadata": {
        "id": "yPwb2gGH3gwz"
      },
      "source": [
        "fasttext = KeyedVectors.load(vector_model_path)"
      ],
      "execution_count": 16,
      "outputs": []
    },
    {
      "cell_type": "code",
      "metadata": {
        "id": "cqnMX6Ev38l3"
      },
      "source": [
        "def get_vocab_embeddings(texts, tokenizer, vector_model=fasttext):\n",
        "    vocab = {'<PAD>': 0}\n",
        "    embeddings = [np.zeros(300)]\n",
        "    \n",
        "    for sentence in tqdm_notebook(texts):\n",
        "        words = tokenizer(sentence)\n",
        "        for word in words:\n",
        "            if word not in vocab:\n",
        "                vocab[word] = len(vocab)\n",
        "                embeddings.append(vector_model[word])\n",
        "    return vocab, embeddings"
      ],
      "execution_count": 17,
      "outputs": []
    },
    {
      "cell_type": "code",
      "metadata": {
        "colab": {
          "base_uri": "https://localhost:8080/",
          "height": 66,
          "referenced_widgets": [
            "8541bd823dd748db9e0c47f550142f9f",
            "4c568ad91d294e3bb2d20bd3758740e3",
            "5320bb1237f44bbe85ac265a7b29f22b",
            "86cbe3061d9048a69be6399e4f1cdb4f",
            "cacdd95c33a3492293f369791bedece4",
            "8cc05609b6f64b359ec0ce7c870ee88c",
            "a76073a5876e4c1fb71ec0aeed722ca2",
            "4f8296fbf12d456498c4160c3b7f66ea"
          ]
        },
        "id": "i4FRK6Dz310F",
        "outputId": "1c173d54-c28f-494d-f159-3949eb6853bb"
      },
      "source": [
        "vocab, embeddings = get_vocab_embeddings(data.texts, tokenizer)"
      ],
      "execution_count": 18,
      "outputs": [
        {
          "output_type": "display_data",
          "data": {
            "application/vnd.jupyter.widget-view+json": {
              "model_id": "8541bd823dd748db9e0c47f550142f9f",
              "version_minor": 0,
              "version_major": 2
            },
            "text/plain": [
              "HBox(children=(FloatProgress(value=0.0, max=698611.0), HTML(value='')))"
            ]
          },
          "metadata": {
            "tags": []
          }
        },
        {
          "output_type": "stream",
          "text": [
            "\n"
          ],
          "name": "stdout"
        }
      ]
    },
    {
      "cell_type": "code",
      "metadata": {
        "id": "pO3V78nR4Tks"
      },
      "source": [
        "embeddings = torch.tensor(embeddings).float()"
      ],
      "execution_count": 19,
      "outputs": []
    },
    {
      "cell_type": "code",
      "metadata": {
        "id": "kh-1ok9WzZcH"
      },
      "source": [
        "# json_dump = json.dumps(vocab)\n",
        "# f = open(ad_vocab_path, \"w\")\n",
        "# f.write(json_dump)\n",
        "# f.close()  "
      ],
      "execution_count": 24,
      "outputs": []
    },
    {
      "cell_type": "markdown",
      "metadata": {
        "id": "dro-ylG74aGn"
      },
      "source": [
        "## Обработчик данных"
      ]
    },
    {
      "cell_type": "code",
      "metadata": {
        "id": "DHDyyI204cVZ"
      },
      "source": [
        "class BaddTextClassifierDataset(Dataset):\n",
        "    \n",
        "    def __init__(self, texts, targets, word_to_id, tokenizer, pad_index=0, max_len=30):\n",
        "        super().__init__()\n",
        "        \n",
        "        self.texts = texts\n",
        "        self.targets = targets\n",
        "        self.vocab = word_to_id\n",
        "        self.tokenizer = tokenizer\n",
        "        self.pad_index = pad_index\n",
        "        self.max_len = max_len\n",
        "        \n",
        "    def __len__(self):\n",
        "\n",
        "        return len(self.texts)\n",
        "\n",
        "    def tokenization(self, text):\n",
        "\n",
        "        return self.tokenizer(text.lower())\n",
        "\n",
        "    def get_text_indeces(self, tokenized_text):\n",
        "\n",
        "        return [self.vocab[token] for token in tokenized_text if token in self.vocab]\n",
        "\n",
        "    def padding(self, sequence):\n",
        "\n",
        "        padds = [self.pad_index] * (self.max_len - len(sequence))\n",
        "        sequence = sequence + padds\n",
        "        return sequence\n",
        "    \n",
        "    def __getitem__(self, index):\n",
        "       \n",
        "        text = self.texts[index][:self.max_len]      \n",
        "        tokenized_text = self.tokenization(text)\n",
        "        indeces_of_text = self.get_text_indeces(tokenized_text)\n",
        "        padded_text = self.padding(indeces_of_text)\n",
        "        converted_text = torch.tensor(padded_text)\n",
        "\n",
        "        target = self.targets[index]\n",
        "\n",
        "        return converted_text, target"
      ],
      "execution_count": 19,
      "outputs": []
    },
    {
      "cell_type": "code",
      "metadata": {
        "id": "YCbdI8Vl4wtu"
      },
      "source": [
        "train_dataset = BaddTextClassifierDataset(train_texts, train_targets, vocab, tokenizer)\n",
        "valid_dataset = BaddTextClassifierDataset(valid_texts, valid_targets, vocab, tokenizer)\n",
        "\n",
        "train_loader = DataLoader(train_dataset, batch_size=128, shuffle=True)\n",
        "valid_loader = DataLoader(valid_dataset, batch_size=128, shuffle=True)"
      ],
      "execution_count": 38,
      "outputs": []
    },
    {
      "cell_type": "code",
      "metadata": {
        "id": "Fc3cJBmw48Ut"
      },
      "source": [
        "for x, y in train_loader:\n",
        "    break"
      ],
      "execution_count": 121,
      "outputs": []
    },
    {
      "cell_type": "code",
      "metadata": {
        "colab": {
          "base_uri": "https://localhost:8080/"
        },
        "id": "z5q0IPVx4_CC",
        "outputId": "945f5ea6-023c-4246-e3a5-46315de53c60"
      },
      "source": [
        "x[0]"
      ],
      "execution_count": 122,
      "outputs": [
        {
          "output_type": "execute_result",
          "data": {
            "text/plain": [
              "tensor([ 6231, 19566,  2710,    39, 20295,  1113,  5102,     0,     0,     0,\n",
              "            0,     0,     0,     0,     0,     0,     0,     0,     0,     0,\n",
              "            0,     0,     0,     0,     0,     0,     0,     0,     0,     0])"
            ]
          },
          "metadata": {
            "tags": []
          },
          "execution_count": 122
        }
      ]
    },
    {
      "cell_type": "code",
      "metadata": {
        "colab": {
          "base_uri": "https://localhost:8080/"
        },
        "id": "BoM7ST9m5BwJ",
        "outputId": "6b761a54-8e6e-4efe-e83e-cd34e4086141"
      },
      "source": [
        "y[0]"
      ],
      "execution_count": 123,
      "outputs": [
        {
          "output_type": "execute_result",
          "data": {
            "text/plain": [
              "tensor(0)"
            ]
          },
          "metadata": {
            "tags": []
          },
          "execution_count": 123
        }
      ]
    },
    {
      "cell_type": "markdown",
      "metadata": {
        "id": "UDW39k6W5c9I"
      },
      "source": [
        "## Модели"
      ]
    },
    {
      "cell_type": "code",
      "metadata": {
        "id": "7EztrMC85De4"
      },
      "source": [
        "# device = torch.device('cpu')"
      ],
      "execution_count": 70,
      "outputs": []
    },
    {
      "cell_type": "code",
      "metadata": {
        "id": "_d3jvvY15EzO"
      },
      "source": [
        "assert torch.cuda.is_available()\n",
        "device = torch.device('cuda')"
      ],
      "execution_count": 21,
      "outputs": []
    },
    {
      "cell_type": "code",
      "metadata": {
        "id": "BdxKzqsF5Glt"
      },
      "source": [
        "class BaddAdLSTM(torch.nn.Module):\n",
        "    \n",
        "    def __init__(self, embeddings, vocab_size, num_classes, embedding_dim, hidden_dim, num_lstm_layers, linear_size, padding_idx):\n",
        "        \n",
        "        super().__init__()\n",
        "\n",
        "        self.embedding_layer = nn.Embedding.from_pretrained(embeddings, padding_idx=padding_idx, freeze=False)\n",
        "\n",
        "        self.lstm = torch.nn.LSTM(input_size=embedding_dim, \n",
        "                                  hidden_size=hidden_dim,\n",
        "                                  num_layers=num_lstm_layers, \n",
        "                                  batch_first=True,\n",
        "                                  bidirectional=False)\n",
        "\n",
        "        self.relu = nn.ReLU()\n",
        "        \n",
        "        self.output_layer = torch.nn.Linear(in_features=hidden_dim,\n",
        "                                            out_features=num_classes,\n",
        "                                            bias=False)\n",
        "\n",
        "        \n",
        "    def forward(self, x):\n",
        "        \n",
        "        x = self.embedding_layer(x)\n",
        "        x, _ = self.lstm(x)\n",
        "        x = x.mean(dim=1)\n",
        "        x = self.relu(x)\n",
        "        x = self.output_layer(x)\n",
        "        \n",
        "        return x"
      ],
      "execution_count": 40,
      "outputs": []
    },
    {
      "cell_type": "code",
      "metadata": {
        "id": "mhIEtFWK5Nce"
      },
      "source": [
        "vocab_size = len(vocab)\n",
        "num_classes = 1\n",
        "embedding_dim = 300\n",
        "hidden_dim = 254\n",
        "num_lstm_layers = 8\n",
        "linear_size = 128\n",
        "padding_idx = 0"
      ],
      "execution_count": 41,
      "outputs": []
    },
    {
      "cell_type": "code",
      "metadata": {
        "colab": {
          "base_uri": "https://localhost:8080/"
        },
        "id": "2EHdM4ed5PGO",
        "outputId": "8ff33c5f-3232-4e27-ef1e-68d0227bd452"
      },
      "source": [
        "ad_model = BaddAdLSTM(embeddings,\n",
        "                                   vocab_size, \n",
        "                                   num_classes, \n",
        "                                   embedding_dim, \n",
        "                                   hidden_dim, \n",
        "                                   num_lstm_layers, \n",
        "                                   linear_size, \n",
        "                                   padding_idx)\n",
        "\n",
        "ad_model.to(device)"
      ],
      "execution_count": 42,
      "outputs": [
        {
          "output_type": "execute_result",
          "data": {
            "text/plain": [
              "BaddAdLSTM(\n",
              "  (embedding_layer): Embedding(532251, 300, padding_idx=0)\n",
              "  (lstm): LSTM(300, 254, num_layers=8, batch_first=True)\n",
              "  (relu): ReLU()\n",
              "  (output_layer): Linear(in_features=254, out_features=1, bias=False)\n",
              ")"
            ]
          },
          "metadata": {
            "tags": []
          },
          "execution_count": 42
        }
      ]
    },
    {
      "cell_type": "markdown",
      "metadata": {
        "id": "dejb9mlF5fRz"
      },
      "source": [
        "## Обучение и валидация"
      ]
    },
    {
      "cell_type": "code",
      "metadata": {
        "id": "cAgrZCUO5bmk"
      },
      "source": [
        "def binarize(pred):\n",
        "    pred = pred.cpu().detach().numpy()\n",
        "    result = []\n",
        "    for r in pred:\n",
        "        if r <= 0.5:\n",
        "            result.append(0.)\n",
        "        else:\n",
        "            result.append(1.)\n",
        "    return result"
      ],
      "execution_count": 46,
      "outputs": []
    },
    {
      "cell_type": "code",
      "metadata": {
        "id": "LjOLZPkR5WhH"
      },
      "source": [
        "def train_model(model, train_loader, optimizer, criterion, n_epoch, f_score_average, clip=3.0):\n",
        "\n",
        "    train_losses = []\n",
        "    f_scores_train = []\n",
        "\n",
        "    model.train()\n",
        "    \n",
        "    train_progress_bar = tqdm_notebook(total=len(train_loader.dataset), desc=f'Epoch: {n_epoch + 1}, train', position=0, leave=True)\n",
        "    \n",
        "\n",
        "    for x, y in train_loader:\n",
        "\n",
        "        x = x.to(device)\n",
        "        y = y.to(device)\n",
        "        optimizer.zero_grad()\n",
        "            \n",
        "        pred = model(x.detach())\n",
        "\n",
        "        f_scores_train.append(f1_score(y.cpu().numpy(), binarize(pred), average=f_score_average))\n",
        "        \n",
        "        loss = criterion(pred.cpu().squeeze(), y.cpu().float())\n",
        "        \n",
        "        loss.backward()\n",
        "        torch.nn.utils.clip_grad_norm_(model.parameters(), clip)\n",
        "        optimizer.step()\n",
        "\n",
        "        train_losses.append(loss.item())\n",
        "\n",
        "        train_progress_bar.set_postfix(train_loss = np.mean(train_losses[-500:]))\n",
        "        train_progress_bar.update(x.shape[0])\n",
        "\n",
        "    train_progress_bar.close()\n",
        "\n",
        "    return train_losses, f_scores_train"
      ],
      "execution_count": 26,
      "outputs": []
    },
    {
      "cell_type": "code",
      "metadata": {
        "id": "3lTK90cs5Y44"
      },
      "source": [
        "def validate_model(model, valid_loader, optimizer, criterion, n_epoch, f_score_average):\n",
        "\n",
        "    valid_losses = []\n",
        "    f_scores_valid = []\n",
        "\n",
        "    model.eval()\n",
        "\n",
        "    valid_progress_bar = tqdm_notebook(total=len(valid_loader.dataset), desc=f'Epoch: {n_epoch + 1}, validation', position=0, leave=True)\n",
        "\n",
        "    for x, y in valid_loader:\n",
        "\n",
        "        x = x.to(device)\n",
        "        y = y.to(device)\n",
        "        \n",
        "        with torch.no_grad():  \n",
        "            pred = model(x.detach())\n",
        "\n",
        "        f_scores_valid.append(f1_score(y.cpu().numpy(), binarize(pred), average=f_score_average))\n",
        "        loss = criterion(pred.cpu().squeeze(), y.cpu().float())\n",
        "\n",
        "        valid_losses.append(loss.item())\n",
        "\n",
        "        valid_progress_bar.set_postfix(valid_loss = np.mean(valid_losses[-500:]))\n",
        "        valid_progress_bar.update(x.shape[0])\n",
        "    \n",
        "    valid_progress_bar.close()\n",
        "\n",
        "    return valid_losses, f_scores_valid"
      ],
      "execution_count": 27,
      "outputs": []
    },
    {
      "cell_type": "code",
      "metadata": {
        "id": "vOV4yXNT5i68"
      },
      "source": [
        "def save_model(model, optimizer, path_to_model_state, path_to_optimizer_state):\n",
        "    torch.save(model.state_dict(), path_to_model_state)\n",
        "    torch.save(optimizer.state_dict(), path_to_optimizer_state)"
      ],
      "execution_count": 28,
      "outputs": []
    },
    {
      "cell_type": "code",
      "metadata": {
        "id": "3h9luMJS5ldN"
      },
      "source": [
        "def train_and_validate(model,\n",
        "                       n_epochs,\n",
        "                       train_loader,\n",
        "                       valid_loader,\n",
        "                       model_params,\n",
        "                       embedding_params,\n",
        "                       f_score_average,\n",
        "                       criterion,\n",
        "                       optimizer,\n",
        "                       scheduler,\n",
        "                       best_model_state_path,\n",
        "                       best_opt_state_path,\n",
        "                       last_model_state_path,\n",
        "                       last_opt_state_path):\n",
        "\n",
        "    val_losses = []\n",
        "    tr_losses = []\n",
        "    mean_f_scores_train = []\n",
        "    mean_f_scores_valid = []\n",
        "    best_val_loss = 10.0\n",
        "\n",
        "    for n_epoch in range(n_epochs):\n",
        "\n",
        "        epoch_train_losses, f_scores_train = train_model(model, train_loader, optimizer, criterion, n_epoch, f_score_average)\n",
        "        epoch_valid_losses, f_scores_valid = validate_model(model, valid_loader, optimizer, criterion, n_epoch, f_score_average)\n",
        "\n",
        "        mean_epoch_val_loss = np.mean(epoch_valid_losses)\n",
        "        mean_f_scores_train.append(np.mean(f_scores_train))\n",
        "        mean_f_scores_valid.append(np.mean(f_scores_valid))\n",
        "        val_losses.append(mean_epoch_val_loss)\n",
        "        tr_losses.append(np.mean(epoch_train_losses))\n",
        "\n",
        "        scheduler.step()\n",
        "\n",
        "        if mean_epoch_val_loss < best_val_loss:\n",
        "            best_val_loss = mean_epoch_val_loss\n",
        "            print(f\"F-score on validation: {np.mean(f_scores_valid)}\")\n",
        "            save_model(model, optimizer, best_model_state_path, best_opt_state_path)\n",
        "        else:\n",
        "            print(f'Early stopping on epoch {n_epoch+1}')\n",
        "            print(f\"F-score on validation: {np.mean(f_scores_valid)}\")\n",
        "            save_model(model, optimizer, last_model_state_path, last_opt_state_path)\n",
        "            break\n",
        "\n",
        "    return val_losses, tr_losses, mean_f_scores_train, mean_f_scores_valid"
      ],
      "execution_count": 29,
      "outputs": []
    },
    {
      "cell_type": "code",
      "metadata": {
        "id": "c134YbQD5ro_"
      },
      "source": [
        "n_epochs = 30\n",
        "model_params =  [x[1] for x in list(filter(lambda x: x[0] != 'embedding_layer.weight', ad_model.named_parameters()))]\n",
        "embedding_params = ad_model.embedding_layer.parameters()\n",
        "f_score_average = \"macro\"\n",
        "criterion = nn.BCEWithLogitsLoss(reduction='mean')\n",
        "optimizer = torch.optim.Adam(params=[{'params': embedding_params, 'lr': 0.0001}, {'params': model_params, 'lr': 0.00001}])\n",
        "scheduler = StepLR(optimizer, step_size=3, gamma=0.1)"
      ],
      "execution_count": 41,
      "outputs": []
    },
    {
      "cell_type": "code",
      "metadata": {
        "colab": {
          "base_uri": "https://localhost:8080/",
          "height": 528,
          "referenced_widgets": [
            "31ca4758ccb04f33b053837f070068fd",
            "691365c6e8b843acb1c41d2da303d471",
            "b30441a32ed74bbfa595bcfbfac1f3df",
            "78a1dd5df7b04fca98d5ba857aba2bee",
            "61ca4a1fb344485b9bdf527c7cf46d2e",
            "372e6f772c2a4fa1af55850653f230fb",
            "d0601a7c47dc4db1bcbd8d976f5c0096",
            "b0b9da7c8fd74119bfb092e231535141",
            "249a643a55c24fb589808c71f9e2997a",
            "b76d57def93340038af1015466c51345",
            "0600f60785cb4509a4951e4e800557c7",
            "7304a95e7bf944bd8305d3dad305346b",
            "e7a2285e5cef4e5cb4b140ac68262b9b",
            "53f1f4c430ca477384909ce36857fe40",
            "707023a327a14dba9499de9e3f280a36",
            "84f1c0cdc7734bc6bb2423f000fc14e0",
            "0f1d25e062db4dd29bda890b75ff1260",
            "53e1426311aa4ee5a0934a6e4183de90",
            "475118c006fc49b68e186cfd8ecf5e2c",
            "82a76566af29498fb94e07121ba997d6",
            "1baf321fe1c945578c26e44752feab5f",
            "d871a5e85bad40958b364b834dc0f80f",
            "6737f445b2724f5a979ac2ad0dc71e1e",
            "47030b2e00a74abb99e5e063ccda7233",
            "3fdcc7323cdd4311b6277a9cc167d20d",
            "e7793bf8eb984a07bfd55c0532b620fe",
            "da33f3922a19416ca5aa843571b5ef65",
            "145557427b364c86aaf18779c7872145",
            "2310fa7707404906a2f1bf80cda95047",
            "a1196a1bd3514d8e9957b3a52f4f7796",
            "aa30f5e25766494e9515d38d91fdd067",
            "06819fdc9f0f45ea8542b399d76cf3c8",
            "90a6c3df750b403d81fea52febae3a2d",
            "89bc62a9828841309659bc0c883856cf",
            "f1bea6e0a6764b85ba98919bc9f1759a",
            "2199d51db9d64543a2e4b806de0cf3fd",
            "926da2ec6fba4ae896941ed93a74f5fa",
            "0453fd44cb1c418da27ffd309f064b56",
            "ee6f67d49d56442eb7a77dc8c607859c",
            "49006aaa79254b5a84705b1362680ee3",
            "c904d6d1a2bb40d38075881ec41af36f",
            "f1cc6b3dd58546ddbcd58a41c283d8be",
            "486f2bda01794e7c87f0f0d19726edd5",
            "3cd6a46a7d58493688fc26a5ab2e01d3",
            "599fd179fd0b4642898043955db082d6",
            "d638bef5e4a445af95baa15128af8c0b",
            "8761e6443e9944318bffd54142c1f2ae",
            "4d90b7ac231746ec890a3272d528972a",
            "96b7be3a154e4521a372a4161f4bcd43",
            "8a75892c223847a586c30ab9c7bdb186",
            "fe699109e0894f579b3280f662d2d9ba",
            "888aaff99a994277b7b134c072ec89b3",
            "af6a6fed83c2416f8a410f2b0859015c",
            "3829876fc1cd4ef089a297bbba666724",
            "5c93d56b3d794afbb55542ee37de7d43",
            "06498620f4fd49669f79965bc1d6e883",
            "21d1c3e020ea4c5c9129e064f84a8749",
            "6a1ecb6dcf8d4ad7864424cdd37577d3",
            "c6c5ffaf6a1646d2a4dc5050091ec660",
            "fce96fc41844410799af8ff8dedd5263",
            "822bf16fb8334614a2f75833cf8907df",
            "00adef61173c466b9947dbdf0b91ff85",
            "8d67bc746a0748439914d27cae005c0a",
            "029b4dc0ac48416ca6efff2abbd59d5c"
          ]
        },
        "id": "4xRG41Uf54Tt",
        "outputId": "80eafbfa-81fd-4e13-fbaa-7d1d99645688"
      },
      "source": [
        "%%time\n",
        "valid_losses, train_losses, mean_f_scores_train, mean_f_scores_valid = train_and_validate(ad_model,\n",
        "                       n_epochs,\n",
        "                       train_loader,\n",
        "                       valid_loader,\n",
        "                       model_params,\n",
        "                       embedding_params,\n",
        "                       f_score_average,\n",
        "                       criterion,\n",
        "                       optimizer,\n",
        "                       scheduler,\n",
        "                       ad_model_best_state_path,\n",
        "                       ad_opt_best_state_path,\n",
        "                       ad_model_last_state_path,\n",
        "                       ad_opt_last_state_path)"
      ],
      "execution_count": 42,
      "outputs": [
        {
          "output_type": "display_data",
          "data": {
            "application/vnd.jupyter.widget-view+json": {
              "model_id": "31ca4758ccb04f33b053837f070068fd",
              "version_minor": 0,
              "version_major": 2
            },
            "text/plain": [
              "HBox(children=(FloatProgress(value=0.0, description='Epoch: 1, train', max=581942.0, style=ProgressStyle(descr…"
            ]
          },
          "metadata": {
            "tags": []
          }
        },
        {
          "output_type": "stream",
          "text": [
            "\n"
          ],
          "name": "stdout"
        },
        {
          "output_type": "display_data",
          "data": {
            "application/vnd.jupyter.widget-view+json": {
              "model_id": "249a643a55c24fb589808c71f9e2997a",
              "version_minor": 0,
              "version_major": 2
            },
            "text/plain": [
              "HBox(children=(FloatProgress(value=0.0, description='Epoch: 1, validation', max=102696.0, style=ProgressStyle(…"
            ]
          },
          "metadata": {
            "tags": []
          }
        },
        {
          "output_type": "stream",
          "text": [
            "\n",
            "F-score on validation: 0.9816516935362652\n"
          ],
          "name": "stdout"
        },
        {
          "output_type": "display_data",
          "data": {
            "application/vnd.jupyter.widget-view+json": {
              "model_id": "0f1d25e062db4dd29bda890b75ff1260",
              "version_minor": 0,
              "version_major": 2
            },
            "text/plain": [
              "HBox(children=(FloatProgress(value=0.0, description='Epoch: 2, train', max=581942.0, style=ProgressStyle(descr…"
            ]
          },
          "metadata": {
            "tags": []
          }
        },
        {
          "output_type": "stream",
          "text": [
            "\n"
          ],
          "name": "stdout"
        },
        {
          "output_type": "display_data",
          "data": {
            "application/vnd.jupyter.widget-view+json": {
              "model_id": "3fdcc7323cdd4311b6277a9cc167d20d",
              "version_minor": 0,
              "version_major": 2
            },
            "text/plain": [
              "HBox(children=(FloatProgress(value=0.0, description='Epoch: 2, validation', max=102696.0, style=ProgressStyle(…"
            ]
          },
          "metadata": {
            "tags": []
          }
        },
        {
          "output_type": "stream",
          "text": [
            "\n",
            "F-score on validation: 0.984825026283842\n"
          ],
          "name": "stdout"
        },
        {
          "output_type": "display_data",
          "data": {
            "application/vnd.jupyter.widget-view+json": {
              "model_id": "90a6c3df750b403d81fea52febae3a2d",
              "version_minor": 0,
              "version_major": 2
            },
            "text/plain": [
              "HBox(children=(FloatProgress(value=0.0, description='Epoch: 3, train', max=581942.0, style=ProgressStyle(descr…"
            ]
          },
          "metadata": {
            "tags": []
          }
        },
        {
          "output_type": "stream",
          "text": [
            "\n"
          ],
          "name": "stdout"
        },
        {
          "output_type": "display_data",
          "data": {
            "application/vnd.jupyter.widget-view+json": {
              "model_id": "c904d6d1a2bb40d38075881ec41af36f",
              "version_minor": 0,
              "version_major": 2
            },
            "text/plain": [
              "HBox(children=(FloatProgress(value=0.0, description='Epoch: 3, validation', max=102696.0, style=ProgressStyle(…"
            ]
          },
          "metadata": {
            "tags": []
          }
        },
        {
          "output_type": "stream",
          "text": [
            "\n",
            "F-score on validation: 0.9853377954233243\n"
          ],
          "name": "stdout"
        },
        {
          "output_type": "display_data",
          "data": {
            "application/vnd.jupyter.widget-view+json": {
              "model_id": "96b7be3a154e4521a372a4161f4bcd43",
              "version_minor": 0,
              "version_major": 2
            },
            "text/plain": [
              "HBox(children=(FloatProgress(value=0.0, description='Epoch: 4, train', max=581942.0, style=ProgressStyle(descr…"
            ]
          },
          "metadata": {
            "tags": []
          }
        },
        {
          "output_type": "stream",
          "text": [
            "\n"
          ],
          "name": "stdout"
        },
        {
          "output_type": "display_data",
          "data": {
            "application/vnd.jupyter.widget-view+json": {
              "model_id": "21d1c3e020ea4c5c9129e064f84a8749",
              "version_minor": 0,
              "version_major": 2
            },
            "text/plain": [
              "HBox(children=(FloatProgress(value=0.0, description='Epoch: 4, validation', max=102696.0, style=ProgressStyle(…"
            ]
          },
          "metadata": {
            "tags": []
          }
        },
        {
          "output_type": "stream",
          "text": [
            "\n",
            "Early stopping on epoch 4\n",
            "F-score on validation: 0.9856223876830704\n",
            "CPU times: user 33min 59s, sys: 21min 33s, total: 55min 32s\n",
            "Wall time: 57min 1s\n"
          ],
          "name": "stdout"
        }
      ]
    },
    {
      "cell_type": "markdown",
      "metadata": {
        "id": "CQrZQokMufjM"
      },
      "source": [
        "## Графики"
      ]
    },
    {
      "cell_type": "code",
      "metadata": {
        "id": "18MxD-ps58Q8"
      },
      "source": [
        "def show_f_scores_graph(f_scores, training=True, epoch=True):\n",
        "    plt.figure(figsize=(7, 7))\n",
        "    plt.plot(f_scores)\n",
        "    plt.grid()\n",
        "    if training:\n",
        "      plt.title('F-scores on train')\n",
        "    else:\n",
        "      plt.title('F-scores on validation')\n",
        "    if epoch:\n",
        "      plt.xlabel('Epochs')\n",
        "    else:\n",
        "      plt.xlabel('Iterations')\n",
        "    plt.ylabel('f-score')"
      ],
      "execution_count": 43,
      "outputs": []
    },
    {
      "cell_type": "code",
      "metadata": {
        "id": "77gcEhcv5-Cf"
      },
      "source": [
        "def show_losses_graph(losses, training=True, epoch=True):\n",
        "    plt.figure(figsize=(7, 7))\n",
        "    plt.plot(losses)\n",
        "    plt.grid()\n",
        "    if training:\n",
        "      plt.title('Training process')\n",
        "    else:\n",
        "      plt.title('Validation process')\n",
        "    if epoch:\n",
        "      plt.xlabel('Epochs')\n",
        "    else:\n",
        "      plt.xlabel('Iterations')\n",
        "    plt.ylabel('Loss function')"
      ],
      "execution_count": 44,
      "outputs": []
    },
    {
      "cell_type": "code",
      "metadata": {
        "colab": {
          "base_uri": "https://localhost:8080/",
          "height": 458
        },
        "id": "kJx7AAQI5_gr",
        "outputId": "a88e2722-5e4c-49a0-c671-a4b337374a88"
      },
      "source": [
        "show_f_scores_graph(mean_f_scores_train, training=True)"
      ],
      "execution_count": 45,
      "outputs": [
        {
          "output_type": "display_data",
          "data": {
            "image/png": "[encoded data removed]",
            "text/plain": [
              "<Figure size 504x504 with 1 Axes>"
            ]
          },
          "metadata": {
            "tags": [],
            "needs_background": "light"
          }
        }
      ]
    },
    {
      "cell_type": "code",
      "metadata": {
        "colab": {
          "base_uri": "https://localhost:8080/",
          "height": 458
        },
        "id": "hiV9-T-n6BRW",
        "outputId": "be7c78d4-e600-4c42-f94f-2b8e0c9b2f2b"
      },
      "source": [
        "show_f_scores_graph(mean_f_scores_valid, training=False)"
      ],
      "execution_count": 46,
      "outputs": [
        {
          "output_type": "display_data",
          "data": {
            "image/png": "[encoded data removed]",
            "text/plain": [
              "<Figure size 504x504 with 1 Axes>"
            ]
          },
          "metadata": {
            "tags": [],
            "needs_background": "light"
          }
        }
      ]
    },
    {
      "cell_type": "code",
      "metadata": {
        "colab": {
          "base_uri": "https://localhost:8080/",
          "height": 458
        },
        "id": "zAREwFXZ6C7U",
        "outputId": "77aa6bb5-2c47-4ec0-e850-48c7c4d85d86"
      },
      "source": [
        "show_losses_graph(train_losses, training=True)"
      ],
      "execution_count": 47,
      "outputs": [
        {
          "output_type": "display_data",
          "data": {
            "image/png": "[encoded data removed]",
            "text/plain": [
              "<Figure size 504x504 with 1 Axes>"
            ]
          },
          "metadata": {
            "tags": [],
            "needs_background": "light"
          }
        }
      ]
    },
    {
      "cell_type": "code",
      "metadata": {
        "colab": {
          "base_uri": "https://localhost:8080/",
          "height": 458
        },
        "id": "osieo8Vj6ETk",
        "outputId": "f82a775e-3c22-4248-a89c-81fb1f9879ff"
      },
      "source": [
        "show_losses_graph(valid_losses, training=False)"
      ],
      "execution_count": 48,
      "outputs": [
        {
          "output_type": "display_data",
          "data": {
            "image/png": "[encoded data removed]",
            "text/plain": [
              "<Figure size 504x504 with 1 Axes>"
            ]
          },
          "metadata": {
            "tags": [],
            "needs_background": "light"
          }
        }
      ]
    },
    {
      "cell_type": "markdown",
      "metadata": {
        "id": "WJelYvKnuiJf"
      },
      "source": [
        "## Оценка модели"
      ]
    },
    {
      "cell_type": "code",
      "metadata": {
        "id": "ERwGXapf0waL"
      },
      "source": [
        "assert torch.cuda.is_available()\n",
        "device = torch.device('cuda')"
      ],
      "execution_count": 39,
      "outputs": []
    },
    {
      "cell_type": "code",
      "metadata": {
        "id": "56BaeYFmxC_B"
      },
      "source": [
        "f = open(ad_vocab_path, \"r\")\n",
        "file = f.read()\n",
        "f.close()  \n",
        "\n",
        "vocab = json.loads(file)"
      ],
      "execution_count": 26,
      "outputs": []
    },
    {
      "cell_type": "code",
      "metadata": {
        "id": "sZ_VWl1wyYyy"
      },
      "source": [
        "tokenizer = WordPunctTokenizer().tokenize"
      ],
      "execution_count": 28,
      "outputs": []
    },
    {
      "cell_type": "code",
      "metadata": {
        "id": "gcIBe47jwlJa"
      },
      "source": [
        "test_data = pd.read_csv(test_data_path)"
      ],
      "execution_count": 29,
      "outputs": []
    },
    {
      "cell_type": "code",
      "metadata": {
        "id": "sUTnWEOd0OKm"
      },
      "source": [
        "def load_model(path_to_model_state, path_to_optimizer_state):\n",
        "    model_state = torch.load(path_to_model_state)\n",
        "    optimizer_state = torch.load(path_to_optimizer_state)\n",
        "    return model_state, optimizer_state"
      ],
      "execution_count": 30,
      "outputs": []
    },
    {
      "cell_type": "code",
      "metadata": {
        "id": "no6UUJEVwnqR"
      },
      "source": [
        "model, _ = load_model(ad_model_best_state_path, ad_opt_best_state_path)"
      ],
      "execution_count": 31,
      "outputs": []
    },
    {
      "cell_type": "code",
      "metadata": {
        "colab": {
          "base_uri": "https://localhost:8080/"
        },
        "id": "0PuHOp-X08XT",
        "outputId": "325105aa-fa08-467b-c6e9-952a1dfd31e8"
      },
      "source": [
        "ad_model.load_state_dict(model)"
      ],
      "execution_count": 43,
      "outputs": [
        {
          "output_type": "execute_result",
          "data": {
            "text/plain": [
              "<All keys matched successfully>"
            ]
          },
          "metadata": {
            "tags": []
          },
          "execution_count": 43
        }
      ]
    },
    {
      "cell_type": "code",
      "metadata": {
        "id": "cLPUHEfeK4Vv"
      },
      "source": [
        "def predict_text(text, model, tokenizer=tokenizer, vocab=vocab, max_len=30):\n",
        "    tokenized_text = tokenizer(text.lower())\n",
        "    ids = [vocab[token] for token in tokenized_text if token in vocab]\n",
        "    padds = [0] * (max_len - len(ids))\n",
        "    padded_ids = ids + padds\n",
        "    tensor_ids = torch.tensor(padded_ids)\n",
        "    tensor_ids = torch.unsqueeze(tensor_ids,0)\n",
        "    \n",
        "    with torch.no_grad():\n",
        "      pred = model.forward(tensor_ids.to(device))\n",
        "      pred = binarize(pred)\n",
        "      return pred[0]"
      ],
      "execution_count": 36,
      "outputs": []
    },
    {
      "cell_type": "code",
      "metadata": {
        "id": "mpCrHT4EwFY7"
      },
      "source": [
        "def make_preds(model, texts):\n",
        "    model.eval()\n",
        "    y_preds = []\n",
        "    for text in texts:\n",
        "        y_preds.append(predict_text(text, model))\n",
        "    return y_preds"
      ],
      "execution_count": 50,
      "outputs": []
    },
    {
      "cell_type": "code",
      "metadata": {
        "id": "00VfYLqXwZoF"
      },
      "source": [
        "y_preds = make_preds(ad_model, test_data.texts)\n",
        "y_trues = test_data.ad"
      ],
      "execution_count": 52,
      "outputs": []
    },
    {
      "cell_type": "code",
      "metadata": {
        "id": "QFO9bl27u6wN"
      },
      "source": [
        "def evaluate_on_texts(y_trues, y_preds, f_score_average = \"macro\"):\n",
        "    \n",
        "    print(f\"F1 score: {f1_score(y_trues, y_preds, average=f_score_average)}\")\n",
        "    print(f\"Accuracy: {accuracy_score(y_trues, y_preds)}\")\n",
        "    print(classification_report(y_trues, y_preds))"
      ],
      "execution_count": 59,
      "outputs": []
    },
    {
      "cell_type": "markdown",
      "metadata": {
        "id": "pUbAogPA5eS8"
      },
      "source": [
        "Результат с параметрами\n",
        "\n",
        "| Параметр | Значение |\n",
        "|---|---|\n",
        "|embedding_dim | 300|\n",
        "|hidden_dim | 254|\n",
        "|num_lstm_layers | 8|\n",
        "|linear_size | 128|"
      ]
    },
    {
      "cell_type": "code",
      "metadata": {
        "colab": {
          "base_uri": "https://localhost:8080/"
        },
        "id": "qwG6MbpL1i3m",
        "outputId": "10cf52c8-1803-49f2-e8db-3939541e2afe"
      },
      "source": [
        "evaluate_on_texts(y_trues, y_preds)"
      ],
      "execution_count": 60,
      "outputs": [
        {
          "output_type": "stream",
          "text": [
            "F1 score: 0.992413619407786\n",
            "Accuracy: 0.9924139411722608\n",
            "              precision    recall  f1-score   support\n",
            "\n",
            "           0       0.99      0.99      0.99      6951\n",
            "           1       0.99      0.99      0.99      7022\n",
            "\n",
            "    accuracy                           0.99     13973\n",
            "   macro avg       0.99      0.99      0.99     13973\n",
            "weighted avg       0.99      0.99      0.99     13973\n",
            "\n"
          ],
          "name": "stdout"
        }
      ]
    }
  ]
}