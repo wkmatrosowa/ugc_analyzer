{
 "cells": [
  {
   "cell_type": "markdown",
   "metadata": {
    "id": "UOY5CZgZ_zqd"
   },
   "source": [
    "# Обработка данных для функциональности \"Определение обсценной лексики\""
   ]
  },
  {
   "cell_type": "markdown",
   "metadata": {
    "id": "1kSDlBchABJr"
   },
   "source": [
    "##  Загрузки"
   ]
  },
  {
   "cell_type": "markdown",
   "metadata": {
    "id": "6bs1RxVAAQXP"
   },
   "source": [
    "### Загрузка корпуса с обсценной лексикой"
   ]
  },
  {
   "cell_type": "code",
   "execution_count": null,
   "metadata": {
    "colab": {
     "base_uri": "https://localhost:8080/"
    },
    "id": "itgsdgTM-l6O",
    "outputId": "0ce94bb8-ed5f-4548-b62c-b438dc1ea809"
   },
   "outputs": [
    {
     "name": "stdout",
     "output_type": "stream",
     "text": [
      "--2021-02-24 09:48:11--  https://raw.githubusercontent.com/odaykhovskaya/obscene_words_ru/master/obscene_corpus.txt\n",
      "Resolving raw.githubusercontent.com (raw.githubusercontent.com)... 185.199.108.133, 185.199.109.133, 185.199.110.133, ...\n",
      "Connecting to raw.githubusercontent.com (raw.githubusercontent.com)|185.199.108.133|:443... connected.\n",
      "HTTP request sent, awaiting response... 200 OK\n",
      "Length: 152344 (149K) [text/plain]\n",
      "Saving to: ‘obscene_corpus.txt.1’\n",
      "\n",
      "obscene_corpus.txt. 100%[===================>] 148.77K  --.-KB/s    in 0.03s   \n",
      "\n",
      "2021-02-24 09:48:11 (5.46 MB/s) - ‘obscene_corpus.txt.1’ saved [152344/152344]\n",
      "\n"
     ]
    }
   ],
   "source": [
    "!wget https://raw.githubusercontent.com/odaykhovskaya/obscene_words_ru/master/obscene_corpus.txt"
   ]
  },
  {
   "cell_type": "markdown",
   "metadata": {
    "id": "JKvQvZL0ZAQM"
   },
   "source": [
    "### Загрузка корпуса с 2ch"
   ]
  },
  {
   "cell_type": "code",
   "execution_count": null,
   "metadata": {
    "colab": {
     "base_uri": "https://localhost:8080/"
    },
    "id": "l3MwPNmqSzhN",
    "outputId": "59b167bf-8893-43ca-cd6d-c427021fcde6"
   },
   "outputs": [
    {
     "name": "stdout",
     "output_type": "stream",
     "text": [
      "--2021-02-24 09:35:45--  https://github.com/mannefedov/compling_nlp_hse_course/raw/master/data/2ch_corpus.txt.zip\n",
      "Resolving github.com (github.com)... 140.82.121.4\n",
      "Connecting to github.com (github.com)|140.82.121.4|:443... connected.\n",
      "HTTP request sent, awaiting response... 302 Found\n",
      "Location: https://raw.githubusercontent.com/mannefedov/compling_nlp_hse_course/master/data/2ch_corpus.txt.zip [following]\n",
      "--2021-02-24 09:35:45--  https://raw.githubusercontent.com/mannefedov/compling_nlp_hse_course/master/data/2ch_corpus.txt.zip\n",
      "Resolving raw.githubusercontent.com (raw.githubusercontent.com)... 185.199.111.133, 185.199.109.133, 185.199.108.133, ...\n",
      "Connecting to raw.githubusercontent.com (raw.githubusercontent.com)|185.199.111.133|:443... connected.\n",
      "HTTP request sent, awaiting response... 200 OK\n",
      "Length: 6255552 (6.0M) [application/zip]\n",
      "Saving to: ‘2ch_corpus.txt.zip’\n",
      "\n",
      "2ch_corpus.txt.zip  100%[===================>]   5.96M  --.-KB/s    in 0.1s    \n",
      "\n",
      "2021-02-24 09:35:47 (56.5 MB/s) - ‘2ch_corpus.txt.zip’ saved [6255552/6255552]\n",
      "\n"
     ]
    }
   ],
   "source": [
    "!wget https://github.com/mannefedov/compling_nlp_hse_course/raw/master/data/2ch_corpus.txt.zip"
   ]
  },
  {
   "cell_type": "code",
   "execution_count": null,
   "metadata": {
    "colab": {
     "base_uri": "https://localhost:8080/"
    },
    "id": "WI-Q_VDrSlBY",
    "outputId": "7f7d0097-acbf-4174-bad5-286ff48aa167"
   },
   "outputs": [
    {
     "name": "stdout",
     "output_type": "stream",
     "text": [
      "Archive:  2ch_corpus.txt.zip\n",
      "  inflating: 2ch_corpus.txt          \n",
      "  inflating: __MACOSX/._2ch_corpus.txt  \n"
     ]
    }
   ],
   "source": [
    "!unzip 2ch_corpus.txt.zip"
   ]
  },
  {
   "cell_type": "markdown",
   "metadata": {
    "id": "tfuyBkQNAp2I"
   },
   "source": [
    "### Импорты и пути"
   ]
  },
  {
   "cell_type": "code",
   "execution_count": 10,
   "metadata": {
    "colab": {
     "base_uri": "https://localhost:8080/"
    },
    "id": "Z7QkAynp978D",
    "outputId": "bb17aad4-bb54-4367-b28f-276e5197e2ee"
   },
   "outputs": [
    {
     "name": "stderr",
     "output_type": "stream",
     "text": [
      "[nltk_data] Error loading punkt: <urlopen error [SSL:\n",
      "[nltk_data]     CERTIFICATE_VERIFY_FAILED] certificate verify failed:\n",
      "[nltk_data]     unable to get local issuer certificate (_ssl.c:1123)>\n"
     ]
    }
   ],
   "source": [
    "import sys\n",
    "import nltk\n",
    "nltk.download('punkt')\n",
    "from nltk.tokenize import word_tokenize\n",
    "\n",
    "from pymorphy2 import MorphAnalyzer\n",
    "from tqdm import tqdm\n",
    "from string import punctuation\n",
    "\n",
    "tokenizer = nltk.tokenize.WhitespaceTokenizer()\n",
    "morph = MorphAnalyzer()\n",
    "\n",
    "punct = punctuation+'«»—…“”*№–'\n",
    "sys.path.append('../')\n",
    "sys.path.append('./')"
   ]
  },
  {
   "cell_type": "code",
   "execution_count": 9,
   "metadata": {},
   "outputs": [
    {
     "data": {
      "text/plain": [
       "['/Users/vladislavasan/PycharmProjects/ugc_analyzer/notebooks/preprocessing',\n",
       " '/Library/Frameworks/Python.framework/Versions/3.8/lib/python38.zip',\n",
       " '/Library/Frameworks/Python.framework/Versions/3.8/lib/python3.8',\n",
       " '/Library/Frameworks/Python.framework/Versions/3.8/lib/python3.8/lib-dynload',\n",
       " '',\n",
       " '/Users/vladislavasan/PycharmProjects/ugc_analyzer/venv/lib/python3.8/site-packages',\n",
       " '/Users/vladislavasan/PycharmProjects/ugc_analyzer/venv/lib/python3.8/site-packages/IPython/extensions',\n",
       " '/Users/vladislavasan/.ipython',\n",
       " '../']"
      ]
     },
     "execution_count": 9,
     "metadata": {},
     "output_type": "execute_result"
    }
   ],
   "source": [
    "sys.path"
   ]
  },
  {
   "cell_type": "code",
   "execution_count": 13,
   "metadata": {
    "id": "csvNSmpf-sc0"
   },
   "outputs": [],
   "source": [
    "obscene_data_path = \"/Users/vladislavasan/PycharmProjects/ugc_analyzer/data/obscene_corpus.txt\"\n",
    "obscene_preprocessed_data_path = \"/Users/vladislavasan/PycharmProjects/ugc_analyzer/data/obscene_corpus_preprocessed.txt\"\n",
    "not_obscene_data_path = \"/Users/vladislavasan/PycharmProjects/ugc_analyzer/data/2ch_corpus.txt\"\n",
    "not_obscene_preprocessed_data_path = \"/Users/vladislavasan/PycharmProjects/ugc_analyzer/data/2ch_corpus_preprocessed.txt\""
   ]
  },
  {
   "cell_type": "markdown",
   "metadata": {},
   "source": [
    "## Функции для предобработки корпусов"
   ]
  },
  {
   "cell_type": "code",
   "execution_count": null,
   "metadata": {
    "id": "EiinGq8rDQER"
   },
   "outputs": [],
   "source": [
    "# использование WhitespaceTokenizer()\n",
    "# tokenizer.tokenize(text)\n",
    "\n",
    "# использование word_tokenize\n",
    "# word_tokenize(text)"
   ]
  },
  {
   "cell_type": "markdown",
   "metadata": {},
   "source": [
    "Функция лемматизации с возможностью выбора токенайзера"
   ]
  },
  {
   "cell_type": "code",
   "execution_count": 3,
   "metadata": {
    "id": "Q4z4G3nd98A_"
   },
   "outputs": [],
   "source": [
    "def lemmatization_with_tokenizer(text: str, tokenizer) -> list:\n",
    "    \n",
    "    words = tokenizer(text)\n",
    "    words = [morph.parse(word.lower().strip('\\n').strip(punct))[0].normal_form for word in words]\n",
    "\n",
    "    return words\n",
    "\n",
    "def lemmatization(words: list) -> list:\n",
    "    \n",
    "    words = [morph.parse(word.lower().strip('\\n').strip(punct))[0].normal_form for word in words]\n",
    "\n",
    "    return words"
   ]
  },
  {
   "cell_type": "markdown",
   "metadata": {},
   "source": [
    "Размер и формат корпуса обсценной лексики позволяет вместить всю необходимую предобработку в одну функцию"
   ]
  },
  {
   "cell_type": "code",
   "execution_count": 4,
   "metadata": {
    "id": "FbyCF1ZkFB5P"
   },
   "outputs": [],
   "source": [
    "def obscene_data_preprocess(data: list):\n",
    "  \n",
    "    data = [word.lower().strip('\\n').strip(punct) for word in data]\n",
    "\n",
    "    return data"
   ]
  },
  {
   "cell_type": "markdown",
   "metadata": {},
   "source": [
    "Размер и формат корпуса с 2ch убивает кернел, если не разделить предобработку на 3 этапа"
   ]
  },
  {
   "cell_type": "code",
   "execution_count": 5,
   "metadata": {
    "id": "Fwdw9z5GQnfT"
   },
   "outputs": [],
   "source": [
    "def not_obscene_data_lemmatization(data: list, tokenizer):\n",
    "\n",
    "    cleaned_data = []\n",
    "    for text in tqdm(data):\n",
    "        text = lemmatization_with_tokenizer(text, tokenizer)\n",
    "        cleaned_data.append(text)\n",
    "        \n",
    "    return cleaned_data"
   ]
  },
  {
   "cell_type": "code",
   "execution_count": 6,
   "metadata": {},
   "outputs": [],
   "source": [
    "def not_obscene_data_clean1(data: list, obscene_data: list):\n",
    "\n",
    "    cleaned_data = []\n",
    "    for text in tqdm(data):\n",
    "        text = [word for word in text if word not in obscene_data]\n",
    "        cleaned_data.append(text)\n",
    "        \n",
    "    return cleaned_data"
   ]
  },
  {
   "cell_type": "code",
   "execution_count": 34,
   "metadata": {},
   "outputs": [],
   "source": [
    "def not_obscene_data_clean2(data: list, obscene_data: list):\n",
    "    \n",
    "    obscened_words = []\n",
    "\n",
    "    for word in tqdm(data):\n",
    "        for obscene_word in obscene_data:\n",
    "            if obscene_word in word:\n",
    "                obscened_words.append(word)\n",
    "    \n",
    "    obscened_words = set(obscened_words)\n",
    "    data = set(data)\n",
    "    data-=obscened_words\n",
    "    \n",
    "    return list(data)"
   ]
  },
  {
   "cell_type": "markdown",
   "metadata": {},
   "source": [
    "## Предбработка корпуса обсценной лексики"
   ]
  },
  {
   "cell_type": "code",
   "execution_count": 14,
   "metadata": {
    "id": "T8mfqrNw97-Y"
   },
   "outputs": [],
   "source": [
    "with open(obscene_data_path, \"r\") as obscene_data_file:\n",
    "    obscene_data = obscene_data_file.readlines()"
   ]
  },
  {
   "cell_type": "code",
   "execution_count": 5,
   "metadata": {
    "colab": {
     "base_uri": "https://localhost:8080/"
    },
    "id": "QC8Zn6FC_Cwa",
    "outputId": "82803e89-58a0-44de-cb05-075396f7ecb7"
   },
   "outputs": [
    {
     "data": {
      "text/plain": [
       "['6ЛЯ\\n',\n",
       " '6ЛЯД\\n',\n",
       " 'FUCK\\n',\n",
       " 'PIZD\\n',\n",
       " 'PIZDA\\n',\n",
       " 'PIZDAH\\n',\n",
       " 'PIZDAKH\\n',\n",
       " 'PIZDAM\\n',\n",
       " 'PIZDAMI\\n',\n",
       " 'PIZDAX\\n',\n",
       " 'PIZDE\\n',\n",
       " 'PIZDOI\\n',\n",
       " 'PIZDOJ\\n',\n",
       " 'PIZDOY\\n',\n",
       " 'PIZDU\\n',\n",
       " 'PIZDY\\n',\n",
       " 'SCHEISE\\n',\n",
       " 'SCHEISSE\\n',\n",
       " 'SHIT\\n',\n",
       " 'SUCK\\n']"
      ]
     },
     "execution_count": 5,
     "metadata": {},
     "output_type": "execute_result"
    }
   ],
   "source": [
    "obscene_data[:20]"
   ]
  },
  {
   "cell_type": "code",
   "execution_count": 15,
   "metadata": {
    "colab": {
     "base_uri": "https://localhost:8080/"
    },
    "id": "vy9zRKMsWufa",
    "outputId": "82872408-19d8-40f7-de02-0ca4c0515249"
   },
   "outputs": [
    {
     "data": {
      "text/plain": [
       "['6ля',\n",
       " '6ляд',\n",
       " 'fuck',\n",
       " 'pizd',\n",
       " 'pizda',\n",
       " 'pizdah',\n",
       " 'pizdakh',\n",
       " 'pizdam',\n",
       " 'pizdami',\n",
       " 'pizdax']"
      ]
     },
     "execution_count": 15,
     "metadata": {},
     "output_type": "execute_result"
    }
   ],
   "source": [
    "obscene_data = obscene_data_preprocess(obscene_data)\n",
    "obscene_data[:10]"
   ]
  },
  {
   "cell_type": "markdown",
   "metadata": {},
   "source": [
    "Проверим, что в корпусе нет дубликатов"
   ]
  },
  {
   "cell_type": "code",
   "execution_count": null,
   "metadata": {
    "colab": {
     "base_uri": "https://localhost:8080/"
    },
    "id": "PPiDl9iKTkAD",
    "outputId": "d1b95952-dc31-42ae-babc-8e735b012da1"
   },
   "outputs": [
    {
     "data": {
      "text/plain": [
       "7351"
      ]
     },
     "execution_count": 24,
     "metadata": {
      "tags": []
     },
     "output_type": "execute_result"
    }
   ],
   "source": [
    "len(obscene_data)"
   ]
  },
  {
   "cell_type": "code",
   "execution_count": null,
   "metadata": {
    "colab": {
     "base_uri": "https://localhost:8080/"
    },
    "id": "gWUnstoEV6tF",
    "outputId": "a8f3a028-2975-4324-c67f-f072867ac5c1"
   },
   "outputs": [
    {
     "data": {
      "text/plain": [
       "7351"
      ]
     },
     "execution_count": 25,
     "metadata": {
      "tags": []
     },
     "output_type": "execute_result"
    }
   ],
   "source": [
    "len(set(obscene_data))"
   ]
  },
  {
   "cell_type": "markdown",
   "metadata": {},
   "source": [
    "## Обработка корпуса с 2ch"
   ]
  },
  {
   "cell_type": "code",
   "execution_count": 16,
   "metadata": {
    "id": "BOjKc3j9SjtP"
   },
   "outputs": [],
   "source": [
    "with open(not_obscene_data_path, \"r\") as not_obscene_data_file:\n",
    "    not_obscene_data = not_obscene_data_file.readlines()"
   ]
  },
  {
   "cell_type": "code",
   "execution_count": 17,
   "metadata": {
    "colab": {
     "base_uri": "https://localhost:8080/"
    },
    "id": "6XvBFTHHTKp-",
    "outputId": "f50c13ad-7bea-4a4e-a325-36e4e47bf244"
   },
   "outputs": [
    {
     "data": {
      "text/plain": [
       "[\" Анимублядский WebM-треддля приличных анимублядей и прочих аутистов. Безграмотное быдло с дубляжом, войсовером, порнографией и котиками, советы мерзких мокрописечников, вниманиебляди всех видов и прочее непотребство отправляется в порнотред <ссылка>.Для поиска сoуса видео сохраняем кадр (правый клик по видео) и ищем его на Для воспроизведения WebM с 10-битным цветом нужно установить плагин vlc ( ) и отключить встроенный в браузер плеер (media. webm. enabled=false в firefox).О кодировании WebMДоступные кодеки — VP8 и VP9 для видео, Vorbis и Opus для звука, максимальный размер файла — 10240КБ, всех файлов в посте — около 40МБ. Делать WebM можно научиться в вики треда: Там находится подробная информация о выборе и настройке кодеков на примерах использования консольных утилит ffmpeg, vpxenc и mkvmerge. Неочевидные моменты— libvorbis при указании битрейта (-b:a) работает в режиме CBR (постоянный битрейт), и это портит качество звука; для режима VBR вместо битрейта надо указывать качество (-q:a); параметр -vbr on работает только для Opus'а;— в webm'ки не нужно включать софтсаб в формате webvtt (FFmpeg это делает по умолчанию при наличии сабов в контейнере, отключается параметром -sn): во-первых, это бесполезно (для его отображения на странице должен быть специальный код), а во-вторых, от этого ролики не воспроизводятся в firefox. Программы и их документация Фронтенды к ffmpeg для кодирования вебмокCLI, бидон: zsh: дотнет: дотнет: Оп-паста: \\n\",\n",
       " '     Посоны, поделитесь ссылкой на ютуб-версию этого шебм.\\n',\n",
       " ' Побольше тебе стандопавера, бро.\\n',\n",
       " ' Перекатился. Благословил.\\n',\n",
       " ' У меня нофап- мне туда даже заходить нельзя\\n',\n",
       " ' Ты зачем мой пост украл? :<\\n',\n",
       " '  Хех, нисекой уже к финалу подходит. На кого ставите, аноны?\\n',\n",
       " ' Запощу все свои пианино опенинги.\\n',\n",
       " '   Очевидная Онодера. Цундере не нужны.\\n',\n",
       " ' Соус ремикса с 4 вебм, будьте добры.\\n']"
      ]
     },
     "execution_count": 17,
     "metadata": {},
     "output_type": "execute_result"
    }
   ],
   "source": [
    "not_obscene_data[:10]"
   ]
  },
  {
   "cell_type": "code",
   "execution_count": 18,
   "metadata": {
    "colab": {
     "base_uri": "https://localhost:8080/"
    },
    "id": "caJYD-iATfjt",
    "outputId": "af9be871-09a6-49ff-e41f-1153faaa6386"
   },
   "outputs": [
    {
     "data": {
      "text/plain": [
       "85903"
      ]
     },
     "execution_count": 18,
     "metadata": {},
     "output_type": "execute_result"
    }
   ],
   "source": [
    "len(not_obscene_data)"
   ]
  },
  {
   "cell_type": "code",
   "execution_count": 19,
   "metadata": {},
   "outputs": [
    {
     "name": "stderr",
     "output_type": "stream",
     "text": [
      "100%|██████████| 85903/85903 [01:20<00:00, 1062.23it/s]"
     ]
    },
    {
     "name": "stdout",
     "output_type": "stream",
     "text": [
      "CPU times: user 1min 15s, sys: 1.53 s, total: 1min 16s\n",
      "Wall time: 1min 20s\n"
     ]
    },
    {
     "name": "stderr",
     "output_type": "stream",
     "text": [
      "\n"
     ]
    }
   ],
   "source": [
    "%%time\n",
    "not_obscene_data = not_obscene_data_lemmatization(not_obscene_data, tokenizer.tokenize)"
   ]
  },
  {
   "cell_type": "code",
   "execution_count": 20,
   "metadata": {},
   "outputs": [
    {
     "name": "stderr",
     "output_type": "stream",
     "text": [
      "100%|██████████| 85903/85903 [03:57<00:00, 362.05it/s]"
     ]
    },
    {
     "name": "stdout",
     "output_type": "stream",
     "text": [
      "CPU times: user 3min 50s, sys: 3.07 s, total: 3min 53s\n",
      "Wall time: 3min 57s\n"
     ]
    },
    {
     "name": "stderr",
     "output_type": "stream",
     "text": [
      "\n"
     ]
    }
   ],
   "source": [
    "%%time\n",
    "not_obscene_data = not_obscene_data_clean1(not_obscene_data, obscene_data)"
   ]
  },
  {
   "cell_type": "code",
   "execution_count": 21,
   "metadata": {},
   "outputs": [],
   "source": [
    "with open(not_obscene_preprocessed_data_path, \"w\") as not_obscene_preprocessed_file:\n",
    "    for word in not_obscene_data:\n",
    "        not_obscene_preprocessed_file.write(str(word) + \"\\n\")"
   ]
  },
  {
   "cell_type": "code",
   "execution_count": 22,
   "metadata": {},
   "outputs": [],
   "source": [
    "with open(not_obscene_preprocessed_data_path, \"r\") as not_obscene_data_file:\n",
    "    not_obscene_data = not_obscene_data_file.read()"
   ]
  },
  {
   "cell_type": "code",
   "execution_count": 24,
   "metadata": {},
   "outputs": [
    {
     "data": {
      "text/plain": [
       "\"['анимублядский', 'webm-треддлить', 'приличный', 'анимублядь', 'и', 'прочий', 'аутист', 'безграмотны\""
      ]
     },
     "execution_count": 24,
     "metadata": {},
     "output_type": "execute_result"
    }
   ],
   "source": [
    "not_obscene_data[:100]"
   ]
  },
  {
   "cell_type": "code",
   "execution_count": 25,
   "metadata": {},
   "outputs": [],
   "source": [
    "not_obscene_data = not_obscene_data.replace(\"[\", '').replace(\"]\", '').replace(\"'\", '').replace('\"', '').replace(',', ' ')"
   ]
  },
  {
   "cell_type": "code",
   "execution_count": 26,
   "metadata": {},
   "outputs": [
    {
     "data": {
      "text/plain": [
       "'анимублядский  webm-треддлить  приличный  анимублядь  и  прочий  аутист  безграмотный  быдло  с  дуб'"
      ]
     },
     "execution_count": 26,
     "metadata": {},
     "output_type": "execute_result"
    }
   ],
   "source": [
    "not_obscene_data[:100]"
   ]
  },
  {
   "cell_type": "code",
   "execution_count": 27,
   "metadata": {},
   "outputs": [],
   "source": [
    "not_obscene_data = tokenizer.tokenize(not_obscene_data)"
   ]
  },
  {
   "cell_type": "code",
   "execution_count": 28,
   "metadata": {},
   "outputs": [
    {
     "data": {
      "text/plain": [
       "['анимублядский',\n",
       " 'webm-треддлить',\n",
       " 'приличный',\n",
       " 'анимублядь',\n",
       " 'и',\n",
       " 'прочий',\n",
       " 'аутист',\n",
       " 'безграмотный',\n",
       " 'быдло',\n",
       " 'с']"
      ]
     },
     "execution_count": 28,
     "metadata": {},
     "output_type": "execute_result"
    }
   ],
   "source": [
    "not_obscene_data[:10]"
   ]
  },
  {
   "cell_type": "code",
   "execution_count": 29,
   "metadata": {},
   "outputs": [
    {
     "data": {
      "text/plain": [
       "1786490"
      ]
     },
     "execution_count": 29,
     "metadata": {},
     "output_type": "execute_result"
    }
   ],
   "source": [
    "len(not_obscene_data)"
   ]
  },
  {
   "cell_type": "code",
   "execution_count": 30,
   "metadata": {},
   "outputs": [
    {
     "data": {
      "text/plain": [
       "116431"
      ]
     },
     "execution_count": 30,
     "metadata": {},
     "output_type": "execute_result"
    }
   ],
   "source": [
    "len(set(not_obscene_data))"
   ]
  },
  {
   "cell_type": "code",
   "execution_count": 31,
   "metadata": {},
   "outputs": [],
   "source": [
    "not_obscene_data = list(set(not_obscene_data))"
   ]
  },
  {
   "cell_type": "code",
   "execution_count": 35,
   "metadata": {},
   "outputs": [
    {
     "name": "stderr",
     "output_type": "stream",
     "text": [
      "100%|██████████| 116431/116431 [00:34<00:00, 3362.12it/s]"
     ]
    },
    {
     "name": "stdout",
     "output_type": "stream",
     "text": [
      "CPU times: user 33.6 s, sys: 504 ms, total: 34.1 s\n",
      "Wall time: 34.7 s\n"
     ]
    },
    {
     "name": "stderr",
     "output_type": "stream",
     "text": [
      "\n"
     ]
    }
   ],
   "source": [
    "%%time\n",
    "not_obscene_data_cleaned = not_obscene_data_clean2(not_obscene_data, obscene_data)"
   ]
  },
  {
   "cell_type": "code",
   "execution_count": 36,
   "metadata": {},
   "outputs": [
    {
     "data": {
      "text/plain": [
       "['освятить',\n",
       " 'ординари',\n",
       " '>алл',\n",
       " 'берсеркёр',\n",
       " 'abyteofpython',\n",
       " 'дрессировка',\n",
       " 'вечерник',\n",
       " 'срочник-корзинка',\n",
       " 'соизмерение',\n",
       " 'скинул(']"
      ]
     },
     "execution_count": 36,
     "metadata": {},
     "output_type": "execute_result"
    }
   ],
   "source": [
    "not_obscene_data_cleaned[:10]"
   ]
  },
  {
   "cell_type": "code",
   "execution_count": 37,
   "metadata": {},
   "outputs": [
    {
     "data": {
      "text/plain": [
       "107768"
      ]
     },
     "execution_count": 37,
     "metadata": {},
     "output_type": "execute_result"
    }
   ],
   "source": [
    "len(not_obscene_data_cleaned)"
   ]
  },
  {
   "cell_type": "code",
   "execution_count": 38,
   "metadata": {},
   "outputs": [],
   "source": [
    "not_obscene_data_cleaned = [word.strip(punct) for word in not_obscene_data_cleaned]"
   ]
  },
  {
   "cell_type": "code",
   "execution_count": 39,
   "metadata": {},
   "outputs": [
    {
     "data": {
      "text/plain": [
       "['освятить',\n",
       " 'ординари',\n",
       " 'алл',\n",
       " 'берсеркёр',\n",
       " 'abyteofpython',\n",
       " 'дрессировка',\n",
       " 'вечерник',\n",
       " 'срочник-корзинка',\n",
       " 'соизмерение',\n",
       " 'скинул']"
      ]
     },
     "execution_count": 39,
     "metadata": {},
     "output_type": "execute_result"
    }
   ],
   "source": [
    "not_obscene_data_cleaned[:10]"
   ]
  },
  {
   "cell_type": "code",
   "execution_count": 43,
   "metadata": {
    "id": "KsnDfQ5m98DP"
   },
   "outputs": [
    {
     "name": "stderr",
     "output_type": "stream",
     "text": [
      "100%|██████████| 107768/107768 [00:00<00:00, 727772.92it/s]"
     ]
    },
    {
     "name": "stdout",
     "output_type": "stream",
     "text": [
      "CPU times: user 131 ms, sys: 15.3 ms, total: 146 ms\n",
      "Wall time: 153 ms\n"
     ]
    },
    {
     "name": "stderr",
     "output_type": "stream",
     "text": [
      "\n"
     ]
    }
   ],
   "source": [
    "%%time\n",
    "with open(not_obscene_preprocessed_data_path, \"w\") as not_obscene_preprocessed_file:\n",
    "    for word in tqdm(not_obscene_data_cleaned):\n",
    "        not_obscene_preprocessed_file.write(word + \"\\n\")"
   ]
  },
  {
   "cell_type": "code",
   "execution_count": 44,
   "metadata": {
    "id": "TmnBba0o98F8"
   },
   "outputs": [],
   "source": [
    "with open(not_obscene_preprocessed_data_path, \"r\") as not_obscene_data_file:\n",
    "    not_obscene_data = not_obscene_data_file.readlines()"
   ]
  },
  {
   "cell_type": "code",
   "execution_count": 45,
   "metadata": {
    "id": "JLh_jc-M98IC"
   },
   "outputs": [
    {
     "data": {
      "text/plain": [
       "['освятить\\n',\n",
       " 'ординари\\n',\n",
       " 'алл\\n',\n",
       " 'берсеркёр\\n',\n",
       " 'abyteofpython\\n',\n",
       " 'дрессировка\\n',\n",
       " 'вечерник\\n',\n",
       " 'срочник-корзинка\\n',\n",
       " 'соизмерение\\n',\n",
       " 'скинул\\n',\n",
       " 'бордокультура\\n',\n",
       " 'истоия\\n',\n",
       " 'варащивать\\n',\n",
       " 'пержа\\n',\n",
       " 'потрохов\\n',\n",
       " 'задизайнить\\n',\n",
       " 'посиделки\\n',\n",
       " 'minlen=8\\n',\n",
       " 'дворянин\\n',\n",
       " 'грузчикаэнджа\\n']"
      ]
     },
     "execution_count": 45,
     "metadata": {},
     "output_type": "execute_result"
    }
   ],
   "source": [
    "not_obscene_data[:20]"
   ]
  },
  {
   "cell_type": "code",
   "execution_count": null,
   "metadata": {
    "id": "jLCc2nIi98Kp"
   },
   "outputs": [],
   "source": []
  },
  {
   "cell_type": "code",
   "execution_count": null,
   "metadata": {
    "id": "lURM0ptW98NI"
   },
   "outputs": [],
   "source": []
  },
  {
   "cell_type": "code",
   "execution_count": null,
   "metadata": {
    "id": "E1omBbSW98PU"
   },
   "outputs": [],
   "source": []
  },
  {
   "cell_type": "code",
   "execution_count": null,
   "metadata": {
    "id": "FfjYU_Kq98R0"
   },
   "outputs": [],
   "source": []
  },
  {
   "cell_type": "code",
   "execution_count": null,
   "metadata": {
    "id": "EPbq7TpC98Ub"
   },
   "outputs": [],
   "source": []
  },
  {
   "cell_type": "code",
   "execution_count": null,
   "metadata": {
    "id": "fhg347UN98XI"
   },
   "outputs": [],
   "source": []
  },
  {
   "cell_type": "code",
   "execution_count": null,
   "metadata": {
    "id": "OJg2-n1z98Zi"
   },
   "outputs": [],
   "source": []
  },
  {
   "cell_type": "code",
   "execution_count": null,
   "metadata": {
    "id": "prpvK5TM98cG"
   },
   "outputs": [],
   "source": []
  },
  {
   "cell_type": "code",
   "execution_count": null,
   "metadata": {
    "id": "eekpeUPr98e_"
   },
   "outputs": [],
   "source": []
  }
 ],
 "metadata": {
  "colab": {
   "collapsed_sections": [],
   "name": "obscene_words_detection_functionality.ipynb",
   "provenance": []
  },
  "kernelspec": {
   "display_name": "Python 3",
   "language": "python",
   "name": "python3"
  },
  "language_info": {
   "codemirror_mode": {
    "name": "ipython",
    "version": 3
   },
   "file_extension": ".py",
   "mimetype": "text/x-python",
   "name": "python",
   "nbconvert_exporter": "python",
   "pygments_lexer": "ipython3",
   "version": "3.8.4"
  }
 },
 "nbformat": 4,
 "nbformat_minor": 1
}
