{
  "nbformat": 4,
  "nbformat_minor": 0,
  "metadata": {
    "colab": {
      "name": "ad_detection_data_preprocessing.ipynb",
      "provenance": [],
      "collapsed_sections": [],
      "mount_file_id": "1S-sRXR1ESoyZFa1EddmTTJg-8zuZ98QN",
      "authorship_tag": "ABX9TyMFrrn60fmHOzWVxs1oG+eh"
    },
    "kernelspec": {
      "name": "python3",
      "display_name": "Python 3"
    },
    "language_info": {
      "name": "python"
    }
  },
  "cells": [
    {
      "cell_type": "markdown",
      "metadata": {
        "id": "HrADere8UHx4"
      },
      "source": [
        "# Предобработка данных для функциональности определения рекламы и спама"
      ]
    },
    {
      "cell_type": "code",
      "metadata": {
        "colab": {
          "base_uri": "https://localhost:8080/"
        },
        "id": "snlyd4UVTxwy",
        "outputId": "50b16e2c-8071-4798-a7d6-387e06983dae"
      },
      "source": [
        "!unzip /content/drive/MyDrive/thesis_datasets/archive.zip"
      ],
      "execution_count": 2,
      "outputs": [
        {
          "output_type": "stream",
          "text": [
            "Archive:  /content/drive/MyDrive/thesis_datasets/archive.zip\n",
            "  inflating: contextAdvertising1.csv  \n"
          ],
          "name": "stdout"
        }
      ]
    },
    {
      "cell_type": "code",
      "metadata": {
        "id": "vZxs3cy3Tf9v"
      },
      "source": [
        "import pandas as pd"
      ],
      "execution_count": 1,
      "outputs": []
    },
    {
      "cell_type": "code",
      "metadata": {
        "id": "Swrqhw7kT4rE"
      },
      "source": [
        "data_path = \"/content/drive/MyDrive/thesis_datasets/contextAdvertising1.csv\"\n",
        "preprocessed_data_path = \"/content/drive/MyDrive/thesis_datasets/context_advertising_no_dups.csv\""
      ],
      "execution_count": 3,
      "outputs": []
    },
    {
      "cell_type": "code",
      "metadata": {
        "id": "8lxq4rmiT0PO"
      },
      "source": [
        "data = pd.read_csv(data_path)"
      ],
      "execution_count": 5,
      "outputs": []
    },
    {
      "cell_type": "code",
      "metadata": {
        "colab": {
          "base_uri": "https://localhost:8080/",
          "height": 771
        },
        "id": "yQjH5dUCUAnY",
        "outputId": "b95518fe-5ec8-4ce5-c70d-916b58d14ec7"
      },
      "source": [
        "data.head(20)"
      ],
      "execution_count": 13,
      "outputs": [
        {
          "output_type": "execute_result",
          "data": {
            "text/html": [
              "<div>\n",
              "<style scoped>\n",
              "    .dataframe tbody tr th:only-of-type {\n",
              "        vertical-align: middle;\n",
              "    }\n",
              "\n",
              "    .dataframe tbody tr th {\n",
              "        vertical-align: top;\n",
              "    }\n",
              "\n",
              "    .dataframe thead th {\n",
              "        text-align: right;\n",
              "    }\n",
              "</style>\n",
              "<table border=\"1\" class=\"dataframe\">\n",
              "  <thead>\n",
              "    <tr style=\"text-align: right;\">\n",
              "      <th></th>\n",
              "      <th>atitle</th>\n",
              "      <th>atext</th>\n",
              "      <th>adomain</th>\n",
              "    </tr>\n",
              "  </thead>\n",
              "  <tbody>\n",
              "    <tr>\n",
              "      <th>0</th>\n",
              "      <td>Клуб активного отдыха «0.67»</td>\n",
              "      <td>Детский пейнтбол. Спортивный пейнтбол. Тактиче...</td>\n",
              "      <td>0-67.relax.by</td>\n",
              "    </tr>\n",
              "    <tr>\n",
              "      <th>1</th>\n",
              "      <td>Антигравитационный чехол IPhone 5</td>\n",
              "      <td>Успейте купить антигравитационный чехол для IP...</td>\n",
              "      <td>0-antigravity.ru</td>\n",
              "    </tr>\n",
              "    <tr>\n",
              "      <th>2</th>\n",
              "      <td>Антигравитационный чехол купить!</td>\n",
              "      <td>Антигравитационный чехол для телефона купить з...</td>\n",
              "      <td>0-antigravity.ru</td>\n",
              "    </tr>\n",
              "    <tr>\n",
              "      <th>3</th>\n",
              "      <td>Беспроцентный заем от Moneyveo</td>\n",
              "      <td>Без справок! Получите до 3 000 грн. на карту п...</td>\n",
              "      <td>0-credit.moneyveo.ua</td>\n",
              "    </tr>\n",
              "    <tr>\n",
              "      <th>4</th>\n",
              "      <td>Беспроцентный заем сотруднику</td>\n",
              "      <td>Акция! Получите Кредит Онлайн под 0%. Без Спра...</td>\n",
              "      <td>0-credit.moneyveo.ua</td>\n",
              "    </tr>\n",
              "    <tr>\n",
              "      <th>5</th>\n",
              "      <td>Банк звонит и угрожает? Поможем!</td>\n",
              "      <td>Избавим от звонков из банка, спишем 100% долго...</td>\n",
              "      <td>0-dolgov.ru</td>\n",
              "    </tr>\n",
              "    <tr>\n",
              "      <th>6</th>\n",
              "      <td>Звонки из банка? Поможем!</td>\n",
              "      <td>Избавим от звонков из банка, спишем 100% долго...</td>\n",
              "      <td>0-dolgov.ru</td>\n",
              "    </tr>\n",
              "    <tr>\n",
              "      <th>7</th>\n",
              "      <td>Звонят из банка? Поможем!</td>\n",
              "      <td>Избавим от звонков из банка, спишем 100% долго...</td>\n",
              "      <td>0-dolgov.ru</td>\n",
              "    </tr>\n",
              "    <tr>\n",
              "      <th>8</th>\n",
              "      <td>Купи!Нано-чехол.Новинка.-50%Спеши</td>\n",
              "      <td>2в1:Защитный чехол и убойный крепеж для вашего...</td>\n",
              "      <td>0-gravity.aksessuara.ru</td>\n",
              "    </tr>\n",
              "    <tr>\n",
              "      <th>9</th>\n",
              "      <td>Нано-чехол!Закажи сейчас!-50%Жми!</td>\n",
              "      <td>2в1:Защитный чехол и убойный крепеж для вашего...</td>\n",
              "      <td>0-gravity.aksessuara.ru</td>\n",
              "    </tr>\n",
              "    <tr>\n",
              "      <th>10</th>\n",
              "      <td>Антигравитационный чехол купить</td>\n",
              "      <td>Антигравитационный чехол купить</td>\n",
              "      <td>0-gravity.bestrading.ru</td>\n",
              "    </tr>\n",
              "    <tr>\n",
              "      <th>11</th>\n",
              "      <td>Аnti Gravity Case</td>\n",
              "      <td>Аnti gravity case – уникальный Антигравитацион...</td>\n",
              "      <td>0-gravity.online-shop-2017.ru</td>\n",
              "    </tr>\n",
              "    <tr>\n",
              "      <th>12</th>\n",
              "      <td>Антигравитационный чехол</td>\n",
              "      <td>Антигравитационный чехол всего за 1590 руб! Ск...</td>\n",
              "      <td>0-gravity.online-shop-2017.ru</td>\n",
              "    </tr>\n",
              "    <tr>\n",
              "      <th>13</th>\n",
              "      <td>Необычный чехол на iphone!</td>\n",
              "      <td>Необычный чехол на iphone с антигравитационным...</td>\n",
              "      <td>0-gravity.online-shop-2017.ru</td>\n",
              "    </tr>\n",
              "    <tr>\n",
              "      <th>14</th>\n",
              "      <td>Необычный чехол на айфон!</td>\n",
              "      <td>Необычный чехол на айфон за 1590 руб! Антиграв...</td>\n",
              "      <td>0-gravity.online-shop-2017.ru</td>\n",
              "    </tr>\n",
              "    <tr>\n",
              "      <th>15</th>\n",
              "      <td>Купить антигравитационный чехол</td>\n",
              "      <td>для телефона! Антигравитационный чехол - новин...</td>\n",
              "      <td>0-gravity.ru</td>\n",
              "    </tr>\n",
              "    <tr>\n",
              "      <th>16</th>\n",
              "      <td>Купить антигравитационный чехол</td>\n",
              "      <td>для телефона! Антигравитационный чехол - новин...</td>\n",
              "      <td>0-gravity.ru</td>\n",
              "    </tr>\n",
              "    <tr>\n",
              "      <th>17</th>\n",
              "      <td>Антигравитационный чехол iPhone</td>\n",
              "      <td>Крепиться к любой поверхности! Горячая новинка...</td>\n",
              "      <td>0-gravity.smartgoods.online</td>\n",
              "    </tr>\n",
              "    <tr>\n",
              "      <th>18</th>\n",
              "      <td>Автоматизация автобизнеса</td>\n",
              "      <td>Автоматизация магазинов запчастей и автосервис...</td>\n",
              "      <td>0-range.com</td>\n",
              "    </tr>\n",
              "    <tr>\n",
              "      <th>19</th>\n",
              "      <td>Купить детские Ледянки</td>\n",
              "      <td>Огромный выбор!Доставка по Оренбургу. Низкие ц...</td>\n",
              "      <td>0-плюс.рф</td>\n",
              "    </tr>\n",
              "  </tbody>\n",
              "</table>\n",
              "</div>"
            ],
            "text/plain": [
              "                               atitle  ...                        adomain\n",
              "0        Клуб активного отдыха «0.67»  ...                  0-67.relax.by\n",
              "1   Антигравитационный чехол IPhone 5  ...               0-antigravity.ru\n",
              "2    Антигравитационный чехол купить!  ...               0-antigravity.ru\n",
              "3      Беспроцентный заем от Moneyveo  ...           0-credit.moneyveo.ua\n",
              "4       Беспроцентный заем сотруднику  ...           0-credit.moneyveo.ua\n",
              "5    Банк звонит и угрожает? Поможем!  ...                    0-dolgov.ru\n",
              "6           Звонки из банка? Поможем!  ...                    0-dolgov.ru\n",
              "7           Звонят из банка? Поможем!  ...                    0-dolgov.ru\n",
              "8   Купи!Нано-чехол.Новинка.-50%Спеши  ...        0-gravity.aksessuara.ru\n",
              "9   Нано-чехол!Закажи сейчас!-50%Жми!  ...        0-gravity.aksessuara.ru\n",
              "10    Антигравитационный чехол купить  ...        0-gravity.bestrading.ru\n",
              "11                  Аnti Gravity Case  ...  0-gravity.online-shop-2017.ru\n",
              "12           Антигравитационный чехол  ...  0-gravity.online-shop-2017.ru\n",
              "13         Необычный чехол на iphone!  ...  0-gravity.online-shop-2017.ru\n",
              "14          Необычный чехол на айфон!  ...  0-gravity.online-shop-2017.ru\n",
              "15    Купить антигравитационный чехол  ...                   0-gravity.ru\n",
              "16    Купить антигравитационный чехол  ...                   0-gravity.ru\n",
              "17    Антигравитационный чехол iPhone  ...    0-gravity.smartgoods.online\n",
              "18          Автоматизация автобизнеса  ...                    0-range.com\n",
              "19             Купить детские Ледянки  ...                      0-плюс.рф\n",
              "\n",
              "[20 rows x 3 columns]"
            ]
          },
          "metadata": {
            "tags": []
          },
          "execution_count": 13
        }
      ]
    },
    {
      "cell_type": "code",
      "metadata": {
        "colab": {
          "base_uri": "https://localhost:8080/"
        },
        "id": "1QFYgTPiUBuA",
        "outputId": "5a1d2c11-6582-492f-a5e3-d73a1caa5576"
      },
      "source": [
        "len(data)"
      ],
      "execution_count": 7,
      "outputs": [
        {
          "output_type": "execute_result",
          "data": {
            "text/plain": [
              "799999"
            ]
          },
          "metadata": {
            "tags": []
          },
          "execution_count": 7
        }
      ]
    },
    {
      "cell_type": "markdown",
      "metadata": {
        "id": "sHFg4X5JVI9Q"
      },
      "source": [
        "В данных есть полностью дублирующиеся тексты. Сократим данные и затраты на обучение, убрав дубликаты."
      ]
    },
    {
      "cell_type": "code",
      "metadata": {
        "id": "xbPnFOYCUR8z"
      },
      "source": [
        "data_no_dups = data.drop_duplicates(subset='atext', keep='first', inplace=False)"
      ],
      "execution_count": 8,
      "outputs": []
    },
    {
      "cell_type": "code",
      "metadata": {
        "colab": {
          "base_uri": "https://localhost:8080/"
        },
        "id": "-0HQBVYFUl9N",
        "outputId": "c12c7257-95de-4392-83d6-e79f8a31d389"
      },
      "source": [
        "len(data_no_dups)"
      ],
      "execution_count": 9,
      "outputs": [
        {
          "output_type": "execute_result",
          "data": {
            "text/plain": [
              "350007"
            ]
          },
          "metadata": {
            "tags": []
          },
          "execution_count": 9
        }
      ]
    },
    {
      "cell_type": "code",
      "metadata": {
        "colab": {
          "base_uri": "https://localhost:8080/",
          "height": 204
        },
        "id": "pwERI_5RU5lU",
        "outputId": "35714122-ea8e-4c42-d020-24fb23e86173"
      },
      "source": [
        "data_no_dups.head()"
      ],
      "execution_count": 11,
      "outputs": [
        {
          "output_type": "execute_result",
          "data": {
            "text/html": [
              "<div>\n",
              "<style scoped>\n",
              "    .dataframe tbody tr th:only-of-type {\n",
              "        vertical-align: middle;\n",
              "    }\n",
              "\n",
              "    .dataframe tbody tr th {\n",
              "        vertical-align: top;\n",
              "    }\n",
              "\n",
              "    .dataframe thead th {\n",
              "        text-align: right;\n",
              "    }\n",
              "</style>\n",
              "<table border=\"1\" class=\"dataframe\">\n",
              "  <thead>\n",
              "    <tr style=\"text-align: right;\">\n",
              "      <th></th>\n",
              "      <th>atitle</th>\n",
              "      <th>atext</th>\n",
              "      <th>adomain</th>\n",
              "    </tr>\n",
              "  </thead>\n",
              "  <tbody>\n",
              "    <tr>\n",
              "      <th>0</th>\n",
              "      <td>Клуб активного отдыха «0.67»</td>\n",
              "      <td>Детский пейнтбол. Спортивный пейнтбол. Тактиче...</td>\n",
              "      <td>0-67.relax.by</td>\n",
              "    </tr>\n",
              "    <tr>\n",
              "      <th>1</th>\n",
              "      <td>Антигравитационный чехол IPhone 5</td>\n",
              "      <td>Успейте купить антигравитационный чехол для IP...</td>\n",
              "      <td>0-antigravity.ru</td>\n",
              "    </tr>\n",
              "    <tr>\n",
              "      <th>2</th>\n",
              "      <td>Антигравитационный чехол купить!</td>\n",
              "      <td>Антигравитационный чехол для телефона купить з...</td>\n",
              "      <td>0-antigravity.ru</td>\n",
              "    </tr>\n",
              "    <tr>\n",
              "      <th>3</th>\n",
              "      <td>Беспроцентный заем от Moneyveo</td>\n",
              "      <td>Без справок! Получите до 3 000 грн. на карту п...</td>\n",
              "      <td>0-credit.moneyveo.ua</td>\n",
              "    </tr>\n",
              "    <tr>\n",
              "      <th>4</th>\n",
              "      <td>Беспроцентный заем сотруднику</td>\n",
              "      <td>Акция! Получите Кредит Онлайн под 0%. Без Спра...</td>\n",
              "      <td>0-credit.moneyveo.ua</td>\n",
              "    </tr>\n",
              "  </tbody>\n",
              "</table>\n",
              "</div>"
            ],
            "text/plain": [
              "                              atitle  ...               adomain\n",
              "0       Клуб активного отдыха «0.67»  ...         0-67.relax.by\n",
              "1  Антигравитационный чехол IPhone 5  ...      0-antigravity.ru\n",
              "2   Антигравитационный чехол купить!  ...      0-antigravity.ru\n",
              "3     Беспроцентный заем от Moneyveo  ...  0-credit.moneyveo.ua\n",
              "4      Беспроцентный заем сотруднику  ...  0-credit.moneyveo.ua\n",
              "\n",
              "[5 rows x 3 columns]"
            ]
          },
          "metadata": {
            "tags": []
          },
          "execution_count": 11
        }
      ]
    },
    {
      "cell_type": "code",
      "metadata": {
        "id": "EfRo_scdUmpN"
      },
      "source": [
        "data_no_dups.to_csv(preprocessed_data_path)"
      ],
      "execution_count": 10,
      "outputs": []
    }
  ]
}