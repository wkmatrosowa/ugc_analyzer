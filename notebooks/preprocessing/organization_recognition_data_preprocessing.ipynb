{
 "nbformat": 4,
 "nbformat_minor": 0,
 "metadata": {
  "kernelspec": {
   "display_name": "Python 3",
   "language": "python",
   "name": "python3"
  },
  "language_info": {
   "codemirror_mode": {
    "name": "ipython",
    "version": 3
   },
   "file_extension": ".py",
   "mimetype": "text/x-python",
   "name": "python",
   "nbconvert_exporter": "python",
   "pygments_lexer": "ipython3",
   "version": "3.8.4"
  },
  "colab": {
   "name": "organization_recognition_data_preprocessing.ipynb",
   "provenance": [],
   "collapsed_sections": []
  }
 },
 "cells": [
  {
   "cell_type": "markdown",
   "metadata": {
    "collapsed": true,
    "pycharm": {
     "name": "#%% md\n"
    },
    "id": "4KcsZ2BnNqMG"
   },
   "source": [
    "# Обработка данных для функциональности \"Определение упоминания организаций (брендов)\""
   ]
  },
  {
   "cell_type": "markdown",
   "metadata": {
    "id": "mV-6G_tEsLwe"
   },
   "source": [
    "Корпус: [Nerus](https://github.com/natasha/nerus)\n",
    "\n",
    "Формат: CoNLL (BIO)"
   ]
  },
  {
   "cell_type": "code",
   "metadata": {
    "id": "m9YMBmgmN2vl",
    "colab": {
     "base_uri": "https://localhost:8080/"
    },
    "outputId": "cd27d8b8-cb07-4110-c18d-7aa906aeb629"
   },
   "source": [
    "!pip install nerus"
   ],
   "execution_count": 4,
   "outputs": [
    {
     "output_type": "stream",
     "text": [
      "Requirement already satisfied: corus in /usr/local/lib/python3.7/dist-packages (0.7.0)\n",
      "Collecting nerus\n",
      "  Downloading https://files.pythonhosted.org/packages/ef/d7/a9f3efd13d714340fcbf3e35d0167d4d17a522438080558e537793121942/nerus-1.7.0-py3-none-any.whl\n",
      "Installing collected packages: nerus\n",
      "Successfully installed nerus-1.7.0\n"
     ],
     "name": "stdout"
    }
   ]
  },
  {
   "cell_type": "code",
   "metadata": {
    "pycharm": {
     "name": "#%%\n"
    },
    "id": "K1Tl13W5NqMJ"
   },
   "source": [
    "from nerus import load_nerus"
   ],
   "execution_count": 10,
   "outputs": []
  },
  {
   "cell_type": "code",
   "metadata": {
    "pycharm": {
     "name": "#%%\n"
    },
    "id": "jWtafbc4NqMK"
   },
   "source": [
    "NERUS = '/content/drive/MyDrive/thesis_datasets/nerus_lenta.conllu.gz'\n",
    "SENTENCES_PATH = '/content/drive/MyDrive/thesis_datasets/ner_sentences.txt'\n",
    "TAGS_PATH = '/content/drive/MyDrive/thesis_datasets/ner_tags.txt'"
   ],
   "execution_count": 99,
   "outputs": []
  },
  {
   "cell_type": "code",
   "metadata": {
    "pycharm": {
     "name": "#%%\n"
    },
    "id": "a9eZ6vkHNqML"
   },
   "source": [
    "docs = load_nerus(NERUS)"
   ],
   "execution_count": 86,
   "outputs": []
  },
  {
   "cell_type": "markdown",
   "metadata": {
    "id": "-ayKB2zqsr_v"
   },
   "source": [
    "Для первой версии библиотеки ограничим число документов, на которых будет обучаться NER-модель, до 10000. В дальнейшем можно будет увеличить число документов и обучить модель на бОльшей коллекции."
   ]
  },
  {
   "cell_type": "code",
   "metadata": {
    "colab": {
     "base_uri": "https://localhost:8080/"
    },
    "id": "CCG1i21fctow",
    "outputId": "a5c0492a-8a6e-4392-9c9e-4c1aee031d25"
   },
   "source": [
    "%%time\n",
    "count_sents = 0\n",
    "count_tokens = 0\n",
    "\n",
    "for _ in range(10000):\n",
    "    doc = next(docs)\n",
    "    for sent in doc.sents:\n",
    "        count_sents+=1\n",
    "        for token in sent.tokens:\n",
    "            count_tokens+=1"
   ],
   "execution_count": 82,
   "outputs": [
    {
     "output_type": "stream",
     "text": [
      "CPU times: user 16.2 s, sys: 34 ms, total: 16.2 s\n",
      "Wall time: 16.2 s\n"
     ],
     "name": "stdout"
    }
   ]
  },
  {
   "cell_type": "code",
   "metadata": {
    "colab": {
     "base_uri": "https://localhost:8080/"
    },
    "id": "y4iTdUa7fM2m",
    "outputId": "009ff04a-3912-4d82-9aa2-5eb5b9f877ef"
   },
   "source": [
    "count_sents, count_tokens"
   ],
   "execution_count": 84,
   "outputs": [
    {
     "output_type": "execute_result",
     "data": {
      "text/plain": [
       "(119265, 2158824)"
      ]
     },
     "metadata": {
      "tags": []
     },
     "execution_count": 84
    }
   ]
  },
  {
   "cell_type": "code",
   "metadata": {
    "colab": {
     "base_uri": "https://localhost:8080/",
     "height": 35
    },
    "id": "7YHLXmlNZLeU",
    "outputId": "acd2da9b-3b90-4139-f2e0-7c060171b256"
   },
   "source": [
    "# доступ к одному токену одного предложения\n",
    "doc.sents[0].tokens[0].text"
   ],
   "execution_count": 56,
   "outputs": [
    {
     "output_type": "execute_result",
     "data": {
      "application/vnd.google.colaboratory.intrinsic+json": {
       "type": "string"
      },
      "text/plain": [
       "'Хакерская'"
      ]
     },
     "metadata": {
      "tags": []
     },
     "execution_count": 56
    }
   ]
  },
  {
   "cell_type": "code",
   "metadata": {
    "colab": {
     "base_uri": "https://localhost:8080/",
     "height": 35
    },
    "id": "zYIRH6vTZkbO",
    "outputId": "0d1f3860-4afa-4318-c62f-dbc041f1a758"
   },
   "source": [
    "# доступ к одному тегу одного токена одного предложения\n",
    "doc.sents[0].tokens[0].tag"
   ],
   "execution_count": 57,
   "outputs": [
    {
     "output_type": "execute_result",
     "data": {
      "application/vnd.google.colaboratory.intrinsic+json": {
       "type": "string"
      },
      "text/plain": [
       "'O'"
      ]
     },
     "metadata": {
      "tags": []
     },
     "execution_count": 57
    }
   ]
  },
  {
   "cell_type": "markdown",
   "metadata": {
    "id": "VodhaoE0wEsL"
   },
   "source": [
    "Составим списки всех предложений и последовательностей тегов и запишем их в отдельные файлы, которые понадобятся для обучения NER-модели"
   ]
  },
  {
   "cell_type": "code",
   "metadata": {
    "colab": {
     "base_uri": "https://localhost:8080/"
    },
    "id": "DHr09H7hbS49",
    "outputId": "87e708f5-e4bd-4bc8-eec4-cf9dc9b9c305"
   },
   "source": [
    "%%time\n",
    "sentences = []\n",
    "tags = []\n",
    "\n",
    "for _ in range(10000):\n",
    "    doc = next(docs)\n",
    "    for sent in doc.sents:\n",
    "        sentence = []\n",
    "        tags_for_sentence = []\n",
    "        for token in sent.tokens:\n",
    "            sentence.append(token.text)\n",
    "            tags_for_sentence.append(token.tag)\n",
    "        sentences.append(sentence)\n",
    "        tags.append(tags_for_sentence)"
   ],
   "execution_count": 87,
   "outputs": [
    {
     "output_type": "stream",
     "text": [
      "CPU times: user 17.7 s, sys: 408 ms, total: 18.1 s\n",
      "Wall time: 18.2 s\n"
     ],
     "name": "stdout"
    }
   ]
  },
  {
   "cell_type": "code",
   "metadata": {
    "colab": {
     "base_uri": "https://localhost:8080/"
    },
    "id": "ICWotKZldOBd",
    "outputId": "6d0404bf-e339-49d3-e576-d07d6b72d62e"
   },
   "source": [
    "len(sentences), len(tags)"
   ],
   "execution_count": 88,
   "outputs": [
    {
     "output_type": "execute_result",
     "data": {
      "text/plain": [
       "(119265, 119265)"
      ]
     },
     "metadata": {
      "tags": []
     },
     "execution_count": 88
    }
   ]
  },
  {
   "cell_type": "code",
   "metadata": {
    "colab": {
     "base_uri": "https://localhost:8080/"
    },
    "id": "VgBEbYl5lRFd",
    "outputId": "d95ccb49-14a5-4633-b173-7f13d9cbb604"
   },
   "source": [
    "for word, tag in zip(sentences[0], tags[0]):\n",
    "    print((word, tag))"
   ],
   "execution_count": 98,
   "outputs": [
    {
     "output_type": "stream",
     "text": [
      "('Вице-премьер', 'O')\n",
      "('по', 'O')\n",
      "('социальным', 'O')\n",
      "('вопросам', 'O')\n",
      "('Татьяна', 'B-PER')\n",
      "('Голикова', 'I-PER')\n",
      "('рассказала', 'O')\n",
      "(',', 'O')\n",
      "('в', 'O')\n",
      "('каких', 'O')\n",
      "('регионах', 'O')\n",
      "('России', 'B-LOC')\n",
      "('зафиксирована', 'O')\n",
      "('наиболее', 'O')\n",
      "('высокая', 'O')\n",
      "('смертность', 'O')\n",
      "('от', 'O')\n",
      "('рака', 'O')\n",
      "(',', 'O')\n",
      "('сообщает', 'O')\n",
      "('РИА', 'B-ORG')\n",
      "('Новости', 'I-ORG')\n",
      "('.', 'O')\n"
     ],
     "name": "stdout"
    }
   ]
  },
  {
   "cell_type": "markdown",
   "metadata": {
    "id": "K6wEF7dvwRSt"
   },
   "source": [
    "Для первой версии нужно оставить только теги организаций, поскольку библиотека должна будет распознавать только названия организаций и брендов."
   ]
  },
  {
   "cell_type": "code",
   "metadata": {
    "id": "bt78c0IVtGV7"
   },
   "source": [
    "cleaned_sentences = []\n",
    "cleaned_tags = []\n",
    "\n",
    "for sentence, tag_sequence in zip(sentences, tags):\n",
    "    cleaned_sentence = []\n",
    "    cleaned_tag = []\n",
    "    for word, tag in zip(sentence, tag_sequence):\n",
    "        if tag != 'B-ORG' and tag != 'I-ORG' and tag != 'O':\n",
    "            tag = 'O'\n",
    "        else:\n",
    "            tag = tag\n",
    "        cleaned_sentence.append(word)\n",
    "        cleaned_tag.append(tag)\n",
    "    cleaned_sentences.append(cleaned_sentence)\n",
    "    cleaned_tags.append(cleaned_tag)"
   ],
   "execution_count": 105,
   "outputs": []
  },
  {
   "cell_type": "code",
   "metadata": {
    "colab": {
     "base_uri": "https://localhost:8080/"
    },
    "id": "JlEM85yztF6D",
    "outputId": "abf7564b-11c8-4c6a-f9f9-67df26068bd3"
   },
   "source": [
    "for word, tag in zip(cleaned_sentences[0], cleaned_tags[0]):\n",
    "    print((word, tag))"
   ],
   "execution_count": 106,
   "outputs": [
    {
     "output_type": "stream",
     "text": [
      "('Вице-премьер', 'O')\n",
      "('по', 'O')\n",
      "('социальным', 'O')\n",
      "('вопросам', 'O')\n",
      "('Татьяна', 'O')\n",
      "('Голикова', 'O')\n",
      "('рассказала', 'O')\n",
      "(',', 'O')\n",
      "('в', 'O')\n",
      "('каких', 'O')\n",
      "('регионах', 'O')\n",
      "('России', 'O')\n",
      "('зафиксирована', 'O')\n",
      "('наиболее', 'O')\n",
      "('высокая', 'O')\n",
      "('смертность', 'O')\n",
      "('от', 'O')\n",
      "('рака', 'O')\n",
      "(',', 'O')\n",
      "('сообщает', 'O')\n",
      "('РИА', 'B-ORG')\n",
      "('Новости', 'I-ORG')\n",
      "('.', 'O')\n"
     ],
     "name": "stdout"
    }
   ]
  },
  {
   "cell_type": "code",
   "metadata": {
    "id": "hieo2oCXpkud"
   },
   "source": [
    "with open(SENTENCES_PATH, \"w\") as sentfile:\n",
    "    for sentence in cleaned_sentences:\n",
    "        for token in sentence:\n",
    "            sentfile.write(token + \"\\n\")\n",
    "        sentfile.write(\"\\n\" + \"---------------\" + \"\\n\")\n",
    "\n",
    "\n",
    "with open(TAGS_PATH, \"w\") as tagfile:\n",
    "    for tag_sequence in cleaned_tags:\n",
    "        for token in tag_sequence:\n",
    "            tagfile.write(token + \"\\n\")\n",
    "        tagfile.write(\"\\n\" + \"---------------\" + \"\\n\")"
   ],
   "execution_count": 108,
   "outputs": []
  },
  {
   "cell_type": "code",
   "metadata": {
    "id": "ChyNPJppvEJM"
   },
   "source": [
    "with open(SENTENCES_PATH, \"r\") as sentfile:\n",
    "    sentences = sentfile.read().split(\"---------------\")\n",
    "\n",
    "with open(TAGS_PATH, \"r\") as tagfile:\n",
    "    tags = tagfile.read().split(\"---------------\")"
   ],
   "execution_count": 109,
   "outputs": []
  },
  {
   "cell_type": "code",
   "metadata": {
    "id": "LaHt46UmvHIE"
   },
   "source": [
    "sentences = [sent.split() for sent in sentences]\n",
    "tags = [tag.split() for tag in tags]"
   ],
   "execution_count": null,
   "outputs": []
  },
  {
   "cell_type": "code",
   "metadata": {
    "colab": {
     "base_uri": "https://localhost:8080/"
    },
    "id": "Iq1chJdfvWID",
    "outputId": "79093433-a189-4944-f074-afed7cd9f117"
   },
   "source": [
    "for word, tag in zip(sentences[0], tags[0]):\n",
    "    print((word, tag))"
   ],
   "execution_count": 115,
   "outputs": [
    {
     "output_type": "stream",
     "text": [
      "('Вице-премьер', 'O')\n",
      "('по', 'O')\n",
      "('социальным', 'O')\n",
      "('вопросам', 'O')\n",
      "('Татьяна', 'O')\n",
      "('Голикова', 'O')\n",
      "('рассказала', 'O')\n",
      "(',', 'O')\n",
      "('в', 'O')\n",
      "('каких', 'O')\n",
      "('регионах', 'O')\n",
      "('России', 'O')\n",
      "('зафиксирована', 'O')\n",
      "('наиболее', 'O')\n",
      "('высокая', 'O')\n",
      "('смертность', 'O')\n",
      "('от', 'O')\n",
      "('рака', 'O')\n",
      "(',', 'O')\n",
      "('сообщает', 'O')\n",
      "('РИА', 'B-ORG')\n",
      "('Новости', 'I-ORG')\n",
      "('.', 'O')\n"
     ],
     "name": "stdout"
    }
   ]
  }
 ]
}