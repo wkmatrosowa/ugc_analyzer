{
 "nbformat": 4,
 "nbformat_minor": 0,
 "metadata": {
  "colab": {
   "name": "obscene_words_detection_functionality.ipynb",
   "provenance": [],
   "collapsed_sections": [],
   "toc_visible": true,
   "mount_file_id": "1UyWsz7iAu1_YcjjLBjljvBzOOiBs-O8d",
   "authorship_tag": "ABX9TyN6XsIsVByL2SfSmpGDL2TL"
  },
  "kernelspec": {
   "name": "python3",
   "display_name": "Python 3"
  }
 },
 "cells": [
  {
   "cell_type": "markdown",
   "metadata": {
    "id": "UOY5CZgZ_zqd"
   },
   "source": [
    "# Определение обсценной лексики"
   ]
  },
  {
   "cell_type": "markdown",
   "metadata": {
    "id": "1kSDlBchABJr"
   },
   "source": [
    "## Загрузки и импорты"
   ]
  },
  {
   "cell_type": "code",
   "metadata": {
    "id": "5b4R7mcScmYv"
   },
   "source": [
    "# install Anaconda3\n",
    "!wget -qO ac.sh https://repo.anaconda.com/archive/Anaconda3-2020.07-Linux-x86_64.sh \n",
    "!bash ./ac.sh -b\n",
    "\n",
    "# a fake google.colab library\n",
    "!ln -s /usr/local/lib/python3.6/dist-packages/google \\\n",
    "       /root/anaconda3/lib/python3.8/site-packages/google\n",
    "\n",
    "# start jupyterlab, which now has Python3 = 3.8\n",
    "!nohup /root/anaconda3/bin/jupyter-lab --ip=0.0.0.0&\n",
    "\n",
    "# access through ngrok, click the link\n",
    "!pip install pyngrok -q\n",
    "from pyngrok import ngrok\n",
    "print(ngrok.connect(8888))"
   ],
   "execution_count": null,
   "outputs": []
  },
  {
   "cell_type": "markdown",
   "metadata": {
    "id": "g6jbwRJKAjaa"
   },
   "source": [
    "### Библиотеки"
   ]
  },
  {
   "cell_type": "code",
   "metadata": {
    "colab": {
     "base_uri": "https://localhost:8080/"
    },
    "id": "dXgJq1gB9721",
    "outputId": "3918ce8b-20ec-478e-8118-551734a02f1e"
   },
   "source": [
    "!pip install --upgrade gensim"
   ],
   "execution_count": null,
   "outputs": [
    {
     "output_type": "stream",
     "text": [
      "Requirement already up-to-date: gensim in /usr/local/lib/python3.7/dist-packages (3.8.3)\n",
      "Requirement already satisfied, skipping upgrade: numpy>=1.11.3 in /usr/local/lib/python3.7/dist-packages (from gensim) (1.19.5)\n",
      "Requirement already satisfied, skipping upgrade: smart-open>=1.8.1 in /usr/local/lib/python3.7/dist-packages (from gensim) (4.2.0)\n",
      "Requirement already satisfied, skipping upgrade: scipy>=0.18.1 in /usr/local/lib/python3.7/dist-packages (from gensim) (1.4.1)\n",
      "Requirement already satisfied, skipping upgrade: six>=1.5.0 in /usr/local/lib/python3.7/dist-packages (from gensim) (1.15.0)\n"
     ],
     "name": "stdout"
    }
   ]
  },
  {
   "cell_type": "code",
   "metadata": {
    "colab": {
     "base_uri": "https://localhost:8080/"
    },
    "id": "ZXpG1H4z-G_2",
    "outputId": "b4072808-974d-4968-9208-25c0f2b16bfe"
   },
   "source": [
    "!pip install pymorphy2==0.9.1"
   ],
   "execution_count": null,
   "outputs": [
    {
     "output_type": "stream",
     "text": [
      "Requirement already satisfied: pymorphy2==0.9.1 in /usr/local/lib/python3.7/dist-packages (0.9.1)\n",
      "Requirement already satisfied: docopt>=0.6 in /usr/local/lib/python3.7/dist-packages (from pymorphy2==0.9.1) (0.6.2)\n",
      "Requirement already satisfied: dawg-python>=0.7.1 in /usr/local/lib/python3.7/dist-packages (from pymorphy2==0.9.1) (0.7.2)\n",
      "Requirement already satisfied: pymorphy2-dicts-ru<3.0,>=2.4 in /usr/local/lib/python3.7/dist-packages (from pymorphy2==0.9.1) (2.4.417127.4579844)\n"
     ],
     "name": "stdout"
    }
   ]
  },
  {
   "cell_type": "markdown",
   "metadata": {
    "id": "23TkxHNlAGl6"
   },
   "source": [
    "### Загрузка предобученной векторной модели FastText Araneum Russicum"
   ]
  },
  {
   "cell_type": "code",
   "metadata": {
    "id": "PHCZMBhj90YN",
    "colab": {
     "base_uri": "https://localhost:8080/"
    },
    "outputId": "c780ec02-5671-4949-a2d1-a70abc70c277"
   },
   "source": [
    "!wget https://rusvectores.org/static/models/rusvectores4/fasttext/araneum_none_fasttextcbow_300_5_2018.tgz"
   ],
   "execution_count": null,
   "outputs": [
    {
     "output_type": "stream",
     "text": [
      "--2021-03-02 11:11:57--  https://rusvectores.org/static/models/rusvectores4/fasttext/araneum_none_fasttextcbow_300_5_2018.tgz\n",
      "Resolving rusvectores.org (rusvectores.org)... 116.203.104.23\n",
      "Connecting to rusvectores.org (rusvectores.org)|116.203.104.23|:443... connected.\n",
      "HTTP request sent, awaiting response... 200 OK\n",
      "Length: 2691248108 (2.5G) [application/x-gzip]\n",
      "Saving to: ‘araneum_none_fasttextcbow_300_5_2018.tgz’\n",
      "\n",
      "araneum_none_fastte 100%[===================>]   2.51G  28.1MB/s    in 94s     \n",
      "\n",
      "2021-03-02 11:13:32 (27.2 MB/s) - ‘araneum_none_fasttextcbow_300_5_2018.tgz’ saved [2691248108/2691248108]\n",
      "\n"
     ],
     "name": "stdout"
    }
   ]
  },
  {
   "cell_type": "markdown",
   "metadata": {
    "id": "tfuyBkQNAp2I"
   },
   "source": [
    "### Импорты"
   ]
  },
  {
   "cell_type": "code",
   "metadata": {
    "colab": {
     "base_uri": "https://localhost:8080/"
    },
    "id": "Z7QkAynp978D",
    "outputId": "fd322fe9-5fe3-4092-fea1-7ff6758a0199"
   },
   "source": [
    "import tarfile\n",
    "import gensim\n",
    "import pandas as pd\n",
    "import numpy as np\n",
    "import nltk\n",
    "nltk.download('punkt')\n",
    "\n",
    "from nltk.tokenize import word_tokenize\n",
    "from sklearn.metrics import f1_score, classification_report\n",
    "from sklearn.linear_model import LogisticRegression\n",
    "from sklearn.model_selection import KFold, StratifiedKFold, RepeatedStratifiedKFold, GridSearchCV, train_test_split\n",
    "from pymorphy2 import MorphAnalyzer\n",
    "from tqdm import tqdm\n",
    "from string import punctuation\n",
    "\n",
    "tokenizer = nltk.tokenize.WhitespaceTokenizer()\n",
    "morph = MorphAnalyzer()\n",
    "punct = punctuation+'«»—…“”*№–'"
   ],
   "execution_count": null,
   "outputs": [
    {
     "output_type": "stream",
     "text": [
      "[nltk_data] Downloading package punkt to /root/nltk_data...\n",
      "[nltk_data]   Package punkt is already up-to-date!\n"
     ],
     "name": "stdout"
    }
   ]
  },
  {
   "cell_type": "code",
   "metadata": {
    "id": "csvNSmpf-sc0"
   },
   "source": [
    "vector_archive_path = \"/content/araneum_none_fasttextcbow_300_5_2018.tgz\"\n",
    "vector_model_path = \"/content/araneum_none_fasttextcbow_300_5_2018.model\"\n",
    "model_path = \"/content/drive/MyDrive/thesis_datasets/obscene_detection.model\"\n",
    "obscene_data_path = \"/content/drive/MyDrive/thesis_datasets/obscene_preprocessed_corpus.txt\"\n",
    "not_obscene_data_path = \"/content/drive/MyDrive/thesis_datasets/2ch_corpus_preprocessed.txt\"\n",
    "corpus_path = \"/content/drive/MyDrive/thesis_datasets/obscene_data.csv\""
   ],
   "execution_count": null,
   "outputs": []
  },
  {
   "cell_type": "code",
   "metadata": {
    "id": "EW5KqB4pAnMb"
   },
   "source": [
    "fasttext_file = tarfile.open(vector_archive_path, \"r\")\n",
    "fasttext_file.extractall()"
   ],
   "execution_count": null,
   "outputs": []
  },
  {
   "cell_type": "markdown",
   "metadata": {
    "id": "2GE_WhgQ0dJH"
   },
   "source": [
    "## Подготовка корпуса слов для обучения"
   ]
  },
  {
   "cell_type": "code",
   "metadata": {
    "id": "T8mfqrNw97-Y"
   },
   "source": [
    "with open(obscene_data_path, \"r\") as obscene_data_file:\n",
    "  obscene_data = obscene_data_file.readlines()"
   ],
   "execution_count": null,
   "outputs": []
  },
  {
   "cell_type": "code",
   "metadata": {
    "colab": {
     "base_uri": "https://localhost:8080/"
    },
    "id": "QC8Zn6FC_Cwa",
    "outputId": "b6cdbd52-1c7d-440c-fa7a-0d5b62166eb9"
   },
   "source": [
    "obscene_data[:20]"
   ],
   "execution_count": null,
   "outputs": [
    {
     "output_type": "execute_result",
     "data": {
      "text/plain": [
       "['6ля\\n',\n",
       " '6ляд\\n',\n",
       " 'fuck\\n',\n",
       " 'pizd\\n',\n",
       " 'pizda\\n',\n",
       " 'pizdah\\n',\n",
       " 'pizdakh\\n',\n",
       " 'pizdam\\n',\n",
       " 'pizdami\\n',\n",
       " 'pizdax\\n',\n",
       " 'pizde\\n',\n",
       " 'pizdoi\\n',\n",
       " 'pizdoj\\n',\n",
       " 'pizdoy\\n',\n",
       " 'pizdu\\n',\n",
       " 'pizdy\\n',\n",
       " 'scheise\\n',\n",
       " 'scheisse\\n',\n",
       " 'shit\\n',\n",
       " 'suck\\n']"
      ]
     },
     "metadata": {
      "tags": []
     },
     "execution_count": 45
    }
   ]
  },
  {
   "cell_type": "code",
   "metadata": {
    "colab": {
     "base_uri": "https://localhost:8080/"
    },
    "id": "PPiDl9iKTkAD",
    "outputId": "a0a0d043-85fc-4d8e-ab57-c3832a1c1bab"
   },
   "source": [
    "len(obscene_data)"
   ],
   "execution_count": null,
   "outputs": [
    {
     "output_type": "execute_result",
     "data": {
      "text/plain": [
       "9832"
      ]
     },
     "metadata": {
      "tags": []
     },
     "execution_count": 46
    }
   ]
  },
  {
   "cell_type": "code",
   "metadata": {
    "id": "BOjKc3j9SjtP"
   },
   "source": [
    "with open(not_obscene_data_path, \"r\") as not_obscene_data_file:\n",
    "  not_obscene_data = not_obscene_data_file.readlines()"
   ],
   "execution_count": null,
   "outputs": []
  },
  {
   "cell_type": "code",
   "metadata": {
    "colab": {
     "base_uri": "https://localhost:8080/"
    },
    "id": "6XvBFTHHTKp-",
    "outputId": "f342998a-d795-43a5-9747-ef73aac85b7b"
   },
   "source": [
    "not_obscene_data[:20]"
   ],
   "execution_count": null,
   "outputs": [
    {
     "output_type": "execute_result",
     "data": {
      "text/plain": [
       "['приближённый\\n',\n",
       " 'хаскеле-то\\n',\n",
       " 'лье\\n',\n",
       " 'плейофф\\n',\n",
       " 'привязывать\\n',\n",
       " 'атб\\n',\n",
       " '3128\\n',\n",
       " 'комуфляж\\n',\n",
       " 'голова-туловище\\n',\n",
       " 'чикаго-кун\\n',\n",
       " 'уберняша\\n',\n",
       " 'редактироваться\\n',\n",
       " 'погаснуть\\n',\n",
       " 'ньюфажига\\n',\n",
       " 'лолмимо\\n',\n",
       " 'aodv\\n',\n",
       " 'efkz@yandex\\n',\n",
       " '60кт\\n',\n",
       " 'military\\n',\n",
       " 'многопользовательский\\n']"
      ]
     },
     "metadata": {
      "tags": []
     },
     "execution_count": 48
    }
   ]
  },
  {
   "cell_type": "code",
   "metadata": {
    "colab": {
     "base_uri": "https://localhost:8080/"
    },
    "id": "caJYD-iATfjt",
    "outputId": "f977498d-4060-4df5-fa86-b95ae5c3a3e4"
   },
   "source": [
    "len(not_obscene_data)"
   ],
   "execution_count": null,
   "outputs": [
    {
     "output_type": "execute_result",
     "data": {
      "text/plain": [
       "114660"
      ]
     },
     "metadata": {
      "tags": []
     },
     "execution_count": 49
    }
   ]
  },
  {
   "cell_type": "code",
   "metadata": {
    "id": "Q4z4G3nd98A_"
   },
   "source": [
    "def corpus_preprocess(words: list) -> list:\n",
    "    \n",
    "    words = [word.strip('\\n').strip(punct) for word in words]\n",
    "\n",
    "    return words"
   ],
   "execution_count": null,
   "outputs": []
  },
  {
   "cell_type": "code",
   "metadata": {
    "colab": {
     "base_uri": "https://localhost:8080/"
    },
    "id": "vy9zRKMsWufa",
    "outputId": "5f59af8f-b183-44fe-c1c7-71ba3dd821c3"
   },
   "source": [
    "obscene_data = corpus_preprocess(obscene_data)\n",
    "obscene_data[:10]"
   ],
   "execution_count": null,
   "outputs": [
    {
     "output_type": "execute_result",
     "data": {
      "text/plain": [
       "['6ля',\n",
       " '6ляд',\n",
       " 'fuck',\n",
       " 'pizd',\n",
       " 'pizda',\n",
       " 'pizdah',\n",
       " 'pizdakh',\n",
       " 'pizdam',\n",
       " 'pizdami',\n",
       " 'pizdax']"
      ]
     },
     "metadata": {
      "tags": []
     },
     "execution_count": 51
    }
   ]
  },
  {
   "cell_type": "code",
   "metadata": {
    "id": "TmnBba0o98F8",
    "colab": {
     "base_uri": "https://localhost:8080/"
    },
    "outputId": "608da020-1227-4fe7-d5de-4d6860e43803"
   },
   "source": [
    "not_obscene_data = corpus_preprocess(not_obscene_data)\n",
    "not_obscene_data[:10]"
   ],
   "execution_count": null,
   "outputs": [
    {
     "output_type": "execute_result",
     "data": {
      "text/plain": [
       "['приближённый',\n",
       " 'хаскеле-то',\n",
       " 'лье',\n",
       " 'плейофф',\n",
       " 'привязывать',\n",
       " 'атб',\n",
       " '3128',\n",
       " 'комуфляж',\n",
       " 'голова-туловище',\n",
       " 'чикаго-кун']"
      ]
     },
     "metadata": {
      "tags": []
     },
     "execution_count": 52
    }
   ]
  },
  {
   "cell_type": "code",
   "metadata": {
    "id": "jLCc2nIi98Kp"
   },
   "source": [
    "obscene_data = list(set(obscene_data))\n",
    "not_obscene_data = list(set(not_obscene_data))"
   ],
   "execution_count": null,
   "outputs": []
  },
  {
   "cell_type": "code",
   "metadata": {
    "id": "lURM0ptW98NI"
   },
   "source": [
    "obscene_df = pd.DataFrame(data = obscene_data, columns = ['words'])\n",
    "not_obscene_df = pd.DataFrame(data = not_obscene_data, columns = ['words'])"
   ],
   "execution_count": null,
   "outputs": []
  },
  {
   "cell_type": "code",
   "metadata": {
    "id": "E1omBbSW98PU"
   },
   "source": [
    "obscene_df['labels'] = [1 for _ in range(len(obscene_df))]\n",
    "not_obscene_df['labels'] = [0 for _ in range(len(not_obscene_df))]"
   ],
   "execution_count": null,
   "outputs": []
  },
  {
   "cell_type": "code",
   "metadata": {
    "colab": {
     "base_uri": "https://localhost:8080/",
     "height": 204
    },
    "id": "es75djwj3GMN",
    "outputId": "880579f5-2817-4bb4-c453-31f730767677"
   },
   "source": [
    "obscene_df.head()"
   ],
   "execution_count": null,
   "outputs": [
    {
     "output_type": "execute_result",
     "data": {
      "text/html": [
       "<div>\n",
       "<style scoped>\n",
       "    .dataframe tbody tr th:only-of-type {\n",
       "        vertical-align: middle;\n",
       "    }\n",
       "\n",
       "    .dataframe tbody tr th {\n",
       "        vertical-align: top;\n",
       "    }\n",
       "\n",
       "    .dataframe thead th {\n",
       "        text-align: right;\n",
       "    }\n",
       "</style>\n",
       "<table border=\"1\" class=\"dataframe\">\n",
       "  <thead>\n",
       "    <tr style=\"text-align: right;\">\n",
       "      <th></th>\n",
       "      <th>words</th>\n",
       "      <th>labels</th>\n",
       "    </tr>\n",
       "  </thead>\n",
       "  <tbody>\n",
       "    <tr>\n",
       "      <th>0</th>\n",
       "      <td>закакиваться</td>\n",
       "      <td>1</td>\n",
       "    </tr>\n",
       "    <tr>\n",
       "      <th>1</th>\n",
       "      <td>переебавший</td>\n",
       "      <td>1</td>\n",
       "    </tr>\n",
       "    <tr>\n",
       "      <th>2</th>\n",
       "      <td>объебались</td>\n",
       "      <td>1</td>\n",
       "    </tr>\n",
       "    <tr>\n",
       "      <th>3</th>\n",
       "      <td>охобачивать</td>\n",
       "      <td>1</td>\n",
       "    </tr>\n",
       "    <tr>\n",
       "      <th>4</th>\n",
       "      <td>умандовать</td>\n",
       "      <td>1</td>\n",
       "    </tr>\n",
       "  </tbody>\n",
       "</table>\n",
       "</div>"
      ],
      "text/plain": [
       "          words  labels\n",
       "0  закакиваться       1\n",
       "1   переебавший       1\n",
       "2    объебались       1\n",
       "3   охобачивать       1\n",
       "4    умандовать       1"
      ]
     },
     "metadata": {
      "tags": []
     },
     "execution_count": 57
    }
   ]
  },
  {
   "cell_type": "code",
   "metadata": {
    "colab": {
     "base_uri": "https://localhost:8080/",
     "height": 204
    },
    "id": "DTJTbb7v3J4G",
    "outputId": "da0e5b9f-2be3-46c0-c581-f90d632852fb"
   },
   "source": [
    "not_obscene_df.head()"
   ],
   "execution_count": null,
   "outputs": [
    {
     "output_type": "execute_result",
     "data": {
      "text/html": [
       "<div>\n",
       "<style scoped>\n",
       "    .dataframe tbody tr th:only-of-type {\n",
       "        vertical-align: middle;\n",
       "    }\n",
       "\n",
       "    .dataframe tbody tr th {\n",
       "        vertical-align: top;\n",
       "    }\n",
       "\n",
       "    .dataframe thead th {\n",
       "        text-align: right;\n",
       "    }\n",
       "</style>\n",
       "<table border=\"1\" class=\"dataframe\">\n",
       "  <thead>\n",
       "    <tr style=\"text-align: right;\">\n",
       "      <th></th>\n",
       "      <th>words</th>\n",
       "      <th>labels</th>\n",
       "    </tr>\n",
       "  </thead>\n",
       "  <tbody>\n",
       "    <tr>\n",
       "      <th>0</th>\n",
       "      <td>т̠̺͉̮͖̼́ы͖ͅ</td>\n",
       "      <td>0</td>\n",
       "    </tr>\n",
       "    <tr>\n",
       "      <th>1</th>\n",
       "      <td>фэйсбук</td>\n",
       "      <td>0</td>\n",
       "    </tr>\n",
       "    <tr>\n",
       "      <th>2</th>\n",
       "      <td>порой</td>\n",
       "      <td>0</td>\n",
       "    </tr>\n",
       "    <tr>\n",
       "      <th>3</th>\n",
       "      <td>близнецы&gt;слишко</td>\n",
       "      <td>0</td>\n",
       "    </tr>\n",
       "    <tr>\n",
       "      <th>4</th>\n",
       "      <td>пахи</td>\n",
       "      <td>0</td>\n",
       "    </tr>\n",
       "  </tbody>\n",
       "</table>\n",
       "</div>"
      ],
      "text/plain": [
       "             words  labels\n",
       "0      т̠̺͉̮͖̼́ы͖ͅ       0\n",
       "1          фэйсбук       0\n",
       "2            порой       0\n",
       "3  близнецы>слишко       0\n",
       "4             пахи       0"
      ]
     },
     "metadata": {
      "tags": []
     },
     "execution_count": 58
    }
   ]
  },
  {
   "cell_type": "code",
   "metadata": {
    "id": "FfjYU_Kq98R0"
   },
   "source": [
    "corpus = pd.concat([obscene_df, not_obscene_df], axis=0)"
   ],
   "execution_count": null,
   "outputs": []
  },
  {
   "cell_type": "code",
   "metadata": {
    "id": "EPbq7TpC98Ub",
    "colab": {
     "base_uri": "https://localhost:8080/",
     "height": 204
    },
    "outputId": "e1920d4e-f08d-4f63-d4cf-157267ae2fec"
   },
   "source": [
    "corpus.head()"
   ],
   "execution_count": null,
   "outputs": [
    {
     "output_type": "execute_result",
     "data": {
      "text/html": [
       "<div>\n",
       "<style scoped>\n",
       "    .dataframe tbody tr th:only-of-type {\n",
       "        vertical-align: middle;\n",
       "    }\n",
       "\n",
       "    .dataframe tbody tr th {\n",
       "        vertical-align: top;\n",
       "    }\n",
       "\n",
       "    .dataframe thead th {\n",
       "        text-align: right;\n",
       "    }\n",
       "</style>\n",
       "<table border=\"1\" class=\"dataframe\">\n",
       "  <thead>\n",
       "    <tr style=\"text-align: right;\">\n",
       "      <th></th>\n",
       "      <th>words</th>\n",
       "      <th>labels</th>\n",
       "    </tr>\n",
       "  </thead>\n",
       "  <tbody>\n",
       "    <tr>\n",
       "      <th>0</th>\n",
       "      <td>закакиваться</td>\n",
       "      <td>1</td>\n",
       "    </tr>\n",
       "    <tr>\n",
       "      <th>1</th>\n",
       "      <td>переебавший</td>\n",
       "      <td>1</td>\n",
       "    </tr>\n",
       "    <tr>\n",
       "      <th>2</th>\n",
       "      <td>объебались</td>\n",
       "      <td>1</td>\n",
       "    </tr>\n",
       "    <tr>\n",
       "      <th>3</th>\n",
       "      <td>охобачивать</td>\n",
       "      <td>1</td>\n",
       "    </tr>\n",
       "    <tr>\n",
       "      <th>4</th>\n",
       "      <td>умандовать</td>\n",
       "      <td>1</td>\n",
       "    </tr>\n",
       "  </tbody>\n",
       "</table>\n",
       "</div>"
      ],
      "text/plain": [
       "          words  labels\n",
       "0  закакиваться       1\n",
       "1   переебавший       1\n",
       "2    объебались       1\n",
       "3   охобачивать       1\n",
       "4    умандовать       1"
      ]
     },
     "metadata": {
      "tags": []
     },
     "execution_count": 60
    }
   ]
  },
  {
   "cell_type": "code",
   "metadata": {
    "id": "fhg347UN98XI",
    "colab": {
     "base_uri": "https://localhost:8080/"
    },
    "outputId": "ea3cb598-5cb9-4a55-f588-fde51d9b08d9"
   },
   "source": [
    "len(corpus)"
   ],
   "execution_count": null,
   "outputs": [
    {
     "output_type": "execute_result",
     "data": {
      "text/plain": [
       "124172"
      ]
     },
     "metadata": {
      "tags": []
     },
     "execution_count": 61
    }
   ]
  },
  {
   "cell_type": "code",
   "metadata": {
    "id": "OJg2-n1z98Zi",
    "colab": {
     "base_uri": "https://localhost:8080/"
    },
    "outputId": "d51b7a13-873e-4bec-abea-4b7f1ce2ca07"
   },
   "source": [
    "len(corpus.labels.unique())"
   ],
   "execution_count": null,
   "outputs": [
    {
     "output_type": "execute_result",
     "data": {
      "text/plain": [
       "2"
      ]
     },
     "metadata": {
      "tags": []
     },
     "execution_count": 62
    }
   ]
  },
  {
   "cell_type": "code",
   "metadata": {
    "id": "prpvK5TM98cG",
    "colab": {
     "base_uri": "https://localhost:8080/"
    },
    "outputId": "e7c1232b-6825-4794-a7b2-051267a639a2"
   },
   "source": [
    "corpus.labels.unique()"
   ],
   "execution_count": null,
   "outputs": [
    {
     "output_type": "execute_result",
     "data": {
      "text/plain": [
       "array([1, 0])"
      ]
     },
     "metadata": {
      "tags": []
     },
     "execution_count": 63
    }
   ]
  },
  {
   "cell_type": "code",
   "metadata": {
    "id": "vFMmW9bM47kU"
   },
   "source": [
    "corpus = corpus.sample(frac=1)"
   ],
   "execution_count": null,
   "outputs": []
  },
  {
   "cell_type": "code",
   "metadata": {
    "colab": {
     "base_uri": "https://localhost:8080/",
     "height": 204
    },
    "id": "ixaLopIs4_H-",
    "outputId": "9be230f1-e67e-4d8c-9d54-b6195e332032"
   },
   "source": [
    "corpus.head()"
   ],
   "execution_count": null,
   "outputs": [
    {
     "output_type": "execute_result",
     "data": {
      "text/html": [
       "<div>\n",
       "<style scoped>\n",
       "    .dataframe tbody tr th:only-of-type {\n",
       "        vertical-align: middle;\n",
       "    }\n",
       "\n",
       "    .dataframe tbody tr th {\n",
       "        vertical-align: top;\n",
       "    }\n",
       "\n",
       "    .dataframe thead th {\n",
       "        text-align: right;\n",
       "    }\n",
       "</style>\n",
       "<table border=\"1\" class=\"dataframe\">\n",
       "  <thead>\n",
       "    <tr style=\"text-align: right;\">\n",
       "      <th></th>\n",
       "      <th>words</th>\n",
       "      <th>labels</th>\n",
       "    </tr>\n",
       "  </thead>\n",
       "  <tbody>\n",
       "    <tr>\n",
       "      <th>16753</th>\n",
       "      <td>мышиный</td>\n",
       "      <td>0</td>\n",
       "    </tr>\n",
       "    <tr>\n",
       "      <th>12607</th>\n",
       "      <td>тафак</td>\n",
       "      <td>0</td>\n",
       "    </tr>\n",
       "    <tr>\n",
       "      <th>105864</th>\n",
       "      <td>маргиналам</td>\n",
       "      <td>0</td>\n",
       "    </tr>\n",
       "    <tr>\n",
       "      <th>83394</th>\n",
       "      <td>зачаровний</td>\n",
       "      <td>0</td>\n",
       "    </tr>\n",
       "    <tr>\n",
       "      <th>45612</th>\n",
       "      <td>грэмми</td>\n",
       "      <td>0</td>\n",
       "    </tr>\n",
       "  </tbody>\n",
       "</table>\n",
       "</div>"
      ],
      "text/plain": [
       "             words  labels\n",
       "16753      мышиный       0\n",
       "12607        тафак       0\n",
       "105864  маргиналам       0\n",
       "83394   зачаровний       0\n",
       "45612       грэмми       0"
      ]
     },
     "metadata": {
      "tags": []
     },
     "execution_count": 65
    }
   ]
  },
  {
   "cell_type": "code",
   "metadata": {
    "id": "eekpeUPr98e_"
   },
   "source": [
    "corpus.to_csv(corpus_path)"
   ],
   "execution_count": null,
   "outputs": []
  },
  {
   "cell_type": "code",
   "metadata": {
    "colab": {
     "base_uri": "https://localhost:8080/"
    },
    "id": "S4J1ohqb4p7e",
    "outputId": "fe32bec1-de7c-4520-96d5-ed354f0ca804"
   },
   "source": [
    "len(corpus)"
   ],
   "execution_count": null,
   "outputs": [
    {
     "output_type": "execute_result",
     "data": {
      "text/plain": [
       "124172"
      ]
     },
     "metadata": {
      "tags": []
     },
     "execution_count": 67
    }
   ]
  },
  {
   "cell_type": "markdown",
   "metadata": {
    "id": "KZ8jpDis5xJh"
   },
   "source": [
    "## Бейзлайн"
   ]
  },
  {
   "cell_type": "code",
   "metadata": {
    "id": "bs5ckUn3_eH_"
   },
   "source": [
    "fasttext = gensim.models.KeyedVectors.load(vector_model_path)"
   ],
   "execution_count": null,
   "outputs": []
  },
  {
   "cell_type": "code",
   "metadata": {
    "id": "_vakvTTp4snh"
   },
   "source": [
    "corpus = pd.read_csv(corpus_path)\n",
    "corpus.dropna(inplace=True)"
   ],
   "execution_count": null,
   "outputs": []
  },
  {
   "cell_type": "code",
   "metadata": {
    "colab": {
     "base_uri": "https://localhost:8080/"
    },
    "id": "4RCdzYzfaDyZ",
    "outputId": "ea29fdc9-412a-4a62-a197-847f2e9f08b2"
   },
   "source": [
    "len(corpus)"
   ],
   "execution_count": null,
   "outputs": [
    {
     "output_type": "execute_result",
     "data": {
      "text/plain": [
       "124171"
      ]
     },
     "metadata": {
      "tags": []
     },
     "execution_count": 70
    }
   ]
  },
  {
   "cell_type": "code",
   "metadata": {
    "id": "o7CZtmOR72Db"
   },
   "source": [
    "def get_embeddings(words: list, vector_model=fasttext):\n",
    "    vectors = np.zeros((len(words), 300))\n",
    "    for i, word in enumerate(words):\n",
    "        vector = vector_model[word]\n",
    "        vectors[i] = vector\n",
    "    return vectors"
   ],
   "execution_count": null,
   "outputs": []
  },
  {
   "cell_type": "code",
   "metadata": {
    "id": "JzLMIwgj7uIb"
   },
   "source": [
    "X = get_embeddings([word for word in corpus.words.values])\n",
    "y = corpus.labels.values"
   ],
   "execution_count": null,
   "outputs": []
  },
  {
   "cell_type": "code",
   "metadata": {
    "colab": {
     "base_uri": "https://localhost:8080/"
    },
    "id": "z8I9fr_kXL5Y",
    "outputId": "5929a827-85e2-432e-89bc-ac187d0e4897"
   },
   "source": [
    "X.shape, y.shape"
   ],
   "execution_count": null,
   "outputs": [
    {
     "output_type": "execute_result",
     "data": {
      "text/plain": [
       "((124171, 300), (124171,))"
      ]
     },
     "metadata": {
      "tags": []
     },
     "execution_count": 73
    }
   ]
  },
  {
   "cell_type": "code",
   "metadata": {
    "id": "4LOhjdUY51b5"
   },
   "source": [
    "X_train, X_test, y_train, y_test = train_test_split(X, y, test_size=0.2, random_state=42)\n",
    "logreg = LogisticRegression().fit(X_train, y_train)"
   ],
   "execution_count": null,
   "outputs": []
  },
  {
   "cell_type": "code",
   "metadata": {
    "id": "pbMk7lv-Xe7z"
   },
   "source": [
    "y_pred = logreg.predict(X_test)"
   ],
   "execution_count": null,
   "outputs": []
  },
  {
   "cell_type": "code",
   "metadata": {
    "colab": {
     "base_uri": "https://localhost:8080/"
    },
    "id": "iBbm6CS351Kq",
    "outputId": "5bbf14bc-510c-4678-995d-ba6972dfd456"
   },
   "source": [
    "print(classification_report(y_test, y_pred))"
   ],
   "execution_count": null,
   "outputs": [
    {
     "output_type": "stream",
     "text": [
      "              precision    recall  f1-score   support\n",
      "\n",
      "           0       0.94      0.99      0.96     22952\n",
      "           1       0.67      0.20      0.31      1883\n",
      "\n",
      "    accuracy                           0.93     24835\n",
      "   macro avg       0.80      0.60      0.64     24835\n",
      "weighted avg       0.92      0.93      0.91     24835\n",
      "\n"
     ],
     "name": "stdout"
    }
   ]
  },
  {
   "cell_type": "code",
   "metadata": {
    "colab": {
     "base_uri": "https://localhost:8080/"
    },
    "id": "1VM8RI8j505N",
    "outputId": "84abc253-3283-4a7a-fb49-2958b0b49023"
   },
   "source": [
    "f1_score(y_test, y_pred)"
   ],
   "execution_count": null,
   "outputs": [
    {
     "output_type": "execute_result",
     "data": {
      "text/plain": [
       "0.30825838103025344"
      ]
     },
     "metadata": {
      "tags": []
     },
     "execution_count": 77
    }
   ]
  },
  {
   "cell_type": "markdown",
   "metadata": {
    "id": "whEUWeHO3cNz"
   },
   "source": [
    "## Эксперимент по нормализации данных"
   ]
  },
  {
   "cell_type": "code",
   "metadata": {
    "colab": {
     "base_uri": "https://localhost:8080/",
     "height": 300
    },
    "id": "a90lD26N8kvg",
    "outputId": "69c9c97b-c3a9-4c8b-ef60-cfe6aaecb1e1"
   },
   "source": [
    "import seaborn as sns\n",
    "\n",
    "sns.countplot(x='labels', data=corpus)"
   ],
   "execution_count": null,
   "outputs": [
    {
     "output_type": "execute_result",
     "data": {
      "text/plain": [
       "<matplotlib.axes._subplots.AxesSubplot at 0x7f89868eacd0>"
      ]
     },
     "metadata": {
      "tags": []
     },
     "execution_count": 78
    },
    {
     "output_type": "display_data",
     "data": {
      "image/png": "[encoded data removed]",
      "text/plain": [
       "<Figure size 432x288 with 1 Axes>"
      ]
     },
     "metadata": {
      "tags": [],
      "needs_background": "light"
     }
    }
   ]
  },
  {
   "cell_type": "code",
   "metadata": {
    "id": "VoJVTzlE3keh"
   },
   "source": [
    "obscene = corpus[corpus.labels == 1]\n",
    "not_obscene = corpus[corpus.labels == 0]"
   ],
   "execution_count": null,
   "outputs": []
  },
  {
   "cell_type": "code",
   "metadata": {
    "colab": {
     "base_uri": "https://localhost:8080/"
    },
    "id": "eI3hVoHF3lCR",
    "outputId": "156fbe82-ae8d-4859-bd20-a8a57471bbfe"
   },
   "source": [
    "len(obscene)"
   ],
   "execution_count": null,
   "outputs": [
    {
     "output_type": "execute_result",
     "data": {
      "text/plain": [
       "9799"
      ]
     },
     "metadata": {
      "tags": []
     },
     "execution_count": 80
    }
   ]
  },
  {
   "cell_type": "code",
   "metadata": {
    "colab": {
     "base_uri": "https://localhost:8080/"
    },
    "id": "H493wund4TDl",
    "outputId": "d56781ab-35a6-4cbc-8f3a-797fb745bee5"
   },
   "source": [
    "len(not_obscene)"
   ],
   "execution_count": null,
   "outputs": [
    {
     "output_type": "execute_result",
     "data": {
      "text/plain": [
       "114372"
      ]
     },
     "metadata": {
      "tags": []
     },
     "execution_count": 81
    }
   ]
  },
  {
   "cell_type": "code",
   "metadata": {
    "id": "qLnedIxN4SsI"
   },
   "source": [
    "not_obscene = not_obscene.sample(13000, random_state=42)"
   ],
   "execution_count": null,
   "outputs": []
  },
  {
   "cell_type": "code",
   "metadata": {
    "id": "waqs32Z24SaC"
   },
   "source": [
    "corpus = pd.concat([obscene, not_obscene]).sample(frac=1)"
   ],
   "execution_count": null,
   "outputs": []
  },
  {
   "cell_type": "code",
   "metadata": {
    "colab": {
     "base_uri": "https://localhost:8080/",
     "height": 204
    },
    "id": "W-IosXGm3ku6",
    "outputId": "2476215f-c522-4901-dfe3-cf2aa9c64b5c"
   },
   "source": [
    "corpus.head()"
   ],
   "execution_count": null,
   "outputs": [
    {
     "output_type": "execute_result",
     "data": {
      "text/html": [
       "<div>\n",
       "<style scoped>\n",
       "    .dataframe tbody tr th:only-of-type {\n",
       "        vertical-align: middle;\n",
       "    }\n",
       "\n",
       "    .dataframe tbody tr th {\n",
       "        vertical-align: top;\n",
       "    }\n",
       "\n",
       "    .dataframe thead th {\n",
       "        text-align: right;\n",
       "    }\n",
       "</style>\n",
       "<table border=\"1\" class=\"dataframe\">\n",
       "  <thead>\n",
       "    <tr style=\"text-align: right;\">\n",
       "      <th></th>\n",
       "      <th>Unnamed: 0</th>\n",
       "      <th>words</th>\n",
       "      <th>labels</th>\n",
       "    </tr>\n",
       "  </thead>\n",
       "  <tbody>\n",
       "    <tr>\n",
       "      <th>79968</th>\n",
       "      <td>109150</td>\n",
       "      <td>2:58</td>\n",
       "      <td>0</td>\n",
       "    </tr>\n",
       "    <tr>\n",
       "      <th>3676</th>\n",
       "      <td>3868</td>\n",
       "      <td>иценко-похуишинг</td>\n",
       "      <td>1</td>\n",
       "    </tr>\n",
       "    <tr>\n",
       "      <th>99287</th>\n",
       "      <td>90944</td>\n",
       "      <td>бредача</td>\n",
       "      <td>0</td>\n",
       "    </tr>\n",
       "    <tr>\n",
       "      <th>4621</th>\n",
       "      <td>6401</td>\n",
       "      <td>разъебайский</td>\n",
       "      <td>1</td>\n",
       "    </tr>\n",
       "    <tr>\n",
       "      <th>52790</th>\n",
       "      <td>26752</td>\n",
       "      <td>задымить</td>\n",
       "      <td>0</td>\n",
       "    </tr>\n",
       "  </tbody>\n",
       "</table>\n",
       "</div>"
      ],
      "text/plain": [
       "       Unnamed: 0             words  labels\n",
       "79968      109150              2:58       0\n",
       "3676         3868  иценко-похуишинг       1\n",
       "99287       90944           бредача       0\n",
       "4621         6401      разъебайский       1\n",
       "52790       26752          задымить       0"
      ]
     },
     "metadata": {
      "tags": []
     },
     "execution_count": 96
    }
   ]
  },
  {
   "cell_type": "code",
   "metadata": {
    "id": "3OcKp8H-50vl",
    "colab": {
     "base_uri": "https://localhost:8080/"
    },
    "outputId": "05d97827-2f80-4087-e89f-f46dcba983c6"
   },
   "source": [
    "len(corpus)"
   ],
   "execution_count": null,
   "outputs": [
    {
     "output_type": "execute_result",
     "data": {
      "text/plain": [
       "22799"
      ]
     },
     "metadata": {
      "tags": []
     },
     "execution_count": 97
    }
   ]
  },
  {
   "cell_type": "code",
   "metadata": {
    "colab": {
     "base_uri": "https://localhost:8080/",
     "height": 296
    },
    "id": "lH0FWo5b-Gaz",
    "outputId": "c41adda6-70ca-4fd4-ff14-388f2d8c4f8e"
   },
   "source": [
    "sns.countplot(x='labels', data=corpus)"
   ],
   "execution_count": null,
   "outputs": [
    {
     "output_type": "execute_result",
     "data": {
      "text/plain": [
       "<matplotlib.axes._subplots.AxesSubplot at 0x7f8987242110>"
      ]
     },
     "metadata": {
      "tags": []
     },
     "execution_count": 98
    },
    {
     "output_type": "display_data",
     "data": {
      "image/png": "[encoded data removed]",
      "text/plain": [
       "<Figure size 432x288 with 1 Axes>"
      ]
     },
     "metadata": {
      "tags": [],
      "needs_background": "light"
     }
    }
   ]
  },
  {
   "cell_type": "code",
   "metadata": {
    "id": "u7PFZ05m4piW"
   },
   "source": [
    "X = get_embeddings(corpus.words.values.tolist())\n",
    "y = corpus.labels.values"
   ],
   "execution_count": null,
   "outputs": []
  },
  {
   "cell_type": "code",
   "metadata": {
    "colab": {
     "base_uri": "https://localhost:8080/"
    },
    "id": "b4bQM5X56Rll",
    "outputId": "9bba14db-ef10-4ed5-88aa-e8f51b6b835d"
   },
   "source": [
    "X.shape, y.shape"
   ],
   "execution_count": null,
   "outputs": [
    {
     "output_type": "execute_result",
     "data": {
      "text/plain": [
       "((22799, 300), (22799,))"
      ]
     },
     "metadata": {
      "tags": []
     },
     "execution_count": 100
    }
   ]
  },
  {
   "cell_type": "code",
   "metadata": {
    "id": "yTBgmnAnpAKr"
   },
   "source": [
    "X_train, X_test, y_train, y_test = train_test_split(X, y, test_size=0.2, random_state=42)"
   ],
   "execution_count": null,
   "outputs": []
  },
  {
   "cell_type": "code",
   "metadata": {
    "id": "2jmeieIT6RHK"
   },
   "source": [
    "logreg = LogisticRegression().fit(X_train, y_train)"
   ],
   "execution_count": null,
   "outputs": []
  },
  {
   "cell_type": "code",
   "metadata": {
    "id": "rKMjk8bn4pGY"
   },
   "source": [
    "y_pred = logreg.predict(X_test)"
   ],
   "execution_count": null,
   "outputs": []
  },
  {
   "cell_type": "code",
   "metadata": {
    "colab": {
     "base_uri": "https://localhost:8080/"
    },
    "id": "akI98Ble6X-j",
    "outputId": "864e172d-a5e9-4201-d80a-62fad51c3776"
   },
   "source": [
    "print(classification_report(y_test, y_pred))"
   ],
   "execution_count": null,
   "outputs": [
    {
     "output_type": "stream",
     "text": [
      "              precision    recall  f1-score   support\n",
      "\n",
      "           0       0.81      0.89      0.85      2606\n",
      "           1       0.84      0.73      0.78      1954\n",
      "\n",
      "    accuracy                           0.82      4560\n",
      "   macro avg       0.83      0.81      0.82      4560\n",
      "weighted avg       0.82      0.82      0.82      4560\n",
      "\n"
     ],
     "name": "stdout"
    }
   ]
  },
  {
   "cell_type": "code",
   "metadata": {
    "colab": {
     "base_uri": "https://localhost:8080/"
    },
    "id": "JZHThkou6XtB",
    "outputId": "a910799b-7520-4a80-aaaf-e8642ab8e84c"
   },
   "source": [
    "f1_score(y_test, y_pred)"
   ],
   "execution_count": null,
   "outputs": [
    {
     "output_type": "execute_result",
     "data": {
      "text/plain": [
       "0.7792349726775956"
      ]
     },
     "metadata": {
      "tags": []
     },
     "execution_count": 105
    }
   ]
  },
  {
   "cell_type": "markdown",
   "metadata": {
    "id": "j_rwoJ5b4JQQ"
   },
   "source": [
    "## Эксперимент с подбором параметров"
   ]
  },
  {
   "cell_type": "code",
   "metadata": {
    "id": "x-nHgXN5-dX9"
   },
   "source": [
    "n_fold = 5\n",
    "folds = KFold(n_splits=n_fold, shuffle=True, random_state=0)\n",
    "stratified_folds = StratifiedKFold(n_splits=n_fold, shuffle=True, random_state=0)\n",
    "repeated_folds = RepeatedStratifiedKFold(n_splits=n_fold, n_repeats=10, random_state=0)"
   ],
   "execution_count": null,
   "outputs": []
  },
  {
   "cell_type": "code",
   "metadata": {
    "id": "R9_78bvK-dqC"
   },
   "source": [
    "def make_grid_search(X_train, y_train, model=None, params_grid={'': []}, scoring='', n_jobs=0, folds=folds):\n",
    "  grid_search = GridSearchCV(model, param_grid=params_grid, cv=folds, scoring=scoring, n_jobs=n_jobs)\n",
    "  grid_search.fit(X_train, y_train)\n",
    "  print(f'Best score: {grid_search.best_score_}')\n",
    "  print(f'Best parameters: {grid_search.best_params_}')\n",
    "  return grid_search.best_params_"
   ],
   "execution_count": null,
   "outputs": []
  },
  {
   "cell_type": "code",
   "metadata": {
    "id": "9uyH45lFnk-B"
   },
   "source": [
    "parameters_logreg = {'class_weight' : ['balanced', None],\n",
    "                  'penalty' : ['l1', 'l2', 'elasticnet', 'none'],\n",
    "                  'solver' : ['newton-cg', 'lbfgs', 'liblinear', 'sag', 'saga'],\n",
    "                  'C' : [0.15, 1.0, 10.0, 100.0],\n",
    "                  'max_iter': [10,50,100]\n",
    "                 }"
   ],
   "execution_count": null,
   "outputs": []
  },
  {
   "cell_type": "code",
   "metadata": {
    "id": "4WDHnpyDocu_"
   },
   "source": [
    "logreg = LogisticRegression(random_state=42)"
   ],
   "execution_count": null,
   "outputs": []
  },
  {
   "cell_type": "code",
   "metadata": {
    "colab": {
     "base_uri": "https://localhost:8080/"
    },
    "id": "9B80LFWR-dGc",
    "outputId": "d7a2a81e-ec36-4be0-afbb-8aa7f0eeadb2"
   },
   "source": [
    "%%time\n",
    "best_params_folds = make_grid_search(X_train, y_train, logreg, parameters_logreg, 'f1_macro', n_jobs=5, folds=folds)"
   ],
   "execution_count": null,
   "outputs": [
    {
     "output_type": "stream",
     "text": [
      "/usr/local/lib/python3.7/dist-packages/sklearn/linear_model/_logistic.py:1505: UserWarning: Setting penalty='none' will ignore the C and l1_ratio parameters\n",
      "  \"Setting penalty='none' will ignore the C and l1_ratio \"\n"
     ],
     "name": "stderr"
    },
    {
     "output_type": "stream",
     "text": [
      "Best score: 0.8432978345035046\n",
      "Best parameters: {'C': 0.15, 'class_weight': 'balanced', 'max_iter': 10, 'penalty': 'none', 'solver': 'saga'}\n",
      "CPU times: user 12.8 s, sys: 1.14 s, total: 13.9 s\n",
      "Wall time: 29min 13s\n"
     ],
     "name": "stdout"
    },
    {
     "output_type": "stream",
     "text": [
      "/usr/local/lib/python3.7/dist-packages/sklearn/linear_model/_sag.py:330: ConvergenceWarning: The max_iter was reached which means the coef_ did not converge\n",
      "  \"the coef_ did not converge\", ConvergenceWarning)\n"
     ],
     "name": "stderr"
    }
   ]
  },
  {
   "cell_type": "code",
   "metadata": {
    "colab": {
     "base_uri": "https://localhost:8080/"
    },
    "id": "f2cOlellbCig",
    "outputId": "6a7f5fa8-7bc6-43ba-c404-0d639da09f16"
   },
   "source": [
    "best_params_folds"
   ],
   "execution_count": null,
   "outputs": [
    {
     "output_type": "execute_result",
     "data": {
      "text/plain": [
       "{'C': 0.15,\n",
       " 'class_weight': 'balanced',\n",
       " 'max_iter': 10,\n",
       " 'penalty': 'none',\n",
       " 'solver': 'saga'}"
      ]
     },
     "metadata": {
      "tags": []
     },
     "execution_count": 111
    }
   ]
  },
  {
   "cell_type": "code",
   "metadata": {
    "colab": {
     "base_uri": "https://localhost:8080/"
    },
    "id": "TOJG_zbooaJb",
    "outputId": "446a0298-aeec-4020-e9c3-956c3a1b777a"
   },
   "source": [
    "%%time\n",
    "best_params_stratified_folds = make_grid_search(X_train, y_train, logreg, parameters_logreg, 'f1_macro', n_jobs=5, folds=stratified_folds)"
   ],
   "execution_count": null,
   "outputs": [
    {
     "output_type": "stream",
     "text": [
      "Best score: 0.8436269059601678\n",
      "Best parameters: {'C': 100.0, 'class_weight': 'balanced', 'max_iter': 100, 'penalty': 'l2', 'solver': 'lbfgs'}\n",
      "CPU times: user 14.1 s, sys: 1.07 s, total: 15.2 s\n",
      "Wall time: 27min 19s\n"
     ],
     "name": "stdout"
    },
    {
     "output_type": "stream",
     "text": [
      "/usr/local/lib/python3.7/dist-packages/sklearn/linear_model/_logistic.py:940: ConvergenceWarning: lbfgs failed to converge (status=1):\n",
      "STOP: TOTAL NO. of ITERATIONS REACHED LIMIT.\n",
      "\n",
      "Increase the number of iterations (max_iter) or scale the data as shown in:\n",
      "    https://scikit-learn.org/stable/modules/preprocessing.html\n",
      "Please also refer to the documentation for alternative solver options:\n",
      "    https://scikit-learn.org/stable/modules/linear_model.html#logistic-regression\n",
      "  extra_warning_msg=_LOGISTIC_SOLVER_CONVERGENCE_MSG)\n"
     ],
     "name": "stderr"
    }
   ]
  },
  {
   "cell_type": "code",
   "metadata": {
    "colab": {
     "base_uri": "https://localhost:8080/"
    },
    "id": "elF6PRGJbGI3",
    "outputId": "fba4810b-dae1-421f-ceea-b6e59ac35f56"
   },
   "source": [
    "best_params_stratified_folds"
   ],
   "execution_count": null,
   "outputs": [
    {
     "output_type": "execute_result",
     "data": {
      "text/plain": [
       "{'C': 100.0,\n",
       " 'class_weight': 'balanced',\n",
       " 'max_iter': 100,\n",
       " 'penalty': 'l2',\n",
       " 'solver': 'lbfgs'}"
      ]
     },
     "metadata": {
      "tags": []
     },
     "execution_count": 114
    }
   ]
  },
  {
   "cell_type": "code",
   "metadata": {
    "id": "crDGvODi-cjl"
   },
   "source": [
    "%%time\n",
    "best_params_folds = make_grid_search(X_train, y_train, logreg, parameters_logreg, 'f1_micro', n_jobs=5, folds=folds)"
   ],
   "execution_count": null,
   "outputs": []
  },
  {
   "cell_type": "code",
   "metadata": {
    "id": "mz0-BRECK1nW"
   },
   "source": [
    "%%time\n",
    "best_params_stratified_folds = make_grid_search(X_train, y_train, logreg, parameters_logreg, 'f1_micro', n_jobs=5, folds=stratified_folds)"
   ],
   "execution_count": null,
   "outputs": []
  },
  {
   "cell_type": "code",
   "metadata": {
    "id": "f0_6BhUgK1Mi"
   },
   "source": [
    "%%time\n",
    "best_params_repeated_folds = make_grid_search(X_train, y_train, logreg, parameters_logreg, 'f1_micro', n_jobs=5, folds=repeated_folds)"
   ],
   "execution_count": null,
   "outputs": []
  }
 ]
}