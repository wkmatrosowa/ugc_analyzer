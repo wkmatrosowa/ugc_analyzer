{
  "nbformat": 4,
  "nbformat_minor": 0,
  "metadata": {
    "colab": {
      "name": "obscene_words_detection_functionality.ipynb",
      "provenance": [],
      "collapsed_sections": [],
      "toc_visible": true
    },
    "kernelspec": {
      "display_name": "Python 3",
      "language": "python",
      "name": "python3"
    },
    "language_info": {
      "codemirror_mode": {
        "name": "ipython",
        "version": 3
      },
      "file_extension": ".py",
      "mimetype": "text/x-python",
      "name": "python",
      "nbconvert_exporter": "python",
      "pygments_lexer": "ipython3",
      "version": "3.8.4"
    }
  },
  "cells": [
    {
      "cell_type": "markdown",
      "metadata": {
        "id": "UOY5CZgZ_zqd"
      },
      "source": [
        "# Обработка данных для функциональности \"Определение обсценной лексики\""
      ]
    },
    {
      "cell_type": "code",
      "metadata": {
        "colab": {
          "base_uri": "https://localhost:8080/"
        },
        "id": "Jr4X5vTOSa4Y",
        "outputId": "33a79e6e-4087-4e6d-e7b9-54a51e3d92e3"
      },
      "source": [
        "from google.colab import drive\n",
        "drive.mount('/content/drive')"
      ],
      "execution_count": 1,
      "outputs": [
        {
          "output_type": "stream",
          "text": [
            "Mounted at /content/drive\n"
          ],
          "name": "stdout"
        }
      ]
    },
    {
      "cell_type": "markdown",
      "metadata": {
        "id": "6bs1RxVAAQXP"
      },
      "source": [
        "### Загрузка корпуса с обсценной лексикой"
      ]
    },
    {
      "cell_type": "code",
      "metadata": {
        "colab": {
          "base_uri": "https://localhost:8080/"
        },
        "id": "itgsdgTM-l6O",
        "outputId": "a84fc53b-fce9-4d37-a7aa-6b79a78274d4"
      },
      "source": [
        "!wget https://raw.githubusercontent.com/odaykhovskaya/obscene_words_ru/master/obscene_corpus.txt"
      ],
      "execution_count": 2,
      "outputs": [
        {
          "output_type": "stream",
          "text": [
            "--2021-05-08 09:23:44--  https://raw.githubusercontent.com/odaykhovskaya/obscene_words_ru/master/obscene_corpus.txt\n",
            "Resolving raw.githubusercontent.com (raw.githubusercontent.com)... 185.199.108.133, 185.199.109.133, 185.199.110.133, ...\n",
            "Connecting to raw.githubusercontent.com (raw.githubusercontent.com)|185.199.108.133|:443... connected.\n",
            "HTTP request sent, awaiting response... 200 OK\n",
            "Length: 152344 (149K) [text/plain]\n",
            "Saving to: ‘obscene_corpus.txt’\n",
            "\n",
            "obscene_corpus.txt  100%[===================>] 148.77K  --.-KB/s    in 0.03s   \n",
            "\n",
            "2021-05-08 09:23:45 (5.41 MB/s) - ‘obscene_corpus.txt’ saved [152344/152344]\n",
            "\n"
          ],
          "name": "stdout"
        }
      ]
    },
    {
      "cell_type": "markdown",
      "metadata": {
        "id": "JKvQvZL0ZAQM"
      },
      "source": [
        "### Загрузка корпуса с 2ch"
      ]
    },
    {
      "cell_type": "code",
      "metadata": {
        "colab": {
          "base_uri": "https://localhost:8080/"
        },
        "id": "l3MwPNmqSzhN",
        "outputId": "a58b7e22-6eb5-4949-f211-c3ce867cdc75"
      },
      "source": [
        "!wget https://github.com/mannefedov/compling_nlp_hse_course/raw/master/data/2ch_corpus.txt.zip"
      ],
      "execution_count": 3,
      "outputs": [
        {
          "output_type": "stream",
          "text": [
            "--2021-05-08 09:23:53--  https://github.com/mannefedov/compling_nlp_hse_course/raw/master/data/2ch_corpus.txt.zip\n",
            "Resolving github.com (github.com)... 52.192.72.89\n",
            "Connecting to github.com (github.com)|52.192.72.89|:443... connected.\n",
            "HTTP request sent, awaiting response... 302 Found\n",
            "Location: https://raw.githubusercontent.com/mannefedov/compling_nlp_hse_course/master/data/2ch_corpus.txt.zip [following]\n",
            "--2021-05-08 09:23:54--  https://raw.githubusercontent.com/mannefedov/compling_nlp_hse_course/master/data/2ch_corpus.txt.zip\n",
            "Resolving raw.githubusercontent.com (raw.githubusercontent.com)... 185.199.108.133, 185.199.109.133, 185.199.110.133, ...\n",
            "Connecting to raw.githubusercontent.com (raw.githubusercontent.com)|185.199.108.133|:443... connected.\n",
            "HTTP request sent, awaiting response... 200 OK\n",
            "Length: 6255552 (6.0M) [application/zip]\n",
            "Saving to: ‘2ch_corpus.txt.zip’\n",
            "\n",
            "2ch_corpus.txt.zip  100%[===================>]   5.96M  24.4MB/s    in 0.2s    \n",
            "\n",
            "2021-05-08 09:23:55 (24.4 MB/s) - ‘2ch_corpus.txt.zip’ saved [6255552/6255552]\n",
            "\n"
          ],
          "name": "stdout"
        }
      ]
    },
    {
      "cell_type": "code",
      "metadata": {
        "colab": {
          "base_uri": "https://localhost:8080/"
        },
        "id": "WI-Q_VDrSlBY",
        "outputId": "f1ff82c3-2c71-4ddb-85d0-3ad102105468"
      },
      "source": [
        "!unzip 2ch_corpus.txt.zip"
      ],
      "execution_count": 4,
      "outputs": [
        {
          "output_type": "stream",
          "text": [
            "Archive:  2ch_corpus.txt.zip\n",
            "  inflating: 2ch_corpus.txt          \n",
            "  inflating: __MACOSX/._2ch_corpus.txt  \n"
          ],
          "name": "stdout"
        }
      ]
    },
    {
      "cell_type": "code",
      "metadata": {
        "colab": {
          "base_uri": "https://localhost:8080/"
        },
        "id": "mpbx5iY-SwUo",
        "outputId": "c2c338b6-155c-41a3-8bca-b6b46f33d705"
      },
      "source": [
        "!pip install pymorphy2"
      ],
      "execution_count": 6,
      "outputs": [
        {
          "output_type": "stream",
          "text": [
            "Collecting pymorphy2\n",
            "\u001b[?25l  Downloading https://files.pythonhosted.org/packages/07/57/b2ff2fae3376d4f3c697b9886b64a54b476e1a332c67eee9f88e7f1ae8c9/pymorphy2-0.9.1-py3-none-any.whl (55kB)\n",
            "\r\u001b[K     |██████                          | 10kB 14.3MB/s eta 0:00:01\r\u001b[K     |███████████▉                    | 20kB 12.0MB/s eta 0:00:01\r\u001b[K     |█████████████████▊              | 30kB 7.7MB/s eta 0:00:01\r\u001b[K     |███████████████████████▋        | 40kB 7.1MB/s eta 0:00:01\r\u001b[K     |█████████████████████████████▌  | 51kB 4.4MB/s eta 0:00:01\r\u001b[K     |████████████████████████████████| 61kB 3.0MB/s \n",
            "\u001b[?25hCollecting dawg-python>=0.7.1\n",
            "  Downloading https://files.pythonhosted.org/packages/6a/84/ff1ce2071d4c650ec85745766c0047ccc3b5036f1d03559fd46bb38b5eeb/DAWG_Python-0.7.2-py2.py3-none-any.whl\n",
            "Requirement already satisfied: docopt>=0.6 in /usr/local/lib/python3.7/dist-packages (from pymorphy2) (0.6.2)\n",
            "Collecting pymorphy2-dicts-ru<3.0,>=2.4\n",
            "\u001b[?25l  Downloading https://files.pythonhosted.org/packages/3a/79/bea0021eeb7eeefde22ef9e96badf174068a2dd20264b9a378f2be1cdd9e/pymorphy2_dicts_ru-2.4.417127.4579844-py2.py3-none-any.whl (8.2MB)\n",
            "\u001b[K     |████████████████████████████████| 8.2MB 4.6MB/s \n",
            "\u001b[?25hInstalling collected packages: dawg-python, pymorphy2-dicts-ru, pymorphy2\n",
            "Successfully installed dawg-python-0.7.2 pymorphy2-0.9.1 pymorphy2-dicts-ru-2.4.417127.4579844\n"
          ],
          "name": "stdout"
        }
      ]
    },
    {
      "cell_type": "markdown",
      "metadata": {
        "id": "tfuyBkQNAp2I"
      },
      "source": [
        "### Импорты и пути"
      ]
    },
    {
      "cell_type": "code",
      "metadata": {
        "colab": {
          "base_uri": "https://localhost:8080/"
        },
        "id": "Z7QkAynp978D",
        "outputId": "67f1d035-ca66-4524-c393-2a2016106b7b"
      },
      "source": [
        "import sys\n",
        "import nltk\n",
        "nltk.download('punkt')\n",
        "from nltk.tokenize import word_tokenize\n",
        "\n",
        "from pymorphy2 import MorphAnalyzer\n",
        "from tqdm import tqdm\n",
        "from string import punctuation\n",
        "\n",
        "tokenizer = nltk.tokenize.WordPunctTokenizer().tokenize\n",
        "morph = MorphAnalyzer()\n",
        "\n",
        "punct = punctuation+'«»—…“”*№–'"
      ],
      "execution_count": 10,
      "outputs": [
        {
          "output_type": "stream",
          "text": [
            "[nltk_data] Downloading package punkt to /root/nltk_data...\n",
            "[nltk_data]   Package punkt is already up-to-date!\n"
          ],
          "name": "stdout"
        }
      ]
    },
    {
      "cell_type": "code",
      "metadata": {
        "id": "csvNSmpf-sc0"
      },
      "source": [
        "obscene_data_path = \"obscene_corpus.txt\"\n",
        "obscene_preprocessed_data_path = \"/content/drive/MyDrive/thesis_datasets/obscene_preprocessed_corpus.txt\"\n",
        "not_obscene_data_path = \"2ch_corpus.txt\"\n",
        "not_obscene_preprocessed_data_path = \"/content/drive/MyDrive/thesis_datasets/2ch_corpus_preprocessed.txt\""
      ],
      "execution_count": 40,
      "outputs": []
    },
    {
      "cell_type": "markdown",
      "metadata": {
        "id": "4AESL6M2SQQ8"
      },
      "source": [
        "## Функции для предобработки корпусов"
      ]
    },
    {
      "cell_type": "markdown",
      "metadata": {
        "id": "UR4tBRMhSQQ-"
      },
      "source": [
        "Функция лемматизации с возможностью выбора токенайзера"
      ]
    },
    {
      "cell_type": "code",
      "metadata": {
        "id": "Q4z4G3nd98A_"
      },
      "source": [
        "def lemmatization_with_tokenizer(text: str, tokenizer) -> list:\n",
        "    \n",
        "    words = tokenizer(text)\n",
        "    words = [morph.parse(word.lower().strip('\\n').strip(punct))[0].normal_form for word in words]\n",
        "\n",
        "    return words"
      ],
      "execution_count": 9,
      "outputs": []
    },
    {
      "cell_type": "markdown",
      "metadata": {
        "id": "knL_cnMuSQRB"
      },
      "source": [
        "Обработка корпуса обсценной лексики"
      ]
    },
    {
      "cell_type": "code",
      "metadata": {
        "id": "FbyCF1ZkFB5P"
      },
      "source": [
        "def obscene_data_preprocess(data: list):\n",
        "    \n",
        "    data = [word.lower().strip('\\n').strip(punct) for word in data]\n",
        "    data = data\n",
        "    return data"
      ],
      "execution_count": 11,
      "outputs": []
    },
    {
      "cell_type": "markdown",
      "metadata": {
        "id": "1Sw8Yv50SQRC"
      },
      "source": [
        "Обработка корпуса с 2ch"
      ]
    },
    {
      "cell_type": "code",
      "metadata": {
        "id": "Fwdw9z5GQnfT"
      },
      "source": [
        "def not_obscene_data_lemmatization(data: list, tokenizer):\n",
        "    \n",
        "    \"\"\" tokenize and lemmatize texts \"\"\"\n",
        "    \n",
        "    cleaned_data = []\n",
        "    for text in tqdm(data):\n",
        "        text = lemmatization_with_tokenizer(text, tokenizer)\n",
        "        cleaned_data.append(text)\n",
        "        \n",
        "    return cleaned_data"
      ],
      "execution_count": 12,
      "outputs": []
    },
    {
      "cell_type": "code",
      "metadata": {
        "id": "makNimh6SQRH"
      },
      "source": [
        "def not_obscene_data_clean1(data: list, obscene_data: list): #all obscene words + additional words\n",
        "    \n",
        "    \"\"\" remove obscene words from texts \"\"\"\n",
        "\n",
        "    cleaned_data = []\n",
        "    for text in tqdm(data):\n",
        "        text = [word for word in text if word not in obscene_data]\n",
        "        cleaned_data.append(text)\n",
        "        \n",
        "    return cleaned_data"
      ],
      "execution_count": 13,
      "outputs": []
    },
    {
      "cell_type": "code",
      "metadata": {
        "id": "03Cs_MvRSQRI"
      },
      "source": [
        "def not_obscene_data_clean2(data: list, obscene_roots: list): #roots + parts - complicate cases\n",
        "    \n",
        "    \"\"\" remove words with obscene morphemes \"\"\"\n",
        "    all_words = []\n",
        "    obscened_words = []\n",
        "    for sentence in tqdm(data):\n",
        "        for word in sentence:\n",
        "            all_words.append(word)\n",
        "            for obscene_root in obscene_roots:\n",
        "                if obscene_root in word:\n",
        "                    obscened_words.append(word)\n",
        "    \n",
        "    obscened_words = set(obscened_words)\n",
        "    all_words = set(all_words)\n",
        "    cleaned_data = all_words - obscened_words - {''}\n",
        "    \n",
        "    return list(cleaned_data), list(obscened_words)"
      ],
      "execution_count": 14,
      "outputs": []
    },
    {
      "cell_type": "markdown",
      "metadata": {
        "id": "XdtBTcoKSQRJ"
      },
      "source": [
        "## Предобработка корпуса обсценной лексики"
      ]
    },
    {
      "cell_type": "code",
      "metadata": {
        "id": "T8mfqrNw97-Y"
      },
      "source": [
        "with open(obscene_data_path, \"r\") as obscene_data_file:\n",
        "    obscene_data = obscene_data_file.readlines()"
      ],
      "execution_count": 15,
      "outputs": []
    },
    {
      "cell_type": "code",
      "metadata": {
        "colab": {
          "base_uri": "https://localhost:8080/"
        },
        "id": "QC8Zn6FC_Cwa",
        "outputId": "bf02cd8f-48d0-477f-b842-2ea35aadd0c2"
      },
      "source": [
        "obscene_data[:20]"
      ],
      "execution_count": 16,
      "outputs": [
        {
          "output_type": "execute_result",
          "data": {
            "text/plain": [
              "['6ЛЯ\\n',\n",
              " '6ЛЯД\\n',\n",
              " 'FUCK\\n',\n",
              " 'PIZD\\n',\n",
              " 'PIZDA\\n',\n",
              " 'PIZDAH\\n',\n",
              " 'PIZDAKH\\n',\n",
              " 'PIZDAM\\n',\n",
              " 'PIZDAMI\\n',\n",
              " 'PIZDAX\\n',\n",
              " 'PIZDE\\n',\n",
              " 'PIZDOI\\n',\n",
              " 'PIZDOJ\\n',\n",
              " 'PIZDOY\\n',\n",
              " 'PIZDU\\n',\n",
              " 'PIZDY\\n',\n",
              " 'SCHEISE\\n',\n",
              " 'SCHEISSE\\n',\n",
              " 'SHIT\\n',\n",
              " 'SUCK\\n']"
            ]
          },
          "metadata": {
            "tags": []
          },
          "execution_count": 16
        }
      ]
    },
    {
      "cell_type": "code",
      "metadata": {
        "id": "duzr9MDqSQRL"
      },
      "source": [
        "#obscene dataset = all obscene words + added words\n",
        "\n",
        "additional_words = ['шлюх']\n",
        "\n",
        "obscene_data = obscene_data + additional_words"
      ],
      "execution_count": 17,
      "outputs": []
    },
    {
      "cell_type": "markdown",
      "metadata": {
        "id": "9TCgCUZ4SQRL"
      },
      "source": [
        "Проверим, что в корпусе нет дубликатов"
      ]
    },
    {
      "cell_type": "code",
      "metadata": {
        "colab": {
          "base_uri": "https://localhost:8080/"
        },
        "id": "PPiDl9iKTkAD",
        "outputId": "bfe1c33f-c776-4a79-845d-8749c1c7eb42"
      },
      "source": [
        "len(obscene_data)"
      ],
      "execution_count": 18,
      "outputs": [
        {
          "output_type": "execute_result",
          "data": {
            "text/plain": [
              "7352"
            ]
          },
          "metadata": {
            "tags": []
          },
          "execution_count": 18
        }
      ]
    },
    {
      "cell_type": "code",
      "metadata": {
        "colab": {
          "base_uri": "https://localhost:8080/"
        },
        "id": "gWUnstoEV6tF",
        "outputId": "39b59bdd-d6be-474a-d19f-7b064e72725a"
      },
      "source": [
        "len(set(obscene_data))"
      ],
      "execution_count": 19,
      "outputs": [
        {
          "output_type": "execute_result",
          "data": {
            "text/plain": [
              "7352"
            ]
          },
          "metadata": {
            "tags": []
          },
          "execution_count": 19
        }
      ]
    },
    {
      "cell_type": "markdown",
      "metadata": {
        "id": "PkUOhVJtSQRQ"
      },
      "source": [
        "Подготовим отдельно список слов, которые могут быть обсценными корнями"
      ]
    },
    {
      "cell_type": "code",
      "metadata": {
        "scrolled": true,
        "id": "KHFp0wgZSQRb"
      },
      "source": [
        "#roots + parts - complicate cases\n",
        "\n",
        "roots = [el for el in obscene_data if el.endswith(\"*\\n\")]\n",
        "roots = obscene_data_preprocess(roots)\n",
        "roots = set(roots)\n",
        "\n",
        "parts = [el for el in obscene_data if len(el) < 5]\n",
        "parts = obscene_data_preprocess(parts)\n",
        "parts = set(parts)\n",
        "\n",
        "complicate_cases = {'ёб',\n",
        "                    'ёбс',\n",
        "                    'ёбу',\n",
        "                    'бл',\n",
        "                    'еб',\n",
        "                    'еба',\n",
        "                    'еби',\n",
        "                    'ебл',\n",
        "                    'ебс',\n",
        "                    'ебу',\n",
        "                    'епт',\n",
        "                    'еть',\n",
        "                    'ипу',\n",
        "                    'кал',\n",
        "                    'куй',\n",
        "                    'нах',\n",
        "                    'пох',\n",
        "                    'поц',\n",
        "                    'фак',\n",
        "                    'чмо'}\n",
        "\n",
        "obscene_roots = sorted(list(roots | parts - complicate_cases))"
      ],
      "execution_count": 20,
      "outputs": []
    },
    {
      "cell_type": "code",
      "metadata": {
        "id": "NxJcePJ5SQRc",
        "colab": {
          "base_uri": "https://localhost:8080/"
        },
        "outputId": "c56b2cd9-e772-4af3-cafc-10e04d05f496"
      },
      "source": [
        "len(obscene_roots)"
      ],
      "execution_count": 21,
      "outputs": [
        {
          "output_type": "execute_result",
          "data": {
            "text/plain": [
              "49"
            ]
          },
          "metadata": {
            "tags": []
          },
          "execution_count": 21
        }
      ]
    },
    {
      "cell_type": "code",
      "metadata": {
        "colab": {
          "base_uri": "https://localhost:8080/"
        },
        "id": "vy9zRKMsWufa",
        "outputId": "a4400f0f-8146-402b-a56f-7d3b293d9fad"
      },
      "source": [
        "obscene_data = obscene_data_preprocess(obscene_data)\n",
        "obscene_data[:10]"
      ],
      "execution_count": 22,
      "outputs": [
        {
          "output_type": "execute_result",
          "data": {
            "text/plain": [
              "['6ля',\n",
              " '6ляд',\n",
              " 'fuck',\n",
              " 'pizd',\n",
              " 'pizda',\n",
              " 'pizdah',\n",
              " 'pizdakh',\n",
              " 'pizdam',\n",
              " 'pizdami',\n",
              " 'pizdax']"
            ]
          },
          "metadata": {
            "tags": []
          },
          "execution_count": 22
        }
      ]
    },
    {
      "cell_type": "code",
      "metadata": {
        "colab": {
          "base_uri": "https://localhost:8080/"
        },
        "id": "I43LwsMTXRZc",
        "outputId": "73a86837-4b28-4ed0-9b49-ec30702f712e"
      },
      "source": [
        "len(obscene_data)"
      ],
      "execution_count": 44,
      "outputs": [
        {
          "output_type": "execute_result",
          "data": {
            "text/plain": [
              "7352"
            ]
          },
          "metadata": {
            "tags": []
          },
          "execution_count": 44
        }
      ]
    },
    {
      "cell_type": "code",
      "metadata": {
        "id": "7k7MyDi7SQRg"
      },
      "source": [
        "with open(obscene_preprocessed_data_path, \"w\") as obscene_preprocessed_file:\n",
        "    for word in obscene_data:\n",
        "        obscene_preprocessed_file.write(word + \"\\n\")"
      ],
      "execution_count": 23,
      "outputs": []
    },
    {
      "cell_type": "markdown",
      "metadata": {
        "id": "JV8gPc_zSQRh"
      },
      "source": [
        "## Предобработка корпуса с 2ch"
      ]
    },
    {
      "cell_type": "code",
      "metadata": {
        "id": "BOjKc3j9SjtP"
      },
      "source": [
        "with open(not_obscene_data_path, \"r\") as not_obscene_data_file:\n",
        "    not_obscene_data = not_obscene_data_file.readlines()"
      ],
      "execution_count": 24,
      "outputs": []
    },
    {
      "cell_type": "code",
      "metadata": {
        "colab": {
          "base_uri": "https://localhost:8080/"
        },
        "id": "6XvBFTHHTKp-",
        "outputId": "ef556903-561b-4013-ae80-3c1f233ee9cf"
      },
      "source": [
        "not_obscene_data[:10]"
      ],
      "execution_count": 25,
      "outputs": [
        {
          "output_type": "execute_result",
          "data": {
            "text/plain": [
              "[\" Анимублядский WebM-треддля приличных анимублядей и прочих аутистов. Безграмотное быдло с дубляжом, войсовером, порнографией и котиками, советы мерзких мокрописечников, вниманиебляди всех видов и прочее непотребство отправляется в порнотред <ссылка>.Для поиска сoуса видео сохраняем кадр (правый клик по видео) и ищем его на Для воспроизведения WebM с 10-битным цветом нужно установить плагин vlc ( ) и отключить встроенный в браузер плеер (media. webm. enabled=false в firefox).О кодировании WebMДоступные кодеки — VP8 и VP9 для видео, Vorbis и Opus для звука, максимальный размер файла — 10240КБ, всех файлов в посте — около 40МБ. Делать WebM можно научиться в вики треда: Там находится подробная информация о выборе и настройке кодеков на примерах использования консольных утилит ffmpeg, vpxenc и mkvmerge. Неочевидные моменты— libvorbis при указании битрейта (-b:a) работает в режиме CBR (постоянный битрейт), и это портит качество звука; для режима VBR вместо битрейта надо указывать качество (-q:a); параметр -vbr on работает только для Opus'а;— в webm'ки не нужно включать софтсаб в формате webvtt (FFmpeg это делает по умолчанию при наличии сабов в контейнере, отключается параметром -sn): во-первых, это бесполезно (для его отображения на странице должен быть специальный код), а во-вторых, от этого ролики не воспроизводятся в firefox. Программы и их документация Фронтенды к ffmpeg для кодирования вебмокCLI, бидон: zsh: дотнет: дотнет: Оп-паста: \\n\",\n",
              " '     Посоны, поделитесь ссылкой на ютуб-версию этого шебм.\\n',\n",
              " ' Побольше тебе стандопавера, бро.\\n',\n",
              " ' Перекатился. Благословил.\\n',\n",
              " ' У меня нофап- мне туда даже заходить нельзя\\n',\n",
              " ' Ты зачем мой пост украл? :<\\n',\n",
              " '  Хех, нисекой уже к финалу подходит. На кого ставите, аноны?\\n',\n",
              " ' Запощу все свои пианино опенинги.\\n',\n",
              " '   Очевидная Онодера. Цундере не нужны.\\n',\n",
              " ' Соус ремикса с 4 вебм, будьте добры.\\n']"
            ]
          },
          "metadata": {
            "tags": []
          },
          "execution_count": 25
        }
      ]
    },
    {
      "cell_type": "code",
      "metadata": {
        "colab": {
          "base_uri": "https://localhost:8080/"
        },
        "id": "caJYD-iATfjt",
        "outputId": "db7d6ca3-0057-4d29-eef5-ba522366d812"
      },
      "source": [
        "len(not_obscene_data)"
      ],
      "execution_count": 26,
      "outputs": [
        {
          "output_type": "execute_result",
          "data": {
            "text/plain": [
              "85903"
            ]
          },
          "metadata": {
            "tags": []
          },
          "execution_count": 26
        }
      ]
    },
    {
      "cell_type": "code",
      "metadata": {
        "id": "Bl8bcJWBSQRt",
        "colab": {
          "base_uri": "https://localhost:8080/"
        },
        "outputId": "391bbb99-6bd0-4acb-d17c-ca7d7f7393c3"
      },
      "source": [
        "%%time\n",
        "not_obscene_data = not_obscene_data_lemmatization(not_obscene_data, tokenizer)"
      ],
      "execution_count": 27,
      "outputs": [
        {
          "output_type": "stream",
          "text": [
            "100%|██████████| 85903/85903 [08:46<00:00, 163.17it/s]"
          ],
          "name": "stderr"
        },
        {
          "output_type": "stream",
          "text": [
            "CPU times: user 8min 40s, sys: 3.39 s, total: 8min 43s\n",
            "Wall time: 8min 46s\n"
          ],
          "name": "stdout"
        },
        {
          "output_type": "stream",
          "text": [
            "\n"
          ],
          "name": "stderr"
        }
      ]
    },
    {
      "cell_type": "code",
      "metadata": {
        "id": "AsCp-F_XSQRv",
        "colab": {
          "base_uri": "https://localhost:8080/"
        },
        "outputId": "206a25c5-769c-4182-85b9-3b35a557a5b6"
      },
      "source": [
        "%%time\n",
        "not_obscene_data = not_obscene_data_clean1(not_obscene_data, obscene_data)"
      ],
      "execution_count": 28,
      "outputs": [
        {
          "output_type": "stream",
          "text": [
            "100%|██████████| 85903/85903 [04:18<00:00, 332.33it/s]\n"
          ],
          "name": "stderr"
        },
        {
          "output_type": "stream",
          "text": [
            "CPU times: user 4min 15s, sys: 1.68 s, total: 4min 17s\n",
            "Wall time: 4min 18s\n"
          ],
          "name": "stdout"
        }
      ]
    },
    {
      "cell_type": "code",
      "metadata": {
        "id": "_jUcXSt8SQRy",
        "colab": {
          "base_uri": "https://localhost:8080/"
        },
        "outputId": "8fece6ad-6f60-4dc4-944a-7e857ba60a0c"
      },
      "source": [
        "%%time\n",
        "not_obscene_data_cleaned, obscened_words = not_obscene_data_clean2(not_obscene_data, obscene_roots)"
      ],
      "execution_count": 29,
      "outputs": [
        {
          "output_type": "stream",
          "text": [
            "100%|██████████| 85903/85903 [00:05<00:00, 14417.32it/s]\n"
          ],
          "name": "stderr"
        },
        {
          "output_type": "stream",
          "text": [
            "CPU times: user 6.14 s, sys: 71.9 ms, total: 6.21 s\n",
            "Wall time: 6.27 s\n"
          ],
          "name": "stdout"
        }
      ]
    },
    {
      "cell_type": "code",
      "metadata": {
        "id": "qIDj_WSiSQRz",
        "colab": {
          "base_uri": "https://localhost:8080/"
        },
        "outputId": "b9a1d27e-6fd8-4c7d-f25b-3497e934ba48"
      },
      "source": [
        "len(obscened_words)"
      ],
      "execution_count": 30,
      "outputs": [
        {
          "output_type": "execute_result",
          "data": {
            "text/plain": [
              "1755"
            ]
          },
          "metadata": {
            "tags": []
          },
          "execution_count": 30
        }
      ]
    },
    {
      "cell_type": "code",
      "metadata": {
        "id": "Aj0dBj0wSQR0"
      },
      "source": [
        "obscened_words = [word.strip(punct) for word in obscened_words]"
      ],
      "execution_count": 31,
      "outputs": []
    },
    {
      "cell_type": "code",
      "metadata": {
        "id": "iUngsNAvSQR1"
      },
      "source": [
        "obscened_words = sorted(list(set(obscened_words) - {'херсон', 'херсонский', 'хертстоун', 'батхерта', 'фехерваря', 'баттхертеть', 'целленхерер', 'хертс', 'парикмахерша', 'баттхерта', 'баттхерта?ть', 'баттхерта-тред', 'херсонщина', 'шухер', 'батхертнуть'}))"
      ],
      "execution_count": 32,
      "outputs": []
    },
    {
      "cell_type": "code",
      "metadata": {
        "id": "Q0hiBxPtSQR2",
        "colab": {
          "base_uri": "https://localhost:8080/"
        },
        "outputId": "c6f56f9e-84ef-472b-f47d-55e2eec7f35e"
      },
      "source": [
        "obscened_words[-10:]"
      ],
      "execution_count": 35,
      "outputs": [
        {
          "output_type": "execute_result",
          "data": {
            "text/plain": [
              "['этотблядский',\n",
              " 'эфироблядка',\n",
              " 'ютубоблядь',\n",
              " 'яблоблядок',\n",
              " 'яблоблядь',\n",
              " 'яебалпиздетьазазазатроллолололоть',\n",
              " 'янихуянепонела',\n",
              " 'япидорашкен',\n",
              " 'ясенхуй',\n",
              " 'ёбля']"
            ]
          },
          "metadata": {
            "tags": []
          },
          "execution_count": 35
        }
      ]
    },
    {
      "cell_type": "code",
      "metadata": {
        "colab": {
          "base_uri": "https://localhost:8080/"
        },
        "id": "mjOEugouXXSv",
        "outputId": "455a906c-3d96-4665-9201-85f0ccc70c27"
      },
      "source": [
        "len(obscened_words)"
      ],
      "execution_count": 45,
      "outputs": [
        {
          "output_type": "execute_result",
          "data": {
            "text/plain": [
              "1742"
            ]
          },
          "metadata": {
            "tags": []
          },
          "execution_count": 45
        }
      ]
    },
    {
      "cell_type": "code",
      "metadata": {
        "id": "voMqBFLvSQR3"
      },
      "source": [
        "with open(obscene_preprocessed_data_path, \"a\") as obscene_preprocessed_file:\n",
        "    for word in obscened_words:\n",
        "        obscene_preprocessed_file.write(word + \"\\n\")"
      ],
      "execution_count": 36,
      "outputs": []
    },
    {
      "cell_type": "code",
      "metadata": {
        "id": "Ft6eu6WoSQR6",
        "colab": {
          "base_uri": "https://localhost:8080/"
        },
        "outputId": "ada7a57d-1c56-49e4-91fe-19ac113713c6"
      },
      "source": [
        "not_obscene_data_cleaned[:10]"
      ],
      "execution_count": 37,
      "outputs": [
        {
          "output_type": "execute_result",
          "data": {
            "text/plain": [
              "['ударник',\n",
              " 'шизаанальный',\n",
              " 'гуляние',\n",
              " '153',\n",
              " 'неопредленный',\n",
              " 'преобладать',\n",
              " 'теоретический',\n",
              " 'знактого',\n",
              " 'мысл',\n",
              " 'хёвый']"
            ]
          },
          "metadata": {
            "tags": []
          },
          "execution_count": 37
        }
      ]
    },
    {
      "cell_type": "code",
      "metadata": {
        "id": "5JVH4iSQSQR9",
        "colab": {
          "base_uri": "https://localhost:8080/"
        },
        "outputId": "bf66003f-25c5-44df-b035-f86092b7ccca"
      },
      "source": [
        "len(not_obscene_data_cleaned)"
      ],
      "execution_count": 38,
      "outputs": [
        {
          "output_type": "execute_result",
          "data": {
            "text/plain": [
              "95549"
            ]
          },
          "metadata": {
            "tags": []
          },
          "execution_count": 38
        }
      ]
    },
    {
      "cell_type": "code",
      "metadata": {
        "id": "ImkXMQ_-SQSD"
      },
      "source": [
        "with open(not_obscene_preprocessed_data_path, \"w\") as not_obscene_preprocessed_file:\n",
        "    for word in not_obscene_data_cleaned:\n",
        "        not_obscene_preprocessed_file.write(word + \"\\n\")"
      ],
      "execution_count": 41,
      "outputs": []
    },
    {
      "cell_type": "code",
      "metadata": {
        "id": "zsB-tppDSQSD"
      },
      "source": [
        "with open(not_obscene_preprocessed_data_path, \"r\") as not_obscene_data_file:\n",
        "    not_obscene_data = not_obscene_data_file.readlines()"
      ],
      "execution_count": 42,
      "outputs": []
    },
    {
      "cell_type": "code",
      "metadata": {
        "id": "HAllyuWpSQSE",
        "colab": {
          "base_uri": "https://localhost:8080/"
        },
        "outputId": "7d6022dd-4d4c-47aa-cc6f-4adf14fd7591"
      },
      "source": [
        "not_obscene_data[:20]"
      ],
      "execution_count": 43,
      "outputs": [
        {
          "output_type": "execute_result",
          "data": {
            "text/plain": [
              "['ударник\\n',\n",
              " 'шизаанальный\\n',\n",
              " 'гуляние\\n',\n",
              " '153\\n',\n",
              " 'неопредленный\\n',\n",
              " 'преобладать\\n',\n",
              " 'теоретический\\n',\n",
              " 'знактого\\n',\n",
              " 'мысл\\n',\n",
              " 'хёвый\\n',\n",
              " 'кантор\\n',\n",
              " 'срали\\n',\n",
              " 'декодер\\n',\n",
              " 'изолироваться\\n',\n",
              " 'العام\\n',\n",
              " 'insatiable\\n',\n",
              " 'недоразвитый\\n',\n",
              " 'приятель\\n',\n",
              " 'offensive\\n',\n",
              " 'отталкивающе\\n']"
            ]
          },
          "metadata": {
            "tags": []
          },
          "execution_count": 43
        }
      ]
    }
  ]
}