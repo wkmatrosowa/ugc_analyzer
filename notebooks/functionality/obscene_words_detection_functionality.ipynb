{
  "nbformat": 4,
  "nbformat_minor": 0,
  "metadata": {
    "colab": {
      "name": "obscene_words_detection_functionality.ipynb",
      "provenance": [],
      "collapsed_sections": [],
      "toc_visible": true,
      "mount_file_id": "1UyWsz7iAu1_YcjjLBjljvBzOOiBs-O8d",
      "authorship_tag": "ABX9TyPbXOu226hoyOEA0p+ezUkp"
    },
    "kernelspec": {
      "name": "python3",
      "display_name": "Python 3"
    }
  },
  "cells": [
    {
      "cell_type": "markdown",
      "metadata": {
        "id": "UOY5CZgZ_zqd"
      },
      "source": [
        "# Бейзлайн функциональности \"Определение обсценной лексики\""
      ]
    },
    {
      "cell_type": "markdown",
      "metadata": {
        "id": "1kSDlBchABJr"
      },
      "source": [
        "## Загрузки и импорты"
      ]
    },
    {
      "cell_type": "markdown",
      "metadata": {
        "id": "g6jbwRJKAjaa"
      },
      "source": [
        "### Библиотеки"
      ]
    },
    {
      "cell_type": "code",
      "metadata": {
        "colab": {
          "base_uri": "https://localhost:8080/"
        },
        "id": "dXgJq1gB9721",
        "outputId": "f89c3d5b-da21-4a62-8249-dccd3753f151"
      },
      "source": [
        "!pip install --upgrade gensim"
      ],
      "execution_count": 1,
      "outputs": [
        {
          "output_type": "stream",
          "text": [
            "Collecting gensim\n",
            "\u001b[?25l  Downloading https://files.pythonhosted.org/packages/5c/4e/afe2315e08a38967f8a3036bbe7e38b428e9b7a90e823a83d0d49df1adf5/gensim-3.8.3-cp37-cp37m-manylinux1_x86_64.whl (24.2MB)\n",
            "\u001b[K     |████████████████████████████████| 24.2MB 81.5MB/s \n",
            "\u001b[?25hRequirement already satisfied, skipping upgrade: numpy>=1.11.3 in /usr/local/lib/python3.7/dist-packages (from gensim) (1.19.5)\n",
            "Requirement already satisfied, skipping upgrade: scipy>=0.18.1 in /usr/local/lib/python3.7/dist-packages (from gensim) (1.4.1)\n",
            "Requirement already satisfied, skipping upgrade: smart-open>=1.8.1 in /usr/local/lib/python3.7/dist-packages (from gensim) (4.2.0)\n",
            "Requirement already satisfied, skipping upgrade: six>=1.5.0 in /usr/local/lib/python3.7/dist-packages (from gensim) (1.15.0)\n",
            "Installing collected packages: gensim\n",
            "  Found existing installation: gensim 3.6.0\n",
            "    Uninstalling gensim-3.6.0:\n",
            "      Successfully uninstalled gensim-3.6.0\n",
            "Successfully installed gensim-3.8.3\n"
          ],
          "name": "stdout"
        }
      ]
    },
    {
      "cell_type": "code",
      "metadata": {
        "colab": {
          "base_uri": "https://localhost:8080/"
        },
        "id": "ZXpG1H4z-G_2",
        "outputId": "8096217e-0bd5-4fa1-d815-5bf2c2a898fd"
      },
      "source": [
        "!pip install pymorphy2[fast]"
      ],
      "execution_count": 2,
      "outputs": [
        {
          "output_type": "stream",
          "text": [
            "Collecting pymorphy2[fast]\n",
            "\u001b[?25l  Downloading https://files.pythonhosted.org/packages/07/57/b2ff2fae3376d4f3c697b9886b64a54b476e1a332c67eee9f88e7f1ae8c9/pymorphy2-0.9.1-py3-none-any.whl (55kB)\n",
            "\r\u001b[K     |██████                          | 10kB 15.8MB/s eta 0:00:01\r\u001b[K     |███████████▉                    | 20kB 9.3MB/s eta 0:00:01\r\u001b[K     |█████████████████▊              | 30kB 5.6MB/s eta 0:00:01\r\u001b[K     |███████████████████████▋        | 40kB 5.2MB/s eta 0:00:01\r\u001b[K     |█████████████████████████████▌  | 51kB 4.8MB/s eta 0:00:01\r\u001b[K     |████████████████████████████████| 61kB 3.5MB/s \n",
            "\u001b[?25hCollecting pymorphy2-dicts-ru<3.0,>=2.4\n",
            "\u001b[?25l  Downloading https://files.pythonhosted.org/packages/3a/79/bea0021eeb7eeefde22ef9e96badf174068a2dd20264b9a378f2be1cdd9e/pymorphy2_dicts_ru-2.4.417127.4579844-py2.py3-none-any.whl (8.2MB)\n",
            "\u001b[K     |████████████████████████████████| 8.2MB 5.2MB/s \n",
            "\u001b[?25hRequirement already satisfied: docopt>=0.6 in /usr/local/lib/python3.7/dist-packages (from pymorphy2[fast]) (0.6.2)\n",
            "Collecting dawg-python>=0.7.1\n",
            "  Downloading https://files.pythonhosted.org/packages/6a/84/ff1ce2071d4c650ec85745766c0047ccc3b5036f1d03559fd46bb38b5eeb/DAWG_Python-0.7.2-py2.py3-none-any.whl\n",
            "Collecting DAWG>=0.8; extra == \"fast\"\n",
            "\u001b[?25l  Downloading https://files.pythonhosted.org/packages/b8/ef/91b619a399685f7a0a95a03628006ba814d96293bbbbed234ee66fbdefd9/DAWG-0.8.0.tar.gz (371kB)\n",
            "\u001b[K     |████████████████████████████████| 378kB 37.0MB/s \n",
            "\u001b[?25hBuilding wheels for collected packages: DAWG\n",
            "  Building wheel for DAWG (setup.py) ... \u001b[?25l\u001b[?25hdone\n",
            "  Created wheel for DAWG: filename=DAWG-0.8.0-cp37-cp37m-linux_x86_64.whl size=858884 sha256=704a126d07d9a87cfb28534111b98b968cb59ff0b887fd6db4eadd7406aeb51b\n",
            "  Stored in directory: /root/.cache/pip/wheels/3d/1f/f0/a5b1f9d02e193c997d252c33d215f24dfd7a448bc0166b2a12\n",
            "Successfully built DAWG\n",
            "Installing collected packages: pymorphy2-dicts-ru, dawg-python, DAWG, pymorphy2\n",
            "Successfully installed DAWG-0.8.0 dawg-python-0.7.2 pymorphy2-0.9.1 pymorphy2-dicts-ru-2.4.417127.4579844\n"
          ],
          "name": "stdout"
        }
      ]
    },
    {
      "cell_type": "markdown",
      "metadata": {
        "id": "23TkxHNlAGl6"
      },
      "source": [
        "### Загрузка предобученной векторной модели FastText Araneum Russicum"
      ]
    },
    {
      "cell_type": "code",
      "metadata": {
        "id": "PHCZMBhj90YN",
        "colab": {
          "base_uri": "https://localhost:8080/"
        },
        "outputId": "eafa7f69-34aa-4946-a987-c6f5715ba1db"
      },
      "source": [
        "!wget https://rusvectores.org/static/models/rusvectores4/fasttext/araneum_none_fasttextcbow_300_5_2018.tgz"
      ],
      "execution_count": 71,
      "outputs": [
        {
          "output_type": "stream",
          "text": [
            "--2021-03-01 15:19:59--  https://rusvectores.org/static/models/rusvectores4/fasttext/araneum_none_fasttextcbow_300_5_2018.tgz\n",
            "Resolving rusvectores.org (rusvectores.org)... 116.203.104.23\n",
            "Connecting to rusvectores.org (rusvectores.org)|116.203.104.23|:443... connected.\n",
            "HTTP request sent, awaiting response... 200 OK\n",
            "Length: 2691248108 (2.5G) [application/x-gzip]\n",
            "Saving to: ‘araneum_none_fasttextcbow_300_5_2018.tgz’\n",
            "\n",
            "araneum_none_fastte 100%[===================>]   2.51G  19.6MB/s    in 2m 15s  \n",
            "\n",
            "2021-03-01 15:22:15 (19.0 MB/s) - ‘araneum_none_fasttextcbow_300_5_2018.tgz’ saved [2691248108/2691248108]\n",
            "\n"
          ],
          "name": "stdout"
        }
      ]
    },
    {
      "cell_type": "markdown",
      "metadata": {
        "id": "tfuyBkQNAp2I"
      },
      "source": [
        "### Импорты"
      ]
    },
    {
      "cell_type": "code",
      "metadata": {
        "colab": {
          "base_uri": "https://localhost:8080/"
        },
        "id": "Z7QkAynp978D",
        "outputId": "e856f868-3a59-4040-b8d2-71febac6d555"
      },
      "source": [
        "import tarfile\n",
        "import gensim\n",
        "import pandas as pd\n",
        "import numpy as np\n",
        "import nltk\n",
        "nltk.download('punkt')\n",
        "\n",
        "from nltk.tokenize import word_tokenize\n",
        "from sklearn.metrics import f1_score, classification_report\n",
        "from sklearn.linear_model import LogisticRegression\n",
        "from sklearn.model_selection import train_test_split\n",
        "from pymorphy2 import MorphAnalyzer\n",
        "from tqdm import tqdm\n",
        "from string import punctuation\n",
        "\n",
        "tokenizer = nltk.tokenize.WhitespaceTokenizer()\n",
        "morph = MorphAnalyzer()\n",
        "punct = punctuation+'«»—…“”*№–'"
      ],
      "execution_count": 72,
      "outputs": [
        {
          "output_type": "stream",
          "text": [
            "[nltk_data] Downloading package punkt to /root/nltk_data...\n",
            "[nltk_data]   Package punkt is already up-to-date!\n"
          ],
          "name": "stdout"
        }
      ]
    },
    {
      "cell_type": "code",
      "metadata": {
        "id": "csvNSmpf-sc0"
      },
      "source": [
        "vector_archive_path = \"/content/araneum_none_fasttextcbow_300_5_2018.tgz\"\n",
        "vector_model_path = \"/content/araneum_none_fasttextcbow_300_5_2018.model\"\n",
        "model_path = \"/content/drive/MyDrive/thesis_datasets/obscene_detection.model\"\n",
        "obscene_data_path = \"/content/drive/MyDrive/thesis_datasets/obscene_preprocessed_corpus.txt\"\n",
        "not_obscene_data_path = \"/content/drive/MyDrive/thesis_datasets/2ch_corpus_preprocessed.txt\"\n",
        "corpus_path = \"/content/drive/MyDrive/thesis_datasets/obscene_data.csv\""
      ],
      "execution_count": 73,
      "outputs": []
    },
    {
      "cell_type": "code",
      "metadata": {
        "id": "EW5KqB4pAnMb"
      },
      "source": [
        "fasttext_file = tarfile.open(vector_archive_path, \"r\")\n",
        "fasttext_file.extractall()"
      ],
      "execution_count": 74,
      "outputs": []
    },
    {
      "cell_type": "markdown",
      "metadata": {
        "id": "2GE_WhgQ0dJH"
      },
      "source": [
        "## Подготовка корпуса слов для обучения"
      ]
    },
    {
      "cell_type": "code",
      "metadata": {
        "id": "T8mfqrNw97-Y"
      },
      "source": [
        "# with open(obscene_data_path, \"r\") as obscene_data_file:\n",
        "#   obscene_data = obscene_data_file.readlines()"
      ],
      "execution_count": 9,
      "outputs": []
    },
    {
      "cell_type": "code",
      "metadata": {
        "colab": {
          "base_uri": "https://localhost:8080/"
        },
        "id": "QC8Zn6FC_Cwa",
        "outputId": "6687c67e-0d94-4f2d-9896-6dd481d12dcb"
      },
      "source": [
        "# obscene_data[:20]"
      ],
      "execution_count": 10,
      "outputs": [
        {
          "output_type": "execute_result",
          "data": {
            "text/plain": [
              "['6ля\\n',\n",
              " '6ляд\\n',\n",
              " 'fuck\\n',\n",
              " 'pizd\\n',\n",
              " 'pizda\\n',\n",
              " 'pizdah\\n',\n",
              " 'pizdakh\\n',\n",
              " 'pizdam\\n',\n",
              " 'pizdami\\n',\n",
              " 'pizdax\\n',\n",
              " 'pizde\\n',\n",
              " 'pizdoi\\n',\n",
              " 'pizdoj\\n',\n",
              " 'pizdoy\\n',\n",
              " 'pizdu\\n',\n",
              " 'pizdy\\n',\n",
              " 'scheise\\n',\n",
              " 'scheisse\\n',\n",
              " 'shit\\n',\n",
              " 'suck\\n']"
            ]
          },
          "metadata": {
            "tags": []
          },
          "execution_count": 10
        }
      ]
    },
    {
      "cell_type": "code",
      "metadata": {
        "colab": {
          "base_uri": "https://localhost:8080/"
        },
        "id": "PPiDl9iKTkAD",
        "outputId": "87379285-b137-41a4-cbf3-21f92cf41003"
      },
      "source": [
        "# len(obscene_data)"
      ],
      "execution_count": 11,
      "outputs": [
        {
          "output_type": "execute_result",
          "data": {
            "text/plain": [
              "7352"
            ]
          },
          "metadata": {
            "tags": []
          },
          "execution_count": 11
        }
      ]
    },
    {
      "cell_type": "code",
      "metadata": {
        "id": "BOjKc3j9SjtP"
      },
      "source": [
        "# with open(not_obscene_data_path, \"r\") as not_obscene_data_file:\n",
        "#   not_obscene_data = not_obscene_data_file.readlines()"
      ],
      "execution_count": 39,
      "outputs": []
    },
    {
      "cell_type": "code",
      "metadata": {
        "colab": {
          "base_uri": "https://localhost:8080/"
        },
        "id": "6XvBFTHHTKp-",
        "outputId": "78921f3f-5c63-4943-9f9c-c7263b28be27"
      },
      "source": [
        "# not_obscene_data[:20]"
      ],
      "execution_count": 40,
      "outputs": [
        {
          "output_type": "execute_result",
          "data": {
            "text/plain": [
              "['приближённый\\n',\n",
              " 'хаскеле-то\\n',\n",
              " 'лье\\n',\n",
              " 'плейофф\\n',\n",
              " 'привязывать\\n',\n",
              " 'атб\\n',\n",
              " '3128\\n',\n",
              " 'комуфляж\\n',\n",
              " 'голова-туловище\\n',\n",
              " 'чикаго-кун\\n',\n",
              " 'уберняша\\n',\n",
              " 'редактироваться\\n',\n",
              " 'погаснуть\\n',\n",
              " 'ньюфажига\\n',\n",
              " 'лолмимо\\n',\n",
              " 'aodv\\n',\n",
              " 'efkz@yandex\\n',\n",
              " '60кт\\n',\n",
              " 'military\\n',\n",
              " 'многопользовательский\\n']"
            ]
          },
          "metadata": {
            "tags": []
          },
          "execution_count": 40
        }
      ]
    },
    {
      "cell_type": "code",
      "metadata": {
        "colab": {
          "base_uri": "https://localhost:8080/"
        },
        "id": "caJYD-iATfjt",
        "outputId": "dc3da36b-1e23-4e9e-c468-81b3059b1799"
      },
      "source": [
        "# len(not_obscene_data)"
      ],
      "execution_count": 41,
      "outputs": [
        {
          "output_type": "execute_result",
          "data": {
            "text/plain": [
              "114660"
            ]
          },
          "metadata": {
            "tags": []
          },
          "execution_count": 41
        }
      ]
    },
    {
      "cell_type": "code",
      "metadata": {
        "id": "Q4z4G3nd98A_"
      },
      "source": [
        "# def corpus_preprocess(words: list) -> list:\n",
        "    \n",
        "#     words = [word.strip('\\n').strip(punct) for word in words]\n",
        "\n",
        "#     return words"
      ],
      "execution_count": 42,
      "outputs": []
    },
    {
      "cell_type": "code",
      "metadata": {
        "colab": {
          "base_uri": "https://localhost:8080/"
        },
        "id": "vy9zRKMsWufa",
        "outputId": "47e824e4-d528-4aa2-a22e-2b7298e5640f"
      },
      "source": [
        "# obscene_data = corpus_preprocess(obscene_data)\n",
        "# obscene_data[:10]"
      ],
      "execution_count": 43,
      "outputs": [
        {
          "output_type": "execute_result",
          "data": {
            "text/plain": [
              "['хyе',\n",
              " 'вымандошиваться',\n",
              " 'поебется',\n",
              " 'пизdатого',\n",
              " 'хуёвый',\n",
              " 'коблуха',\n",
              " 'уебское',\n",
              " 'клиторман',\n",
              " 'малоебучая',\n",
              " 'выпиздит']"
            ]
          },
          "metadata": {
            "tags": []
          },
          "execution_count": 43
        }
      ]
    },
    {
      "cell_type": "code",
      "metadata": {
        "id": "TmnBba0o98F8",
        "colab": {
          "base_uri": "https://localhost:8080/"
        },
        "outputId": "0fcaf619-e6d9-432b-c398-6029dcde4402"
      },
      "source": [
        "# not_obscene_data = corpus_preprocess(not_obscene_data)\n",
        "# not_obscene_data[:10]"
      ],
      "execution_count": 44,
      "outputs": [
        {
          "output_type": "execute_result",
          "data": {
            "text/plain": [
              "['приближённый',\n",
              " 'хаскеле-то',\n",
              " 'лье',\n",
              " 'плейофф',\n",
              " 'привязывать',\n",
              " 'атб',\n",
              " '3128',\n",
              " 'комуфляж',\n",
              " 'голова-туловище',\n",
              " 'чикаго-кун']"
            ]
          },
          "metadata": {
            "tags": []
          },
          "execution_count": 44
        }
      ]
    },
    {
      "cell_type": "code",
      "metadata": {
        "id": "jLCc2nIi98Kp"
      },
      "source": [
        "# obscene_data = list(set(obscene_data))\n",
        "# not_obscene_data = list(set(not_obscene_data))"
      ],
      "execution_count": 45,
      "outputs": []
    },
    {
      "cell_type": "code",
      "metadata": {
        "id": "lURM0ptW98NI"
      },
      "source": [
        "# obscene_df = pd.DataFrame(data = obscene_data, columns = ['words'])\n",
        "# not_obscene_df = pd.DataFrame(data = not_obscene_data, columns = ['words'])"
      ],
      "execution_count": 46,
      "outputs": []
    },
    {
      "cell_type": "code",
      "metadata": {
        "id": "E1omBbSW98PU"
      },
      "source": [
        "# obscene_df['labels'] = [1 for _ in range(len(obscene_df))]\n",
        "# not_obscene_df['labels'] = [0 for _ in range(len(obscene_df))]"
      ],
      "execution_count": 55,
      "outputs": []
    },
    {
      "cell_type": "code",
      "metadata": {
        "colab": {
          "base_uri": "https://localhost:8080/",
          "height": 204
        },
        "id": "es75djwj3GMN",
        "outputId": "29c726d3-90d9-4c8b-edcb-7c5b1b222e25"
      },
      "source": [
        "# obscene_df.head()"
      ],
      "execution_count": 56,
      "outputs": [
        {
          "output_type": "execute_result",
          "data": {
            "text/html": [
              "<div>\n",
              "<style scoped>\n",
              "    .dataframe tbody tr th:only-of-type {\n",
              "        vertical-align: middle;\n",
              "    }\n",
              "\n",
              "    .dataframe tbody tr th {\n",
              "        vertical-align: top;\n",
              "    }\n",
              "\n",
              "    .dataframe thead th {\n",
              "        text-align: right;\n",
              "    }\n",
              "</style>\n",
              "<table border=\"1\" class=\"dataframe\">\n",
              "  <thead>\n",
              "    <tr style=\"text-align: right;\">\n",
              "      <th></th>\n",
              "      <th>words</th>\n",
              "      <th>labels</th>\n",
              "    </tr>\n",
              "  </thead>\n",
              "  <tbody>\n",
              "    <tr>\n",
              "      <th>0</th>\n",
              "      <td>хyе</td>\n",
              "      <td>1</td>\n",
              "    </tr>\n",
              "    <tr>\n",
              "      <th>1</th>\n",
              "      <td>вымандошиваться</td>\n",
              "      <td>1</td>\n",
              "    </tr>\n",
              "    <tr>\n",
              "      <th>2</th>\n",
              "      <td>поебется</td>\n",
              "      <td>1</td>\n",
              "    </tr>\n",
              "    <tr>\n",
              "      <th>3</th>\n",
              "      <td>пизdатого</td>\n",
              "      <td>1</td>\n",
              "    </tr>\n",
              "    <tr>\n",
              "      <th>4</th>\n",
              "      <td>хуёвый</td>\n",
              "      <td>1</td>\n",
              "    </tr>\n",
              "  </tbody>\n",
              "</table>\n",
              "</div>"
            ],
            "text/plain": [
              "             words  labels\n",
              "0              хyе       1\n",
              "1  вымандошиваться       1\n",
              "2         поебется       1\n",
              "3        пизdатого       1\n",
              "4           хуёвый       1"
            ]
          },
          "metadata": {
            "tags": []
          },
          "execution_count": 56
        }
      ]
    },
    {
      "cell_type": "code",
      "metadata": {
        "colab": {
          "base_uri": "https://localhost:8080/",
          "height": 204
        },
        "id": "DTJTbb7v3J4G",
        "outputId": "14317df2-dd42-429c-dd09-d63573a37dcc"
      },
      "source": [
        "# not_obscene_df.head()"
      ],
      "execution_count": 58,
      "outputs": [
        {
          "output_type": "execute_result",
          "data": {
            "text/html": [
              "<div>\n",
              "<style scoped>\n",
              "    .dataframe tbody tr th:only-of-type {\n",
              "        vertical-align: middle;\n",
              "    }\n",
              "\n",
              "    .dataframe tbody tr th {\n",
              "        vertical-align: top;\n",
              "    }\n",
              "\n",
              "    .dataframe thead th {\n",
              "        text-align: right;\n",
              "    }\n",
              "</style>\n",
              "<table border=\"1\" class=\"dataframe\">\n",
              "  <thead>\n",
              "    <tr style=\"text-align: right;\">\n",
              "      <th></th>\n",
              "      <th>words</th>\n",
              "      <th>labels</th>\n",
              "    </tr>\n",
              "  </thead>\n",
              "  <tbody>\n",
              "    <tr>\n",
              "      <th>0</th>\n",
              "      <td>такое?клон</td>\n",
              "      <td>0</td>\n",
              "    </tr>\n",
              "    <tr>\n",
              "      <th>1</th>\n",
              "      <td>бдсм'щий</td>\n",
              "      <td>0</td>\n",
              "    </tr>\n",
              "    <tr>\n",
              "      <th>2</th>\n",
              "      <td>445771</td>\n",
              "      <td>0</td>\n",
              "    </tr>\n",
              "    <tr>\n",
              "      <th>3</th>\n",
              "      <td>сюжеты/приём</td>\n",
              "      <td>0</td>\n",
              "    </tr>\n",
              "    <tr>\n",
              "      <th>4</th>\n",
              "      <td>заутра</td>\n",
              "      <td>0</td>\n",
              "    </tr>\n",
              "  </tbody>\n",
              "</table>\n",
              "</div>"
            ],
            "text/plain": [
              "          words  labels\n",
              "0    такое?клон       0\n",
              "1      бдсм'щий       0\n",
              "2        445771       0\n",
              "3  сюжеты/приём       0\n",
              "4        заутра       0"
            ]
          },
          "metadata": {
            "tags": []
          },
          "execution_count": 58
        }
      ]
    },
    {
      "cell_type": "code",
      "metadata": {
        "id": "FfjYU_Kq98R0"
      },
      "source": [
        "# corpus = pd.concat([obscene_df, not_obscene_df], axis=0)"
      ],
      "execution_count": 59,
      "outputs": []
    },
    {
      "cell_type": "code",
      "metadata": {
        "id": "EPbq7TpC98Ub",
        "colab": {
          "base_uri": "https://localhost:8080/",
          "height": 204
        },
        "outputId": "d8d084e6-c79a-4e18-dd7a-0e8a8ec2d244"
      },
      "source": [
        "# corpus.head()"
      ],
      "execution_count": 60,
      "outputs": [
        {
          "output_type": "execute_result",
          "data": {
            "text/html": [
              "<div>\n",
              "<style scoped>\n",
              "    .dataframe tbody tr th:only-of-type {\n",
              "        vertical-align: middle;\n",
              "    }\n",
              "\n",
              "    .dataframe tbody tr th {\n",
              "        vertical-align: top;\n",
              "    }\n",
              "\n",
              "    .dataframe thead th {\n",
              "        text-align: right;\n",
              "    }\n",
              "</style>\n",
              "<table border=\"1\" class=\"dataframe\">\n",
              "  <thead>\n",
              "    <tr style=\"text-align: right;\">\n",
              "      <th></th>\n",
              "      <th>words</th>\n",
              "      <th>labels</th>\n",
              "    </tr>\n",
              "  </thead>\n",
              "  <tbody>\n",
              "    <tr>\n",
              "      <th>0</th>\n",
              "      <td>хyе</td>\n",
              "      <td>1</td>\n",
              "    </tr>\n",
              "    <tr>\n",
              "      <th>1</th>\n",
              "      <td>вымандошиваться</td>\n",
              "      <td>1</td>\n",
              "    </tr>\n",
              "    <tr>\n",
              "      <th>2</th>\n",
              "      <td>поебется</td>\n",
              "      <td>1</td>\n",
              "    </tr>\n",
              "    <tr>\n",
              "      <th>3</th>\n",
              "      <td>пизdатого</td>\n",
              "      <td>1</td>\n",
              "    </tr>\n",
              "    <tr>\n",
              "      <th>4</th>\n",
              "      <td>хуёвый</td>\n",
              "      <td>1</td>\n",
              "    </tr>\n",
              "  </tbody>\n",
              "</table>\n",
              "</div>"
            ],
            "text/plain": [
              "             words  labels\n",
              "0              хyе       1\n",
              "1  вымандошиваться       1\n",
              "2         поебется       1\n",
              "3        пизdатого       1\n",
              "4           хуёвый       1"
            ]
          },
          "metadata": {
            "tags": []
          },
          "execution_count": 60
        }
      ]
    },
    {
      "cell_type": "code",
      "metadata": {
        "id": "fhg347UN98XI",
        "colab": {
          "base_uri": "https://localhost:8080/"
        },
        "outputId": "dfef2105-86aa-4140-e82c-3d986dba5029"
      },
      "source": [
        "# len(corpus)"
      ],
      "execution_count": 61,
      "outputs": [
        {
          "output_type": "execute_result",
          "data": {
            "text/plain": [
              "121706"
            ]
          },
          "metadata": {
            "tags": []
          },
          "execution_count": 61
        }
      ]
    },
    {
      "cell_type": "code",
      "metadata": {
        "id": "OJg2-n1z98Zi",
        "colab": {
          "base_uri": "https://localhost:8080/"
        },
        "outputId": "d069c5c0-a007-471c-df5a-ad07526fc3eb"
      },
      "source": [
        "# len(corpus.labels.unique())"
      ],
      "execution_count": 62,
      "outputs": [
        {
          "output_type": "execute_result",
          "data": {
            "text/plain": [
              "2"
            ]
          },
          "metadata": {
            "tags": []
          },
          "execution_count": 62
        }
      ]
    },
    {
      "cell_type": "code",
      "metadata": {
        "id": "prpvK5TM98cG",
        "colab": {
          "base_uri": "https://localhost:8080/"
        },
        "outputId": "e998a984-6838-431f-91b0-ab0a49990663"
      },
      "source": [
        "# corpus.labels.unique()"
      ],
      "execution_count": 63,
      "outputs": [
        {
          "output_type": "execute_result",
          "data": {
            "text/plain": [
              "array([1, 0])"
            ]
          },
          "metadata": {
            "tags": []
          },
          "execution_count": 63
        }
      ]
    },
    {
      "cell_type": "code",
      "metadata": {
        "id": "vFMmW9bM47kU"
      },
      "source": [
        "# corpus = corpus.sample(frac=1)"
      ],
      "execution_count": 64,
      "outputs": []
    },
    {
      "cell_type": "code",
      "metadata": {
        "colab": {
          "base_uri": "https://localhost:8080/",
          "height": 204
        },
        "id": "ixaLopIs4_H-",
        "outputId": "acea0858-8f9d-4308-9ec9-1d6911ee42c5"
      },
      "source": [
        "# corpus.head()"
      ],
      "execution_count": 65,
      "outputs": [
        {
          "output_type": "execute_result",
          "data": {
            "text/html": [
              "<div>\n",
              "<style scoped>\n",
              "    .dataframe tbody tr th:only-of-type {\n",
              "        vertical-align: middle;\n",
              "    }\n",
              "\n",
              "    .dataframe tbody tr th {\n",
              "        vertical-align: top;\n",
              "    }\n",
              "\n",
              "    .dataframe thead th {\n",
              "        text-align: right;\n",
              "    }\n",
              "</style>\n",
              "<table border=\"1\" class=\"dataframe\">\n",
              "  <thead>\n",
              "    <tr style=\"text-align: right;\">\n",
              "      <th></th>\n",
              "      <th>words</th>\n",
              "      <th>labels</th>\n",
              "    </tr>\n",
              "  </thead>\n",
              "  <tbody>\n",
              "    <tr>\n",
              "      <th>24647</th>\n",
              "      <td>снький</td>\n",
              "      <td>0</td>\n",
              "    </tr>\n",
              "    <tr>\n",
              "      <th>1680</th>\n",
              "      <td>хуячиться</td>\n",
              "      <td>1</td>\n",
              "    </tr>\n",
              "    <tr>\n",
              "      <th>55719</th>\n",
              "      <td>негейт</td>\n",
              "      <td>0</td>\n",
              "    </tr>\n",
              "    <tr>\n",
              "      <th>88143</th>\n",
              "      <td>парсер</td>\n",
              "      <td>0</td>\n",
              "    </tr>\n",
              "    <tr>\n",
              "      <th>92740</th>\n",
              "      <td>прекрасном:3</td>\n",
              "      <td>0</td>\n",
              "    </tr>\n",
              "  </tbody>\n",
              "</table>\n",
              "</div>"
            ],
            "text/plain": [
              "              words  labels\n",
              "24647        снький       0\n",
              "1680      хуячиться       1\n",
              "55719        негейт       0\n",
              "88143        парсер       0\n",
              "92740  прекрасном:3       0"
            ]
          },
          "metadata": {
            "tags": []
          },
          "execution_count": 65
        }
      ]
    },
    {
      "cell_type": "code",
      "metadata": {
        "id": "eekpeUPr98e_"
      },
      "source": [
        "# corpus.to_csv(corpus_path)"
      ],
      "execution_count": 68,
      "outputs": []
    },
    {
      "cell_type": "code",
      "metadata": {
        "colab": {
          "base_uri": "https://localhost:8080/"
        },
        "id": "S4J1ohqb4p7e",
        "outputId": "800d3f8e-3074-4d1b-906c-f5fc56778c2b"
      },
      "source": [
        "# len(corpus)"
      ],
      "execution_count": 69,
      "outputs": [
        {
          "output_type": "execute_result",
          "data": {
            "text/plain": [
              "121706"
            ]
          },
          "metadata": {
            "tags": []
          },
          "execution_count": 69
        }
      ]
    },
    {
      "cell_type": "markdown",
      "metadata": {
        "id": "KZ8jpDis5xJh"
      },
      "source": [
        "## Бейзлайн"
      ]
    },
    {
      "cell_type": "code",
      "metadata": {
        "id": "bs5ckUn3_eH_"
      },
      "source": [
        "fasttext = gensim.models.KeyedVectors.load(vector_model_path)"
      ],
      "execution_count": 75,
      "outputs": []
    },
    {
      "cell_type": "code",
      "metadata": {
        "id": "_vakvTTp4snh"
      },
      "source": [
        "corpus = pd.read_csv(corpus_path)\n",
        "corpus.dropna(inplace=True)"
      ],
      "execution_count": 93,
      "outputs": []
    },
    {
      "cell_type": "code",
      "metadata": {
        "colab": {
          "base_uri": "https://localhost:8080/"
        },
        "id": "4RCdzYzfaDyZ",
        "outputId": "16b17c46-2e4c-4242-88f2-0b7c47d610c7"
      },
      "source": [
        "len(corpus)"
      ],
      "execution_count": 94,
      "outputs": [
        {
          "output_type": "execute_result",
          "data": {
            "text/plain": [
              "121705"
            ]
          },
          "metadata": {
            "tags": []
          },
          "execution_count": 94
        }
      ]
    },
    {
      "cell_type": "code",
      "metadata": {
        "id": "o7CZtmOR72Db"
      },
      "source": [
        "def get_embeddings(words: list, vector_model=fasttext):\n",
        "    vectors = np.zeros((len(words), 300))\n",
        "    for i, word in enumerate(words):\n",
        "        vector = vector_model[word]\n",
        "        vectors[i] = vector\n",
        "    return vectors"
      ],
      "execution_count": 77,
      "outputs": []
    },
    {
      "cell_type": "code",
      "metadata": {
        "id": "JzLMIwgj7uIb"
      },
      "source": [
        "X = get_embeddings([word for word in corpus.words.values])\n",
        "y = corpus.labels.values"
      ],
      "execution_count": 97,
      "outputs": []
    },
    {
      "cell_type": "code",
      "metadata": {
        "colab": {
          "base_uri": "https://localhost:8080/"
        },
        "id": "z8I9fr_kXL5Y",
        "outputId": "ce7018b1-3d1d-4413-b405-e2a64edf5fd8"
      },
      "source": [
        "X.shape, y.shape"
      ],
      "execution_count": 98,
      "outputs": [
        {
          "output_type": "execute_result",
          "data": {
            "text/plain": [
              "((121705, 300), (121705,))"
            ]
          },
          "metadata": {
            "tags": []
          },
          "execution_count": 98
        }
      ]
    },
    {
      "cell_type": "code",
      "metadata": {
        "id": "4LOhjdUY51b5"
      },
      "source": [
        "X_train, X_test, y_train, y_test = train_test_split(X, y, test_size=0.2, random_state=42)\n",
        "logreg = LogisticRegression().fit(X_train, y_train)"
      ],
      "execution_count": 104,
      "outputs": []
    },
    {
      "cell_type": "code",
      "metadata": {
        "id": "pbMk7lv-Xe7z"
      },
      "source": [
        "y_pred = logreg.predict(X_test)"
      ],
      "execution_count": 105,
      "outputs": []
    },
    {
      "cell_type": "code",
      "metadata": {
        "colab": {
          "base_uri": "https://localhost:8080/"
        },
        "id": "iBbm6CS351Kq",
        "outputId": "542ebf76-1aff-4e91-aa70-c293956d30a1"
      },
      "source": [
        "print(classification_report(y_test, y_pred))"
      ],
      "execution_count": 108,
      "outputs": [
        {
          "output_type": "stream",
          "text": [
            "              precision    recall  f1-score   support\n",
            "\n",
            "           0       0.95      0.99      0.97     22826\n",
            "           1       0.58      0.14      0.23      1515\n",
            "\n",
            "    accuracy                           0.94     24341\n",
            "   macro avg       0.76      0.57      0.60     24341\n",
            "weighted avg       0.92      0.94      0.92     24341\n",
            "\n"
          ],
          "name": "stdout"
        }
      ]
    },
    {
      "cell_type": "code",
      "metadata": {
        "colab": {
          "base_uri": "https://localhost:8080/"
        },
        "id": "1VM8RI8j505N",
        "outputId": "5db2b1dd-462b-4665-facd-773c7afbbac5"
      },
      "source": [
        "f1_score(y_test, y_pred)"
      ],
      "execution_count": 110,
      "outputs": [
        {
          "output_type": "execute_result",
          "data": {
            "text/plain": [
              "0.2252922422954304"
            ]
          },
          "metadata": {
            "tags": []
          },
          "execution_count": 110
        }
      ]
    },
    {
      "cell_type": "code",
      "metadata": {
        "id": "3OcKp8H-50vl"
      },
      "source": [
        ""
      ],
      "execution_count": null,
      "outputs": []
    }
  ]
}