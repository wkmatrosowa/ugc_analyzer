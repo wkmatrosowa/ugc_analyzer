{
  "nbformat": 4,
  "nbformat_minor": 0,
  "metadata": {
    "colab": {
      "name": "obscene_words_detection_functionality.ipynb",
      "provenance": [],
      "collapsed_sections": [],
      "toc_visible": true
    },
    "kernelspec": {
      "name": "python3",
      "display_name": "Python 3"
    }
  },
  "cells": [
    {
      "cell_type": "markdown",
      "metadata": {
        "id": "UOY5CZgZ_zqd"
      },
      "source": [
        "# Определение обсценной лексики"
      ]
    },
    {
      "cell_type": "markdown",
      "metadata": {
        "id": "1kSDlBchABJr"
      },
      "source": [
        "## Загрузки и импорты"
      ]
    },
    {
      "cell_type": "code",
      "metadata": {
        "colab": {
          "base_uri": "https://localhost:8080/"
        },
        "id": "QgT9taUP52SE",
        "outputId": "93e44372-236c-4ad4-acac-e7885792e79a"
      },
      "source": [
        "from google.colab import drive\n",
        "drive.mount('/content/drive')"
      ],
      "execution_count": 1,
      "outputs": [
        {
          "output_type": "stream",
          "text": [
            "Drive already mounted at /content/drive; to attempt to forcibly remount, call drive.mount(\"/content/drive\", force_remount=True).\n"
          ],
          "name": "stdout"
        }
      ]
    },
    {
      "cell_type": "markdown",
      "metadata": {
        "id": "g6jbwRJKAjaa"
      },
      "source": [
        "### Библиотеки"
      ]
    },
    {
      "cell_type": "code",
      "metadata": {
        "colab": {
          "base_uri": "https://localhost:8080/"
        },
        "id": "SRXz0lg0WwBn",
        "outputId": "0f77512d-000a-4919-fbc4-142c6f738e52"
      },
      "source": [
        "!pip install gensim==3.8.1"
      ],
      "execution_count": 1,
      "outputs": [
        {
          "output_type": "stream",
          "text": [
            "Requirement already satisfied: gensim==3.8.1 in /usr/local/lib/python3.7/dist-packages (3.8.1)\n",
            "Requirement already satisfied: smart-open>=1.8.1 in /usr/local/lib/python3.7/dist-packages (from gensim==3.8.1) (4.2.0)\n",
            "Requirement already satisfied: six>=1.5.0 in /usr/local/lib/python3.7/dist-packages (from gensim==3.8.1) (1.15.0)\n",
            "Requirement already satisfied: scipy>=0.18.1 in /usr/local/lib/python3.7/dist-packages (from gensim==3.8.1) (1.4.1)\n",
            "Requirement already satisfied: numpy>=1.11.3 in /usr/local/lib/python3.7/dist-packages (from gensim==3.8.1) (1.19.5)\n"
          ],
          "name": "stdout"
        }
      ]
    },
    {
      "cell_type": "code",
      "metadata": {
        "id": "dXgJq1gB9721"
      },
      "source": [
        "# !pip install --upgrade gensim"
      ],
      "execution_count": null,
      "outputs": []
    },
    {
      "cell_type": "code",
      "metadata": {
        "colab": {
          "base_uri": "https://localhost:8080/"
        },
        "id": "ZXpG1H4z-G_2",
        "outputId": "bd67e7e5-5cec-4bec-895c-e00e5b9b4bd4"
      },
      "source": [
        "!pip install pymorphy2==0.9.1"
      ],
      "execution_count": 2,
      "outputs": [
        {
          "output_type": "stream",
          "text": [
            "Requirement already satisfied: pymorphy2==0.9.1 in /usr/local/lib/python3.7/dist-packages (0.9.1)\n",
            "Requirement already satisfied: pymorphy2-dicts-ru<3.0,>=2.4 in /usr/local/lib/python3.7/dist-packages (from pymorphy2==0.9.1) (2.4.417127.4579844)\n",
            "Requirement already satisfied: docopt>=0.6 in /usr/local/lib/python3.7/dist-packages (from pymorphy2==0.9.1) (0.6.2)\n",
            "Requirement already satisfied: dawg-python>=0.7.1 in /usr/local/lib/python3.7/dist-packages (from pymorphy2==0.9.1) (0.7.2)\n"
          ],
          "name": "stdout"
        }
      ]
    },
    {
      "cell_type": "markdown",
      "metadata": {
        "id": "23TkxHNlAGl6"
      },
      "source": [
        "### Загрузка предобученной векторной модели FastText Araneum Russicum"
      ]
    },
    {
      "cell_type": "code",
      "metadata": {
        "id": "PHCZMBhj90YN",
        "colab": {
          "base_uri": "https://localhost:8080/"
        },
        "outputId": "829ad53c-2ea0-4ad1-c898-a60b698eda1b"
      },
      "source": [
        "!wget https://rusvectores.org/static/models/rusvectores4/fasttext/araneum_none_fasttextcbow_300_5_2018.tgz"
      ],
      "execution_count": 33,
      "outputs": [
        {
          "output_type": "stream",
          "text": [
            "--2021-04-05 09:02:14--  https://rusvectores.org/static/models/rusvectores4/fasttext/araneum_none_fasttextcbow_300_5_2018.tgz\n",
            "Resolving rusvectores.org (rusvectores.org)... 116.203.104.23\n",
            "Connecting to rusvectores.org (rusvectores.org)|116.203.104.23|:443... connected.\n",
            "HTTP request sent, awaiting response... 200 OK\n",
            "Length: 2691248108 (2.5G) [application/x-gzip]\n",
            "Saving to: ‘araneum_none_fasttextcbow_300_5_2018.tgz’\n",
            "\n",
            "araneum_none_fastte 100%[===================>]   2.51G  28.7MB/s    in 90s     \n",
            "\n",
            "2021-04-05 09:03:45 (28.4 MB/s) - ‘araneum_none_fasttextcbow_300_5_2018.tgz’ saved [2691248108/2691248108]\n",
            "\n"
          ],
          "name": "stdout"
        }
      ]
    },
    {
      "cell_type": "markdown",
      "metadata": {
        "id": "tfuyBkQNAp2I"
      },
      "source": [
        "### Импорты"
      ]
    },
    {
      "cell_type": "code",
      "metadata": {
        "colab": {
          "base_uri": "https://localhost:8080/"
        },
        "id": "Z7QkAynp978D",
        "outputId": "abddce67-4ff1-456c-ca83-b7bbb2ecffe3"
      },
      "source": [
        "import tarfile\n",
        "import gensim\n",
        "import pandas as pd\n",
        "import numpy as np\n",
        "import nltk\n",
        "nltk.download('punkt')\n",
        "\n",
        "from gensim.models import KeyedVectors\n",
        "from nltk.tokenize import word_tokenize\n",
        "from sklearn.metrics import f1_score, accuracy_score, classification_report\n",
        "from sklearn.linear_model import LogisticRegression\n",
        "from sklearn.svm import LinearSVC\n",
        "from sklearn.model_selection import KFold, StratifiedKFold, RepeatedStratifiedKFold, GridSearchCV, train_test_split\n",
        "from pymorphy2 import MorphAnalyzer\n",
        "from tqdm import tqdm\n",
        "from string import punctuation\n",
        "\n",
        "tokenizer = nltk.tokenize.WhitespaceTokenizer()\n",
        "morph = MorphAnalyzer()\n",
        "punct = punctuation+'«»—…“”*№–'"
      ],
      "execution_count": 3,
      "outputs": [
        {
          "output_type": "stream",
          "text": [
            "[nltk_data] Downloading package punkt to /root/nltk_data...\n",
            "[nltk_data]   Package punkt is already up-to-date!\n"
          ],
          "name": "stdout"
        }
      ]
    },
    {
      "cell_type": "code",
      "metadata": {
        "id": "csvNSmpf-sc0"
      },
      "source": [
        "vector_archive_path = \"/content/araneum_none_fasttextcbow_300_5_2018.tgz\"\n",
        "vector_model_path = \"/content/araneum_none_fasttextcbow_300_5_2018.model\"\n",
        "model_path = \"/content/drive/MyDrive/thesis_datasets/obscene_detection.model\"\n",
        "obscene_data_path = \"/content/drive/MyDrive/thesis_datasets/obscene_preprocessed_corpus.txt\"\n",
        "not_obscene_data_path = \"/content/drive/MyDrive/thesis_datasets/2ch_corpus_preprocessed.txt\"\n",
        "corpus_path = \"/content/drive/MyDrive/thesis_datasets/obscene_data.csv\""
      ],
      "execution_count": 4,
      "outputs": []
    },
    {
      "cell_type": "code",
      "metadata": {
        "id": "EW5KqB4pAnMb"
      },
      "source": [
        "fasttext_file = tarfile.open(vector_archive_path, \"r\")\n",
        "fasttext_file.extractall()"
      ],
      "execution_count": 34,
      "outputs": []
    },
    {
      "cell_type": "markdown",
      "metadata": {
        "id": "2GE_WhgQ0dJH"
      },
      "source": [
        "## Подготовка корпуса слов для обучения"
      ]
    },
    {
      "cell_type": "code",
      "metadata": {
        "id": "T8mfqrNw97-Y"
      },
      "source": [
        "# with open(obscene_data_path, \"r\") as obscene_data_file:\n",
        "#   obscene_data = obscene_data_file.readlines()"
      ],
      "execution_count": 9,
      "outputs": []
    },
    {
      "cell_type": "code",
      "metadata": {
        "colab": {
          "base_uri": "https://localhost:8080/"
        },
        "id": "QC8Zn6FC_Cwa",
        "outputId": "4a2ba972-338c-46cd-e067-ff58a787d845"
      },
      "source": [
        "# obscene_data[:20]"
      ],
      "execution_count": 10,
      "outputs": [
        {
          "output_type": "execute_result",
          "data": {
            "text/plain": [
              "['6ля\\n',\n",
              " '6ляд\\n',\n",
              " 'fuck\\n',\n",
              " 'pizd\\n',\n",
              " 'pizda\\n',\n",
              " 'pizdah\\n',\n",
              " 'pizdakh\\n',\n",
              " 'pizdam\\n',\n",
              " 'pizdami\\n',\n",
              " 'pizdax\\n',\n",
              " 'pizde\\n',\n",
              " 'pizdoi\\n',\n",
              " 'pizdoj\\n',\n",
              " 'pizdoy\\n',\n",
              " 'pizdu\\n',\n",
              " 'pizdy\\n',\n",
              " 'scheise\\n',\n",
              " 'scheisse\\n',\n",
              " 'shit\\n',\n",
              " 'suck\\n']"
            ]
          },
          "metadata": {
            "tags": []
          },
          "execution_count": 10
        }
      ]
    },
    {
      "cell_type": "code",
      "metadata": {
        "colab": {
          "base_uri": "https://localhost:8080/"
        },
        "id": "PPiDl9iKTkAD",
        "outputId": "69b4654d-fd3d-4aec-b1ff-78b645c85033"
      },
      "source": [
        "# len(obscene_data)"
      ],
      "execution_count": 11,
      "outputs": [
        {
          "output_type": "execute_result",
          "data": {
            "text/plain": [
              "9832"
            ]
          },
          "metadata": {
            "tags": []
          },
          "execution_count": 11
        }
      ]
    },
    {
      "cell_type": "code",
      "metadata": {
        "id": "BOjKc3j9SjtP"
      },
      "source": [
        "# with open(not_obscene_data_path, \"r\") as not_obscene_data_file:\n",
        "#   not_obscene_data = not_obscene_data_file.readlines()"
      ],
      "execution_count": 12,
      "outputs": []
    },
    {
      "cell_type": "code",
      "metadata": {
        "colab": {
          "base_uri": "https://localhost:8080/"
        },
        "id": "6XvBFTHHTKp-",
        "outputId": "b0fa4089-ffc7-4902-f25f-eb4ede699776"
      },
      "source": [
        "# not_obscene_data[:20]"
      ],
      "execution_count": 13,
      "outputs": [
        {
          "output_type": "execute_result",
          "data": {
            "text/plain": [
              "['приближённый\\n',\n",
              " 'хаскеле-то\\n',\n",
              " 'лье\\n',\n",
              " 'плейофф\\n',\n",
              " 'привязывать\\n',\n",
              " 'атб\\n',\n",
              " '3128\\n',\n",
              " 'комуфляж\\n',\n",
              " 'голова-туловище\\n',\n",
              " 'чикаго-кун\\n',\n",
              " 'уберняша\\n',\n",
              " 'редактироваться\\n',\n",
              " 'погаснуть\\n',\n",
              " 'ньюфажига\\n',\n",
              " 'лолмимо\\n',\n",
              " 'aodv\\n',\n",
              " 'efkz@yandex\\n',\n",
              " '60кт\\n',\n",
              " 'military\\n',\n",
              " 'многопользовательский\\n']"
            ]
          },
          "metadata": {
            "tags": []
          },
          "execution_count": 13
        }
      ]
    },
    {
      "cell_type": "code",
      "metadata": {
        "colab": {
          "base_uri": "https://localhost:8080/"
        },
        "id": "caJYD-iATfjt",
        "outputId": "5a6b80dc-81c3-4a88-c272-b23b9b4820e2"
      },
      "source": [
        "# len(not_obscene_data)"
      ],
      "execution_count": 14,
      "outputs": [
        {
          "output_type": "execute_result",
          "data": {
            "text/plain": [
              "114660"
            ]
          },
          "metadata": {
            "tags": []
          },
          "execution_count": 14
        }
      ]
    },
    {
      "cell_type": "code",
      "metadata": {
        "id": "Q4z4G3nd98A_"
      },
      "source": [
        "# def corpus_preprocess(words: list) -> list:\n",
        "    \n",
        "#     words = [word.strip('\\n').strip(punct) for word in words]\n",
        "\n",
        "#     return words"
      ],
      "execution_count": 15,
      "outputs": []
    },
    {
      "cell_type": "code",
      "metadata": {
        "colab": {
          "base_uri": "https://localhost:8080/"
        },
        "id": "vy9zRKMsWufa",
        "outputId": "27db53b1-ebd2-4f02-b188-581abd38b7ae"
      },
      "source": [
        "# obscene_data = corpus_preprocess(obscene_data)\n",
        "# obscene_data[:10]"
      ],
      "execution_count": 16,
      "outputs": [
        {
          "output_type": "execute_result",
          "data": {
            "text/plain": [
              "['6ля',\n",
              " '6ляд',\n",
              " 'fuck',\n",
              " 'pizd',\n",
              " 'pizda',\n",
              " 'pizdah',\n",
              " 'pizdakh',\n",
              " 'pizdam',\n",
              " 'pizdami',\n",
              " 'pizdax']"
            ]
          },
          "metadata": {
            "tags": []
          },
          "execution_count": 16
        }
      ]
    },
    {
      "cell_type": "code",
      "metadata": {
        "id": "TmnBba0o98F8",
        "colab": {
          "base_uri": "https://localhost:8080/"
        },
        "outputId": "75191a35-7604-48de-dbbb-955ce1fc2190"
      },
      "source": [
        "# not_obscene_data = corpus_preprocess(not_obscene_data)\n",
        "# not_obscene_data[:10]"
      ],
      "execution_count": 17,
      "outputs": [
        {
          "output_type": "execute_result",
          "data": {
            "text/plain": [
              "['приближённый',\n",
              " 'хаскеле-то',\n",
              " 'лье',\n",
              " 'плейофф',\n",
              " 'привязывать',\n",
              " 'атб',\n",
              " '3128',\n",
              " 'комуфляж',\n",
              " 'голова-туловище',\n",
              " 'чикаго-кун']"
            ]
          },
          "metadata": {
            "tags": []
          },
          "execution_count": 17
        }
      ]
    },
    {
      "cell_type": "code",
      "metadata": {
        "id": "jLCc2nIi98Kp"
      },
      "source": [
        "# obscene_data = list(set(obscene_data))\n",
        "# not_obscene_data = list(set(not_obscene_data))"
      ],
      "execution_count": 18,
      "outputs": []
    },
    {
      "cell_type": "code",
      "metadata": {
        "id": "lURM0ptW98NI"
      },
      "source": [
        "# obscene_df = pd.DataFrame(data = obscene_data, columns = ['words'])\n",
        "# not_obscene_df = pd.DataFrame(data = not_obscene_data, columns = ['words'])"
      ],
      "execution_count": 19,
      "outputs": []
    },
    {
      "cell_type": "code",
      "metadata": {
        "id": "E1omBbSW98PU"
      },
      "source": [
        "# obscene_df['labels'] = [1 for _ in range(len(obscene_df))]\n",
        "# not_obscene_df['labels'] = [0 for _ in range(len(not_obscene_df))]"
      ],
      "execution_count": 20,
      "outputs": []
    },
    {
      "cell_type": "code",
      "metadata": {
        "colab": {
          "base_uri": "https://localhost:8080/",
          "height": 204
        },
        "id": "es75djwj3GMN",
        "outputId": "96a9de67-4629-4c94-c7cf-9227ff76b2b8"
      },
      "source": [
        "# obscene_df.head()"
      ],
      "execution_count": 21,
      "outputs": [
        {
          "output_type": "execute_result",
          "data": {
            "text/html": [
              "<div>\n",
              "<style scoped>\n",
              "    .dataframe tbody tr th:only-of-type {\n",
              "        vertical-align: middle;\n",
              "    }\n",
              "\n",
              "    .dataframe tbody tr th {\n",
              "        vertical-align: top;\n",
              "    }\n",
              "\n",
              "    .dataframe thead th {\n",
              "        text-align: right;\n",
              "    }\n",
              "</style>\n",
              "<table border=\"1\" class=\"dataframe\">\n",
              "  <thead>\n",
              "    <tr style=\"text-align: right;\">\n",
              "      <th></th>\n",
              "      <th>words</th>\n",
              "      <th>labels</th>\n",
              "    </tr>\n",
              "  </thead>\n",
              "  <tbody>\n",
              "    <tr>\n",
              "      <th>0</th>\n",
              "      <td>пиздодельную</td>\n",
              "      <td>1</td>\n",
              "    </tr>\n",
              "    <tr>\n",
              "      <th>1</th>\n",
              "      <td>пиzdатый</td>\n",
              "      <td>1</td>\n",
              "    </tr>\n",
              "    <tr>\n",
              "      <th>2</th>\n",
              "      <td>перемандяхивать</td>\n",
              "      <td>1</td>\n",
              "    </tr>\n",
              "    <tr>\n",
              "      <th>3</th>\n",
              "      <td>нахуяпростой</td>\n",
              "      <td>1</td>\n",
              "    </tr>\n",
              "    <tr>\n",
              "      <th>4</th>\n",
              "      <td>размудохаться</td>\n",
              "      <td>1</td>\n",
              "    </tr>\n",
              "  </tbody>\n",
              "</table>\n",
              "</div>"
            ],
            "text/plain": [
              "             words  labels\n",
              "0     пиздодельную       1\n",
              "1         пиzdатый       1\n",
              "2  перемандяхивать       1\n",
              "3     нахуяпростой       1\n",
              "4    размудохаться       1"
            ]
          },
          "metadata": {
            "tags": []
          },
          "execution_count": 21
        }
      ]
    },
    {
      "cell_type": "code",
      "metadata": {
        "colab": {
          "base_uri": "https://localhost:8080/",
          "height": 204
        },
        "id": "DTJTbb7v3J4G",
        "outputId": "ecd05bc1-952a-452b-9b1d-bb87d425d9fd"
      },
      "source": [
        "# not_obscene_df.head()"
      ],
      "execution_count": 22,
      "outputs": [
        {
          "output_type": "execute_result",
          "data": {
            "text/html": [
              "<div>\n",
              "<style scoped>\n",
              "    .dataframe tbody tr th:only-of-type {\n",
              "        vertical-align: middle;\n",
              "    }\n",
              "\n",
              "    .dataframe tbody tr th {\n",
              "        vertical-align: top;\n",
              "    }\n",
              "\n",
              "    .dataframe thead th {\n",
              "        text-align: right;\n",
              "    }\n",
              "</style>\n",
              "<table border=\"1\" class=\"dataframe\">\n",
              "  <thead>\n",
              "    <tr style=\"text-align: right;\">\n",
              "      <th></th>\n",
              "      <th>words</th>\n",
              "      <th>labels</th>\n",
              "    </tr>\n",
              "  </thead>\n",
              "  <tbody>\n",
              "    <tr>\n",
              "      <th>0</th>\n",
              "      <td>24фикс</td>\n",
              "      <td>0</td>\n",
              "    </tr>\n",
              "    <tr>\n",
              "      <th>1</th>\n",
              "      <td>prime</td>\n",
              "      <td>0</td>\n",
              "    </tr>\n",
              "    <tr>\n",
              "      <th>2</th>\n",
              "      <td>htmlич</td>\n",
              "      <td>0</td>\n",
              "    </tr>\n",
              "    <tr>\n",
              "      <th>3</th>\n",
              "      <td>полтораста</td>\n",
              "      <td>0</td>\n",
              "    </tr>\n",
              "    <tr>\n",
              "      <th>4</th>\n",
              "      <td>кококок</td>\n",
              "      <td>0</td>\n",
              "    </tr>\n",
              "  </tbody>\n",
              "</table>\n",
              "</div>"
            ],
            "text/plain": [
              "        words  labels\n",
              "0      24фикс       0\n",
              "1       prime       0\n",
              "2      htmlич       0\n",
              "3  полтораста       0\n",
              "4     кококок       0"
            ]
          },
          "metadata": {
            "tags": []
          },
          "execution_count": 22
        }
      ]
    },
    {
      "cell_type": "code",
      "metadata": {
        "id": "FfjYU_Kq98R0"
      },
      "source": [
        "# corpus = pd.concat([obscene_df, not_obscene_df], axis=0)"
      ],
      "execution_count": 23,
      "outputs": []
    },
    {
      "cell_type": "code",
      "metadata": {
        "id": "EPbq7TpC98Ub",
        "colab": {
          "base_uri": "https://localhost:8080/",
          "height": 204
        },
        "outputId": "0eab1f15-2ebd-4c08-914e-7b98f184b830"
      },
      "source": [
        "# corpus.head()"
      ],
      "execution_count": 24,
      "outputs": [
        {
          "output_type": "execute_result",
          "data": {
            "text/html": [
              "<div>\n",
              "<style scoped>\n",
              "    .dataframe tbody tr th:only-of-type {\n",
              "        vertical-align: middle;\n",
              "    }\n",
              "\n",
              "    .dataframe tbody tr th {\n",
              "        vertical-align: top;\n",
              "    }\n",
              "\n",
              "    .dataframe thead th {\n",
              "        text-align: right;\n",
              "    }\n",
              "</style>\n",
              "<table border=\"1\" class=\"dataframe\">\n",
              "  <thead>\n",
              "    <tr style=\"text-align: right;\">\n",
              "      <th></th>\n",
              "      <th>words</th>\n",
              "      <th>labels</th>\n",
              "    </tr>\n",
              "  </thead>\n",
              "  <tbody>\n",
              "    <tr>\n",
              "      <th>0</th>\n",
              "      <td>пиздодельную</td>\n",
              "      <td>1</td>\n",
              "    </tr>\n",
              "    <tr>\n",
              "      <th>1</th>\n",
              "      <td>пиzdатый</td>\n",
              "      <td>1</td>\n",
              "    </tr>\n",
              "    <tr>\n",
              "      <th>2</th>\n",
              "      <td>перемандяхивать</td>\n",
              "      <td>1</td>\n",
              "    </tr>\n",
              "    <tr>\n",
              "      <th>3</th>\n",
              "      <td>нахуяпростой</td>\n",
              "      <td>1</td>\n",
              "    </tr>\n",
              "    <tr>\n",
              "      <th>4</th>\n",
              "      <td>размудохаться</td>\n",
              "      <td>1</td>\n",
              "    </tr>\n",
              "  </tbody>\n",
              "</table>\n",
              "</div>"
            ],
            "text/plain": [
              "             words  labels\n",
              "0     пиздодельную       1\n",
              "1         пиzdатый       1\n",
              "2  перемандяхивать       1\n",
              "3     нахуяпростой       1\n",
              "4    размудохаться       1"
            ]
          },
          "metadata": {
            "tags": []
          },
          "execution_count": 24
        }
      ]
    },
    {
      "cell_type": "code",
      "metadata": {
        "id": "fhg347UN98XI",
        "colab": {
          "base_uri": "https://localhost:8080/"
        },
        "outputId": "857be194-16ff-427f-d783-4458784c3f24"
      },
      "source": [
        "# len(corpus)"
      ],
      "execution_count": 25,
      "outputs": [
        {
          "output_type": "execute_result",
          "data": {
            "text/plain": [
              "124172"
            ]
          },
          "metadata": {
            "tags": []
          },
          "execution_count": 25
        }
      ]
    },
    {
      "cell_type": "code",
      "metadata": {
        "id": "OJg2-n1z98Zi",
        "colab": {
          "base_uri": "https://localhost:8080/"
        },
        "outputId": "cb99fb99-69e7-440d-9788-fb74181cf695"
      },
      "source": [
        "# len(corpus.labels.unique())"
      ],
      "execution_count": 26,
      "outputs": [
        {
          "output_type": "execute_result",
          "data": {
            "text/plain": [
              "2"
            ]
          },
          "metadata": {
            "tags": []
          },
          "execution_count": 26
        }
      ]
    },
    {
      "cell_type": "code",
      "metadata": {
        "id": "prpvK5TM98cG",
        "colab": {
          "base_uri": "https://localhost:8080/"
        },
        "outputId": "c364816a-7c1c-44e6-be50-b6e04fca232e"
      },
      "source": [
        "# corpus.labels.unique()"
      ],
      "execution_count": 27,
      "outputs": [
        {
          "output_type": "execute_result",
          "data": {
            "text/plain": [
              "array([1, 0])"
            ]
          },
          "metadata": {
            "tags": []
          },
          "execution_count": 27
        }
      ]
    },
    {
      "cell_type": "code",
      "metadata": {
        "id": "vFMmW9bM47kU"
      },
      "source": [
        "# corpus = corpus.sample(frac=1)"
      ],
      "execution_count": 28,
      "outputs": []
    },
    {
      "cell_type": "code",
      "metadata": {
        "colab": {
          "base_uri": "https://localhost:8080/",
          "height": 204
        },
        "id": "ixaLopIs4_H-",
        "outputId": "ec35dd08-207e-4937-c781-be00bedd4413"
      },
      "source": [
        "# corpus.head()"
      ],
      "execution_count": 29,
      "outputs": [
        {
          "output_type": "execute_result",
          "data": {
            "text/html": [
              "<div>\n",
              "<style scoped>\n",
              "    .dataframe tbody tr th:only-of-type {\n",
              "        vertical-align: middle;\n",
              "    }\n",
              "\n",
              "    .dataframe tbody tr th {\n",
              "        vertical-align: top;\n",
              "    }\n",
              "\n",
              "    .dataframe thead th {\n",
              "        text-align: right;\n",
              "    }\n",
              "</style>\n",
              "<table border=\"1\" class=\"dataframe\">\n",
              "  <thead>\n",
              "    <tr style=\"text-align: right;\">\n",
              "      <th></th>\n",
              "      <th>words</th>\n",
              "      <th>labels</th>\n",
              "    </tr>\n",
              "  </thead>\n",
              "  <tbody>\n",
              "    <tr>\n",
              "      <th>55395</th>\n",
              "      <td>has</td>\n",
              "      <td>0</td>\n",
              "    </tr>\n",
              "    <tr>\n",
              "      <th>1559</th>\n",
              "      <td>выпиздошить</td>\n",
              "      <td>1</td>\n",
              "    </tr>\n",
              "    <tr>\n",
              "      <th>15179</th>\n",
              "      <td>обстаятельство</td>\n",
              "      <td>0</td>\n",
              "    </tr>\n",
              "    <tr>\n",
              "      <th>32323</th>\n",
              "      <td>dvach</td>\n",
              "      <td>0</td>\n",
              "    </tr>\n",
              "    <tr>\n",
              "      <th>45738</th>\n",
              "      <td>суккубик</td>\n",
              "      <td>0</td>\n",
              "    </tr>\n",
              "  </tbody>\n",
              "</table>\n",
              "</div>"
            ],
            "text/plain": [
              "                words  labels\n",
              "55395             has       0\n",
              "1559      выпиздошить       1\n",
              "15179  обстаятельство       0\n",
              "32323           dvach       0\n",
              "45738        суккубик       0"
            ]
          },
          "metadata": {
            "tags": []
          },
          "execution_count": 29
        }
      ]
    },
    {
      "cell_type": "code",
      "metadata": {
        "id": "eekpeUPr98e_"
      },
      "source": [
        "# corpus.to_csv(corpus_path)"
      ],
      "execution_count": 30,
      "outputs": []
    },
    {
      "cell_type": "code",
      "metadata": {
        "colab": {
          "base_uri": "https://localhost:8080/"
        },
        "id": "S4J1ohqb4p7e",
        "outputId": "d784d098-67e1-46d1-e57f-e1e1162bc414"
      },
      "source": [
        "# len(corpus)"
      ],
      "execution_count": 31,
      "outputs": [
        {
          "output_type": "execute_result",
          "data": {
            "text/plain": [
              "124172"
            ]
          },
          "metadata": {
            "tags": []
          },
          "execution_count": 31
        }
      ]
    },
    {
      "cell_type": "markdown",
      "metadata": {
        "id": "KZ8jpDis5xJh"
      },
      "source": [
        "## Бейзлайн"
      ]
    },
    {
      "cell_type": "code",
      "metadata": {
        "id": "bs5ckUn3_eH_"
      },
      "source": [
        "fasttext = KeyedVectors.load(vector_model_path)"
      ],
      "execution_count": 5,
      "outputs": []
    },
    {
      "cell_type": "code",
      "metadata": {
        "id": "_vakvTTp4snh"
      },
      "source": [
        "corpus = pd.read_csv(corpus_path)\n",
        "corpus.dropna(inplace=True)"
      ],
      "execution_count": 56,
      "outputs": []
    },
    {
      "cell_type": "code",
      "metadata": {
        "colab": {
          "base_uri": "https://localhost:8080/"
        },
        "id": "4RCdzYzfaDyZ",
        "outputId": "b5dafb47-6dd8-48cc-b906-08e7e305e18a"
      },
      "source": [
        "len(corpus)"
      ],
      "execution_count": 57,
      "outputs": [
        {
          "output_type": "execute_result",
          "data": {
            "text/plain": [
              "124171"
            ]
          },
          "metadata": {
            "tags": []
          },
          "execution_count": 57
        }
      ]
    },
    {
      "cell_type": "code",
      "metadata": {
        "id": "o7CZtmOR72Db"
      },
      "source": [
        "def get_embeddings(words: list, vector_model=fasttext):\n",
        "    vectors = np.zeros((len(words), 300))\n",
        "    for i, word in enumerate(words):\n",
        "        vector = vector_model[word]\n",
        "        vectors[i] = vector\n",
        "    return vectors"
      ],
      "execution_count": 58,
      "outputs": []
    },
    {
      "cell_type": "code",
      "metadata": {
        "id": "JzLMIwgj7uIb"
      },
      "source": [
        "X = get_embeddings([word for word in corpus.words.values])\n",
        "y = corpus.labels.values"
      ],
      "execution_count": 59,
      "outputs": []
    },
    {
      "cell_type": "code",
      "metadata": {
        "colab": {
          "base_uri": "https://localhost:8080/"
        },
        "id": "z8I9fr_kXL5Y",
        "outputId": "d854e97f-8501-4821-ca08-003b72923683"
      },
      "source": [
        "X.shape, y.shape"
      ],
      "execution_count": 60,
      "outputs": [
        {
          "output_type": "execute_result",
          "data": {
            "text/plain": [
              "((124171, 300), (124171,))"
            ]
          },
          "metadata": {
            "tags": []
          },
          "execution_count": 60
        }
      ]
    },
    {
      "cell_type": "code",
      "metadata": {
        "id": "4LOhjdUY51b5"
      },
      "source": [
        "X_train, X_test, y_train, y_test = train_test_split(X, y, test_size=0.2, random_state=42)\n",
        "logreg = LogisticRegression().fit(X_train, y_train)"
      ],
      "execution_count": null,
      "outputs": []
    },
    {
      "cell_type": "code",
      "metadata": {
        "id": "pbMk7lv-Xe7z"
      },
      "source": [
        "y_pred = logreg.predict(X_test)"
      ],
      "execution_count": 62,
      "outputs": []
    },
    {
      "cell_type": "code",
      "metadata": {
        "colab": {
          "base_uri": "https://localhost:8080/"
        },
        "id": "iBbm6CS351Kq",
        "outputId": "fad62ab3-4cca-4dd5-d45f-502cc8d4be54"
      },
      "source": [
        "print(classification_report(y_test, y_pred))"
      ],
      "execution_count": 63,
      "outputs": [
        {
          "output_type": "stream",
          "text": [
            "              precision    recall  f1-score   support\n",
            "\n",
            "           0       0.94      0.99      0.96     22871\n",
            "           1       0.71      0.20      0.31      1964\n",
            "\n",
            "    accuracy                           0.93     24835\n",
            "   macro avg       0.82      0.60      0.64     24835\n",
            "weighted avg       0.92      0.93      0.91     24835\n",
            "\n"
          ],
          "name": "stdout"
        }
      ]
    },
    {
      "cell_type": "code",
      "metadata": {
        "colab": {
          "base_uri": "https://localhost:8080/"
        },
        "id": "1VM8RI8j505N",
        "outputId": "5bea2d6f-c8b4-455a-a6d5-b0ef7ad02319"
      },
      "source": [
        "f1_score(y_test, y_pred)"
      ],
      "execution_count": 64,
      "outputs": [
        {
          "output_type": "execute_result",
          "data": {
            "text/plain": [
              "0.310934393638171"
            ]
          },
          "metadata": {
            "tags": []
          },
          "execution_count": 64
        }
      ]
    },
    {
      "cell_type": "markdown",
      "metadata": {
        "id": "whEUWeHO3cNz"
      },
      "source": [
        "## Эксперимент по нормализации данных"
      ]
    },
    {
      "cell_type": "code",
      "metadata": {
        "colab": {
          "base_uri": "https://localhost:8080/",
          "height": 300
        },
        "id": "a90lD26N8kvg",
        "outputId": "6be0fd01-9d57-480b-972f-cfe22610e763"
      },
      "source": [
        "import seaborn as sns\n",
        "\n",
        "sns.countplot(x='labels', data=corpus)"
      ],
      "execution_count": 19,
      "outputs": [
        {
          "output_type": "execute_result",
          "data": {
            "text/plain": [
              "<matplotlib.axes._subplots.AxesSubplot at 0x7ff4d4af1750>"
            ]
          },
          "metadata": {
            "tags": []
          },
          "execution_count": 19
        },
        {
          "output_type": "display_data",
          "data": {
            "image/png": "[encoded data removed]",
            "text/plain": [
              "<Figure size 432x288 with 1 Axes>"
            ]
          },
          "metadata": {
            "tags": [],
            "needs_background": "light"
          }
        }
      ]
    },
    {
      "cell_type": "code",
      "metadata": {
        "id": "VoJVTzlE3keh"
      },
      "source": [
        "obscene = corpus[corpus.labels == 1]\n",
        "not_obscene = corpus[corpus.labels == 0]"
      ],
      "execution_count": 20,
      "outputs": []
    },
    {
      "cell_type": "code",
      "metadata": {
        "colab": {
          "base_uri": "https://localhost:8080/"
        },
        "id": "eI3hVoHF3lCR",
        "outputId": "50315f2f-3d1f-4518-cefc-880e7717e561"
      },
      "source": [
        "len(obscene)"
      ],
      "execution_count": 9,
      "outputs": [
        {
          "output_type": "execute_result",
          "data": {
            "text/plain": [
              "9799"
            ]
          },
          "metadata": {
            "tags": []
          },
          "execution_count": 9
        }
      ]
    },
    {
      "cell_type": "code",
      "metadata": {
        "colab": {
          "base_uri": "https://localhost:8080/"
        },
        "id": "H493wund4TDl",
        "outputId": "02958eb8-3556-4507-f5ac-1aebfee35b4d"
      },
      "source": [
        "len(not_obscene)"
      ],
      "execution_count": 10,
      "outputs": [
        {
          "output_type": "execute_result",
          "data": {
            "text/plain": [
              "114372"
            ]
          },
          "metadata": {
            "tags": []
          },
          "execution_count": 10
        }
      ]
    },
    {
      "cell_type": "code",
      "metadata": {
        "id": "qLnedIxN4SsI"
      },
      "source": [
        "not_obscene = not_obscene.sample(13000, random_state=42)"
      ],
      "execution_count": 21,
      "outputs": []
    },
    {
      "cell_type": "code",
      "metadata": {
        "id": "waqs32Z24SaC"
      },
      "source": [
        "corpus = pd.concat([obscene, not_obscene]).sample(frac=1)"
      ],
      "execution_count": 22,
      "outputs": []
    },
    {
      "cell_type": "code",
      "metadata": {
        "colab": {
          "base_uri": "https://localhost:8080/",
          "height": 204
        },
        "id": "W-IosXGm3ku6",
        "outputId": "b19c515c-22f5-45a4-f01a-09e70d227427"
      },
      "source": [
        "corpus.head()"
      ],
      "execution_count": 23,
      "outputs": [
        {
          "output_type": "execute_result",
          "data": {
            "text/html": [
              "<div>\n",
              "<style scoped>\n",
              "    .dataframe tbody tr th:only-of-type {\n",
              "        vertical-align: middle;\n",
              "    }\n",
              "\n",
              "    .dataframe tbody tr th {\n",
              "        vertical-align: top;\n",
              "    }\n",
              "\n",
              "    .dataframe thead th {\n",
              "        text-align: right;\n",
              "    }\n",
              "</style>\n",
              "<table border=\"1\" class=\"dataframe\">\n",
              "  <thead>\n",
              "    <tr style=\"text-align: right;\">\n",
              "      <th></th>\n",
              "      <th>Unnamed: 0</th>\n",
              "      <th>words</th>\n",
              "      <th>labels</th>\n",
              "    </tr>\n",
              "  </thead>\n",
              "  <tbody>\n",
              "    <tr>\n",
              "      <th>91350</th>\n",
              "      <td>24951</td>\n",
              "      <td>хорват</td>\n",
              "      <td>0</td>\n",
              "    </tr>\n",
              "    <tr>\n",
              "      <th>90098</th>\n",
              "      <td>110946</td>\n",
              "      <td>чупачупс</td>\n",
              "      <td>0</td>\n",
              "    </tr>\n",
              "    <tr>\n",
              "      <th>116420</th>\n",
              "      <td>6260</td>\n",
              "      <td>тупиздень</td>\n",
              "      <td>1</td>\n",
              "    </tr>\n",
              "    <tr>\n",
              "      <th>68917</th>\n",
              "      <td>94795</td>\n",
              "      <td>веке&gt;засада</td>\n",
              "      <td>0</td>\n",
              "    </tr>\n",
              "    <tr>\n",
              "      <th>39250</th>\n",
              "      <td>97484</td>\n",
              "      <td>шаталов</td>\n",
              "      <td>0</td>\n",
              "    </tr>\n",
              "  </tbody>\n",
              "</table>\n",
              "</div>"
            ],
            "text/plain": [
              "        Unnamed: 0        words  labels\n",
              "91350        24951       хорват       0\n",
              "90098       110946     чупачупс       0\n",
              "116420        6260    тупиздень       1\n",
              "68917        94795  веке>засада       0\n",
              "39250        97484      шаталов       0"
            ]
          },
          "metadata": {
            "tags": []
          },
          "execution_count": 23
        }
      ]
    },
    {
      "cell_type": "code",
      "metadata": {
        "id": "3OcKp8H-50vl",
        "colab": {
          "base_uri": "https://localhost:8080/"
        },
        "outputId": "ccc84de7-73a3-4565-88c5-f35696f2ca54"
      },
      "source": [
        "len(corpus)"
      ],
      "execution_count": 24,
      "outputs": [
        {
          "output_type": "execute_result",
          "data": {
            "text/plain": [
              "22799"
            ]
          },
          "metadata": {
            "tags": []
          },
          "execution_count": 24
        }
      ]
    },
    {
      "cell_type": "code",
      "metadata": {
        "colab": {
          "base_uri": "https://localhost:8080/",
          "height": 296
        },
        "id": "lH0FWo5b-Gaz",
        "outputId": "a428322c-4f03-4e2d-e130-1bcfb6613f95"
      },
      "source": [
        "sns.countplot(x='labels', data=corpus)"
      ],
      "execution_count": 25,
      "outputs": [
        {
          "output_type": "execute_result",
          "data": {
            "text/plain": [
              "<matplotlib.axes._subplots.AxesSubplot at 0x7ff4d4bddbd0>"
            ]
          },
          "metadata": {
            "tags": []
          },
          "execution_count": 25
        },
        {
          "output_type": "display_data",
          "data": {
            "image/png": "[encoded data removed]",
            "text/plain": [
              "<Figure size 432x288 with 1 Axes>"
            ]
          },
          "metadata": {
            "tags": [],
            "needs_background": "light"
          }
        }
      ]
    },
    {
      "cell_type": "code",
      "metadata": {
        "id": "u7PFZ05m4piW"
      },
      "source": [
        "X = get_embeddings(corpus.words.values.tolist())\n",
        "y = corpus.labels.values"
      ],
      "execution_count": 26,
      "outputs": []
    },
    {
      "cell_type": "code",
      "metadata": {
        "colab": {
          "base_uri": "https://localhost:8080/"
        },
        "id": "b4bQM5X56Rll",
        "outputId": "a7b6b2e9-b3b8-4723-f6ba-921d0d2f31c9"
      },
      "source": [
        "X.shape, y.shape"
      ],
      "execution_count": 27,
      "outputs": [
        {
          "output_type": "execute_result",
          "data": {
            "text/plain": [
              "((22799, 300), (22799,))"
            ]
          },
          "metadata": {
            "tags": []
          },
          "execution_count": 27
        }
      ]
    },
    {
      "cell_type": "code",
      "metadata": {
        "id": "yTBgmnAnpAKr"
      },
      "source": [
        "X_train, X_test, y_train, y_test = train_test_split(X, y, test_size=0.2, random_state=42)"
      ],
      "execution_count": 28,
      "outputs": []
    },
    {
      "cell_type": "code",
      "metadata": {
        "id": "2jmeieIT6RHK"
      },
      "source": [
        "logreg = LogisticRegression().fit(X_train, y_train)"
      ],
      "execution_count": null,
      "outputs": []
    },
    {
      "cell_type": "code",
      "metadata": {
        "id": "rKMjk8bn4pGY"
      },
      "source": [
        "y_pred = logreg.predict(X_test)"
      ],
      "execution_count": null,
      "outputs": []
    },
    {
      "cell_type": "code",
      "metadata": {
        "colab": {
          "base_uri": "https://localhost:8080/"
        },
        "id": "akI98Ble6X-j",
        "outputId": "864e172d-a5e9-4201-d80a-62fad51c3776"
      },
      "source": [
        "print(classification_report(y_test, y_pred))"
      ],
      "execution_count": null,
      "outputs": [
        {
          "output_type": "stream",
          "text": [
            "              precision    recall  f1-score   support\n",
            "\n",
            "           0       0.81      0.89      0.85      2606\n",
            "           1       0.84      0.73      0.78      1954\n",
            "\n",
            "    accuracy                           0.82      4560\n",
            "   macro avg       0.83      0.81      0.82      4560\n",
            "weighted avg       0.82      0.82      0.82      4560\n",
            "\n"
          ],
          "name": "stdout"
        }
      ]
    },
    {
      "cell_type": "code",
      "metadata": {
        "colab": {
          "base_uri": "https://localhost:8080/"
        },
        "id": "JZHThkou6XtB",
        "outputId": "a910799b-7520-4a80-aaaf-e8642ab8e84c"
      },
      "source": [
        "f1_score(y_test, y_pred)"
      ],
      "execution_count": null,
      "outputs": [
        {
          "output_type": "execute_result",
          "data": {
            "text/plain": [
              "0.7792349726775956"
            ]
          },
          "metadata": {
            "tags": []
          },
          "execution_count": 105
        }
      ]
    },
    {
      "cell_type": "markdown",
      "metadata": {
        "id": "j_rwoJ5b4JQQ"
      },
      "source": [
        "## Эксперимент с подбором параметров для логистической регрессии"
      ]
    },
    {
      "cell_type": "code",
      "metadata": {
        "id": "x-nHgXN5-dX9"
      },
      "source": [
        "n_fold = 5\n",
        "folds = KFold(n_splits=n_fold, shuffle=True, random_state=0)\n",
        "stratified_folds = StratifiedKFold(n_splits=n_fold, shuffle=True, random_state=0)"
      ],
      "execution_count": 35,
      "outputs": []
    },
    {
      "cell_type": "code",
      "metadata": {
        "id": "R9_78bvK-dqC"
      },
      "source": [
        "def make_grid_search(X_train, y_train, model=None, params_grid={'': []}, scoring='', n_jobs=0, folds=folds):\n",
        "  grid_search = GridSearchCV(model, param_grid=params_grid, cv=folds, scoring=scoring, n_jobs=n_jobs)\n",
        "  grid_search.fit(X_train, y_train)\n",
        "  print(f'Model name: {model}')\n",
        "  print(f'Best score: {grid_search.best_score_}')\n",
        "  print(f'Best parameters: {grid_search.best_params_}')\n",
        "  return grid_search.best_params_"
      ],
      "execution_count": 36,
      "outputs": []
    },
    {
      "cell_type": "code",
      "metadata": {
        "id": "9uyH45lFnk-B"
      },
      "source": [
        "parameters_logreg = {'class_weight' : ['balanced', None],\n",
        "                  'penalty' : ['l1', 'l2', 'elasticnet', 'none'],\n",
        "                  'solver' : ['newton-cg', 'lbfgs', 'liblinear', 'sag', 'saga'],\n",
        "                  'C' : [0.15, 1.0, 10.0, 100.0],\n",
        "                  'max_iter': [10,50,100]\n",
        "                 }"
      ],
      "execution_count": null,
      "outputs": []
    },
    {
      "cell_type": "code",
      "metadata": {
        "id": "4WDHnpyDocu_"
      },
      "source": [
        "logreg = LogisticRegression(random_state=42)"
      ],
      "execution_count": null,
      "outputs": []
    },
    {
      "cell_type": "code",
      "metadata": {
        "colab": {
          "base_uri": "https://localhost:8080/"
        },
        "id": "9B80LFWR-dGc",
        "outputId": "d7a2a81e-ec36-4be0-afbb-8aa7f0eeadb2"
      },
      "source": [
        "%%time\n",
        "best_params_folds = make_grid_search(X_train, y_train, logreg, parameters_logreg, 'f1_macro', n_jobs=5, folds=folds)"
      ],
      "execution_count": null,
      "outputs": [
        {
          "output_type": "stream",
          "text": [
            "/usr/local/lib/python3.7/dist-packages/sklearn/linear_model/_logistic.py:1505: UserWarning: Setting penalty='none' will ignore the C and l1_ratio parameters\n",
            "  \"Setting penalty='none' will ignore the C and l1_ratio \"\n"
          ],
          "name": "stderr"
        },
        {
          "output_type": "stream",
          "text": [
            "Best score: 0.8432978345035046\n",
            "Best parameters: {'C': 0.15, 'class_weight': 'balanced', 'max_iter': 10, 'penalty': 'none', 'solver': 'saga'}\n",
            "CPU times: user 12.8 s, sys: 1.14 s, total: 13.9 s\n",
            "Wall time: 29min 13s\n"
          ],
          "name": "stdout"
        },
        {
          "output_type": "stream",
          "text": [
            "/usr/local/lib/python3.7/dist-packages/sklearn/linear_model/_sag.py:330: ConvergenceWarning: The max_iter was reached which means the coef_ did not converge\n",
            "  \"the coef_ did not converge\", ConvergenceWarning)\n"
          ],
          "name": "stderr"
        }
      ]
    },
    {
      "cell_type": "code",
      "metadata": {
        "colab": {
          "base_uri": "https://localhost:8080/"
        },
        "id": "f2cOlellbCig",
        "outputId": "6a7f5fa8-7bc6-43ba-c404-0d639da09f16"
      },
      "source": [
        "best_params_folds"
      ],
      "execution_count": null,
      "outputs": [
        {
          "output_type": "execute_result",
          "data": {
            "text/plain": [
              "{'C': 0.15,\n",
              " 'class_weight': 'balanced',\n",
              " 'max_iter': 10,\n",
              " 'penalty': 'none',\n",
              " 'solver': 'saga'}"
            ]
          },
          "metadata": {
            "tags": []
          },
          "execution_count": 111
        }
      ]
    },
    {
      "cell_type": "code",
      "metadata": {
        "colab": {
          "base_uri": "https://localhost:8080/"
        },
        "id": "TOJG_zbooaJb",
        "outputId": "446a0298-aeec-4020-e9c3-956c3a1b777a"
      },
      "source": [
        "%%time\n",
        "best_params_stratified_folds = make_grid_search(X_train, y_train, logreg, parameters_logreg, 'f1_macro', n_jobs=5, folds=stratified_folds)"
      ],
      "execution_count": null,
      "outputs": [
        {
          "output_type": "stream",
          "text": [
            "Best score: 0.8436269059601678\n",
            "Best parameters: {'C': 100.0, 'class_weight': 'balanced', 'max_iter': 100, 'penalty': 'l2', 'solver': 'lbfgs'}\n",
            "CPU times: user 14.1 s, sys: 1.07 s, total: 15.2 s\n",
            "Wall time: 27min 19s\n"
          ],
          "name": "stdout"
        },
        {
          "output_type": "stream",
          "text": [
            "/usr/local/lib/python3.7/dist-packages/sklearn/linear_model/_logistic.py:940: ConvergenceWarning: lbfgs failed to converge (status=1):\n",
            "STOP: TOTAL NO. of ITERATIONS REACHED LIMIT.\n",
            "\n",
            "Increase the number of iterations (max_iter) or scale the data as shown in:\n",
            "    https://scikit-learn.org/stable/modules/preprocessing.html\n",
            "Please also refer to the documentation for alternative solver options:\n",
            "    https://scikit-learn.org/stable/modules/linear_model.html#logistic-regression\n",
            "  extra_warning_msg=_LOGISTIC_SOLVER_CONVERGENCE_MSG)\n"
          ],
          "name": "stderr"
        }
      ]
    },
    {
      "cell_type": "code",
      "metadata": {
        "colab": {
          "base_uri": "https://localhost:8080/"
        },
        "id": "elF6PRGJbGI3",
        "outputId": "fba4810b-dae1-421f-ceea-b6e59ac35f56"
      },
      "source": [
        "best_params_stratified_folds"
      ],
      "execution_count": null,
      "outputs": [
        {
          "output_type": "execute_result",
          "data": {
            "text/plain": [
              "{'C': 100.0,\n",
              " 'class_weight': 'balanced',\n",
              " 'max_iter': 100,\n",
              " 'penalty': 'l2',\n",
              " 'solver': 'lbfgs'}"
            ]
          },
          "metadata": {
            "tags": []
          },
          "execution_count": 114
        }
      ]
    },
    {
      "cell_type": "code",
      "metadata": {
        "id": "rvKXZL2GmGqT"
      },
      "source": [
        "best_params_stratified_folds['random_state'] = 42"
      ],
      "execution_count": 49,
      "outputs": []
    },
    {
      "cell_type": "code",
      "metadata": {
        "id": "taqFaSSAmAlI"
      },
      "source": [
        "logreg = LogisticRegression(**best_params_stratified_folds).fit(X_train, y_train)"
      ],
      "execution_count": null,
      "outputs": []
    },
    {
      "cell_type": "code",
      "metadata": {
        "id": "xyrO8Ho1mTO5"
      },
      "source": [
        "y_pred = logreg.predict(X_test)"
      ],
      "execution_count": 52,
      "outputs": []
    },
    {
      "cell_type": "code",
      "metadata": {
        "colab": {
          "base_uri": "https://localhost:8080/"
        },
        "id": "CPZNl6urmV6I",
        "outputId": "681a8d6f-b63a-4122-c06c-df331f4701b0"
      },
      "source": [
        "print(classification_report(y_test, y_pred))"
      ],
      "execution_count": 53,
      "outputs": [
        {
          "output_type": "stream",
          "text": [
            "              precision    recall  f1-score   support\n",
            "\n",
            "           0       0.88      0.85      0.87      2585\n",
            "           1       0.81      0.85      0.83      1975\n",
            "\n",
            "    accuracy                           0.85      4560\n",
            "   macro avg       0.85      0.85      0.85      4560\n",
            "weighted avg       0.85      0.85      0.85      4560\n",
            "\n"
          ],
          "name": "stdout"
        }
      ]
    },
    {
      "cell_type": "code",
      "metadata": {
        "colab": {
          "base_uri": "https://localhost:8080/"
        },
        "id": "vw1QnbEhmYly",
        "outputId": "686db66d-158d-421f-fa25-d086974b3bec"
      },
      "source": [
        "f1_score(y_test, y_pred)"
      ],
      "execution_count": 54,
      "outputs": [
        {
          "output_type": "execute_result",
          "data": {
            "text/plain": [
              "0.8303948348646635"
            ]
          },
          "metadata": {
            "tags": []
          },
          "execution_count": 54
        }
      ]
    },
    {
      "cell_type": "markdown",
      "metadata": {
        "id": "LaNC724dRd6e"
      },
      "source": [
        "## Эксперимент с использованием метода опорных векторов на нормализованных данных"
      ]
    },
    {
      "cell_type": "code",
      "metadata": {
        "id": "8hgAWQJ5RdLA"
      },
      "source": [
        "from sklearn.svm import LinearSVC"
      ],
      "execution_count": 29,
      "outputs": []
    },
    {
      "cell_type": "code",
      "metadata": {
        "id": "hdI_rvStRobn"
      },
      "source": [
        "linearsvc = LinearSVC().fit(X_train, y_train)"
      ],
      "execution_count": 30,
      "outputs": []
    },
    {
      "cell_type": "code",
      "metadata": {
        "id": "FLFXbD6BYHL7"
      },
      "source": [
        "y_pred = linearsvc.predict(X_test)"
      ],
      "execution_count": 32,
      "outputs": []
    },
    {
      "cell_type": "code",
      "metadata": {
        "colab": {
          "base_uri": "https://localhost:8080/"
        },
        "id": "_vPqpB6_YR4n",
        "outputId": "845fb0e4-1b2e-4c4b-af19-ea7dd1003b35"
      },
      "source": [
        "print(classification_report(y_test, y_pred))"
      ],
      "execution_count": 33,
      "outputs": [
        {
          "output_type": "stream",
          "text": [
            "              precision    recall  f1-score   support\n",
            "\n",
            "           0       0.84      0.90      0.87      2585\n",
            "           1       0.85      0.78      0.82      1975\n",
            "\n",
            "    accuracy                           0.85      4560\n",
            "   macro avg       0.85      0.84      0.84      4560\n",
            "weighted avg       0.85      0.85      0.85      4560\n",
            "\n"
          ],
          "name": "stdout"
        }
      ]
    },
    {
      "cell_type": "code",
      "metadata": {
        "colab": {
          "base_uri": "https://localhost:8080/"
        },
        "id": "pv2ymgYlYVol",
        "outputId": "55460441-06b0-4872-f87a-09c8e51e086e"
      },
      "source": [
        "f1_score(y_test, y_pred)"
      ],
      "execution_count": 34,
      "outputs": [
        {
          "output_type": "execute_result",
          "data": {
            "text/plain": [
              "0.8150883671854392"
            ]
          },
          "metadata": {
            "tags": []
          },
          "execution_count": 34
        }
      ]
    },
    {
      "cell_type": "code",
      "metadata": {
        "colab": {
          "base_uri": "https://localhost:8080/"
        },
        "id": "5NnMwTzamdQM",
        "outputId": "734c12e6-6934-4df9-cb90-ffbeab5b03b1"
      },
      "source": [
        "accuracy_score(y_test, y_pred)"
      ],
      "execution_count": 55,
      "outputs": [
        {
          "output_type": "execute_result",
          "data": {
            "text/plain": [
              "0.850219298245614"
            ]
          },
          "metadata": {
            "tags": []
          },
          "execution_count": 55
        }
      ]
    },
    {
      "cell_type": "markdown",
      "metadata": {
        "id": "QXl7x2w0YkBS"
      },
      "source": [
        "## Эксперимент с подбором параметров для метода опорных векторов"
      ]
    },
    {
      "cell_type": "code",
      "metadata": {
        "id": "K57qdpbWYdyY"
      },
      "source": [
        "parameters_linear_svc = {'loss': [\"hinge\", \"squared_hinge\"],\n",
        "                  'penalty' : ['l1', 'l2'],\n",
        "                  'C' : [0.15, 1.0, 10.0, 100.0],\n",
        "                  'class_weight' : ['balanced', None],\n",
        "                    'tol': [1e-2, 1e-3, 1e-4]}  "
      ],
      "execution_count": 37,
      "outputs": []
    },
    {
      "cell_type": "code",
      "metadata": {
        "id": "xxyfmOmLYjWg"
      },
      "source": [
        "linearsvc = LinearSVC(random_state=42)"
      ],
      "execution_count": 38,
      "outputs": []
    },
    {
      "cell_type": "code",
      "metadata": {
        "colab": {
          "base_uri": "https://localhost:8080/"
        },
        "id": "0eokipHJY5W_",
        "outputId": "3f3ca9df-e0d7-452f-b878-f29845a1ceee"
      },
      "source": [
        "%%time\n",
        "best_params_folds = make_grid_search(X_train, y_train, linearsvc, parameters_linear_svc, 'f1_macro', n_jobs=5, folds=folds)"
      ],
      "execution_count": 39,
      "outputs": [
        {
          "output_type": "stream",
          "text": [
            "Model name: LinearSVC(C=1.0, class_weight=None, dual=True, fit_intercept=True,\n",
            "          intercept_scaling=1, loss='squared_hinge', max_iter=1000,\n",
            "          multi_class='ovr', penalty='l2', random_state=42, tol=0.0001,\n",
            "          verbose=0)\n",
            "Best score: 0.8468222700241345\n",
            "Best parameters: {'C': 100.0, 'class_weight': 'balanced', 'loss': 'hinge', 'penalty': 'l2', 'tol': 0.01}\n",
            "CPU times: user 13.1 s, sys: 852 ms, total: 13.9 s\n",
            "Wall time: 12min 14s\n"
          ],
          "name": "stdout"
        },
        {
          "output_type": "stream",
          "text": [
            "/usr/local/lib/python3.7/dist-packages/sklearn/svm/_base.py:947: ConvergenceWarning: Liblinear failed to converge, increase the number of iterations.\n",
            "  \"the number of iterations.\", ConvergenceWarning)\n"
          ],
          "name": "stderr"
        }
      ]
    },
    {
      "cell_type": "code",
      "metadata": {
        "colab": {
          "base_uri": "https://localhost:8080/"
        },
        "id": "51771B8wY9dO",
        "outputId": "f34feacf-8c49-4fd0-cf7a-bf872465ac36"
      },
      "source": [
        "best_params_folds"
      ],
      "execution_count": 40,
      "outputs": [
        {
          "output_type": "execute_result",
          "data": {
            "text/plain": [
              "{'C': 100.0,\n",
              " 'class_weight': 'balanced',\n",
              " 'loss': 'hinge',\n",
              " 'penalty': 'l2',\n",
              " 'tol': 0.01}"
            ]
          },
          "metadata": {
            "tags": []
          },
          "execution_count": 40
        }
      ]
    },
    {
      "cell_type": "code",
      "metadata": {
        "colab": {
          "base_uri": "https://localhost:8080/"
        },
        "id": "l5iPjz3QZA2h",
        "outputId": "aa6c18e7-2213-4a1a-b32d-e7f1130143ef"
      },
      "source": [
        "%%time\n",
        "best_params_stratified_folds = make_grid_search(X_train, y_train, linearsvc, parameters_linear_svc, 'f1_macro', n_jobs=5, folds=stratified_folds)"
      ],
      "execution_count": 41,
      "outputs": [
        {
          "output_type": "stream",
          "text": [
            "Model name: LinearSVC(C=1.0, class_weight=None, dual=True, fit_intercept=True,\n",
            "          intercept_scaling=1, loss='squared_hinge', max_iter=1000,\n",
            "          multi_class='ovr', penalty='l2', random_state=42, tol=0.0001,\n",
            "          verbose=0)\n",
            "Best score: 0.8449464186177416\n",
            "Best parameters: {'C': 100.0, 'class_weight': 'balanced', 'loss': 'hinge', 'penalty': 'l2', 'tol': 0.01}\n",
            "CPU times: user 13.2 s, sys: 933 ms, total: 14.1 s\n",
            "Wall time: 12min 42s\n"
          ],
          "name": "stdout"
        },
        {
          "output_type": "stream",
          "text": [
            "/usr/local/lib/python3.7/dist-packages/sklearn/svm/_base.py:947: ConvergenceWarning: Liblinear failed to converge, increase the number of iterations.\n",
            "  \"the number of iterations.\", ConvergenceWarning)\n"
          ],
          "name": "stderr"
        }
      ]
    },
    {
      "cell_type": "code",
      "metadata": {
        "colab": {
          "base_uri": "https://localhost:8080/"
        },
        "id": "wfTc_BE7ZHEd",
        "outputId": "7854e2a5-d56c-4ff9-9780-c9f9384bc4f4"
      },
      "source": [
        "best_params_stratified_folds"
      ],
      "execution_count": 42,
      "outputs": [
        {
          "output_type": "execute_result",
          "data": {
            "text/plain": [
              "{'C': 100.0,\n",
              " 'class_weight': 'balanced',\n",
              " 'loss': 'hinge',\n",
              " 'penalty': 'l2',\n",
              " 'tol': 0.01}"
            ]
          },
          "metadata": {
            "tags": []
          },
          "execution_count": 42
        }
      ]
    },
    {
      "cell_type": "code",
      "metadata": {
        "id": "2Vg1zzCIfGnY"
      },
      "source": [
        "best_params_folds['random_state'] = 42"
      ],
      "execution_count": 43,
      "outputs": []
    },
    {
      "cell_type": "code",
      "metadata": {
        "colab": {
          "base_uri": "https://localhost:8080/"
        },
        "id": "xpBZVtL0e8dk",
        "outputId": "7a5b290b-b63b-4bf6-d9ca-36d69d2ce593"
      },
      "source": [
        "linearsvc = LinearSVC(**best_params_folds).fit(X_train, y_train)"
      ],
      "execution_count": 44,
      "outputs": [
        {
          "output_type": "stream",
          "text": [
            "/usr/local/lib/python3.7/dist-packages/sklearn/svm/_base.py:947: ConvergenceWarning: Liblinear failed to converge, increase the number of iterations.\n",
            "  \"the number of iterations.\", ConvergenceWarning)\n"
          ],
          "name": "stderr"
        }
      ]
    },
    {
      "cell_type": "code",
      "metadata": {
        "id": "Rk98GMl1fKU4"
      },
      "source": [
        "y_pred = linearsvc.predict(X_test)"
      ],
      "execution_count": 45,
      "outputs": []
    },
    {
      "cell_type": "code",
      "metadata": {
        "colab": {
          "base_uri": "https://localhost:8080/"
        },
        "id": "RvxjrHEMfQdc",
        "outputId": "f5b17ad4-95c3-4251-9757-f55aa660ed8a"
      },
      "source": [
        "print(classification_report(y_test, y_pred))"
      ],
      "execution_count": 46,
      "outputs": [
        {
          "output_type": "stream",
          "text": [
            "              precision    recall  f1-score   support\n",
            "\n",
            "           0       0.88      0.86      0.87      2585\n",
            "           1       0.82      0.85      0.83      1975\n",
            "\n",
            "    accuracy                           0.85      4560\n",
            "   macro avg       0.85      0.85      0.85      4560\n",
            "weighted avg       0.85      0.85      0.85      4560\n",
            "\n"
          ],
          "name": "stdout"
        }
      ]
    },
    {
      "cell_type": "code",
      "metadata": {
        "colab": {
          "base_uri": "https://localhost:8080/"
        },
        "id": "GdWCk2pdfZYU",
        "outputId": "91d0fcec-0323-49cd-fab7-f294e195b15c"
      },
      "source": [
        "f1_score(y_test, y_pred)"
      ],
      "execution_count": 47,
      "outputs": [
        {
          "output_type": "execute_result",
          "data": {
            "text/plain": [
              "0.833998005982054"
            ]
          },
          "metadata": {
            "tags": []
          },
          "execution_count": 47
        }
      ]
    },
    {
      "cell_type": "code",
      "metadata": {
        "colab": {
          "base_uri": "https://localhost:8080/"
        },
        "id": "SdR3k-B5fcQj",
        "outputId": "f63e566d-46ac-45aa-f7a6-77f50a3f2471"
      },
      "source": [
        "accuracy_score(y_test, y_pred)"
      ],
      "execution_count": 48,
      "outputs": [
        {
          "output_type": "execute_result",
          "data": {
            "text/plain": [
              "0.8539473684210527"
            ]
          },
          "metadata": {
            "tags": []
          },
          "execution_count": 48
        }
      ]
    },
    {
      "cell_type": "markdown",
      "metadata": {
        "id": "PtS8hRqLnrVj"
      },
      "source": [
        "## Выводы\n",
        "\n",
        "Лучшие результаты показал метод опорных векторов, обученный на нормализованных данных.\n",
        "\n",
        "| Метрика | Значение|\n",
        "|------------- | -------------|\n",
        "| macro f-score | 0.8339 |\n",
        "| accuracy | 0.8539 |\n",
        "\n",
        "Параметры модели\n",
        "\n",
        "| Параметр | Значение|\n",
        "|------------- | -------------|\n",
        "| C | 100.0|\n",
        "| class_weight | 'balanced' |\n",
        "| loss | 'hinge' |\n",
        "| penalty | 'l2'|\n",
        "|tol | 0.01 |\n",
        "\n",
        "Все результаты\n",
        "\n",
        "| Модель | Метрика | Значение|\n",
        "|------------- |------------- | -------------|\n",
        "|baseline logreg | macro f-score | 0.3109 |\n",
        "| logreg normalized data | macro f-score | 0.7792 |\n",
        "| logreg normalized data and best params | macro f-score | 0.8304 |\n",
        "| linear svc normalized data | macro f-score | 0.8150 |\n",
        "| linear svc normalized data  and best params | macro f-score | **0.8339** |\n"
      ]
    },
    {
      "cell_type": "markdown",
      "metadata": {
        "id": "mWpleqwg33WM"
      },
      "source": [
        "## Эксперимент с использованием разных классификаторов"
      ]
    },
    {
      "cell_type": "code",
      "metadata": {
        "id": "hiwWxWE-6YIv"
      },
      "source": [
        "from sklearn.naive_bayes import BernoulliNB, GaussianNB, MultinomialNB\n",
        "from sklearn.tree import DecisionTreeClassifier\n",
        "from sklearn.neighbors import KNeighborsClassifier\n",
        "from sklearn.ensemble import RandomForestClassifier\n",
        "from sklearn.linear_model import SGDClassifier\n",
        "from sklearn.svm import SVC, LinearSVC\n",
        "from sklearn.calibration import CalibratedClassifierCV"
      ],
      "execution_count": null,
      "outputs": []
    },
    {
      "cell_type": "code",
      "metadata": {
        "id": "5-FWoUH86M6o"
      },
      "source": [
        "bernoulli_nb = BernoulliNB()\n",
        "gaussian_nb = GaussianNB()\n",
        "decision_tree = DecisionTreeClassifier()\n",
        "kneighbors = KNeighborsClassifier()\n",
        "random_forest = RandomForestClassifier()\n",
        "sgd = SGDClassifier()"
      ],
      "execution_count": null,
      "outputs": []
    },
    {
      "cell_type": "code",
      "metadata": {
        "id": "CT-oxYMd6Mmk"
      },
      "source": [
        "parameters_bernoulli_nb = {'alpha': [0.0, 0.5, 1.0]}\n",
        "\n",
        "parameters_gaussian_nb = {'var_smoothing': [1e-8, 1e-9, 1e-10]}\n",
        "\n",
        "parameters_decision_tree = {'criterion': [\"gini\", \"entropy\"],\n",
        "                            'splitter': [\"best\", \"random\"],\n",
        "                            'max_depth': [None, 1, 3, 5],\n",
        "                            'min_samples_split': [2, 3, 5],\n",
        "                            'min_samples_leaf': [1, 3, 5],\n",
        "                            'max_features': [None, \"auto\", \"sqrt\", \"log2\"],\n",
        "                            'class_weight': [None, \"balanced\"]}\n",
        "\n",
        "parameters_kneighbors = {'n_neighbors': [3, 4, 5],\n",
        "                            'weights': [\"uniform\", \"distance\"],\n",
        "                            'algorithm': [\"auto\", \"ball_tree\", \"kd_tree\", \"brute\"],\n",
        "                            'leaf_size': [10, 20, 30]}\n",
        "\n",
        "parameters_random_forest = {'n_estimators': [50, 100, 200],\n",
        "                            'criterion': [\"gini\", \"entropy\"],\n",
        "                            'max_depth': [None, 1, 3, 5],\n",
        "                            'min_samples_split': [2, 3, 5],\n",
        "                            'min_samples_leaf': [1, 3, 5],\n",
        "                            'max_features': [None, \"auto\", \"sqrt\", \"log2\"],\n",
        "                            'class_weight': [None, \"balanced\", \"balanced_subsample\"]}\n",
        "\n",
        "parameters_sgd = {'loss': [\"hinge\", \"log\", \"modified_huber\", \"squared_hinge\", \"perceptron\"],\n",
        "                     'penalty' : ['l1', 'l2', 'elasticnet'],\n",
        "                     'alpha': [0.00001, 0.0001, 0.001],\n",
        "                     'tol': [1e-2, 1e-3, 1e-4], \n",
        "                     'class_weight' : ['balanced', None]}                  "
      ],
      "execution_count": null,
      "outputs": []
    },
    {
      "cell_type": "markdown",
      "metadata": {
        "id": "Yti-P9UShqfI"
      },
      "source": [
        "KFold"
      ]
    },
    {
      "cell_type": "code",
      "metadata": {
        "id": "RazngkJb6MTb",
        "colab": {
          "base_uri": "https://localhost:8080/"
        },
        "outputId": "905a1b89-a6ce-4aef-9fcb-3cb60350842b"
      },
      "source": [
        "%%time\n",
        "best_params_folds_bernoulli_nb = make_grid_search(X_train, y_train, bernoulli_nb, parameters_bernoulli_nb, 'f1_macro', n_jobs=5, folds=folds)"
      ],
      "execution_count": null,
      "outputs": [
        {
          "output_type": "stream",
          "text": [
            "Model name: BernoulliNB(alpha=1.0, binarize=0.0, class_prior=None, fit_prior=True)\n",
            "Best score: 0.8120541050361496\n",
            "Best parameters: {'alpha': 0.0}\n",
            "CPU times: user 265 ms, sys: 307 ms, total: 572 ms\n",
            "Wall time: 4.67 s\n"
          ],
          "name": "stdout"
        },
        {
          "output_type": "stream",
          "text": [
            "/usr/local/lib/python3.7/dist-packages/sklearn/naive_bayes.py:507: UserWarning: alpha too small will result in numeric errors, setting alpha = 1.0e-10\n",
            "  'setting alpha = %.1e' % _ALPHA_MIN)\n"
          ],
          "name": "stderr"
        }
      ]
    },
    {
      "cell_type": "code",
      "metadata": {
        "colab": {
          "base_uri": "https://localhost:8080/"
        },
        "id": "o2D2eoG-hYFj",
        "outputId": "efff2c8c-28c0-4fca-e5b2-e8391c51232e"
      },
      "source": [
        "%%time\n",
        "best_params_folds_gaussian_nb = make_grid_search(X_train, y_train, gaussian_nb, parameters_gaussian_nb, 'f1_macro', n_jobs=5, folds=folds)"
      ],
      "execution_count": null,
      "outputs": [
        {
          "output_type": "stream",
          "text": [
            "Model name: GaussianNB(priors=None, var_smoothing=1e-09)\n",
            "Best score: 0.6233939288518677\n",
            "Best parameters: {'var_smoothing': 1e-08}\n",
            "CPU times: user 150 ms, sys: 35 ms, total: 185 ms\n",
            "Wall time: 1.54 s\n"
          ],
          "name": "stdout"
        }
      ]
    },
    {
      "cell_type": "code",
      "metadata": {
        "colab": {
          "base_uri": "https://localhost:8080/"
        },
        "id": "AHKoA7eMhX9g",
        "outputId": "c6b658fd-3555-4757-aa76-aa690fa35d0c"
      },
      "source": [
        "%%time\n",
        "best_params_folds_decision_tree = make_grid_search(X_train, y_train, decision_tree, parameters_decision_tree, 'f1_macro', n_jobs=5, folds=folds)"
      ],
      "execution_count": null,
      "outputs": [
        {
          "output_type": "stream",
          "text": [
            "Model name: DecisionTreeClassifier(ccp_alpha=0.0, class_weight=None, criterion='gini',\n",
            "                       max_depth=None, max_features=None, max_leaf_nodes=None,\n",
            "                       min_impurity_decrease=0.0, min_impurity_split=None,\n",
            "                       min_samples_leaf=1, min_samples_split=2,\n",
            "                       min_weight_fraction_leaf=0.0, presort='deprecated',\n",
            "                       random_state=None, splitter='best')\n",
            "Best score: 0.7909074686683459\n",
            "Best parameters: {'class_weight': 'balanced', 'criterion': 'entropy', 'max_depth': None, 'max_features': None, 'min_samples_leaf': 3, 'min_samples_split': 2, 'splitter': 'best'}\n",
            "CPU times: user 38.8 s, sys: 1.61 s, total: 40.4 s\n",
            "Wall time: 51min 8s\n"
          ],
          "name": "stdout"
        }
      ]
    },
    {
      "cell_type": "code",
      "metadata": {
        "id": "uvHpoi8OhX3u"
      },
      "source": [
        "%%time\n",
        "best_params_folds_kneighbors = make_grid_search(X_train, y_train, kneighbors, parameters_kneighbors, 'f1_macro', n_jobs=5, folds=folds)"
      ],
      "execution_count": null,
      "outputs": []
    },
    {
      "cell_type": "code",
      "metadata": {
        "id": "f3nEhhEuhXzV"
      },
      "source": [
        "%%time\n",
        "best_params_folds_random_forest = make_grid_search(X_train, y_train, random_forest, parameters_random_forest, 'f1_macro', n_jobs=5, folds=folds)"
      ],
      "execution_count": null,
      "outputs": []
    },
    {
      "cell_type": "code",
      "metadata": {
        "id": "lOEEh1HGhXtT"
      },
      "source": [
        "%%time\n",
        "best_params_folds_sgd = make_grid_search(X_train, y_train, sgd, parameters_sgd, 'f1_macro', n_jobs=5, folds=folds)"
      ],
      "execution_count": null,
      "outputs": []
    },
    {
      "cell_type": "code",
      "metadata": {
        "id": "gekfubXThXmA"
      },
      "source": [
        "%%time\n",
        "best_params_folds_svc = make_grid_search(X_train, y_train, svc, parameters_svc, 'f1_macro', n_jobs=5, folds=folds)"
      ],
      "execution_count": null,
      "outputs": []
    },
    {
      "cell_type": "code",
      "metadata": {
        "id": "X8WcSLgThXcY"
      },
      "source": [
        "%%time\n",
        "best_params_folds_linear_svc = make_grid_search(X_train, y_train, linear_svc, parameters_linear_svc, 'f1_macro', n_jobs=5, folds=folds)"
      ],
      "execution_count": null,
      "outputs": []
    },
    {
      "cell_type": "markdown",
      "metadata": {
        "id": "YHkD0phshlpd"
      },
      "source": [
        "StratifiedKFold"
      ]
    },
    {
      "cell_type": "code",
      "metadata": {
        "id": "9Em41QzK6L-D"
      },
      "source": [
        "%%time\n",
        "best_params_stratified_folds_bernoulli_nb = make_grid_search(X_train, y_train, bernoulli_nb, parameters_bernoulli_nbg, 'f1_macro', n_jobs=5, folds=stratified_folds)"
      ],
      "execution_count": null,
      "outputs": []
    },
    {
      "cell_type": "code",
      "metadata": {
        "id": "RcVv-0_HhwL7"
      },
      "source": [
        "%%time\n",
        "best_params_stratified_folds_gaussian_nb = make_grid_search(X_train, y_train, gaussian_nb, parameters_gaussian_nb, 'f1_macro', n_jobs=5, folds=stratified_folds)"
      ],
      "execution_count": null,
      "outputs": []
    },
    {
      "cell_type": "code",
      "metadata": {
        "id": "HqaDyOHohv4Z"
      },
      "source": [
        "%%time\n",
        "best_params_stratified_folds_decision_tree = make_grid_search(X_train, y_train, decision_tree, parameters_decision_tree, 'f1_macro', n_jobs=5, folds=stratified_folds)"
      ],
      "execution_count": null,
      "outputs": []
    },
    {
      "cell_type": "code",
      "metadata": {
        "id": "10vH-Wtrhvy8"
      },
      "source": [
        "%%time\n",
        "best_params_stratified_folds_kneighbors = make_grid_search(X_train, y_train, kneighbors, parameters_kneighbors, 'f1_macro', n_jobs=5, folds=stratified_folds)"
      ],
      "execution_count": null,
      "outputs": []
    },
    {
      "cell_type": "code",
      "metadata": {
        "id": "DllcNvKGhvtM"
      },
      "source": [
        "%%time\n",
        "best_params_stratified_folds_random_forest = make_grid_search(X_train, y_train, random_forest, parameters_random_forest, 'f1_macro', n_jobs=5, folds=stratified_folds)"
      ],
      "execution_count": null,
      "outputs": []
    },
    {
      "cell_type": "code",
      "metadata": {
        "id": "7cJo0QvPhvmV"
      },
      "source": [
        "%%time\n",
        "best_params_stratified_folds_sgd = make_grid_search(X_train, y_train, sgd, parameters_sgd, 'f1_macro', n_jobs=5, folds=stratified_folds)"
      ],
      "execution_count": null,
      "outputs": []
    },
    {
      "cell_type": "code",
      "metadata": {
        "id": "sqEklEqphvfI"
      },
      "source": [
        "%%time\n",
        "best_params_stratified_folds_svc = make_grid_search(X_train, y_train, svc, parameters_svc, 'f1_macro', n_jobs=5, folds=stratified_folds)"
      ],
      "execution_count": null,
      "outputs": []
    },
    {
      "cell_type": "code",
      "metadata": {
        "id": "tMoDJ59lhvU-"
      },
      "source": [
        "%%time\n",
        "best_params_stratified_folds_linear_svc_clf = make_grid_search(X_train, y_train, linear_svc_clf, linear_svc_clf, 'f1_macro', n_jobs=5, folds=stratified_folds)"
      ],
      "execution_count": null,
      "outputs": []
    }
  ]
}