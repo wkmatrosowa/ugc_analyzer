{
  "nbformat": 4,
  "nbformat_minor": 0,
  "metadata": {
    "colab": {
      "name": "toxic_detection_functionality.ipynb",
      "provenance": [],
      "collapsed_sections": [],
      "toc_visible": true,
      "mount_file_id": "1X9yfSK0Nnv33snau06SRdX49z_3gcvjK",
      "authorship_tag": "ABX9TyN+5qXFDzC90Yxh82iLHdbD"
    },
    "kernelspec": {
      "name": "python3",
      "display_name": "Python 3"
    },
    "language_info": {
      "name": "python"
    },
    "widgets": {
      "application/vnd.jupyter.widget-state+json": {
        "6f42c176e2ba484b89729e784ccc4d18": {
          "model_module": "@jupyter-widgets/controls",
          "model_name": "HBoxModel",
          "state": {
            "_view_name": "HBoxView",
            "_dom_classes": [],
            "_model_name": "HBoxModel",
            "_view_module": "@jupyter-widgets/controls",
            "_model_module_version": "1.5.0",
            "_view_count": null,
            "_view_module_version": "1.5.0",
            "box_style": "",
            "layout": "IPY_MODEL_c7246e0234ef414da9b54d01e7213b5d",
            "_model_module": "@jupyter-widgets/controls",
            "children": [
              "IPY_MODEL_b009c215d03847a297f9f4e5ffd932d1",
              "IPY_MODEL_c65c355a9b7340aa98bbca50c2d00042"
            ]
          }
        },
        "c7246e0234ef414da9b54d01e7213b5d": {
          "model_module": "@jupyter-widgets/base",
          "model_name": "LayoutModel",
          "state": {
            "_view_name": "LayoutView",
            "grid_template_rows": null,
            "right": null,
            "justify_content": null,
            "_view_module": "@jupyter-widgets/base",
            "overflow": null,
            "_model_module_version": "1.2.0",
            "_view_count": null,
            "flex_flow": null,
            "width": null,
            "min_width": null,
            "border": null,
            "align_items": null,
            "bottom": null,
            "_model_module": "@jupyter-widgets/base",
            "top": null,
            "grid_column": null,
            "overflow_y": null,
            "overflow_x": null,
            "grid_auto_flow": null,
            "grid_area": null,
            "grid_template_columns": null,
            "flex": null,
            "_model_name": "LayoutModel",
            "justify_items": null,
            "grid_row": null,
            "max_height": null,
            "align_content": null,
            "visibility": null,
            "align_self": null,
            "height": null,
            "min_height": null,
            "padding": null,
            "grid_auto_rows": null,
            "grid_gap": null,
            "max_width": null,
            "order": null,
            "_view_module_version": "1.2.0",
            "grid_template_areas": null,
            "object_position": null,
            "object_fit": null,
            "grid_auto_columns": null,
            "margin": null,
            "display": null,
            "left": null
          }
        },
        "b009c215d03847a297f9f4e5ffd932d1": {
          "model_module": "@jupyter-widgets/controls",
          "model_name": "FloatProgressModel",
          "state": {
            "_view_name": "ProgressView",
            "style": "IPY_MODEL_8e50b5418256422181e0832e1a95f944",
            "_dom_classes": [],
            "description": "100%",
            "_model_name": "FloatProgressModel",
            "bar_style": "success",
            "max": 262702,
            "_view_module": "@jupyter-widgets/controls",
            "_model_module_version": "1.5.0",
            "value": 262702,
            "_view_count": null,
            "_view_module_version": "1.5.0",
            "orientation": "horizontal",
            "min": 0,
            "description_tooltip": null,
            "_model_module": "@jupyter-widgets/controls",
            "layout": "IPY_MODEL_4bdd3bc0e082460881709b1726dd8084"
          }
        },
        "c65c355a9b7340aa98bbca50c2d00042": {
          "model_module": "@jupyter-widgets/controls",
          "model_name": "HTMLModel",
          "state": {
            "_view_name": "HTMLView",
            "style": "IPY_MODEL_e71ebe922215448fb198387861a4b6a8",
            "_dom_classes": [],
            "description": "",
            "_model_name": "HTMLModel",
            "placeholder": "​",
            "_view_module": "@jupyter-widgets/controls",
            "_model_module_version": "1.5.0",
            "value": " 262702/262702 [02:35&lt;00:00, 1693.64it/s]",
            "_view_count": null,
            "_view_module_version": "1.5.0",
            "description_tooltip": null,
            "_model_module": "@jupyter-widgets/controls",
            "layout": "IPY_MODEL_640a3979e3854b6588a7d396f8792b05"
          }
        },
        "8e50b5418256422181e0832e1a95f944": {
          "model_module": "@jupyter-widgets/controls",
          "model_name": "ProgressStyleModel",
          "state": {
            "_view_name": "StyleView",
            "_model_name": "ProgressStyleModel",
            "description_width": "initial",
            "_view_module": "@jupyter-widgets/base",
            "_model_module_version": "1.5.0",
            "_view_count": null,
            "_view_module_version": "1.2.0",
            "bar_color": null,
            "_model_module": "@jupyter-widgets/controls"
          }
        },
        "4bdd3bc0e082460881709b1726dd8084": {
          "model_module": "@jupyter-widgets/base",
          "model_name": "LayoutModel",
          "state": {
            "_view_name": "LayoutView",
            "grid_template_rows": null,
            "right": null,
            "justify_content": null,
            "_view_module": "@jupyter-widgets/base",
            "overflow": null,
            "_model_module_version": "1.2.0",
            "_view_count": null,
            "flex_flow": null,
            "width": null,
            "min_width": null,
            "border": null,
            "align_items": null,
            "bottom": null,
            "_model_module": "@jupyter-widgets/base",
            "top": null,
            "grid_column": null,
            "overflow_y": null,
            "overflow_x": null,
            "grid_auto_flow": null,
            "grid_area": null,
            "grid_template_columns": null,
            "flex": null,
            "_model_name": "LayoutModel",
            "justify_items": null,
            "grid_row": null,
            "max_height": null,
            "align_content": null,
            "visibility": null,
            "align_self": null,
            "height": null,
            "min_height": null,
            "padding": null,
            "grid_auto_rows": null,
            "grid_gap": null,
            "max_width": null,
            "order": null,
            "_view_module_version": "1.2.0",
            "grid_template_areas": null,
            "object_position": null,
            "object_fit": null,
            "grid_auto_columns": null,
            "margin": null,
            "display": null,
            "left": null
          }
        },
        "e71ebe922215448fb198387861a4b6a8": {
          "model_module": "@jupyter-widgets/controls",
          "model_name": "DescriptionStyleModel",
          "state": {
            "_view_name": "StyleView",
            "_model_name": "DescriptionStyleModel",
            "description_width": "",
            "_view_module": "@jupyter-widgets/base",
            "_model_module_version": "1.5.0",
            "_view_count": null,
            "_view_module_version": "1.2.0",
            "_model_module": "@jupyter-widgets/controls"
          }
        },
        "640a3979e3854b6588a7d396f8792b05": {
          "model_module": "@jupyter-widgets/base",
          "model_name": "LayoutModel",
          "state": {
            "_view_name": "LayoutView",
            "grid_template_rows": null,
            "right": null,
            "justify_content": null,
            "_view_module": "@jupyter-widgets/base",
            "overflow": null,
            "_model_module_version": "1.2.0",
            "_view_count": null,
            "flex_flow": null,
            "width": null,
            "min_width": null,
            "border": null,
            "align_items": null,
            "bottom": null,
            "_model_module": "@jupyter-widgets/base",
            "top": null,
            "grid_column": null,
            "overflow_y": null,
            "overflow_x": null,
            "grid_auto_flow": null,
            "grid_area": null,
            "grid_template_columns": null,
            "flex": null,
            "_model_name": "LayoutModel",
            "justify_items": null,
            "grid_row": null,
            "max_height": null,
            "align_content": null,
            "visibility": null,
            "align_self": null,
            "height": null,
            "min_height": null,
            "padding": null,
            "grid_auto_rows": null,
            "grid_gap": null,
            "max_width": null,
            "order": null,
            "_view_module_version": "1.2.0",
            "grid_template_areas": null,
            "object_position": null,
            "object_fit": null,
            "grid_auto_columns": null,
            "margin": null,
            "display": null,
            "left": null
          }
        },
        "6cfad391b6844658817010fd911ceccc": {
          "model_module": "@jupyter-widgets/controls",
          "model_name": "HBoxModel",
          "state": {
            "_view_name": "HBoxView",
            "_dom_classes": [],
            "_model_name": "HBoxModel",
            "_view_module": "@jupyter-widgets/controls",
            "_model_module_version": "1.5.0",
            "_view_count": null,
            "_view_module_version": "1.5.0",
            "box_style": "",
            "layout": "IPY_MODEL_c2220c4276ed4c9486eeea13e51e774d",
            "_model_module": "@jupyter-widgets/controls",
            "children": [
              "IPY_MODEL_233b209e395b4dc384d3a58f6c89bf7d",
              "IPY_MODEL_2be56158c3254631989b4bedbe007a8f"
            ]
          }
        },
        "c2220c4276ed4c9486eeea13e51e774d": {
          "model_module": "@jupyter-widgets/base",
          "model_name": "LayoutModel",
          "state": {
            "_view_name": "LayoutView",
            "grid_template_rows": null,
            "right": null,
            "justify_content": null,
            "_view_module": "@jupyter-widgets/base",
            "overflow": null,
            "_model_module_version": "1.2.0",
            "_view_count": null,
            "flex_flow": null,
            "width": null,
            "min_width": null,
            "border": null,
            "align_items": null,
            "bottom": null,
            "_model_module": "@jupyter-widgets/base",
            "top": null,
            "grid_column": null,
            "overflow_y": null,
            "overflow_x": null,
            "grid_auto_flow": null,
            "grid_area": null,
            "grid_template_columns": null,
            "flex": null,
            "_model_name": "LayoutModel",
            "justify_items": null,
            "grid_row": null,
            "max_height": null,
            "align_content": null,
            "visibility": null,
            "align_self": null,
            "height": null,
            "min_height": null,
            "padding": null,
            "grid_auto_rows": null,
            "grid_gap": null,
            "max_width": null,
            "order": null,
            "_view_module_version": "1.2.0",
            "grid_template_areas": null,
            "object_position": null,
            "object_fit": null,
            "grid_auto_columns": null,
            "margin": null,
            "display": null,
            "left": null
          }
        },
        "233b209e395b4dc384d3a58f6c89bf7d": {
          "model_module": "@jupyter-widgets/controls",
          "model_name": "FloatProgressModel",
          "state": {
            "_view_name": "ProgressView",
            "style": "IPY_MODEL_a7e4bdb938e34a43ad414f5cfb69dcdb",
            "_dom_classes": [],
            "description": "Epoch: 1, train: 100%",
            "_model_name": "FloatProgressModel",
            "bar_style": "success",
            "max": 212131,
            "_view_module": "@jupyter-widgets/controls",
            "_model_module_version": "1.5.0",
            "value": 212131,
            "_view_count": null,
            "_view_module_version": "1.5.0",
            "orientation": "horizontal",
            "min": 0,
            "description_tooltip": null,
            "_model_module": "@jupyter-widgets/controls",
            "layout": "IPY_MODEL_dee11e027ae74d3198ef5e71df366221"
          }
        },
        "2be56158c3254631989b4bedbe007a8f": {
          "model_module": "@jupyter-widgets/controls",
          "model_name": "HTMLModel",
          "state": {
            "_view_name": "HTMLView",
            "style": "IPY_MODEL_01e7dfbf44bb404094f21dd95ca541fe",
            "_dom_classes": [],
            "description": "",
            "_model_name": "HTMLModel",
            "placeholder": "​",
            "_view_module": "@jupyter-widgets/controls",
            "_model_module_version": "1.5.0",
            "value": " 212131/212131 [15:52&lt;00:00, 222.64it/s, train_loss=0.328]",
            "_view_count": null,
            "_view_module_version": "1.5.0",
            "description_tooltip": null,
            "_model_module": "@jupyter-widgets/controls",
            "layout": "IPY_MODEL_c00b3ea9b32f4825a9bdcef067c90550"
          }
        },
        "a7e4bdb938e34a43ad414f5cfb69dcdb": {
          "model_module": "@jupyter-widgets/controls",
          "model_name": "ProgressStyleModel",
          "state": {
            "_view_name": "StyleView",
            "_model_name": "ProgressStyleModel",
            "description_width": "initial",
            "_view_module": "@jupyter-widgets/base",
            "_model_module_version": "1.5.0",
            "_view_count": null,
            "_view_module_version": "1.2.0",
            "bar_color": null,
            "_model_module": "@jupyter-widgets/controls"
          }
        },
        "dee11e027ae74d3198ef5e71df366221": {
          "model_module": "@jupyter-widgets/base",
          "model_name": "LayoutModel",
          "state": {
            "_view_name": "LayoutView",
            "grid_template_rows": null,
            "right": null,
            "justify_content": null,
            "_view_module": "@jupyter-widgets/base",
            "overflow": null,
            "_model_module_version": "1.2.0",
            "_view_count": null,
            "flex_flow": null,
            "width": null,
            "min_width": null,
            "border": null,
            "align_items": null,
            "bottom": null,
            "_model_module": "@jupyter-widgets/base",
            "top": null,
            "grid_column": null,
            "overflow_y": null,
            "overflow_x": null,
            "grid_auto_flow": null,
            "grid_area": null,
            "grid_template_columns": null,
            "flex": null,
            "_model_name": "LayoutModel",
            "justify_items": null,
            "grid_row": null,
            "max_height": null,
            "align_content": null,
            "visibility": null,
            "align_self": null,
            "height": null,
            "min_height": null,
            "padding": null,
            "grid_auto_rows": null,
            "grid_gap": null,
            "max_width": null,
            "order": null,
            "_view_module_version": "1.2.0",
            "grid_template_areas": null,
            "object_position": null,
            "object_fit": null,
            "grid_auto_columns": null,
            "margin": null,
            "display": null,
            "left": null
          }
        },
        "01e7dfbf44bb404094f21dd95ca541fe": {
          "model_module": "@jupyter-widgets/controls",
          "model_name": "DescriptionStyleModel",
          "state": {
            "_view_name": "StyleView",
            "_model_name": "DescriptionStyleModel",
            "description_width": "",
            "_view_module": "@jupyter-widgets/base",
            "_model_module_version": "1.5.0",
            "_view_count": null,
            "_view_module_version": "1.2.0",
            "_model_module": "@jupyter-widgets/controls"
          }
        },
        "c00b3ea9b32f4825a9bdcef067c90550": {
          "model_module": "@jupyter-widgets/base",
          "model_name": "LayoutModel",
          "state": {
            "_view_name": "LayoutView",
            "grid_template_rows": null,
            "right": null,
            "justify_content": null,
            "_view_module": "@jupyter-widgets/base",
            "overflow": null,
            "_model_module_version": "1.2.0",
            "_view_count": null,
            "flex_flow": null,
            "width": null,
            "min_width": null,
            "border": null,
            "align_items": null,
            "bottom": null,
            "_model_module": "@jupyter-widgets/base",
            "top": null,
            "grid_column": null,
            "overflow_y": null,
            "overflow_x": null,
            "grid_auto_flow": null,
            "grid_area": null,
            "grid_template_columns": null,
            "flex": null,
            "_model_name": "LayoutModel",
            "justify_items": null,
            "grid_row": null,
            "max_height": null,
            "align_content": null,
            "visibility": null,
            "align_self": null,
            "height": null,
            "min_height": null,
            "padding": null,
            "grid_auto_rows": null,
            "grid_gap": null,
            "max_width": null,
            "order": null,
            "_view_module_version": "1.2.0",
            "grid_template_areas": null,
            "object_position": null,
            "object_fit": null,
            "grid_auto_columns": null,
            "margin": null,
            "display": null,
            "left": null
          }
        },
        "d220f14d0b2c4a6cbd069a1b99eed0b1": {
          "model_module": "@jupyter-widgets/controls",
          "model_name": "HBoxModel",
          "state": {
            "_view_name": "HBoxView",
            "_dom_classes": [],
            "_model_name": "HBoxModel",
            "_view_module": "@jupyter-widgets/controls",
            "_model_module_version": "1.5.0",
            "_view_count": null,
            "_view_module_version": "1.5.0",
            "box_style": "",
            "layout": "IPY_MODEL_61180c23a5454d90baec9503464e5b83",
            "_model_module": "@jupyter-widgets/controls",
            "children": [
              "IPY_MODEL_1fdc444236d248cfb88c969a56546a78",
              "IPY_MODEL_4d07683875a948a58a29b6e5d9ad5b12"
            ]
          }
        },
        "61180c23a5454d90baec9503464e5b83": {
          "model_module": "@jupyter-widgets/base",
          "model_name": "LayoutModel",
          "state": {
            "_view_name": "LayoutView",
            "grid_template_rows": null,
            "right": null,
            "justify_content": null,
            "_view_module": "@jupyter-widgets/base",
            "overflow": null,
            "_model_module_version": "1.2.0",
            "_view_count": null,
            "flex_flow": null,
            "width": null,
            "min_width": null,
            "border": null,
            "align_items": null,
            "bottom": null,
            "_model_module": "@jupyter-widgets/base",
            "top": null,
            "grid_column": null,
            "overflow_y": null,
            "overflow_x": null,
            "grid_auto_flow": null,
            "grid_area": null,
            "grid_template_columns": null,
            "flex": null,
            "_model_name": "LayoutModel",
            "justify_items": null,
            "grid_row": null,
            "max_height": null,
            "align_content": null,
            "visibility": null,
            "align_self": null,
            "height": null,
            "min_height": null,
            "padding": null,
            "grid_auto_rows": null,
            "grid_gap": null,
            "max_width": null,
            "order": null,
            "_view_module_version": "1.2.0",
            "grid_template_areas": null,
            "object_position": null,
            "object_fit": null,
            "grid_auto_columns": null,
            "margin": null,
            "display": null,
            "left": null
          }
        },
        "1fdc444236d248cfb88c969a56546a78": {
          "model_module": "@jupyter-widgets/controls",
          "model_name": "FloatProgressModel",
          "state": {
            "_view_name": "ProgressView",
            "style": "IPY_MODEL_505aa867f6544ceb81b30c95ee0f0c29",
            "_dom_classes": [],
            "description": "Epoch: 1, validation: 100%",
            "_model_name": "FloatProgressModel",
            "bar_style": "success",
            "max": 37435,
            "_view_module": "@jupyter-widgets/controls",
            "_model_module_version": "1.5.0",
            "value": 37435,
            "_view_count": null,
            "_view_module_version": "1.5.0",
            "orientation": "horizontal",
            "min": 0,
            "description_tooltip": null,
            "_model_module": "@jupyter-widgets/controls",
            "layout": "IPY_MODEL_94d8a6b2214c47c7aff878a9b80e76b7"
          }
        },
        "4d07683875a948a58a29b6e5d9ad5b12": {
          "model_module": "@jupyter-widgets/controls",
          "model_name": "HTMLModel",
          "state": {
            "_view_name": "HTMLView",
            "style": "IPY_MODEL_6c7ba96f4f84400bbcf8a2c70c0045ee",
            "_dom_classes": [],
            "description": "",
            "_model_name": "HTMLModel",
            "placeholder": "​",
            "_view_module": "@jupyter-widgets/controls",
            "_model_module_version": "1.5.0",
            "value": " 37435/37435 [12:21&lt;00:00, 50.51it/s, valid_loss=0.301]",
            "_view_count": null,
            "_view_module_version": "1.5.0",
            "description_tooltip": null,
            "_model_module": "@jupyter-widgets/controls",
            "layout": "IPY_MODEL_691cf417e72c4b8dba415d90ae7fd5cd"
          }
        },
        "505aa867f6544ceb81b30c95ee0f0c29": {
          "model_module": "@jupyter-widgets/controls",
          "model_name": "ProgressStyleModel",
          "state": {
            "_view_name": "StyleView",
            "_model_name": "ProgressStyleModel",
            "description_width": "initial",
            "_view_module": "@jupyter-widgets/base",
            "_model_module_version": "1.5.0",
            "_view_count": null,
            "_view_module_version": "1.2.0",
            "bar_color": null,
            "_model_module": "@jupyter-widgets/controls"
          }
        },
        "94d8a6b2214c47c7aff878a9b80e76b7": {
          "model_module": "@jupyter-widgets/base",
          "model_name": "LayoutModel",
          "state": {
            "_view_name": "LayoutView",
            "grid_template_rows": null,
            "right": null,
            "justify_content": null,
            "_view_module": "@jupyter-widgets/base",
            "overflow": null,
            "_model_module_version": "1.2.0",
            "_view_count": null,
            "flex_flow": null,
            "width": null,
            "min_width": null,
            "border": null,
            "align_items": null,
            "bottom": null,
            "_model_module": "@jupyter-widgets/base",
            "top": null,
            "grid_column": null,
            "overflow_y": null,
            "overflow_x": null,
            "grid_auto_flow": null,
            "grid_area": null,
            "grid_template_columns": null,
            "flex": null,
            "_model_name": "LayoutModel",
            "justify_items": null,
            "grid_row": null,
            "max_height": null,
            "align_content": null,
            "visibility": null,
            "align_self": null,
            "height": null,
            "min_height": null,
            "padding": null,
            "grid_auto_rows": null,
            "grid_gap": null,
            "max_width": null,
            "order": null,
            "_view_module_version": "1.2.0",
            "grid_template_areas": null,
            "object_position": null,
            "object_fit": null,
            "grid_auto_columns": null,
            "margin": null,
            "display": null,
            "left": null
          }
        },
        "6c7ba96f4f84400bbcf8a2c70c0045ee": {
          "model_module": "@jupyter-widgets/controls",
          "model_name": "DescriptionStyleModel",
          "state": {
            "_view_name": "StyleView",
            "_model_name": "DescriptionStyleModel",
            "description_width": "",
            "_view_module": "@jupyter-widgets/base",
            "_model_module_version": "1.5.0",
            "_view_count": null,
            "_view_module_version": "1.2.0",
            "_model_module": "@jupyter-widgets/controls"
          }
        },
        "691cf417e72c4b8dba415d90ae7fd5cd": {
          "model_module": "@jupyter-widgets/base",
          "model_name": "LayoutModel",
          "state": {
            "_view_name": "LayoutView",
            "grid_template_rows": null,
            "right": null,
            "justify_content": null,
            "_view_module": "@jupyter-widgets/base",
            "overflow": null,
            "_model_module_version": "1.2.0",
            "_view_count": null,
            "flex_flow": null,
            "width": null,
            "min_width": null,
            "border": null,
            "align_items": null,
            "bottom": null,
            "_model_module": "@jupyter-widgets/base",
            "top": null,
            "grid_column": null,
            "overflow_y": null,
            "overflow_x": null,
            "grid_auto_flow": null,
            "grid_area": null,
            "grid_template_columns": null,
            "flex": null,
            "_model_name": "LayoutModel",
            "justify_items": null,
            "grid_row": null,
            "max_height": null,
            "align_content": null,
            "visibility": null,
            "align_self": null,
            "height": null,
            "min_height": null,
            "padding": null,
            "grid_auto_rows": null,
            "grid_gap": null,
            "max_width": null,
            "order": null,
            "_view_module_version": "1.2.0",
            "grid_template_areas": null,
            "object_position": null,
            "object_fit": null,
            "grid_auto_columns": null,
            "margin": null,
            "display": null,
            "left": null
          }
        },
        "3ec4cb57449f4f818761a6ac77b97554": {
          "model_module": "@jupyter-widgets/controls",
          "model_name": "HBoxModel",
          "state": {
            "_view_name": "HBoxView",
            "_dom_classes": [],
            "_model_name": "HBoxModel",
            "_view_module": "@jupyter-widgets/controls",
            "_model_module_version": "1.5.0",
            "_view_count": null,
            "_view_module_version": "1.5.0",
            "box_style": "",
            "layout": "IPY_MODEL_18745b04c5c14fa6b7d9c704b0de2ade",
            "_model_module": "@jupyter-widgets/controls",
            "children": [
              "IPY_MODEL_edca53ece45a451290d6400899c7af3b",
              "IPY_MODEL_2b82db08b8fb43ec8ab1befc7989f23a"
            ]
          }
        },
        "18745b04c5c14fa6b7d9c704b0de2ade": {
          "model_module": "@jupyter-widgets/base",
          "model_name": "LayoutModel",
          "state": {
            "_view_name": "LayoutView",
            "grid_template_rows": null,
            "right": null,
            "justify_content": null,
            "_view_module": "@jupyter-widgets/base",
            "overflow": null,
            "_model_module_version": "1.2.0",
            "_view_count": null,
            "flex_flow": null,
            "width": null,
            "min_width": null,
            "border": null,
            "align_items": null,
            "bottom": null,
            "_model_module": "@jupyter-widgets/base",
            "top": null,
            "grid_column": null,
            "overflow_y": null,
            "overflow_x": null,
            "grid_auto_flow": null,
            "grid_area": null,
            "grid_template_columns": null,
            "flex": null,
            "_model_name": "LayoutModel",
            "justify_items": null,
            "grid_row": null,
            "max_height": null,
            "align_content": null,
            "visibility": null,
            "align_self": null,
            "height": null,
            "min_height": null,
            "padding": null,
            "grid_auto_rows": null,
            "grid_gap": null,
            "max_width": null,
            "order": null,
            "_view_module_version": "1.2.0",
            "grid_template_areas": null,
            "object_position": null,
            "object_fit": null,
            "grid_auto_columns": null,
            "margin": null,
            "display": null,
            "left": null
          }
        },
        "edca53ece45a451290d6400899c7af3b": {
          "model_module": "@jupyter-widgets/controls",
          "model_name": "FloatProgressModel",
          "state": {
            "_view_name": "ProgressView",
            "style": "IPY_MODEL_7343195b085441adad69df5011834841",
            "_dom_classes": [],
            "description": "Epoch: 2, train: 100%",
            "_model_name": "FloatProgressModel",
            "bar_style": "success",
            "max": 212131,
            "_view_module": "@jupyter-widgets/controls",
            "_model_module_version": "1.5.0",
            "value": 212131,
            "_view_count": null,
            "_view_module_version": "1.5.0",
            "orientation": "horizontal",
            "min": 0,
            "description_tooltip": null,
            "_model_module": "@jupyter-widgets/controls",
            "layout": "IPY_MODEL_b3826efba00046ec90e865ec2c08dee1"
          }
        },
        "2b82db08b8fb43ec8ab1befc7989f23a": {
          "model_module": "@jupyter-widgets/controls",
          "model_name": "HTMLModel",
          "state": {
            "_view_name": "HTMLView",
            "style": "IPY_MODEL_80c2835ecc844919899d852ed6bb81f7",
            "_dom_classes": [],
            "description": "",
            "_model_name": "HTMLModel",
            "placeholder": "​",
            "_view_module": "@jupyter-widgets/controls",
            "_model_module_version": "1.5.0",
            "value": " 212131/212131 [11:56&lt;00:00, 295.93it/s, train_loss=0.22]",
            "_view_count": null,
            "_view_module_version": "1.5.0",
            "description_tooltip": null,
            "_model_module": "@jupyter-widgets/controls",
            "layout": "IPY_MODEL_e83ba33aefc147d09b00dbd59524d270"
          }
        },
        "7343195b085441adad69df5011834841": {
          "model_module": "@jupyter-widgets/controls",
          "model_name": "ProgressStyleModel",
          "state": {
            "_view_name": "StyleView",
            "_model_name": "ProgressStyleModel",
            "description_width": "initial",
            "_view_module": "@jupyter-widgets/base",
            "_model_module_version": "1.5.0",
            "_view_count": null,
            "_view_module_version": "1.2.0",
            "bar_color": null,
            "_model_module": "@jupyter-widgets/controls"
          }
        },
        "b3826efba00046ec90e865ec2c08dee1": {
          "model_module": "@jupyter-widgets/base",
          "model_name": "LayoutModel",
          "state": {
            "_view_name": "LayoutView",
            "grid_template_rows": null,
            "right": null,
            "justify_content": null,
            "_view_module": "@jupyter-widgets/base",
            "overflow": null,
            "_model_module_version": "1.2.0",
            "_view_count": null,
            "flex_flow": null,
            "width": null,
            "min_width": null,
            "border": null,
            "align_items": null,
            "bottom": null,
            "_model_module": "@jupyter-widgets/base",
            "top": null,
            "grid_column": null,
            "overflow_y": null,
            "overflow_x": null,
            "grid_auto_flow": null,
            "grid_area": null,
            "grid_template_columns": null,
            "flex": null,
            "_model_name": "LayoutModel",
            "justify_items": null,
            "grid_row": null,
            "max_height": null,
            "align_content": null,
            "visibility": null,
            "align_self": null,
            "height": null,
            "min_height": null,
            "padding": null,
            "grid_auto_rows": null,
            "grid_gap": null,
            "max_width": null,
            "order": null,
            "_view_module_version": "1.2.0",
            "grid_template_areas": null,
            "object_position": null,
            "object_fit": null,
            "grid_auto_columns": null,
            "margin": null,
            "display": null,
            "left": null
          }
        },
        "80c2835ecc844919899d852ed6bb81f7": {
          "model_module": "@jupyter-widgets/controls",
          "model_name": "DescriptionStyleModel",
          "state": {
            "_view_name": "StyleView",
            "_model_name": "DescriptionStyleModel",
            "description_width": "",
            "_view_module": "@jupyter-widgets/base",
            "_model_module_version": "1.5.0",
            "_view_count": null,
            "_view_module_version": "1.2.0",
            "_model_module": "@jupyter-widgets/controls"
          }
        },
        "e83ba33aefc147d09b00dbd59524d270": {
          "model_module": "@jupyter-widgets/base",
          "model_name": "LayoutModel",
          "state": {
            "_view_name": "LayoutView",
            "grid_template_rows": null,
            "right": null,
            "justify_content": null,
            "_view_module": "@jupyter-widgets/base",
            "overflow": null,
            "_model_module_version": "1.2.0",
            "_view_count": null,
            "flex_flow": null,
            "width": null,
            "min_width": null,
            "border": null,
            "align_items": null,
            "bottom": null,
            "_model_module": "@jupyter-widgets/base",
            "top": null,
            "grid_column": null,
            "overflow_y": null,
            "overflow_x": null,
            "grid_auto_flow": null,
            "grid_area": null,
            "grid_template_columns": null,
            "flex": null,
            "_model_name": "LayoutModel",
            "justify_items": null,
            "grid_row": null,
            "max_height": null,
            "align_content": null,
            "visibility": null,
            "align_self": null,
            "height": null,
            "min_height": null,
            "padding": null,
            "grid_auto_rows": null,
            "grid_gap": null,
            "max_width": null,
            "order": null,
            "_view_module_version": "1.2.0",
            "grid_template_areas": null,
            "object_position": null,
            "object_fit": null,
            "grid_auto_columns": null,
            "margin": null,
            "display": null,
            "left": null
          }
        },
        "cc02be87a11646979fc792d0757d082a": {
          "model_module": "@jupyter-widgets/controls",
          "model_name": "HBoxModel",
          "state": {
            "_view_name": "HBoxView",
            "_dom_classes": [],
            "_model_name": "HBoxModel",
            "_view_module": "@jupyter-widgets/controls",
            "_model_module_version": "1.5.0",
            "_view_count": null,
            "_view_module_version": "1.5.0",
            "box_style": "",
            "layout": "IPY_MODEL_c1e0761a065841a6986b5216ae42b1f0",
            "_model_module": "@jupyter-widgets/controls",
            "children": [
              "IPY_MODEL_8c65b75de8904de6967b25fde1df15b5",
              "IPY_MODEL_7ed61c691f5041a4a42b67157b0ebfa8"
            ]
          }
        },
        "c1e0761a065841a6986b5216ae42b1f0": {
          "model_module": "@jupyter-widgets/base",
          "model_name": "LayoutModel",
          "state": {
            "_view_name": "LayoutView",
            "grid_template_rows": null,
            "right": null,
            "justify_content": null,
            "_view_module": "@jupyter-widgets/base",
            "overflow": null,
            "_model_module_version": "1.2.0",
            "_view_count": null,
            "flex_flow": null,
            "width": null,
            "min_width": null,
            "border": null,
            "align_items": null,
            "bottom": null,
            "_model_module": "@jupyter-widgets/base",
            "top": null,
            "grid_column": null,
            "overflow_y": null,
            "overflow_x": null,
            "grid_auto_flow": null,
            "grid_area": null,
            "grid_template_columns": null,
            "flex": null,
            "_model_name": "LayoutModel",
            "justify_items": null,
            "grid_row": null,
            "max_height": null,
            "align_content": null,
            "visibility": null,
            "align_self": null,
            "height": null,
            "min_height": null,
            "padding": null,
            "grid_auto_rows": null,
            "grid_gap": null,
            "max_width": null,
            "order": null,
            "_view_module_version": "1.2.0",
            "grid_template_areas": null,
            "object_position": null,
            "object_fit": null,
            "grid_auto_columns": null,
            "margin": null,
            "display": null,
            "left": null
          }
        },
        "8c65b75de8904de6967b25fde1df15b5": {
          "model_module": "@jupyter-widgets/controls",
          "model_name": "FloatProgressModel",
          "state": {
            "_view_name": "ProgressView",
            "style": "IPY_MODEL_6227aa0328ba41f789a9a2b24f51db76",
            "_dom_classes": [],
            "description": "Epoch: 2, validation: 100%",
            "_model_name": "FloatProgressModel",
            "bar_style": "success",
            "max": 37435,
            "_view_module": "@jupyter-widgets/controls",
            "_model_module_version": "1.5.0",
            "value": 37435,
            "_view_count": null,
            "_view_module_version": "1.5.0",
            "orientation": "horizontal",
            "min": 0,
            "description_tooltip": null,
            "_model_module": "@jupyter-widgets/controls",
            "layout": "IPY_MODEL_848b48225c7a4d348040a900216aeffc"
          }
        },
        "7ed61c691f5041a4a42b67157b0ebfa8": {
          "model_module": "@jupyter-widgets/controls",
          "model_name": "HTMLModel",
          "state": {
            "_view_name": "HTMLView",
            "style": "IPY_MODEL_63e22ea41f7e4ec38b1c96b678521b18",
            "_dom_classes": [],
            "description": "",
            "_model_name": "HTMLModel",
            "placeholder": "​",
            "_view_module": "@jupyter-widgets/controls",
            "_model_module_version": "1.5.0",
            "value": " 37435/37435 [00:24&lt;00:00, 1544.38it/s, valid_loss=0.237]",
            "_view_count": null,
            "_view_module_version": "1.5.0",
            "description_tooltip": null,
            "_model_module": "@jupyter-widgets/controls",
            "layout": "IPY_MODEL_82c1de5a76df4f6a96389458cab4ae90"
          }
        },
        "6227aa0328ba41f789a9a2b24f51db76": {
          "model_module": "@jupyter-widgets/controls",
          "model_name": "ProgressStyleModel",
          "state": {
            "_view_name": "StyleView",
            "_model_name": "ProgressStyleModel",
            "description_width": "initial",
            "_view_module": "@jupyter-widgets/base",
            "_model_module_version": "1.5.0",
            "_view_count": null,
            "_view_module_version": "1.2.0",
            "bar_color": null,
            "_model_module": "@jupyter-widgets/controls"
          }
        },
        "848b48225c7a4d348040a900216aeffc": {
          "model_module": "@jupyter-widgets/base",
          "model_name": "LayoutModel",
          "state": {
            "_view_name": "LayoutView",
            "grid_template_rows": null,
            "right": null,
            "justify_content": null,
            "_view_module": "@jupyter-widgets/base",
            "overflow": null,
            "_model_module_version": "1.2.0",
            "_view_count": null,
            "flex_flow": null,
            "width": null,
            "min_width": null,
            "border": null,
            "align_items": null,
            "bottom": null,
            "_model_module": "@jupyter-widgets/base",
            "top": null,
            "grid_column": null,
            "overflow_y": null,
            "overflow_x": null,
            "grid_auto_flow": null,
            "grid_area": null,
            "grid_template_columns": null,
            "flex": null,
            "_model_name": "LayoutModel",
            "justify_items": null,
            "grid_row": null,
            "max_height": null,
            "align_content": null,
            "visibility": null,
            "align_self": null,
            "height": null,
            "min_height": null,
            "padding": null,
            "grid_auto_rows": null,
            "grid_gap": null,
            "max_width": null,
            "order": null,
            "_view_module_version": "1.2.0",
            "grid_template_areas": null,
            "object_position": null,
            "object_fit": null,
            "grid_auto_columns": null,
            "margin": null,
            "display": null,
            "left": null
          }
        },
        "63e22ea41f7e4ec38b1c96b678521b18": {
          "model_module": "@jupyter-widgets/controls",
          "model_name": "DescriptionStyleModel",
          "state": {
            "_view_name": "StyleView",
            "_model_name": "DescriptionStyleModel",
            "description_width": "",
            "_view_module": "@jupyter-widgets/base",
            "_model_module_version": "1.5.0",
            "_view_count": null,
            "_view_module_version": "1.2.0",
            "_model_module": "@jupyter-widgets/controls"
          }
        },
        "82c1de5a76df4f6a96389458cab4ae90": {
          "model_module": "@jupyter-widgets/base",
          "model_name": "LayoutModel",
          "state": {
            "_view_name": "LayoutView",
            "grid_template_rows": null,
            "right": null,
            "justify_content": null,
            "_view_module": "@jupyter-widgets/base",
            "overflow": null,
            "_model_module_version": "1.2.0",
            "_view_count": null,
            "flex_flow": null,
            "width": null,
            "min_width": null,
            "border": null,
            "align_items": null,
            "bottom": null,
            "_model_module": "@jupyter-widgets/base",
            "top": null,
            "grid_column": null,
            "overflow_y": null,
            "overflow_x": null,
            "grid_auto_flow": null,
            "grid_area": null,
            "grid_template_columns": null,
            "flex": null,
            "_model_name": "LayoutModel",
            "justify_items": null,
            "grid_row": null,
            "max_height": null,
            "align_content": null,
            "visibility": null,
            "align_self": null,
            "height": null,
            "min_height": null,
            "padding": null,
            "grid_auto_rows": null,
            "grid_gap": null,
            "max_width": null,
            "order": null,
            "_view_module_version": "1.2.0",
            "grid_template_areas": null,
            "object_position": null,
            "object_fit": null,
            "grid_auto_columns": null,
            "margin": null,
            "display": null,
            "left": null
          }
        },
        "4cae57e9f74440b086a1f71f685d6914": {
          "model_module": "@jupyter-widgets/controls",
          "model_name": "HBoxModel",
          "state": {
            "_view_name": "HBoxView",
            "_dom_classes": [],
            "_model_name": "HBoxModel",
            "_view_module": "@jupyter-widgets/controls",
            "_model_module_version": "1.5.0",
            "_view_count": null,
            "_view_module_version": "1.5.0",
            "box_style": "",
            "layout": "IPY_MODEL_9d6dad1afa0940a4a010fd29290397f1",
            "_model_module": "@jupyter-widgets/controls",
            "children": [
              "IPY_MODEL_ccb2b188ad4f462ca396fcf8f56e65ea",
              "IPY_MODEL_0f9320a886a44572a430d022ad666ebb"
            ]
          }
        },
        "9d6dad1afa0940a4a010fd29290397f1": {
          "model_module": "@jupyter-widgets/base",
          "model_name": "LayoutModel",
          "state": {
            "_view_name": "LayoutView",
            "grid_template_rows": null,
            "right": null,
            "justify_content": null,
            "_view_module": "@jupyter-widgets/base",
            "overflow": null,
            "_model_module_version": "1.2.0",
            "_view_count": null,
            "flex_flow": null,
            "width": null,
            "min_width": null,
            "border": null,
            "align_items": null,
            "bottom": null,
            "_model_module": "@jupyter-widgets/base",
            "top": null,
            "grid_column": null,
            "overflow_y": null,
            "overflow_x": null,
            "grid_auto_flow": null,
            "grid_area": null,
            "grid_template_columns": null,
            "flex": null,
            "_model_name": "LayoutModel",
            "justify_items": null,
            "grid_row": null,
            "max_height": null,
            "align_content": null,
            "visibility": null,
            "align_self": null,
            "height": null,
            "min_height": null,
            "padding": null,
            "grid_auto_rows": null,
            "grid_gap": null,
            "max_width": null,
            "order": null,
            "_view_module_version": "1.2.0",
            "grid_template_areas": null,
            "object_position": null,
            "object_fit": null,
            "grid_auto_columns": null,
            "margin": null,
            "display": null,
            "left": null
          }
        },
        "ccb2b188ad4f462ca396fcf8f56e65ea": {
          "model_module": "@jupyter-widgets/controls",
          "model_name": "FloatProgressModel",
          "state": {
            "_view_name": "ProgressView",
            "style": "IPY_MODEL_bc06c6c2b4774fed9c2d8f90d0dcc06d",
            "_dom_classes": [],
            "description": "Epoch: 3, train: 100%",
            "_model_name": "FloatProgressModel",
            "bar_style": "success",
            "max": 212131,
            "_view_module": "@jupyter-widgets/controls",
            "_model_module_version": "1.5.0",
            "value": 212131,
            "_view_count": null,
            "_view_module_version": "1.5.0",
            "orientation": "horizontal",
            "min": 0,
            "description_tooltip": null,
            "_model_module": "@jupyter-widgets/controls",
            "layout": "IPY_MODEL_3932d513b434423294e118ee6c4c50e6"
          }
        },
        "0f9320a886a44572a430d022ad666ebb": {
          "model_module": "@jupyter-widgets/controls",
          "model_name": "HTMLModel",
          "state": {
            "_view_name": "HTMLView",
            "style": "IPY_MODEL_424423f09d4c45d3af79a5e09fe35837",
            "_dom_classes": [],
            "description": "",
            "_model_name": "HTMLModel",
            "placeholder": "​",
            "_view_module": "@jupyter-widgets/controls",
            "_model_module_version": "1.5.0",
            "value": " 212131/212131 [07:58&lt;00:00, 443.55it/s, train_loss=0.173]",
            "_view_count": null,
            "_view_module_version": "1.5.0",
            "description_tooltip": null,
            "_model_module": "@jupyter-widgets/controls",
            "layout": "IPY_MODEL_2a238bc13ffe4a029621ca0c67848420"
          }
        },
        "bc06c6c2b4774fed9c2d8f90d0dcc06d": {
          "model_module": "@jupyter-widgets/controls",
          "model_name": "ProgressStyleModel",
          "state": {
            "_view_name": "StyleView",
            "_model_name": "ProgressStyleModel",
            "description_width": "initial",
            "_view_module": "@jupyter-widgets/base",
            "_model_module_version": "1.5.0",
            "_view_count": null,
            "_view_module_version": "1.2.0",
            "bar_color": null,
            "_model_module": "@jupyter-widgets/controls"
          }
        },
        "3932d513b434423294e118ee6c4c50e6": {
          "model_module": "@jupyter-widgets/base",
          "model_name": "LayoutModel",
          "state": {
            "_view_name": "LayoutView",
            "grid_template_rows": null,
            "right": null,
            "justify_content": null,
            "_view_module": "@jupyter-widgets/base",
            "overflow": null,
            "_model_module_version": "1.2.0",
            "_view_count": null,
            "flex_flow": null,
            "width": null,
            "min_width": null,
            "border": null,
            "align_items": null,
            "bottom": null,
            "_model_module": "@jupyter-widgets/base",
            "top": null,
            "grid_column": null,
            "overflow_y": null,
            "overflow_x": null,
            "grid_auto_flow": null,
            "grid_area": null,
            "grid_template_columns": null,
            "flex": null,
            "_model_name": "LayoutModel",
            "justify_items": null,
            "grid_row": null,
            "max_height": null,
            "align_content": null,
            "visibility": null,
            "align_self": null,
            "height": null,
            "min_height": null,
            "padding": null,
            "grid_auto_rows": null,
            "grid_gap": null,
            "max_width": null,
            "order": null,
            "_view_module_version": "1.2.0",
            "grid_template_areas": null,
            "object_position": null,
            "object_fit": null,
            "grid_auto_columns": null,
            "margin": null,
            "display": null,
            "left": null
          }
        },
        "424423f09d4c45d3af79a5e09fe35837": {
          "model_module": "@jupyter-widgets/controls",
          "model_name": "DescriptionStyleModel",
          "state": {
            "_view_name": "StyleView",
            "_model_name": "DescriptionStyleModel",
            "description_width": "",
            "_view_module": "@jupyter-widgets/base",
            "_model_module_version": "1.5.0",
            "_view_count": null,
            "_view_module_version": "1.2.0",
            "_model_module": "@jupyter-widgets/controls"
          }
        },
        "2a238bc13ffe4a029621ca0c67848420": {
          "model_module": "@jupyter-widgets/base",
          "model_name": "LayoutModel",
          "state": {
            "_view_name": "LayoutView",
            "grid_template_rows": null,
            "right": null,
            "justify_content": null,
            "_view_module": "@jupyter-widgets/base",
            "overflow": null,
            "_model_module_version": "1.2.0",
            "_view_count": null,
            "flex_flow": null,
            "width": null,
            "min_width": null,
            "border": null,
            "align_items": null,
            "bottom": null,
            "_model_module": "@jupyter-widgets/base",
            "top": null,
            "grid_column": null,
            "overflow_y": null,
            "overflow_x": null,
            "grid_auto_flow": null,
            "grid_area": null,
            "grid_template_columns": null,
            "flex": null,
            "_model_name": "LayoutModel",
            "justify_items": null,
            "grid_row": null,
            "max_height": null,
            "align_content": null,
            "visibility": null,
            "align_self": null,
            "height": null,
            "min_height": null,
            "padding": null,
            "grid_auto_rows": null,
            "grid_gap": null,
            "max_width": null,
            "order": null,
            "_view_module_version": "1.2.0",
            "grid_template_areas": null,
            "object_position": null,
            "object_fit": null,
            "grid_auto_columns": null,
            "margin": null,
            "display": null,
            "left": null
          }
        },
        "4581ce19a6c445a8a3fd7c8cb9e6714a": {
          "model_module": "@jupyter-widgets/controls",
          "model_name": "HBoxModel",
          "state": {
            "_view_name": "HBoxView",
            "_dom_classes": [],
            "_model_name": "HBoxModel",
            "_view_module": "@jupyter-widgets/controls",
            "_model_module_version": "1.5.0",
            "_view_count": null,
            "_view_module_version": "1.5.0",
            "box_style": "",
            "layout": "IPY_MODEL_34112e62f05641b28d8583feb7ef4e18",
            "_model_module": "@jupyter-widgets/controls",
            "children": [
              "IPY_MODEL_9c22e573bbdf47468317a91ca7464530",
              "IPY_MODEL_957e7129b88b4a8c94f533701e2cf5b9"
            ]
          }
        },
        "34112e62f05641b28d8583feb7ef4e18": {
          "model_module": "@jupyter-widgets/base",
          "model_name": "LayoutModel",
          "state": {
            "_view_name": "LayoutView",
            "grid_template_rows": null,
            "right": null,
            "justify_content": null,
            "_view_module": "@jupyter-widgets/base",
            "overflow": null,
            "_model_module_version": "1.2.0",
            "_view_count": null,
            "flex_flow": null,
            "width": null,
            "min_width": null,
            "border": null,
            "align_items": null,
            "bottom": null,
            "_model_module": "@jupyter-widgets/base",
            "top": null,
            "grid_column": null,
            "overflow_y": null,
            "overflow_x": null,
            "grid_auto_flow": null,
            "grid_area": null,
            "grid_template_columns": null,
            "flex": null,
            "_model_name": "LayoutModel",
            "justify_items": null,
            "grid_row": null,
            "max_height": null,
            "align_content": null,
            "visibility": null,
            "align_self": null,
            "height": null,
            "min_height": null,
            "padding": null,
            "grid_auto_rows": null,
            "grid_gap": null,
            "max_width": null,
            "order": null,
            "_view_module_version": "1.2.0",
            "grid_template_areas": null,
            "object_position": null,
            "object_fit": null,
            "grid_auto_columns": null,
            "margin": null,
            "display": null,
            "left": null
          }
        },
        "9c22e573bbdf47468317a91ca7464530": {
          "model_module": "@jupyter-widgets/controls",
          "model_name": "FloatProgressModel",
          "state": {
            "_view_name": "ProgressView",
            "style": "IPY_MODEL_47a0edc456584aafba9a3b0e23d539a5",
            "_dom_classes": [],
            "description": "Epoch: 3, validation: 100%",
            "_model_name": "FloatProgressModel",
            "bar_style": "success",
            "max": 37435,
            "_view_module": "@jupyter-widgets/controls",
            "_model_module_version": "1.5.0",
            "value": 37435,
            "_view_count": null,
            "_view_module_version": "1.5.0",
            "orientation": "horizontal",
            "min": 0,
            "description_tooltip": null,
            "_model_module": "@jupyter-widgets/controls",
            "layout": "IPY_MODEL_15ad4fcc50bd47248a33aee9f34c3689"
          }
        },
        "957e7129b88b4a8c94f533701e2cf5b9": {
          "model_module": "@jupyter-widgets/controls",
          "model_name": "HTMLModel",
          "state": {
            "_view_name": "HTMLView",
            "style": "IPY_MODEL_c5301ed29d0543bea2b0d17cd36a91d1",
            "_dom_classes": [],
            "description": "",
            "_model_name": "HTMLModel",
            "placeholder": "​",
            "_view_module": "@jupyter-widgets/controls",
            "_model_module_version": "1.5.0",
            "value": " 37435/37435 [00:23&lt;00:00, 1576.67it/s, valid_loss=0.232]",
            "_view_count": null,
            "_view_module_version": "1.5.0",
            "description_tooltip": null,
            "_model_module": "@jupyter-widgets/controls",
            "layout": "IPY_MODEL_7e3ee99212ce4ed584ca608d3d92563d"
          }
        },
        "47a0edc456584aafba9a3b0e23d539a5": {
          "model_module": "@jupyter-widgets/controls",
          "model_name": "ProgressStyleModel",
          "state": {
            "_view_name": "StyleView",
            "_model_name": "ProgressStyleModel",
            "description_width": "initial",
            "_view_module": "@jupyter-widgets/base",
            "_model_module_version": "1.5.0",
            "_view_count": null,
            "_view_module_version": "1.2.0",
            "bar_color": null,
            "_model_module": "@jupyter-widgets/controls"
          }
        },
        "15ad4fcc50bd47248a33aee9f34c3689": {
          "model_module": "@jupyter-widgets/base",
          "model_name": "LayoutModel",
          "state": {
            "_view_name": "LayoutView",
            "grid_template_rows": null,
            "right": null,
            "justify_content": null,
            "_view_module": "@jupyter-widgets/base",
            "overflow": null,
            "_model_module_version": "1.2.0",
            "_view_count": null,
            "flex_flow": null,
            "width": null,
            "min_width": null,
            "border": null,
            "align_items": null,
            "bottom": null,
            "_model_module": "@jupyter-widgets/base",
            "top": null,
            "grid_column": null,
            "overflow_y": null,
            "overflow_x": null,
            "grid_auto_flow": null,
            "grid_area": null,
            "grid_template_columns": null,
            "flex": null,
            "_model_name": "LayoutModel",
            "justify_items": null,
            "grid_row": null,
            "max_height": null,
            "align_content": null,
            "visibility": null,
            "align_self": null,
            "height": null,
            "min_height": null,
            "padding": null,
            "grid_auto_rows": null,
            "grid_gap": null,
            "max_width": null,
            "order": null,
            "_view_module_version": "1.2.0",
            "grid_template_areas": null,
            "object_position": null,
            "object_fit": null,
            "grid_auto_columns": null,
            "margin": null,
            "display": null,
            "left": null
          }
        },
        "c5301ed29d0543bea2b0d17cd36a91d1": {
          "model_module": "@jupyter-widgets/controls",
          "model_name": "DescriptionStyleModel",
          "state": {
            "_view_name": "StyleView",
            "_model_name": "DescriptionStyleModel",
            "description_width": "",
            "_view_module": "@jupyter-widgets/base",
            "_model_module_version": "1.5.0",
            "_view_count": null,
            "_view_module_version": "1.2.0",
            "_model_module": "@jupyter-widgets/controls"
          }
        },
        "7e3ee99212ce4ed584ca608d3d92563d": {
          "model_module": "@jupyter-widgets/base",
          "model_name": "LayoutModel",
          "state": {
            "_view_name": "LayoutView",
            "grid_template_rows": null,
            "right": null,
            "justify_content": null,
            "_view_module": "@jupyter-widgets/base",
            "overflow": null,
            "_model_module_version": "1.2.0",
            "_view_count": null,
            "flex_flow": null,
            "width": null,
            "min_width": null,
            "border": null,
            "align_items": null,
            "bottom": null,
            "_model_module": "@jupyter-widgets/base",
            "top": null,
            "grid_column": null,
            "overflow_y": null,
            "overflow_x": null,
            "grid_auto_flow": null,
            "grid_area": null,
            "grid_template_columns": null,
            "flex": null,
            "_model_name": "LayoutModel",
            "justify_items": null,
            "grid_row": null,
            "max_height": null,
            "align_content": null,
            "visibility": null,
            "align_self": null,
            "height": null,
            "min_height": null,
            "padding": null,
            "grid_auto_rows": null,
            "grid_gap": null,
            "max_width": null,
            "order": null,
            "_view_module_version": "1.2.0",
            "grid_template_areas": null,
            "object_position": null,
            "object_fit": null,
            "grid_auto_columns": null,
            "margin": null,
            "display": null,
            "left": null
          }
        },
        "f65b8d893315450e9df2cb25c5fefb47": {
          "model_module": "@jupyter-widgets/controls",
          "model_name": "HBoxModel",
          "state": {
            "_view_name": "HBoxView",
            "_dom_classes": [],
            "_model_name": "HBoxModel",
            "_view_module": "@jupyter-widgets/controls",
            "_model_module_version": "1.5.0",
            "_view_count": null,
            "_view_module_version": "1.5.0",
            "box_style": "",
            "layout": "IPY_MODEL_076f1801845a4498aeae3683bb8f1560",
            "_model_module": "@jupyter-widgets/controls",
            "children": [
              "IPY_MODEL_570ea03c510f4b51a5c57ff7fb88a760",
              "IPY_MODEL_b899d545321c413c9d21c04f4ce6f8b6"
            ]
          }
        },
        "076f1801845a4498aeae3683bb8f1560": {
          "model_module": "@jupyter-widgets/base",
          "model_name": "LayoutModel",
          "state": {
            "_view_name": "LayoutView",
            "grid_template_rows": null,
            "right": null,
            "justify_content": null,
            "_view_module": "@jupyter-widgets/base",
            "overflow": null,
            "_model_module_version": "1.2.0",
            "_view_count": null,
            "flex_flow": null,
            "width": null,
            "min_width": null,
            "border": null,
            "align_items": null,
            "bottom": null,
            "_model_module": "@jupyter-widgets/base",
            "top": null,
            "grid_column": null,
            "overflow_y": null,
            "overflow_x": null,
            "grid_auto_flow": null,
            "grid_area": null,
            "grid_template_columns": null,
            "flex": null,
            "_model_name": "LayoutModel",
            "justify_items": null,
            "grid_row": null,
            "max_height": null,
            "align_content": null,
            "visibility": null,
            "align_self": null,
            "height": null,
            "min_height": null,
            "padding": null,
            "grid_auto_rows": null,
            "grid_gap": null,
            "max_width": null,
            "order": null,
            "_view_module_version": "1.2.0",
            "grid_template_areas": null,
            "object_position": null,
            "object_fit": null,
            "grid_auto_columns": null,
            "margin": null,
            "display": null,
            "left": null
          }
        },
        "570ea03c510f4b51a5c57ff7fb88a760": {
          "model_module": "@jupyter-widgets/controls",
          "model_name": "FloatProgressModel",
          "state": {
            "_view_name": "ProgressView",
            "style": "IPY_MODEL_ab31dea22baf4e81bde52cea4481c87e",
            "_dom_classes": [],
            "description": "Epoch: 4, train: 100%",
            "_model_name": "FloatProgressModel",
            "bar_style": "success",
            "max": 212131,
            "_view_module": "@jupyter-widgets/controls",
            "_model_module_version": "1.5.0",
            "value": 212131,
            "_view_count": null,
            "_view_module_version": "1.5.0",
            "orientation": "horizontal",
            "min": 0,
            "description_tooltip": null,
            "_model_module": "@jupyter-widgets/controls",
            "layout": "IPY_MODEL_0d3912817d394649b03b0847f6adccbb"
          }
        },
        "b899d545321c413c9d21c04f4ce6f8b6": {
          "model_module": "@jupyter-widgets/controls",
          "model_name": "HTMLModel",
          "state": {
            "_view_name": "HTMLView",
            "style": "IPY_MODEL_f70b1bbd7aa14f74b09cd0bb90804615",
            "_dom_classes": [],
            "description": "",
            "_model_name": "HTMLModel",
            "placeholder": "​",
            "_view_module": "@jupyter-widgets/controls",
            "_model_module_version": "1.5.0",
            "value": " 212131/212131 [04:00&lt;00:00, 882.76it/s, train_loss=0.137]",
            "_view_count": null,
            "_view_module_version": "1.5.0",
            "description_tooltip": null,
            "_model_module": "@jupyter-widgets/controls",
            "layout": "IPY_MODEL_adba42dcf5864ea18e0d7a3d099ef95e"
          }
        },
        "ab31dea22baf4e81bde52cea4481c87e": {
          "model_module": "@jupyter-widgets/controls",
          "model_name": "ProgressStyleModel",
          "state": {
            "_view_name": "StyleView",
            "_model_name": "ProgressStyleModel",
            "description_width": "initial",
            "_view_module": "@jupyter-widgets/base",
            "_model_module_version": "1.5.0",
            "_view_count": null,
            "_view_module_version": "1.2.0",
            "bar_color": null,
            "_model_module": "@jupyter-widgets/controls"
          }
        },
        "0d3912817d394649b03b0847f6adccbb": {
          "model_module": "@jupyter-widgets/base",
          "model_name": "LayoutModel",
          "state": {
            "_view_name": "LayoutView",
            "grid_template_rows": null,
            "right": null,
            "justify_content": null,
            "_view_module": "@jupyter-widgets/base",
            "overflow": null,
            "_model_module_version": "1.2.0",
            "_view_count": null,
            "flex_flow": null,
            "width": null,
            "min_width": null,
            "border": null,
            "align_items": null,
            "bottom": null,
            "_model_module": "@jupyter-widgets/base",
            "top": null,
            "grid_column": null,
            "overflow_y": null,
            "overflow_x": null,
            "grid_auto_flow": null,
            "grid_area": null,
            "grid_template_columns": null,
            "flex": null,
            "_model_name": "LayoutModel",
            "justify_items": null,
            "grid_row": null,
            "max_height": null,
            "align_content": null,
            "visibility": null,
            "align_self": null,
            "height": null,
            "min_height": null,
            "padding": null,
            "grid_auto_rows": null,
            "grid_gap": null,
            "max_width": null,
            "order": null,
            "_view_module_version": "1.2.0",
            "grid_template_areas": null,
            "object_position": null,
            "object_fit": null,
            "grid_auto_columns": null,
            "margin": null,
            "display": null,
            "left": null
          }
        },
        "f70b1bbd7aa14f74b09cd0bb90804615": {
          "model_module": "@jupyter-widgets/controls",
          "model_name": "DescriptionStyleModel",
          "state": {
            "_view_name": "StyleView",
            "_model_name": "DescriptionStyleModel",
            "description_width": "",
            "_view_module": "@jupyter-widgets/base",
            "_model_module_version": "1.5.0",
            "_view_count": null,
            "_view_module_version": "1.2.0",
            "_model_module": "@jupyter-widgets/controls"
          }
        },
        "adba42dcf5864ea18e0d7a3d099ef95e": {
          "model_module": "@jupyter-widgets/base",
          "model_name": "LayoutModel",
          "state": {
            "_view_name": "LayoutView",
            "grid_template_rows": null,
            "right": null,
            "justify_content": null,
            "_view_module": "@jupyter-widgets/base",
            "overflow": null,
            "_model_module_version": "1.2.0",
            "_view_count": null,
            "flex_flow": null,
            "width": null,
            "min_width": null,
            "border": null,
            "align_items": null,
            "bottom": null,
            "_model_module": "@jupyter-widgets/base",
            "top": null,
            "grid_column": null,
            "overflow_y": null,
            "overflow_x": null,
            "grid_auto_flow": null,
            "grid_area": null,
            "grid_template_columns": null,
            "flex": null,
            "_model_name": "LayoutModel",
            "justify_items": null,
            "grid_row": null,
            "max_height": null,
            "align_content": null,
            "visibility": null,
            "align_self": null,
            "height": null,
            "min_height": null,
            "padding": null,
            "grid_auto_rows": null,
            "grid_gap": null,
            "max_width": null,
            "order": null,
            "_view_module_version": "1.2.0",
            "grid_template_areas": null,
            "object_position": null,
            "object_fit": null,
            "grid_auto_columns": null,
            "margin": null,
            "display": null,
            "left": null
          }
        },
        "b514b662442b4e71bb92e5801d81d0be": {
          "model_module": "@jupyter-widgets/controls",
          "model_name": "HBoxModel",
          "state": {
            "_view_name": "HBoxView",
            "_dom_classes": [],
            "_model_name": "HBoxModel",
            "_view_module": "@jupyter-widgets/controls",
            "_model_module_version": "1.5.0",
            "_view_count": null,
            "_view_module_version": "1.5.0",
            "box_style": "",
            "layout": "IPY_MODEL_942820d5780945d88edbb49d9d480811",
            "_model_module": "@jupyter-widgets/controls",
            "children": [
              "IPY_MODEL_a9b2d0c5aa914bfd831cd2dfe724726a",
              "IPY_MODEL_106153d6793f457da3db2e08d265bf5f"
            ]
          }
        },
        "942820d5780945d88edbb49d9d480811": {
          "model_module": "@jupyter-widgets/base",
          "model_name": "LayoutModel",
          "state": {
            "_view_name": "LayoutView",
            "grid_template_rows": null,
            "right": null,
            "justify_content": null,
            "_view_module": "@jupyter-widgets/base",
            "overflow": null,
            "_model_module_version": "1.2.0",
            "_view_count": null,
            "flex_flow": null,
            "width": null,
            "min_width": null,
            "border": null,
            "align_items": null,
            "bottom": null,
            "_model_module": "@jupyter-widgets/base",
            "top": null,
            "grid_column": null,
            "overflow_y": null,
            "overflow_x": null,
            "grid_auto_flow": null,
            "grid_area": null,
            "grid_template_columns": null,
            "flex": null,
            "_model_name": "LayoutModel",
            "justify_items": null,
            "grid_row": null,
            "max_height": null,
            "align_content": null,
            "visibility": null,
            "align_self": null,
            "height": null,
            "min_height": null,
            "padding": null,
            "grid_auto_rows": null,
            "grid_gap": null,
            "max_width": null,
            "order": null,
            "_view_module_version": "1.2.0",
            "grid_template_areas": null,
            "object_position": null,
            "object_fit": null,
            "grid_auto_columns": null,
            "margin": null,
            "display": null,
            "left": null
          }
        },
        "a9b2d0c5aa914bfd831cd2dfe724726a": {
          "model_module": "@jupyter-widgets/controls",
          "model_name": "FloatProgressModel",
          "state": {
            "_view_name": "ProgressView",
            "style": "IPY_MODEL_a981b8ba0feb4f76b1ab7ab55592565c",
            "_dom_classes": [],
            "description": "Epoch: 4, validation: 100%",
            "_model_name": "FloatProgressModel",
            "bar_style": "success",
            "max": 37435,
            "_view_module": "@jupyter-widgets/controls",
            "_model_module_version": "1.5.0",
            "value": 37435,
            "_view_count": null,
            "_view_module_version": "1.5.0",
            "orientation": "horizontal",
            "min": 0,
            "description_tooltip": null,
            "_model_module": "@jupyter-widgets/controls",
            "layout": "IPY_MODEL_5a672ccba94346e7a7aec0aba81eabae"
          }
        },
        "106153d6793f457da3db2e08d265bf5f": {
          "model_module": "@jupyter-widgets/controls",
          "model_name": "HTMLModel",
          "state": {
            "_view_name": "HTMLView",
            "style": "IPY_MODEL_479d74d4d79c4577952cf1009274a4d8",
            "_dom_classes": [],
            "description": "",
            "_model_name": "HTMLModel",
            "placeholder": "​",
            "_view_module": "@jupyter-widgets/controls",
            "_model_module_version": "1.5.0",
            "value": " 37435/37435 [00:24&lt;00:00, 1532.15it/s, valid_loss=0.239]",
            "_view_count": null,
            "_view_module_version": "1.5.0",
            "description_tooltip": null,
            "_model_module": "@jupyter-widgets/controls",
            "layout": "IPY_MODEL_480636abbb234c439f29d53199f778a4"
          }
        },
        "a981b8ba0feb4f76b1ab7ab55592565c": {
          "model_module": "@jupyter-widgets/controls",
          "model_name": "ProgressStyleModel",
          "state": {
            "_view_name": "StyleView",
            "_model_name": "ProgressStyleModel",
            "description_width": "initial",
            "_view_module": "@jupyter-widgets/base",
            "_model_module_version": "1.5.0",
            "_view_count": null,
            "_view_module_version": "1.2.0",
            "bar_color": null,
            "_model_module": "@jupyter-widgets/controls"
          }
        },
        "5a672ccba94346e7a7aec0aba81eabae": {
          "model_module": "@jupyter-widgets/base",
          "model_name": "LayoutModel",
          "state": {
            "_view_name": "LayoutView",
            "grid_template_rows": null,
            "right": null,
            "justify_content": null,
            "_view_module": "@jupyter-widgets/base",
            "overflow": null,
            "_model_module_version": "1.2.0",
            "_view_count": null,
            "flex_flow": null,
            "width": null,
            "min_width": null,
            "border": null,
            "align_items": null,
            "bottom": null,
            "_model_module": "@jupyter-widgets/base",
            "top": null,
            "grid_column": null,
            "overflow_y": null,
            "overflow_x": null,
            "grid_auto_flow": null,
            "grid_area": null,
            "grid_template_columns": null,
            "flex": null,
            "_model_name": "LayoutModel",
            "justify_items": null,
            "grid_row": null,
            "max_height": null,
            "align_content": null,
            "visibility": null,
            "align_self": null,
            "height": null,
            "min_height": null,
            "padding": null,
            "grid_auto_rows": null,
            "grid_gap": null,
            "max_width": null,
            "order": null,
            "_view_module_version": "1.2.0",
            "grid_template_areas": null,
            "object_position": null,
            "object_fit": null,
            "grid_auto_columns": null,
            "margin": null,
            "display": null,
            "left": null
          }
        },
        "479d74d4d79c4577952cf1009274a4d8": {
          "model_module": "@jupyter-widgets/controls",
          "model_name": "DescriptionStyleModel",
          "state": {
            "_view_name": "StyleView",
            "_model_name": "DescriptionStyleModel",
            "description_width": "",
            "_view_module": "@jupyter-widgets/base",
            "_model_module_version": "1.5.0",
            "_view_count": null,
            "_view_module_version": "1.2.0",
            "_model_module": "@jupyter-widgets/controls"
          }
        },
        "480636abbb234c439f29d53199f778a4": {
          "model_module": "@jupyter-widgets/base",
          "model_name": "LayoutModel",
          "state": {
            "_view_name": "LayoutView",
            "grid_template_rows": null,
            "right": null,
            "justify_content": null,
            "_view_module": "@jupyter-widgets/base",
            "overflow": null,
            "_model_module_version": "1.2.0",
            "_view_count": null,
            "flex_flow": null,
            "width": null,
            "min_width": null,
            "border": null,
            "align_items": null,
            "bottom": null,
            "_model_module": "@jupyter-widgets/base",
            "top": null,
            "grid_column": null,
            "overflow_y": null,
            "overflow_x": null,
            "grid_auto_flow": null,
            "grid_area": null,
            "grid_template_columns": null,
            "flex": null,
            "_model_name": "LayoutModel",
            "justify_items": null,
            "grid_row": null,
            "max_height": null,
            "align_content": null,
            "visibility": null,
            "align_self": null,
            "height": null,
            "min_height": null,
            "padding": null,
            "grid_auto_rows": null,
            "grid_gap": null,
            "max_width": null,
            "order": null,
            "_view_module_version": "1.2.0",
            "grid_template_areas": null,
            "object_position": null,
            "object_fit": null,
            "grid_auto_columns": null,
            "margin": null,
            "display": null,
            "left": null
          }
        },
        "3167cdf72ca848beb7915612e8638324": {
          "model_module": "@jupyter-widgets/controls",
          "model_name": "HBoxModel",
          "state": {
            "_view_name": "HBoxView",
            "_dom_classes": [],
            "_model_name": "HBoxModel",
            "_view_module": "@jupyter-widgets/controls",
            "_model_module_version": "1.5.0",
            "_view_count": null,
            "_view_module_version": "1.5.0",
            "box_style": "",
            "layout": "IPY_MODEL_2a9794148a2546f1b508fb2592ec97ad",
            "_model_module": "@jupyter-widgets/controls",
            "children": [
              "IPY_MODEL_19146df85f274880bcb2603515fc0ebf",
              "IPY_MODEL_15b68eb3871e4d2881cf50a5503fcb1b"
            ]
          }
        },
        "2a9794148a2546f1b508fb2592ec97ad": {
          "model_module": "@jupyter-widgets/base",
          "model_name": "LayoutModel",
          "state": {
            "_view_name": "LayoutView",
            "grid_template_rows": null,
            "right": null,
            "justify_content": null,
            "_view_module": "@jupyter-widgets/base",
            "overflow": null,
            "_model_module_version": "1.2.0",
            "_view_count": null,
            "flex_flow": null,
            "width": null,
            "min_width": null,
            "border": null,
            "align_items": null,
            "bottom": null,
            "_model_module": "@jupyter-widgets/base",
            "top": null,
            "grid_column": null,
            "overflow_y": null,
            "overflow_x": null,
            "grid_auto_flow": null,
            "grid_area": null,
            "grid_template_columns": null,
            "flex": null,
            "_model_name": "LayoutModel",
            "justify_items": null,
            "grid_row": null,
            "max_height": null,
            "align_content": null,
            "visibility": null,
            "align_self": null,
            "height": null,
            "min_height": null,
            "padding": null,
            "grid_auto_rows": null,
            "grid_gap": null,
            "max_width": null,
            "order": null,
            "_view_module_version": "1.2.0",
            "grid_template_areas": null,
            "object_position": null,
            "object_fit": null,
            "grid_auto_columns": null,
            "margin": null,
            "display": null,
            "left": null
          }
        },
        "19146df85f274880bcb2603515fc0ebf": {
          "model_module": "@jupyter-widgets/controls",
          "model_name": "FloatProgressModel",
          "state": {
            "_view_name": "ProgressView",
            "style": "IPY_MODEL_70a9138b5ae84067bcd5b7d97d67f751",
            "_dom_classes": [],
            "description": "100%",
            "_model_name": "FloatProgressModel",
            "bar_style": "success",
            "max": 262702,
            "_view_module": "@jupyter-widgets/controls",
            "_model_module_version": "1.5.0",
            "value": 262702,
            "_view_count": null,
            "_view_module_version": "1.5.0",
            "orientation": "horizontal",
            "min": 0,
            "description_tooltip": null,
            "_model_module": "@jupyter-widgets/controls",
            "layout": "IPY_MODEL_c954fde5ebcb4d5c8cfb0d5a45966187"
          }
        },
        "15b68eb3871e4d2881cf50a5503fcb1b": {
          "model_module": "@jupyter-widgets/controls",
          "model_name": "HTMLModel",
          "state": {
            "_view_name": "HTMLView",
            "style": "IPY_MODEL_54d3ba0d3e0d483ab65ebfc01a88f1b5",
            "_dom_classes": [],
            "description": "",
            "_model_name": "HTMLModel",
            "placeholder": "​",
            "_view_module": "@jupyter-widgets/controls",
            "_model_module_version": "1.5.0",
            "value": " 262702/262702 [02:06&lt;00:00, 2082.86it/s]",
            "_view_count": null,
            "_view_module_version": "1.5.0",
            "description_tooltip": null,
            "_model_module": "@jupyter-widgets/controls",
            "layout": "IPY_MODEL_f12cb21a034846ad9d62befc35fb4c90"
          }
        },
        "70a9138b5ae84067bcd5b7d97d67f751": {
          "model_module": "@jupyter-widgets/controls",
          "model_name": "ProgressStyleModel",
          "state": {
            "_view_name": "StyleView",
            "_model_name": "ProgressStyleModel",
            "description_width": "initial",
            "_view_module": "@jupyter-widgets/base",
            "_model_module_version": "1.5.0",
            "_view_count": null,
            "_view_module_version": "1.2.0",
            "bar_color": null,
            "_model_module": "@jupyter-widgets/controls"
          }
        },
        "c954fde5ebcb4d5c8cfb0d5a45966187": {
          "model_module": "@jupyter-widgets/base",
          "model_name": "LayoutModel",
          "state": {
            "_view_name": "LayoutView",
            "grid_template_rows": null,
            "right": null,
            "justify_content": null,
            "_view_module": "@jupyter-widgets/base",
            "overflow": null,
            "_model_module_version": "1.2.0",
            "_view_count": null,
            "flex_flow": null,
            "width": null,
            "min_width": null,
            "border": null,
            "align_items": null,
            "bottom": null,
            "_model_module": "@jupyter-widgets/base",
            "top": null,
            "grid_column": null,
            "overflow_y": null,
            "overflow_x": null,
            "grid_auto_flow": null,
            "grid_area": null,
            "grid_template_columns": null,
            "flex": null,
            "_model_name": "LayoutModel",
            "justify_items": null,
            "grid_row": null,
            "max_height": null,
            "align_content": null,
            "visibility": null,
            "align_self": null,
            "height": null,
            "min_height": null,
            "padding": null,
            "grid_auto_rows": null,
            "grid_gap": null,
            "max_width": null,
            "order": null,
            "_view_module_version": "1.2.0",
            "grid_template_areas": null,
            "object_position": null,
            "object_fit": null,
            "grid_auto_columns": null,
            "margin": null,
            "display": null,
            "left": null
          }
        },
        "54d3ba0d3e0d483ab65ebfc01a88f1b5": {
          "model_module": "@jupyter-widgets/controls",
          "model_name": "DescriptionStyleModel",
          "state": {
            "_view_name": "StyleView",
            "_model_name": "DescriptionStyleModel",
            "description_width": "",
            "_view_module": "@jupyter-widgets/base",
            "_model_module_version": "1.5.0",
            "_view_count": null,
            "_view_module_version": "1.2.0",
            "_model_module": "@jupyter-widgets/controls"
          }
        },
        "f12cb21a034846ad9d62befc35fb4c90": {
          "model_module": "@jupyter-widgets/base",
          "model_name": "LayoutModel",
          "state": {
            "_view_name": "LayoutView",
            "grid_template_rows": null,
            "right": null,
            "justify_content": null,
            "_view_module": "@jupyter-widgets/base",
            "overflow": null,
            "_model_module_version": "1.2.0",
            "_view_count": null,
            "flex_flow": null,
            "width": null,
            "min_width": null,
            "border": null,
            "align_items": null,
            "bottom": null,
            "_model_module": "@jupyter-widgets/base",
            "top": null,
            "grid_column": null,
            "overflow_y": null,
            "overflow_x": null,
            "grid_auto_flow": null,
            "grid_area": null,
            "grid_template_columns": null,
            "flex": null,
            "_model_name": "LayoutModel",
            "justify_items": null,
            "grid_row": null,
            "max_height": null,
            "align_content": null,
            "visibility": null,
            "align_self": null,
            "height": null,
            "min_height": null,
            "padding": null,
            "grid_auto_rows": null,
            "grid_gap": null,
            "max_width": null,
            "order": null,
            "_view_module_version": "1.2.0",
            "grid_template_areas": null,
            "object_position": null,
            "object_fit": null,
            "grid_auto_columns": null,
            "margin": null,
            "display": null,
            "left": null
          }
        },
        "2a920242610c449c8d58c89357149a89": {
          "model_module": "@jupyter-widgets/controls",
          "model_name": "HBoxModel",
          "state": {
            "_view_name": "HBoxView",
            "_dom_classes": [],
            "_model_name": "HBoxModel",
            "_view_module": "@jupyter-widgets/controls",
            "_model_module_version": "1.5.0",
            "_view_count": null,
            "_view_module_version": "1.5.0",
            "box_style": "",
            "layout": "IPY_MODEL_09a31340b285486db0246e7a526241b9",
            "_model_module": "@jupyter-widgets/controls",
            "children": [
              "IPY_MODEL_8e59732e515648e7a582e9a902252273",
              "IPY_MODEL_0619a87c69dd41fe96603694ba625532"
            ]
          }
        },
        "09a31340b285486db0246e7a526241b9": {
          "model_module": "@jupyter-widgets/base",
          "model_name": "LayoutModel",
          "state": {
            "_view_name": "LayoutView",
            "grid_template_rows": null,
            "right": null,
            "justify_content": null,
            "_view_module": "@jupyter-widgets/base",
            "overflow": null,
            "_model_module_version": "1.2.0",
            "_view_count": null,
            "flex_flow": null,
            "width": null,
            "min_width": null,
            "border": null,
            "align_items": null,
            "bottom": null,
            "_model_module": "@jupyter-widgets/base",
            "top": null,
            "grid_column": null,
            "overflow_y": null,
            "overflow_x": null,
            "grid_auto_flow": null,
            "grid_area": null,
            "grid_template_columns": null,
            "flex": null,
            "_model_name": "LayoutModel",
            "justify_items": null,
            "grid_row": null,
            "max_height": null,
            "align_content": null,
            "visibility": null,
            "align_self": null,
            "height": null,
            "min_height": null,
            "padding": null,
            "grid_auto_rows": null,
            "grid_gap": null,
            "max_width": null,
            "order": null,
            "_view_module_version": "1.2.0",
            "grid_template_areas": null,
            "object_position": null,
            "object_fit": null,
            "grid_auto_columns": null,
            "margin": null,
            "display": null,
            "left": null
          }
        },
        "8e59732e515648e7a582e9a902252273": {
          "model_module": "@jupyter-widgets/controls",
          "model_name": "FloatProgressModel",
          "state": {
            "_view_name": "ProgressView",
            "style": "IPY_MODEL_964126efe4fc4e7d93f4174d20f773be",
            "_dom_classes": [],
            "description": "Epoch: 1, train: 100%",
            "_model_name": "FloatProgressModel",
            "bar_style": "success",
            "max": 212131,
            "_view_module": "@jupyter-widgets/controls",
            "_model_module_version": "1.5.0",
            "value": 212131,
            "_view_count": null,
            "_view_module_version": "1.5.0",
            "orientation": "horizontal",
            "min": 0,
            "description_tooltip": null,
            "_model_module": "@jupyter-widgets/controls",
            "layout": "IPY_MODEL_5e6cbd6a854c4f57ac64d730457d7924"
          }
        },
        "0619a87c69dd41fe96603694ba625532": {
          "model_module": "@jupyter-widgets/controls",
          "model_name": "HTMLModel",
          "state": {
            "_view_name": "HTMLView",
            "style": "IPY_MODEL_b7b8fe32da9e410aa0ff5492f4b85122",
            "_dom_classes": [],
            "description": "",
            "_model_name": "HTMLModel",
            "placeholder": "​",
            "_view_module": "@jupyter-widgets/controls",
            "_model_module_version": "1.5.0",
            "value": " 212131/212131 [07:31&lt;00:00, 469.56it/s, train_loss=0.338]",
            "_view_count": null,
            "_view_module_version": "1.5.0",
            "description_tooltip": null,
            "_model_module": "@jupyter-widgets/controls",
            "layout": "IPY_MODEL_7a0d43ee47634d3da039b07d318257b1"
          }
        },
        "964126efe4fc4e7d93f4174d20f773be": {
          "model_module": "@jupyter-widgets/controls",
          "model_name": "ProgressStyleModel",
          "state": {
            "_view_name": "StyleView",
            "_model_name": "ProgressStyleModel",
            "description_width": "initial",
            "_view_module": "@jupyter-widgets/base",
            "_model_module_version": "1.5.0",
            "_view_count": null,
            "_view_module_version": "1.2.0",
            "bar_color": null,
            "_model_module": "@jupyter-widgets/controls"
          }
        },
        "5e6cbd6a854c4f57ac64d730457d7924": {
          "model_module": "@jupyter-widgets/base",
          "model_name": "LayoutModel",
          "state": {
            "_view_name": "LayoutView",
            "grid_template_rows": null,
            "right": null,
            "justify_content": null,
            "_view_module": "@jupyter-widgets/base",
            "overflow": null,
            "_model_module_version": "1.2.0",
            "_view_count": null,
            "flex_flow": null,
            "width": null,
            "min_width": null,
            "border": null,
            "align_items": null,
            "bottom": null,
            "_model_module": "@jupyter-widgets/base",
            "top": null,
            "grid_column": null,
            "overflow_y": null,
            "overflow_x": null,
            "grid_auto_flow": null,
            "grid_area": null,
            "grid_template_columns": null,
            "flex": null,
            "_model_name": "LayoutModel",
            "justify_items": null,
            "grid_row": null,
            "max_height": null,
            "align_content": null,
            "visibility": null,
            "align_self": null,
            "height": null,
            "min_height": null,
            "padding": null,
            "grid_auto_rows": null,
            "grid_gap": null,
            "max_width": null,
            "order": null,
            "_view_module_version": "1.2.0",
            "grid_template_areas": null,
            "object_position": null,
            "object_fit": null,
            "grid_auto_columns": null,
            "margin": null,
            "display": null,
            "left": null
          }
        },
        "b7b8fe32da9e410aa0ff5492f4b85122": {
          "model_module": "@jupyter-widgets/controls",
          "model_name": "DescriptionStyleModel",
          "state": {
            "_view_name": "StyleView",
            "_model_name": "DescriptionStyleModel",
            "description_width": "",
            "_view_module": "@jupyter-widgets/base",
            "_model_module_version": "1.5.0",
            "_view_count": null,
            "_view_module_version": "1.2.0",
            "_model_module": "@jupyter-widgets/controls"
          }
        },
        "7a0d43ee47634d3da039b07d318257b1": {
          "model_module": "@jupyter-widgets/base",
          "model_name": "LayoutModel",
          "state": {
            "_view_name": "LayoutView",
            "grid_template_rows": null,
            "right": null,
            "justify_content": null,
            "_view_module": "@jupyter-widgets/base",
            "overflow": null,
            "_model_module_version": "1.2.0",
            "_view_count": null,
            "flex_flow": null,
            "width": null,
            "min_width": null,
            "border": null,
            "align_items": null,
            "bottom": null,
            "_model_module": "@jupyter-widgets/base",
            "top": null,
            "grid_column": null,
            "overflow_y": null,
            "overflow_x": null,
            "grid_auto_flow": null,
            "grid_area": null,
            "grid_template_columns": null,
            "flex": null,
            "_model_name": "LayoutModel",
            "justify_items": null,
            "grid_row": null,
            "max_height": null,
            "align_content": null,
            "visibility": null,
            "align_self": null,
            "height": null,
            "min_height": null,
            "padding": null,
            "grid_auto_rows": null,
            "grid_gap": null,
            "max_width": null,
            "order": null,
            "_view_module_version": "1.2.0",
            "grid_template_areas": null,
            "object_position": null,
            "object_fit": null,
            "grid_auto_columns": null,
            "margin": null,
            "display": null,
            "left": null
          }
        },
        "f97d9727f77945a0a108d0cae5ec8ff0": {
          "model_module": "@jupyter-widgets/controls",
          "model_name": "HBoxModel",
          "state": {
            "_view_name": "HBoxView",
            "_dom_classes": [],
            "_model_name": "HBoxModel",
            "_view_module": "@jupyter-widgets/controls",
            "_model_module_version": "1.5.0",
            "_view_count": null,
            "_view_module_version": "1.5.0",
            "box_style": "",
            "layout": "IPY_MODEL_e8b698dbc2b846ed8cde8a70193f2bc1",
            "_model_module": "@jupyter-widgets/controls",
            "children": [
              "IPY_MODEL_2fa8543d12864894b6936f5d6c98f097",
              "IPY_MODEL_6d2deca72eff444280c73a53911786a6"
            ]
          }
        },
        "e8b698dbc2b846ed8cde8a70193f2bc1": {
          "model_module": "@jupyter-widgets/base",
          "model_name": "LayoutModel",
          "state": {
            "_view_name": "LayoutView",
            "grid_template_rows": null,
            "right": null,
            "justify_content": null,
            "_view_module": "@jupyter-widgets/base",
            "overflow": null,
            "_model_module_version": "1.2.0",
            "_view_count": null,
            "flex_flow": null,
            "width": null,
            "min_width": null,
            "border": null,
            "align_items": null,
            "bottom": null,
            "_model_module": "@jupyter-widgets/base",
            "top": null,
            "grid_column": null,
            "overflow_y": null,
            "overflow_x": null,
            "grid_auto_flow": null,
            "grid_area": null,
            "grid_template_columns": null,
            "flex": null,
            "_model_name": "LayoutModel",
            "justify_items": null,
            "grid_row": null,
            "max_height": null,
            "align_content": null,
            "visibility": null,
            "align_self": null,
            "height": null,
            "min_height": null,
            "padding": null,
            "grid_auto_rows": null,
            "grid_gap": null,
            "max_width": null,
            "order": null,
            "_view_module_version": "1.2.0",
            "grid_template_areas": null,
            "object_position": null,
            "object_fit": null,
            "grid_auto_columns": null,
            "margin": null,
            "display": null,
            "left": null
          }
        },
        "2fa8543d12864894b6936f5d6c98f097": {
          "model_module": "@jupyter-widgets/controls",
          "model_name": "FloatProgressModel",
          "state": {
            "_view_name": "ProgressView",
            "style": "IPY_MODEL_17eb9f575642433caf1c31526b413807",
            "_dom_classes": [],
            "description": "Epoch: 1, validation: 100%",
            "_model_name": "FloatProgressModel",
            "bar_style": "success",
            "max": 37435,
            "_view_module": "@jupyter-widgets/controls",
            "_model_module_version": "1.5.0",
            "value": 37435,
            "_view_count": null,
            "_view_module_version": "1.5.0",
            "orientation": "horizontal",
            "min": 0,
            "description_tooltip": null,
            "_model_module": "@jupyter-widgets/controls",
            "layout": "IPY_MODEL_a72be26a7bde44daa57c020d799ebcdd"
          }
        },
        "6d2deca72eff444280c73a53911786a6": {
          "model_module": "@jupyter-widgets/controls",
          "model_name": "HTMLModel",
          "state": {
            "_view_name": "HTMLView",
            "style": "IPY_MODEL_c1c5937b458644368f8a6802af56b9af",
            "_dom_classes": [],
            "description": "",
            "_model_name": "HTMLModel",
            "placeholder": "​",
            "_view_module": "@jupyter-widgets/controls",
            "_model_module_version": "1.5.0",
            "value": " 37435/37435 [05:57&lt;00:00, 104.82it/s, valid_loss=0.313]",
            "_view_count": null,
            "_view_module_version": "1.5.0",
            "description_tooltip": null,
            "_model_module": "@jupyter-widgets/controls",
            "layout": "IPY_MODEL_1fefa482c4984129a4c65507beb3b121"
          }
        },
        "17eb9f575642433caf1c31526b413807": {
          "model_module": "@jupyter-widgets/controls",
          "model_name": "ProgressStyleModel",
          "state": {
            "_view_name": "StyleView",
            "_model_name": "ProgressStyleModel",
            "description_width": "initial",
            "_view_module": "@jupyter-widgets/base",
            "_model_module_version": "1.5.0",
            "_view_count": null,
            "_view_module_version": "1.2.0",
            "bar_color": null,
            "_model_module": "@jupyter-widgets/controls"
          }
        },
        "a72be26a7bde44daa57c020d799ebcdd": {
          "model_module": "@jupyter-widgets/base",
          "model_name": "LayoutModel",
          "state": {
            "_view_name": "LayoutView",
            "grid_template_rows": null,
            "right": null,
            "justify_content": null,
            "_view_module": "@jupyter-widgets/base",
            "overflow": null,
            "_model_module_version": "1.2.0",
            "_view_count": null,
            "flex_flow": null,
            "width": null,
            "min_width": null,
            "border": null,
            "align_items": null,
            "bottom": null,
            "_model_module": "@jupyter-widgets/base",
            "top": null,
            "grid_column": null,
            "overflow_y": null,
            "overflow_x": null,
            "grid_auto_flow": null,
            "grid_area": null,
            "grid_template_columns": null,
            "flex": null,
            "_model_name": "LayoutModel",
            "justify_items": null,
            "grid_row": null,
            "max_height": null,
            "align_content": null,
            "visibility": null,
            "align_self": null,
            "height": null,
            "min_height": null,
            "padding": null,
            "grid_auto_rows": null,
            "grid_gap": null,
            "max_width": null,
            "order": null,
            "_view_module_version": "1.2.0",
            "grid_template_areas": null,
            "object_position": null,
            "object_fit": null,
            "grid_auto_columns": null,
            "margin": null,
            "display": null,
            "left": null
          }
        },
        "c1c5937b458644368f8a6802af56b9af": {
          "model_module": "@jupyter-widgets/controls",
          "model_name": "DescriptionStyleModel",
          "state": {
            "_view_name": "StyleView",
            "_model_name": "DescriptionStyleModel",
            "description_width": "",
            "_view_module": "@jupyter-widgets/base",
            "_model_module_version": "1.5.0",
            "_view_count": null,
            "_view_module_version": "1.2.0",
            "_model_module": "@jupyter-widgets/controls"
          }
        },
        "1fefa482c4984129a4c65507beb3b121": {
          "model_module": "@jupyter-widgets/base",
          "model_name": "LayoutModel",
          "state": {
            "_view_name": "LayoutView",
            "grid_template_rows": null,
            "right": null,
            "justify_content": null,
            "_view_module": "@jupyter-widgets/base",
            "overflow": null,
            "_model_module_version": "1.2.0",
            "_view_count": null,
            "flex_flow": null,
            "width": null,
            "min_width": null,
            "border": null,
            "align_items": null,
            "bottom": null,
            "_model_module": "@jupyter-widgets/base",
            "top": null,
            "grid_column": null,
            "overflow_y": null,
            "overflow_x": null,
            "grid_auto_flow": null,
            "grid_area": null,
            "grid_template_columns": null,
            "flex": null,
            "_model_name": "LayoutModel",
            "justify_items": null,
            "grid_row": null,
            "max_height": null,
            "align_content": null,
            "visibility": null,
            "align_self": null,
            "height": null,
            "min_height": null,
            "padding": null,
            "grid_auto_rows": null,
            "grid_gap": null,
            "max_width": null,
            "order": null,
            "_view_module_version": "1.2.0",
            "grid_template_areas": null,
            "object_position": null,
            "object_fit": null,
            "grid_auto_columns": null,
            "margin": null,
            "display": null,
            "left": null
          }
        },
        "eeb127480c554471ac3f1903408f104f": {
          "model_module": "@jupyter-widgets/controls",
          "model_name": "HBoxModel",
          "state": {
            "_view_name": "HBoxView",
            "_dom_classes": [],
            "_model_name": "HBoxModel",
            "_view_module": "@jupyter-widgets/controls",
            "_model_module_version": "1.5.0",
            "_view_count": null,
            "_view_module_version": "1.5.0",
            "box_style": "",
            "layout": "IPY_MODEL_eb3d8768ba064bacb68480ac5a0efa8e",
            "_model_module": "@jupyter-widgets/controls",
            "children": [
              "IPY_MODEL_a442701aaa2e452b8efad5ce7867c757",
              "IPY_MODEL_88c84fd8ce2a44e48e1b21afe262b078"
            ]
          }
        },
        "eb3d8768ba064bacb68480ac5a0efa8e": {
          "model_module": "@jupyter-widgets/base",
          "model_name": "LayoutModel",
          "state": {
            "_view_name": "LayoutView",
            "grid_template_rows": null,
            "right": null,
            "justify_content": null,
            "_view_module": "@jupyter-widgets/base",
            "overflow": null,
            "_model_module_version": "1.2.0",
            "_view_count": null,
            "flex_flow": null,
            "width": null,
            "min_width": null,
            "border": null,
            "align_items": null,
            "bottom": null,
            "_model_module": "@jupyter-widgets/base",
            "top": null,
            "grid_column": null,
            "overflow_y": null,
            "overflow_x": null,
            "grid_auto_flow": null,
            "grid_area": null,
            "grid_template_columns": null,
            "flex": null,
            "_model_name": "LayoutModel",
            "justify_items": null,
            "grid_row": null,
            "max_height": null,
            "align_content": null,
            "visibility": null,
            "align_self": null,
            "height": null,
            "min_height": null,
            "padding": null,
            "grid_auto_rows": null,
            "grid_gap": null,
            "max_width": null,
            "order": null,
            "_view_module_version": "1.2.0",
            "grid_template_areas": null,
            "object_position": null,
            "object_fit": null,
            "grid_auto_columns": null,
            "margin": null,
            "display": null,
            "left": null
          }
        },
        "a442701aaa2e452b8efad5ce7867c757": {
          "model_module": "@jupyter-widgets/controls",
          "model_name": "FloatProgressModel",
          "state": {
            "_view_name": "ProgressView",
            "style": "IPY_MODEL_34c09dd7e8714fc59229e532e4e263b6",
            "_dom_classes": [],
            "description": "Epoch: 2, train: 100%",
            "_model_name": "FloatProgressModel",
            "bar_style": "success",
            "max": 212131,
            "_view_module": "@jupyter-widgets/controls",
            "_model_module_version": "1.5.0",
            "value": 212131,
            "_view_count": null,
            "_view_module_version": "1.5.0",
            "orientation": "horizontal",
            "min": 0,
            "description_tooltip": null,
            "_model_module": "@jupyter-widgets/controls",
            "layout": "IPY_MODEL_cbc825a66d514e549e1a4fcf55412565"
          }
        },
        "88c84fd8ce2a44e48e1b21afe262b078": {
          "model_module": "@jupyter-widgets/controls",
          "model_name": "HTMLModel",
          "state": {
            "_view_name": "HTMLView",
            "style": "IPY_MODEL_1b8568f6bdb94a2fa218bf2dfc3017f5",
            "_dom_classes": [],
            "description": "",
            "_model_name": "HTMLModel",
            "placeholder": "​",
            "_view_module": "@jupyter-widgets/controls",
            "_model_module_version": "1.5.0",
            "value": " 212131/212131 [05:40&lt;00:00, 622.76it/s, train_loss=0.222]",
            "_view_count": null,
            "_view_module_version": "1.5.0",
            "description_tooltip": null,
            "_model_module": "@jupyter-widgets/controls",
            "layout": "IPY_MODEL_7d0cc99b8b9a41058deda79f4d2e5cd8"
          }
        },
        "34c09dd7e8714fc59229e532e4e263b6": {
          "model_module": "@jupyter-widgets/controls",
          "model_name": "ProgressStyleModel",
          "state": {
            "_view_name": "StyleView",
            "_model_name": "ProgressStyleModel",
            "description_width": "initial",
            "_view_module": "@jupyter-widgets/base",
            "_model_module_version": "1.5.0",
            "_view_count": null,
            "_view_module_version": "1.2.0",
            "bar_color": null,
            "_model_module": "@jupyter-widgets/controls"
          }
        },
        "cbc825a66d514e549e1a4fcf55412565": {
          "model_module": "@jupyter-widgets/base",
          "model_name": "LayoutModel",
          "state": {
            "_view_name": "LayoutView",
            "grid_template_rows": null,
            "right": null,
            "justify_content": null,
            "_view_module": "@jupyter-widgets/base",
            "overflow": null,
            "_model_module_version": "1.2.0",
            "_view_count": null,
            "flex_flow": null,
            "width": null,
            "min_width": null,
            "border": null,
            "align_items": null,
            "bottom": null,
            "_model_module": "@jupyter-widgets/base",
            "top": null,
            "grid_column": null,
            "overflow_y": null,
            "overflow_x": null,
            "grid_auto_flow": null,
            "grid_area": null,
            "grid_template_columns": null,
            "flex": null,
            "_model_name": "LayoutModel",
            "justify_items": null,
            "grid_row": null,
            "max_height": null,
            "align_content": null,
            "visibility": null,
            "align_self": null,
            "height": null,
            "min_height": null,
            "padding": null,
            "grid_auto_rows": null,
            "grid_gap": null,
            "max_width": null,
            "order": null,
            "_view_module_version": "1.2.0",
            "grid_template_areas": null,
            "object_position": null,
            "object_fit": null,
            "grid_auto_columns": null,
            "margin": null,
            "display": null,
            "left": null
          }
        },
        "1b8568f6bdb94a2fa218bf2dfc3017f5": {
          "model_module": "@jupyter-widgets/controls",
          "model_name": "DescriptionStyleModel",
          "state": {
            "_view_name": "StyleView",
            "_model_name": "DescriptionStyleModel",
            "description_width": "",
            "_view_module": "@jupyter-widgets/base",
            "_model_module_version": "1.5.0",
            "_view_count": null,
            "_view_module_version": "1.2.0",
            "_model_module": "@jupyter-widgets/controls"
          }
        },
        "7d0cc99b8b9a41058deda79f4d2e5cd8": {
          "model_module": "@jupyter-widgets/base",
          "model_name": "LayoutModel",
          "state": {
            "_view_name": "LayoutView",
            "grid_template_rows": null,
            "right": null,
            "justify_content": null,
            "_view_module": "@jupyter-widgets/base",
            "overflow": null,
            "_model_module_version": "1.2.0",
            "_view_count": null,
            "flex_flow": null,
            "width": null,
            "min_width": null,
            "border": null,
            "align_items": null,
            "bottom": null,
            "_model_module": "@jupyter-widgets/base",
            "top": null,
            "grid_column": null,
            "overflow_y": null,
            "overflow_x": null,
            "grid_auto_flow": null,
            "grid_area": null,
            "grid_template_columns": null,
            "flex": null,
            "_model_name": "LayoutModel",
            "justify_items": null,
            "grid_row": null,
            "max_height": null,
            "align_content": null,
            "visibility": null,
            "align_self": null,
            "height": null,
            "min_height": null,
            "padding": null,
            "grid_auto_rows": null,
            "grid_gap": null,
            "max_width": null,
            "order": null,
            "_view_module_version": "1.2.0",
            "grid_template_areas": null,
            "object_position": null,
            "object_fit": null,
            "grid_auto_columns": null,
            "margin": null,
            "display": null,
            "left": null
          }
        },
        "96cabb2965be43979d26b34061cd0f4e": {
          "model_module": "@jupyter-widgets/controls",
          "model_name": "HBoxModel",
          "state": {
            "_view_name": "HBoxView",
            "_dom_classes": [],
            "_model_name": "HBoxModel",
            "_view_module": "@jupyter-widgets/controls",
            "_model_module_version": "1.5.0",
            "_view_count": null,
            "_view_module_version": "1.5.0",
            "box_style": "",
            "layout": "IPY_MODEL_e9b5b6fd5a5845eba4afffd1afeda95e",
            "_model_module": "@jupyter-widgets/controls",
            "children": [
              "IPY_MODEL_479ec3824c294d0d936114a6d18cd9fb",
              "IPY_MODEL_773a3a30951641efa8abf29103861779"
            ]
          }
        },
        "e9b5b6fd5a5845eba4afffd1afeda95e": {
          "model_module": "@jupyter-widgets/base",
          "model_name": "LayoutModel",
          "state": {
            "_view_name": "LayoutView",
            "grid_template_rows": null,
            "right": null,
            "justify_content": null,
            "_view_module": "@jupyter-widgets/base",
            "overflow": null,
            "_model_module_version": "1.2.0",
            "_view_count": null,
            "flex_flow": null,
            "width": null,
            "min_width": null,
            "border": null,
            "align_items": null,
            "bottom": null,
            "_model_module": "@jupyter-widgets/base",
            "top": null,
            "grid_column": null,
            "overflow_y": null,
            "overflow_x": null,
            "grid_auto_flow": null,
            "grid_area": null,
            "grid_template_columns": null,
            "flex": null,
            "_model_name": "LayoutModel",
            "justify_items": null,
            "grid_row": null,
            "max_height": null,
            "align_content": null,
            "visibility": null,
            "align_self": null,
            "height": null,
            "min_height": null,
            "padding": null,
            "grid_auto_rows": null,
            "grid_gap": null,
            "max_width": null,
            "order": null,
            "_view_module_version": "1.2.0",
            "grid_template_areas": null,
            "object_position": null,
            "object_fit": null,
            "grid_auto_columns": null,
            "margin": null,
            "display": null,
            "left": null
          }
        },
        "479ec3824c294d0d936114a6d18cd9fb": {
          "model_module": "@jupyter-widgets/controls",
          "model_name": "FloatProgressModel",
          "state": {
            "_view_name": "ProgressView",
            "style": "IPY_MODEL_267f99853061442c94a85e5b6259a60a",
            "_dom_classes": [],
            "description": "Epoch: 2, validation: 100%",
            "_model_name": "FloatProgressModel",
            "bar_style": "success",
            "max": 37435,
            "_view_module": "@jupyter-widgets/controls",
            "_model_module_version": "1.5.0",
            "value": 37435,
            "_view_count": null,
            "_view_module_version": "1.5.0",
            "orientation": "horizontal",
            "min": 0,
            "description_tooltip": null,
            "_model_module": "@jupyter-widgets/controls",
            "layout": "IPY_MODEL_04c095e650154843ac16cf66cc6991ae"
          }
        },
        "773a3a30951641efa8abf29103861779": {
          "model_module": "@jupyter-widgets/controls",
          "model_name": "HTMLModel",
          "state": {
            "_view_name": "HTMLView",
            "style": "IPY_MODEL_9ca380dd5e2b4e94ba15015a6403b7fb",
            "_dom_classes": [],
            "description": "",
            "_model_name": "HTMLModel",
            "placeholder": "​",
            "_view_module": "@jupyter-widgets/controls",
            "_model_module_version": "1.5.0",
            "value": " 37435/37435 [00:17&lt;00:00, 2118.46it/s, valid_loss=0.239]",
            "_view_count": null,
            "_view_module_version": "1.5.0",
            "description_tooltip": null,
            "_model_module": "@jupyter-widgets/controls",
            "layout": "IPY_MODEL_c5e68bfba2ac4ca48cea30e521da88ef"
          }
        },
        "267f99853061442c94a85e5b6259a60a": {
          "model_module": "@jupyter-widgets/controls",
          "model_name": "ProgressStyleModel",
          "state": {
            "_view_name": "StyleView",
            "_model_name": "ProgressStyleModel",
            "description_width": "initial",
            "_view_module": "@jupyter-widgets/base",
            "_model_module_version": "1.5.0",
            "_view_count": null,
            "_view_module_version": "1.2.0",
            "bar_color": null,
            "_model_module": "@jupyter-widgets/controls"
          }
        },
        "04c095e650154843ac16cf66cc6991ae": {
          "model_module": "@jupyter-widgets/base",
          "model_name": "LayoutModel",
          "state": {
            "_view_name": "LayoutView",
            "grid_template_rows": null,
            "right": null,
            "justify_content": null,
            "_view_module": "@jupyter-widgets/base",
            "overflow": null,
            "_model_module_version": "1.2.0",
            "_view_count": null,
            "flex_flow": null,
            "width": null,
            "min_width": null,
            "border": null,
            "align_items": null,
            "bottom": null,
            "_model_module": "@jupyter-widgets/base",
            "top": null,
            "grid_column": null,
            "overflow_y": null,
            "overflow_x": null,
            "grid_auto_flow": null,
            "grid_area": null,
            "grid_template_columns": null,
            "flex": null,
            "_model_name": "LayoutModel",
            "justify_items": null,
            "grid_row": null,
            "max_height": null,
            "align_content": null,
            "visibility": null,
            "align_self": null,
            "height": null,
            "min_height": null,
            "padding": null,
            "grid_auto_rows": null,
            "grid_gap": null,
            "max_width": null,
            "order": null,
            "_view_module_version": "1.2.0",
            "grid_template_areas": null,
            "object_position": null,
            "object_fit": null,
            "grid_auto_columns": null,
            "margin": null,
            "display": null,
            "left": null
          }
        },
        "9ca380dd5e2b4e94ba15015a6403b7fb": {
          "model_module": "@jupyter-widgets/controls",
          "model_name": "DescriptionStyleModel",
          "state": {
            "_view_name": "StyleView",
            "_model_name": "DescriptionStyleModel",
            "description_width": "",
            "_view_module": "@jupyter-widgets/base",
            "_model_module_version": "1.5.0",
            "_view_count": null,
            "_view_module_version": "1.2.0",
            "_model_module": "@jupyter-widgets/controls"
          }
        },
        "c5e68bfba2ac4ca48cea30e521da88ef": {
          "model_module": "@jupyter-widgets/base",
          "model_name": "LayoutModel",
          "state": {
            "_view_name": "LayoutView",
            "grid_template_rows": null,
            "right": null,
            "justify_content": null,
            "_view_module": "@jupyter-widgets/base",
            "overflow": null,
            "_model_module_version": "1.2.0",
            "_view_count": null,
            "flex_flow": null,
            "width": null,
            "min_width": null,
            "border": null,
            "align_items": null,
            "bottom": null,
            "_model_module": "@jupyter-widgets/base",
            "top": null,
            "grid_column": null,
            "overflow_y": null,
            "overflow_x": null,
            "grid_auto_flow": null,
            "grid_area": null,
            "grid_template_columns": null,
            "flex": null,
            "_model_name": "LayoutModel",
            "justify_items": null,
            "grid_row": null,
            "max_height": null,
            "align_content": null,
            "visibility": null,
            "align_self": null,
            "height": null,
            "min_height": null,
            "padding": null,
            "grid_auto_rows": null,
            "grid_gap": null,
            "max_width": null,
            "order": null,
            "_view_module_version": "1.2.0",
            "grid_template_areas": null,
            "object_position": null,
            "object_fit": null,
            "grid_auto_columns": null,
            "margin": null,
            "display": null,
            "left": null
          }
        },
        "c296f504c0d0417380466dae268bd6b9": {
          "model_module": "@jupyter-widgets/controls",
          "model_name": "HBoxModel",
          "state": {
            "_view_name": "HBoxView",
            "_dom_classes": [],
            "_model_name": "HBoxModel",
            "_view_module": "@jupyter-widgets/controls",
            "_model_module_version": "1.5.0",
            "_view_count": null,
            "_view_module_version": "1.5.0",
            "box_style": "",
            "layout": "IPY_MODEL_f597e861ee5a439880a486d1bf158ffa",
            "_model_module": "@jupyter-widgets/controls",
            "children": [
              "IPY_MODEL_f3bd06a47e3c4556b955aa1d667cc733",
              "IPY_MODEL_07d63e3ce07f4882ba561804b2c570c0"
            ]
          }
        },
        "f597e861ee5a439880a486d1bf158ffa": {
          "model_module": "@jupyter-widgets/base",
          "model_name": "LayoutModel",
          "state": {
            "_view_name": "LayoutView",
            "grid_template_rows": null,
            "right": null,
            "justify_content": null,
            "_view_module": "@jupyter-widgets/base",
            "overflow": null,
            "_model_module_version": "1.2.0",
            "_view_count": null,
            "flex_flow": null,
            "width": null,
            "min_width": null,
            "border": null,
            "align_items": null,
            "bottom": null,
            "_model_module": "@jupyter-widgets/base",
            "top": null,
            "grid_column": null,
            "overflow_y": null,
            "overflow_x": null,
            "grid_auto_flow": null,
            "grid_area": null,
            "grid_template_columns": null,
            "flex": null,
            "_model_name": "LayoutModel",
            "justify_items": null,
            "grid_row": null,
            "max_height": null,
            "align_content": null,
            "visibility": null,
            "align_self": null,
            "height": null,
            "min_height": null,
            "padding": null,
            "grid_auto_rows": null,
            "grid_gap": null,
            "max_width": null,
            "order": null,
            "_view_module_version": "1.2.0",
            "grid_template_areas": null,
            "object_position": null,
            "object_fit": null,
            "grid_auto_columns": null,
            "margin": null,
            "display": null,
            "left": null
          }
        },
        "f3bd06a47e3c4556b955aa1d667cc733": {
          "model_module": "@jupyter-widgets/controls",
          "model_name": "FloatProgressModel",
          "state": {
            "_view_name": "ProgressView",
            "style": "IPY_MODEL_f80290064c444b019a839d3c528d1271",
            "_dom_classes": [],
            "description": "Epoch: 3, train: 100%",
            "_model_name": "FloatProgressModel",
            "bar_style": "success",
            "max": 212131,
            "_view_module": "@jupyter-widgets/controls",
            "_model_module_version": "1.5.0",
            "value": 212131,
            "_view_count": null,
            "_view_module_version": "1.5.0",
            "orientation": "horizontal",
            "min": 0,
            "description_tooltip": null,
            "_model_module": "@jupyter-widgets/controls",
            "layout": "IPY_MODEL_7a3de54a7d354ed9867adbddf78dd42c"
          }
        },
        "07d63e3ce07f4882ba561804b2c570c0": {
          "model_module": "@jupyter-widgets/controls",
          "model_name": "HTMLModel",
          "state": {
            "_view_name": "HTMLView",
            "style": "IPY_MODEL_26c1d7eb05a54a5a891e3d53bd853b4d",
            "_dom_classes": [],
            "description": "",
            "_model_name": "HTMLModel",
            "placeholder": "​",
            "_view_module": "@jupyter-widgets/controls",
            "_model_module_version": "1.5.0",
            "value": " 212131/212131 [03:46&lt;00:00, 934.72it/s, train_loss=0.174]",
            "_view_count": null,
            "_view_module_version": "1.5.0",
            "description_tooltip": null,
            "_model_module": "@jupyter-widgets/controls",
            "layout": "IPY_MODEL_5827159732b04840a3d84da21a500724"
          }
        },
        "f80290064c444b019a839d3c528d1271": {
          "model_module": "@jupyter-widgets/controls",
          "model_name": "ProgressStyleModel",
          "state": {
            "_view_name": "StyleView",
            "_model_name": "ProgressStyleModel",
            "description_width": "initial",
            "_view_module": "@jupyter-widgets/base",
            "_model_module_version": "1.5.0",
            "_view_count": null,
            "_view_module_version": "1.2.0",
            "bar_color": null,
            "_model_module": "@jupyter-widgets/controls"
          }
        },
        "7a3de54a7d354ed9867adbddf78dd42c": {
          "model_module": "@jupyter-widgets/base",
          "model_name": "LayoutModel",
          "state": {
            "_view_name": "LayoutView",
            "grid_template_rows": null,
            "right": null,
            "justify_content": null,
            "_view_module": "@jupyter-widgets/base",
            "overflow": null,
            "_model_module_version": "1.2.0",
            "_view_count": null,
            "flex_flow": null,
            "width": null,
            "min_width": null,
            "border": null,
            "align_items": null,
            "bottom": null,
            "_model_module": "@jupyter-widgets/base",
            "top": null,
            "grid_column": null,
            "overflow_y": null,
            "overflow_x": null,
            "grid_auto_flow": null,
            "grid_area": null,
            "grid_template_columns": null,
            "flex": null,
            "_model_name": "LayoutModel",
            "justify_items": null,
            "grid_row": null,
            "max_height": null,
            "align_content": null,
            "visibility": null,
            "align_self": null,
            "height": null,
            "min_height": null,
            "padding": null,
            "grid_auto_rows": null,
            "grid_gap": null,
            "max_width": null,
            "order": null,
            "_view_module_version": "1.2.0",
            "grid_template_areas": null,
            "object_position": null,
            "object_fit": null,
            "grid_auto_columns": null,
            "margin": null,
            "display": null,
            "left": null
          }
        },
        "26c1d7eb05a54a5a891e3d53bd853b4d": {
          "model_module": "@jupyter-widgets/controls",
          "model_name": "DescriptionStyleModel",
          "state": {
            "_view_name": "StyleView",
            "_model_name": "DescriptionStyleModel",
            "description_width": "",
            "_view_module": "@jupyter-widgets/base",
            "_model_module_version": "1.5.0",
            "_view_count": null,
            "_view_module_version": "1.2.0",
            "_model_module": "@jupyter-widgets/controls"
          }
        },
        "5827159732b04840a3d84da21a500724": {
          "model_module": "@jupyter-widgets/base",
          "model_name": "LayoutModel",
          "state": {
            "_view_name": "LayoutView",
            "grid_template_rows": null,
            "right": null,
            "justify_content": null,
            "_view_module": "@jupyter-widgets/base",
            "overflow": null,
            "_model_module_version": "1.2.0",
            "_view_count": null,
            "flex_flow": null,
            "width": null,
            "min_width": null,
            "border": null,
            "align_items": null,
            "bottom": null,
            "_model_module": "@jupyter-widgets/base",
            "top": null,
            "grid_column": null,
            "overflow_y": null,
            "overflow_x": null,
            "grid_auto_flow": null,
            "grid_area": null,
            "grid_template_columns": null,
            "flex": null,
            "_model_name": "LayoutModel",
            "justify_items": null,
            "grid_row": null,
            "max_height": null,
            "align_content": null,
            "visibility": null,
            "align_self": null,
            "height": null,
            "min_height": null,
            "padding": null,
            "grid_auto_rows": null,
            "grid_gap": null,
            "max_width": null,
            "order": null,
            "_view_module_version": "1.2.0",
            "grid_template_areas": null,
            "object_position": null,
            "object_fit": null,
            "grid_auto_columns": null,
            "margin": null,
            "display": null,
            "left": null
          }
        },
        "4a54f85c62b24c468c0a278721a3ba76": {
          "model_module": "@jupyter-widgets/controls",
          "model_name": "HBoxModel",
          "state": {
            "_view_name": "HBoxView",
            "_dom_classes": [],
            "_model_name": "HBoxModel",
            "_view_module": "@jupyter-widgets/controls",
            "_model_module_version": "1.5.0",
            "_view_count": null,
            "_view_module_version": "1.5.0",
            "box_style": "",
            "layout": "IPY_MODEL_d1321b44ea4649e6829d0f73edea3288",
            "_model_module": "@jupyter-widgets/controls",
            "children": [
              "IPY_MODEL_5b34572c1ac74200b5d0e48fd72e8b50",
              "IPY_MODEL_6f2cfb89e9c7408e8a701de456bc1d19"
            ]
          }
        },
        "d1321b44ea4649e6829d0f73edea3288": {
          "model_module": "@jupyter-widgets/base",
          "model_name": "LayoutModel",
          "state": {
            "_view_name": "LayoutView",
            "grid_template_rows": null,
            "right": null,
            "justify_content": null,
            "_view_module": "@jupyter-widgets/base",
            "overflow": null,
            "_model_module_version": "1.2.0",
            "_view_count": null,
            "flex_flow": null,
            "width": null,
            "min_width": null,
            "border": null,
            "align_items": null,
            "bottom": null,
            "_model_module": "@jupyter-widgets/base",
            "top": null,
            "grid_column": null,
            "overflow_y": null,
            "overflow_x": null,
            "grid_auto_flow": null,
            "grid_area": null,
            "grid_template_columns": null,
            "flex": null,
            "_model_name": "LayoutModel",
            "justify_items": null,
            "grid_row": null,
            "max_height": null,
            "align_content": null,
            "visibility": null,
            "align_self": null,
            "height": null,
            "min_height": null,
            "padding": null,
            "grid_auto_rows": null,
            "grid_gap": null,
            "max_width": null,
            "order": null,
            "_view_module_version": "1.2.0",
            "grid_template_areas": null,
            "object_position": null,
            "object_fit": null,
            "grid_auto_columns": null,
            "margin": null,
            "display": null,
            "left": null
          }
        },
        "5b34572c1ac74200b5d0e48fd72e8b50": {
          "model_module": "@jupyter-widgets/controls",
          "model_name": "FloatProgressModel",
          "state": {
            "_view_name": "ProgressView",
            "style": "IPY_MODEL_0d23ed2ef86c452c8513de658ab72227",
            "_dom_classes": [],
            "description": "Epoch: 3, validation: 100%",
            "_model_name": "FloatProgressModel",
            "bar_style": "success",
            "max": 37435,
            "_view_module": "@jupyter-widgets/controls",
            "_model_module_version": "1.5.0",
            "value": 37435,
            "_view_count": null,
            "_view_module_version": "1.5.0",
            "orientation": "horizontal",
            "min": 0,
            "description_tooltip": null,
            "_model_module": "@jupyter-widgets/controls",
            "layout": "IPY_MODEL_91097997acbd4c608f1d2dd0aab55926"
          }
        },
        "6f2cfb89e9c7408e8a701de456bc1d19": {
          "model_module": "@jupyter-widgets/controls",
          "model_name": "HTMLModel",
          "state": {
            "_view_name": "HTMLView",
            "style": "IPY_MODEL_121745a6ea5546498b387e80142a48f2",
            "_dom_classes": [],
            "description": "",
            "_model_name": "HTMLModel",
            "placeholder": "​",
            "_view_module": "@jupyter-widgets/controls",
            "_model_module_version": "1.5.0",
            "value": " 37435/37435 [00:16&lt;00:00, 2328.67it/s, valid_loss=0.231]",
            "_view_count": null,
            "_view_module_version": "1.5.0",
            "description_tooltip": null,
            "_model_module": "@jupyter-widgets/controls",
            "layout": "IPY_MODEL_6f85f7c3142a42a9a0b4acec8b300e72"
          }
        },
        "0d23ed2ef86c452c8513de658ab72227": {
          "model_module": "@jupyter-widgets/controls",
          "model_name": "ProgressStyleModel",
          "state": {
            "_view_name": "StyleView",
            "_model_name": "ProgressStyleModel",
            "description_width": "initial",
            "_view_module": "@jupyter-widgets/base",
            "_model_module_version": "1.5.0",
            "_view_count": null,
            "_view_module_version": "1.2.0",
            "bar_color": null,
            "_model_module": "@jupyter-widgets/controls"
          }
        },
        "91097997acbd4c608f1d2dd0aab55926": {
          "model_module": "@jupyter-widgets/base",
          "model_name": "LayoutModel",
          "state": {
            "_view_name": "LayoutView",
            "grid_template_rows": null,
            "right": null,
            "justify_content": null,
            "_view_module": "@jupyter-widgets/base",
            "overflow": null,
            "_model_module_version": "1.2.0",
            "_view_count": null,
            "flex_flow": null,
            "width": null,
            "min_width": null,
            "border": null,
            "align_items": null,
            "bottom": null,
            "_model_module": "@jupyter-widgets/base",
            "top": null,
            "grid_column": null,
            "overflow_y": null,
            "overflow_x": null,
            "grid_auto_flow": null,
            "grid_area": null,
            "grid_template_columns": null,
            "flex": null,
            "_model_name": "LayoutModel",
            "justify_items": null,
            "grid_row": null,
            "max_height": null,
            "align_content": null,
            "visibility": null,
            "align_self": null,
            "height": null,
            "min_height": null,
            "padding": null,
            "grid_auto_rows": null,
            "grid_gap": null,
            "max_width": null,
            "order": null,
            "_view_module_version": "1.2.0",
            "grid_template_areas": null,
            "object_position": null,
            "object_fit": null,
            "grid_auto_columns": null,
            "margin": null,
            "display": null,
            "left": null
          }
        },
        "121745a6ea5546498b387e80142a48f2": {
          "model_module": "@jupyter-widgets/controls",
          "model_name": "DescriptionStyleModel",
          "state": {
            "_view_name": "StyleView",
            "_model_name": "DescriptionStyleModel",
            "description_width": "",
            "_view_module": "@jupyter-widgets/base",
            "_model_module_version": "1.5.0",
            "_view_count": null,
            "_view_module_version": "1.2.0",
            "_model_module": "@jupyter-widgets/controls"
          }
        },
        "6f85f7c3142a42a9a0b4acec8b300e72": {
          "model_module": "@jupyter-widgets/base",
          "model_name": "LayoutModel",
          "state": {
            "_view_name": "LayoutView",
            "grid_template_rows": null,
            "right": null,
            "justify_content": null,
            "_view_module": "@jupyter-widgets/base",
            "overflow": null,
            "_model_module_version": "1.2.0",
            "_view_count": null,
            "flex_flow": null,
            "width": null,
            "min_width": null,
            "border": null,
            "align_items": null,
            "bottom": null,
            "_model_module": "@jupyter-widgets/base",
            "top": null,
            "grid_column": null,
            "overflow_y": null,
            "overflow_x": null,
            "grid_auto_flow": null,
            "grid_area": null,
            "grid_template_columns": null,
            "flex": null,
            "_model_name": "LayoutModel",
            "justify_items": null,
            "grid_row": null,
            "max_height": null,
            "align_content": null,
            "visibility": null,
            "align_self": null,
            "height": null,
            "min_height": null,
            "padding": null,
            "grid_auto_rows": null,
            "grid_gap": null,
            "max_width": null,
            "order": null,
            "_view_module_version": "1.2.0",
            "grid_template_areas": null,
            "object_position": null,
            "object_fit": null,
            "grid_auto_columns": null,
            "margin": null,
            "display": null,
            "left": null
          }
        },
        "ead3a951a2f648a9934271e56867c86f": {
          "model_module": "@jupyter-widgets/controls",
          "model_name": "HBoxModel",
          "state": {
            "_view_name": "HBoxView",
            "_dom_classes": [],
            "_model_name": "HBoxModel",
            "_view_module": "@jupyter-widgets/controls",
            "_model_module_version": "1.5.0",
            "_view_count": null,
            "_view_module_version": "1.5.0",
            "box_style": "",
            "layout": "IPY_MODEL_ed76e5fdd78d4a52a5a2968508b7c0ad",
            "_model_module": "@jupyter-widgets/controls",
            "children": [
              "IPY_MODEL_0a9bae73e1f84747aac6b4d4de368026",
              "IPY_MODEL_022cce0bd2cd4a20b1c3ad7fbeebb28d"
            ]
          }
        },
        "ed76e5fdd78d4a52a5a2968508b7c0ad": {
          "model_module": "@jupyter-widgets/base",
          "model_name": "LayoutModel",
          "state": {
            "_view_name": "LayoutView",
            "grid_template_rows": null,
            "right": null,
            "justify_content": null,
            "_view_module": "@jupyter-widgets/base",
            "overflow": null,
            "_model_module_version": "1.2.0",
            "_view_count": null,
            "flex_flow": null,
            "width": null,
            "min_width": null,
            "border": null,
            "align_items": null,
            "bottom": null,
            "_model_module": "@jupyter-widgets/base",
            "top": null,
            "grid_column": null,
            "overflow_y": null,
            "overflow_x": null,
            "grid_auto_flow": null,
            "grid_area": null,
            "grid_template_columns": null,
            "flex": null,
            "_model_name": "LayoutModel",
            "justify_items": null,
            "grid_row": null,
            "max_height": null,
            "align_content": null,
            "visibility": null,
            "align_self": null,
            "height": null,
            "min_height": null,
            "padding": null,
            "grid_auto_rows": null,
            "grid_gap": null,
            "max_width": null,
            "order": null,
            "_view_module_version": "1.2.0",
            "grid_template_areas": null,
            "object_position": null,
            "object_fit": null,
            "grid_auto_columns": null,
            "margin": null,
            "display": null,
            "left": null
          }
        },
        "0a9bae73e1f84747aac6b4d4de368026": {
          "model_module": "@jupyter-widgets/controls",
          "model_name": "FloatProgressModel",
          "state": {
            "_view_name": "ProgressView",
            "style": "IPY_MODEL_279cb01f39f24ec79896559117cde8fb",
            "_dom_classes": [],
            "description": "Epoch: 4, train: 100%",
            "_model_name": "FloatProgressModel",
            "bar_style": "success",
            "max": 212131,
            "_view_module": "@jupyter-widgets/controls",
            "_model_module_version": "1.5.0",
            "value": 212131,
            "_view_count": null,
            "_view_module_version": "1.5.0",
            "orientation": "horizontal",
            "min": 0,
            "description_tooltip": null,
            "_model_module": "@jupyter-widgets/controls",
            "layout": "IPY_MODEL_ea7836acf5434bc9b644fdefaa9aac75"
          }
        },
        "022cce0bd2cd4a20b1c3ad7fbeebb28d": {
          "model_module": "@jupyter-widgets/controls",
          "model_name": "HTMLModel",
          "state": {
            "_view_name": "HTMLView",
            "style": "IPY_MODEL_ce27e566ac3b47c0b054d84b7763d96f",
            "_dom_classes": [],
            "description": "",
            "_model_name": "HTMLModel",
            "placeholder": "​",
            "_view_module": "@jupyter-widgets/controls",
            "_model_module_version": "1.5.0",
            "value": " 212131/212131 [01:54&lt;00:00, 1860.02it/s, train_loss=0.14]",
            "_view_count": null,
            "_view_module_version": "1.5.0",
            "description_tooltip": null,
            "_model_module": "@jupyter-widgets/controls",
            "layout": "IPY_MODEL_0a6d0048e4c64580aac1aeda422e0b3d"
          }
        },
        "279cb01f39f24ec79896559117cde8fb": {
          "model_module": "@jupyter-widgets/controls",
          "model_name": "ProgressStyleModel",
          "state": {
            "_view_name": "StyleView",
            "_model_name": "ProgressStyleModel",
            "description_width": "initial",
            "_view_module": "@jupyter-widgets/base",
            "_model_module_version": "1.5.0",
            "_view_count": null,
            "_view_module_version": "1.2.0",
            "bar_color": null,
            "_model_module": "@jupyter-widgets/controls"
          }
        },
        "ea7836acf5434bc9b644fdefaa9aac75": {
          "model_module": "@jupyter-widgets/base",
          "model_name": "LayoutModel",
          "state": {
            "_view_name": "LayoutView",
            "grid_template_rows": null,
            "right": null,
            "justify_content": null,
            "_view_module": "@jupyter-widgets/base",
            "overflow": null,
            "_model_module_version": "1.2.0",
            "_view_count": null,
            "flex_flow": null,
            "width": null,
            "min_width": null,
            "border": null,
            "align_items": null,
            "bottom": null,
            "_model_module": "@jupyter-widgets/base",
            "top": null,
            "grid_column": null,
            "overflow_y": null,
            "overflow_x": null,
            "grid_auto_flow": null,
            "grid_area": null,
            "grid_template_columns": null,
            "flex": null,
            "_model_name": "LayoutModel",
            "justify_items": null,
            "grid_row": null,
            "max_height": null,
            "align_content": null,
            "visibility": null,
            "align_self": null,
            "height": null,
            "min_height": null,
            "padding": null,
            "grid_auto_rows": null,
            "grid_gap": null,
            "max_width": null,
            "order": null,
            "_view_module_version": "1.2.0",
            "grid_template_areas": null,
            "object_position": null,
            "object_fit": null,
            "grid_auto_columns": null,
            "margin": null,
            "display": null,
            "left": null
          }
        },
        "ce27e566ac3b47c0b054d84b7763d96f": {
          "model_module": "@jupyter-widgets/controls",
          "model_name": "DescriptionStyleModel",
          "state": {
            "_view_name": "StyleView",
            "_model_name": "DescriptionStyleModel",
            "description_width": "",
            "_view_module": "@jupyter-widgets/base",
            "_model_module_version": "1.5.0",
            "_view_count": null,
            "_view_module_version": "1.2.0",
            "_model_module": "@jupyter-widgets/controls"
          }
        },
        "0a6d0048e4c64580aac1aeda422e0b3d": {
          "model_module": "@jupyter-widgets/base",
          "model_name": "LayoutModel",
          "state": {
            "_view_name": "LayoutView",
            "grid_template_rows": null,
            "right": null,
            "justify_content": null,
            "_view_module": "@jupyter-widgets/base",
            "overflow": null,
            "_model_module_version": "1.2.0",
            "_view_count": null,
            "flex_flow": null,
            "width": null,
            "min_width": null,
            "border": null,
            "align_items": null,
            "bottom": null,
            "_model_module": "@jupyter-widgets/base",
            "top": null,
            "grid_column": null,
            "overflow_y": null,
            "overflow_x": null,
            "grid_auto_flow": null,
            "grid_area": null,
            "grid_template_columns": null,
            "flex": null,
            "_model_name": "LayoutModel",
            "justify_items": null,
            "grid_row": null,
            "max_height": null,
            "align_content": null,
            "visibility": null,
            "align_self": null,
            "height": null,
            "min_height": null,
            "padding": null,
            "grid_auto_rows": null,
            "grid_gap": null,
            "max_width": null,
            "order": null,
            "_view_module_version": "1.2.0",
            "grid_template_areas": null,
            "object_position": null,
            "object_fit": null,
            "grid_auto_columns": null,
            "margin": null,
            "display": null,
            "left": null
          }
        },
        "41d7b1df898846e8bd0c4db52d48485b": {
          "model_module": "@jupyter-widgets/controls",
          "model_name": "HBoxModel",
          "state": {
            "_view_name": "HBoxView",
            "_dom_classes": [],
            "_model_name": "HBoxModel",
            "_view_module": "@jupyter-widgets/controls",
            "_model_module_version": "1.5.0",
            "_view_count": null,
            "_view_module_version": "1.5.0",
            "box_style": "",
            "layout": "IPY_MODEL_41b5a825b9d84e8480d54fce3e2846e0",
            "_model_module": "@jupyter-widgets/controls",
            "children": [
              "IPY_MODEL_89d11658e8384e70a68a7deed5ae7ace",
              "IPY_MODEL_a01d2a38972246c3a428cfd9ce1b9b8e"
            ]
          }
        },
        "41b5a825b9d84e8480d54fce3e2846e0": {
          "model_module": "@jupyter-widgets/base",
          "model_name": "LayoutModel",
          "state": {
            "_view_name": "LayoutView",
            "grid_template_rows": null,
            "right": null,
            "justify_content": null,
            "_view_module": "@jupyter-widgets/base",
            "overflow": null,
            "_model_module_version": "1.2.0",
            "_view_count": null,
            "flex_flow": null,
            "width": null,
            "min_width": null,
            "border": null,
            "align_items": null,
            "bottom": null,
            "_model_module": "@jupyter-widgets/base",
            "top": null,
            "grid_column": null,
            "overflow_y": null,
            "overflow_x": null,
            "grid_auto_flow": null,
            "grid_area": null,
            "grid_template_columns": null,
            "flex": null,
            "_model_name": "LayoutModel",
            "justify_items": null,
            "grid_row": null,
            "max_height": null,
            "align_content": null,
            "visibility": null,
            "align_self": null,
            "height": null,
            "min_height": null,
            "padding": null,
            "grid_auto_rows": null,
            "grid_gap": null,
            "max_width": null,
            "order": null,
            "_view_module_version": "1.2.0",
            "grid_template_areas": null,
            "object_position": null,
            "object_fit": null,
            "grid_auto_columns": null,
            "margin": null,
            "display": null,
            "left": null
          }
        },
        "89d11658e8384e70a68a7deed5ae7ace": {
          "model_module": "@jupyter-widgets/controls",
          "model_name": "FloatProgressModel",
          "state": {
            "_view_name": "ProgressView",
            "style": "IPY_MODEL_74daec2e46664c9ca8145a4083def73e",
            "_dom_classes": [],
            "description": "Epoch: 4, validation: 100%",
            "_model_name": "FloatProgressModel",
            "bar_style": "success",
            "max": 37435,
            "_view_module": "@jupyter-widgets/controls",
            "_model_module_version": "1.5.0",
            "value": 37435,
            "_view_count": null,
            "_view_module_version": "1.5.0",
            "orientation": "horizontal",
            "min": 0,
            "description_tooltip": null,
            "_model_module": "@jupyter-widgets/controls",
            "layout": "IPY_MODEL_adf656a740604136b1f3f32c0d6b5ae2"
          }
        },
        "a01d2a38972246c3a428cfd9ce1b9b8e": {
          "model_module": "@jupyter-widgets/controls",
          "model_name": "HTMLModel",
          "state": {
            "_view_name": "HTMLView",
            "style": "IPY_MODEL_574634ba97fc42a7bfd1b1117b909640",
            "_dom_classes": [],
            "description": "",
            "_model_name": "HTMLModel",
            "placeholder": "​",
            "_view_module": "@jupyter-widgets/controls",
            "_model_module_version": "1.5.0",
            "value": " 37435/37435 [00:17&lt;00:00, 2131.80it/s, valid_loss=0.238]",
            "_view_count": null,
            "_view_module_version": "1.5.0",
            "description_tooltip": null,
            "_model_module": "@jupyter-widgets/controls",
            "layout": "IPY_MODEL_e25d8431b40a42dd9b55b4ea800358e4"
          }
        },
        "74daec2e46664c9ca8145a4083def73e": {
          "model_module": "@jupyter-widgets/controls",
          "model_name": "ProgressStyleModel",
          "state": {
            "_view_name": "StyleView",
            "_model_name": "ProgressStyleModel",
            "description_width": "initial",
            "_view_module": "@jupyter-widgets/base",
            "_model_module_version": "1.5.0",
            "_view_count": null,
            "_view_module_version": "1.2.0",
            "bar_color": null,
            "_model_module": "@jupyter-widgets/controls"
          }
        },
        "adf656a740604136b1f3f32c0d6b5ae2": {
          "model_module": "@jupyter-widgets/base",
          "model_name": "LayoutModel",
          "state": {
            "_view_name": "LayoutView",
            "grid_template_rows": null,
            "right": null,
            "justify_content": null,
            "_view_module": "@jupyter-widgets/base",
            "overflow": null,
            "_model_module_version": "1.2.0",
            "_view_count": null,
            "flex_flow": null,
            "width": null,
            "min_width": null,
            "border": null,
            "align_items": null,
            "bottom": null,
            "_model_module": "@jupyter-widgets/base",
            "top": null,
            "grid_column": null,
            "overflow_y": null,
            "overflow_x": null,
            "grid_auto_flow": null,
            "grid_area": null,
            "grid_template_columns": null,
            "flex": null,
            "_model_name": "LayoutModel",
            "justify_items": null,
            "grid_row": null,
            "max_height": null,
            "align_content": null,
            "visibility": null,
            "align_self": null,
            "height": null,
            "min_height": null,
            "padding": null,
            "grid_auto_rows": null,
            "grid_gap": null,
            "max_width": null,
            "order": null,
            "_view_module_version": "1.2.0",
            "grid_template_areas": null,
            "object_position": null,
            "object_fit": null,
            "grid_auto_columns": null,
            "margin": null,
            "display": null,
            "left": null
          }
        },
        "574634ba97fc42a7bfd1b1117b909640": {
          "model_module": "@jupyter-widgets/controls",
          "model_name": "DescriptionStyleModel",
          "state": {
            "_view_name": "StyleView",
            "_model_name": "DescriptionStyleModel",
            "description_width": "",
            "_view_module": "@jupyter-widgets/base",
            "_model_module_version": "1.5.0",
            "_view_count": null,
            "_view_module_version": "1.2.0",
            "_model_module": "@jupyter-widgets/controls"
          }
        },
        "e25d8431b40a42dd9b55b4ea800358e4": {
          "model_module": "@jupyter-widgets/base",
          "model_name": "LayoutModel",
          "state": {
            "_view_name": "LayoutView",
            "grid_template_rows": null,
            "right": null,
            "justify_content": null,
            "_view_module": "@jupyter-widgets/base",
            "overflow": null,
            "_model_module_version": "1.2.0",
            "_view_count": null,
            "flex_flow": null,
            "width": null,
            "min_width": null,
            "border": null,
            "align_items": null,
            "bottom": null,
            "_model_module": "@jupyter-widgets/base",
            "top": null,
            "grid_column": null,
            "overflow_y": null,
            "overflow_x": null,
            "grid_auto_flow": null,
            "grid_area": null,
            "grid_template_columns": null,
            "flex": null,
            "_model_name": "LayoutModel",
            "justify_items": null,
            "grid_row": null,
            "max_height": null,
            "align_content": null,
            "visibility": null,
            "align_self": null,
            "height": null,
            "min_height": null,
            "padding": null,
            "grid_auto_rows": null,
            "grid_gap": null,
            "max_width": null,
            "order": null,
            "_view_module_version": "1.2.0",
            "grid_template_areas": null,
            "object_position": null,
            "object_fit": null,
            "grid_auto_columns": null,
            "margin": null,
            "display": null,
            "left": null
          }
        }
      }
    },
    "accelerator": "GPU"
  },
  "cells": [
    {
      "cell_type": "markdown",
      "metadata": {
        "id": "goG_2GyeLblh"
      },
      "source": [
        "# Определение токсичности текста\n",
        "\n",
        "## Импорты"
      ]
    },
    {
      "cell_type": "code",
      "metadata": {
        "colab": {
          "base_uri": "https://localhost:8080/"
        },
        "id": "hEYBDKzR5njH",
        "outputId": "113a84b0-5f53-4148-9258-52ef0ad1c095"
      },
      "source": [
        "!pip3 install gensim==3.8.1 emoji"
      ],
      "execution_count": null,
      "outputs": [
        {
          "output_type": "stream",
          "text": [
            "Collecting gensim==3.8.1\n",
            "\u001b[?25l  Downloading https://files.pythonhosted.org/packages/44/93/c6011037f24e3106d13f3be55297bf84ece2bf15b278cc4776339dc52db5/gensim-3.8.1-cp37-cp37m-manylinux1_x86_64.whl (24.2MB)\n",
            "\u001b[K     |████████████████████████████████| 24.2MB 128kB/s \n",
            "\u001b[?25hCollecting emoji\n",
            "\u001b[?25l  Downloading https://files.pythonhosted.org/packages/24/fa/b3368f41b95a286f8d300e323449ab4e86b85334c2e0b477e94422b8ed0f/emoji-1.2.0-py3-none-any.whl (131kB)\n",
            "\u001b[K     |████████████████████████████████| 133kB 47.8MB/s \n",
            "\u001b[?25hRequirement already satisfied: scipy>=0.18.1 in /usr/local/lib/python3.7/dist-packages (from gensim==3.8.1) (1.4.1)\n",
            "Requirement already satisfied: smart-open>=1.8.1 in /usr/local/lib/python3.7/dist-packages (from gensim==3.8.1) (5.0.0)\n",
            "Requirement already satisfied: six>=1.5.0 in /usr/local/lib/python3.7/dist-packages (from gensim==3.8.1) (1.15.0)\n",
            "Requirement already satisfied: numpy>=1.11.3 in /usr/local/lib/python3.7/dist-packages (from gensim==3.8.1) (1.19.5)\n",
            "Installing collected packages: gensim, emoji\n",
            "  Found existing installation: gensim 3.6.0\n",
            "    Uninstalling gensim-3.6.0:\n",
            "      Successfully uninstalled gensim-3.6.0\n",
            "Successfully installed emoji-1.2.0 gensim-3.8.1\n"
          ],
          "name": "stdout"
        }
      ]
    },
    {
      "cell_type": "code",
      "metadata": {
        "colab": {
          "base_uri": "https://localhost:8080/"
        },
        "id": "WA05jUJsdfWB",
        "outputId": "c26fb8f0-4f6c-4c0d-964d-a682cfea6eb8"
      },
      "source": [
        "import re\n",
        "import torch\n",
        "import nltk\n",
        "import json\n",
        "import emoji\n",
        "import numpy as np\n",
        "import pandas as pd\n",
        "import matplotlib.pyplot as plt\n",
        "import seaborn as sns\n",
        "\n",
        "from string import punctuation\n",
        "from collections import OrderedDict\n",
        "from gensim.models import KeyedVectors\n",
        "from sklearn.model_selection import train_test_split\n",
        "from sklearn.metrics import f1_score, accuracy_score, classification_report\n",
        "\n",
        "from torch import nn\n",
        "from torch.utils.data import Dataset, DataLoader\n",
        "from torch.optim.lr_scheduler import StepLR\n",
        "\n",
        "from tqdm.notebook import tqdm as tqdm_notebook\n",
        "from nltk.tokenize import WordPunctTokenizer\n",
        "\n",
        "nltk.download(\"punkt\")\n",
        "\n",
        "punct = punctuation+'«»—…“”*№–'"
      ],
      "execution_count": null,
      "outputs": [
        {
          "output_type": "stream",
          "text": [
            "[nltk_data] Downloading package punkt to /root/nltk_data...\n",
            "[nltk_data]   Unzipping tokenizers/punkt.zip.\n"
          ],
          "name": "stdout"
        }
      ]
    },
    {
      "cell_type": "code",
      "metadata": {
        "id": "Eyn72-Urd-HL"
      },
      "source": [
        "data_path = \"/content/drive/MyDrive/thesis_datasets/toxic_dataset.csv\"\n",
        "\n",
        "test_data_path = '/content/drive/MyDrive/thesis_datasets/toxic_dataset_test.csv'\n",
        "train_data_path = '/content/drive/MyDrive/thesis_datasets/toxic_dataset_train.csv'\n",
        "valid_data_path = '/content/drive/MyDrive/thesis_datasets/toxic_dataset_valid.csv'\n",
        "\n",
        "vector_model_path = \"/content/drive/MyDrive/thesis_datasets/araneum_none_fasttextcbow_300_5_2018.model\"\n",
        "\n",
        "toxic_model_emj_best_state_path = \"/content/drive/MyDrive/thesis_datasets/toxic_model_emj_best.pth\"\n",
        "toxic_opt_emj_best_state_path = \"/content/drive/MyDrive/thesis_datasets/toxic_opt_emj_best.pth\"\n",
        "toxic_model_emj_last_state_path = \"/content/drive/MyDrive/thesis_datasets/toxic_model_emj_last.pth\"\n",
        "toxic_opt_emj_last_state_path = \"/content/drive/MyDrive/thesis_datasets/toxic_opt_emj_last.pth\"\n",
        "\n",
        "toxic_model_best_state_path = \"/content/drive/MyDrive/thesis_datasets/toxic_model_best.pth\"\n",
        "toxic_opt_best_state_path = \"/content/drive/MyDrive/thesis_datasets/toxic_opt_best.pth\"\n",
        "toxic_model_last_state_path = \"/content/drive/MyDrive/thesis_datasets/toxic_model_last.pth\"\n",
        "toxic_opt_last_state_path = \"/content/drive/MyDrive/thesis_datasets/toxic_opt_last.pth\"\n",
        "\n",
        "toxic_vocab_path = '/content/drive/MyDrive/thesis_datasets/toxic_vocab.json'\n",
        "toxic_emj_vocab_path = '/content/drive/MyDrive/thesis_datasets/toxic_emj_vocab.json'"
      ],
      "execution_count": null,
      "outputs": []
    },
    {
      "cell_type": "markdown",
      "metadata": {
        "id": "sRUBaDHGeLHB"
      },
      "source": [
        "## Обработка данных"
      ]
    },
    {
      "cell_type": "code",
      "metadata": {
        "id": "FEHTNi-QeHaO"
      },
      "source": [
        "data = pd.read_csv(data_path)"
      ],
      "execution_count": null,
      "outputs": []
    },
    {
      "cell_type": "code",
      "metadata": {
        "colab": {
          "base_uri": "https://localhost:8080/",
          "height": 204
        },
        "id": "AN_iiZw1eNIZ",
        "outputId": "6820b41d-4432-4f6a-a64d-076e6f099666"
      },
      "source": [
        "# data.head()"
      ],
      "execution_count": null,
      "outputs": [
        {
          "output_type": "execute_result",
          "data": {
            "text/html": [
              "<div>\n",
              "<style scoped>\n",
              "    .dataframe tbody tr th:only-of-type {\n",
              "        vertical-align: middle;\n",
              "    }\n",
              "\n",
              "    .dataframe tbody tr th {\n",
              "        vertical-align: top;\n",
              "    }\n",
              "\n",
              "    .dataframe thead th {\n",
              "        text-align: right;\n",
              "    }\n",
              "</style>\n",
              "<table border=\"1\" class=\"dataframe\">\n",
              "  <thead>\n",
              "    <tr style=\"text-align: right;\">\n",
              "      <th></th>\n",
              "      <th>texts</th>\n",
              "      <th>insult</th>\n",
              "      <th>obscenity</th>\n",
              "      <th>threat</th>\n",
              "      <th>normal</th>\n",
              "      <th>toxic</th>\n",
              "    </tr>\n",
              "  </thead>\n",
              "  <tbody>\n",
              "    <tr>\n",
              "      <th>0</th>\n",
              "      <td>скотина! что сказать\\n</td>\n",
              "      <td>1.0</td>\n",
              "      <td>0.0</td>\n",
              "      <td>0.0</td>\n",
              "      <td>0.0</td>\n",
              "      <td>1.0</td>\n",
              "    </tr>\n",
              "    <tr>\n",
              "      <th>1</th>\n",
              "      <td>я сегодня проезжала по рабочей и между домами...</td>\n",
              "      <td>0.0</td>\n",
              "      <td>0.0</td>\n",
              "      <td>0.0</td>\n",
              "      <td>1.0</td>\n",
              "      <td>0.0</td>\n",
              "    </tr>\n",
              "    <tr>\n",
              "      <th>2</th>\n",
              "      <td>очередной лохотрон. зачем придумывать очередн...</td>\n",
              "      <td>0.0</td>\n",
              "      <td>0.0</td>\n",
              "      <td>0.0</td>\n",
              "      <td>1.0</td>\n",
              "      <td>0.0</td>\n",
              "    </tr>\n",
              "    <tr>\n",
              "      <th>3</th>\n",
              "      <td>ретро дежавю ... сложно понять чужое сердце ,...</td>\n",
              "      <td>0.0</td>\n",
              "      <td>0.0</td>\n",
              "      <td>0.0</td>\n",
              "      <td>1.0</td>\n",
              "      <td>0.0</td>\n",
              "    </tr>\n",
              "    <tr>\n",
              "      <th>4</th>\n",
              "      <td>а когда мы статус агрогородка получили?\\n</td>\n",
              "      <td>0.0</td>\n",
              "      <td>0.0</td>\n",
              "      <td>0.0</td>\n",
              "      <td>1.0</td>\n",
              "      <td>0.0</td>\n",
              "    </tr>\n",
              "  </tbody>\n",
              "</table>\n",
              "</div>"
            ],
            "text/plain": [
              "                                               texts  insult  ...  normal  toxic\n",
              "0                             скотина! что сказать\\n     1.0  ...     0.0    1.0\n",
              "1   я сегодня проезжала по рабочей и между домами...     0.0  ...     1.0    0.0\n",
              "2   очередной лохотрон. зачем придумывать очередн...     0.0  ...     1.0    0.0\n",
              "3   ретро дежавю ... сложно понять чужое сердце ,...     0.0  ...     1.0    0.0\n",
              "4          а когда мы статус агрогородка получили?\\n     0.0  ...     1.0    0.0\n",
              "\n",
              "[5 rows x 6 columns]"
            ]
          },
          "metadata": {
            "tags": []
          },
          "execution_count": 15
        }
      ]
    },
    {
      "cell_type": "code",
      "metadata": {
        "colab": {
          "base_uri": "https://localhost:8080/"
        },
        "id": "FtD3HfIYeOrw",
        "outputId": "f3818e29-1a92-4d13-ece0-f9b0e16fbaa3"
      },
      "source": [
        "# len(data)"
      ],
      "execution_count": null,
      "outputs": [
        {
          "output_type": "execute_result",
          "data": {
            "text/plain": [
              "262702"
            ]
          },
          "metadata": {
            "tags": []
          },
          "execution_count": 6
        }
      ]
    },
    {
      "cell_type": "code",
      "metadata": {
        "colab": {
          "base_uri": "https://localhost:8080/"
        },
        "id": "Aa2hx7pOePil",
        "outputId": "91b26c9a-7daa-4c99-b59f-f2640ab35def"
      },
      "source": [
        "# len(data[data.toxic == 1])"
      ],
      "execution_count": null,
      "outputs": [
        {
          "output_type": "execute_result",
          "data": {
            "text/plain": [
              "49431"
            ]
          },
          "metadata": {
            "tags": []
          },
          "execution_count": 7
        }
      ]
    },
    {
      "cell_type": "code",
      "metadata": {
        "colab": {
          "base_uri": "https://localhost:8080/"
        },
        "id": "PbieH_a5eZf0",
        "outputId": "80a2e986-7e74-478a-fa95-06c144dc78f8"
      },
      "source": [
        "# len(data[data.toxic == 0])"
      ],
      "execution_count": null,
      "outputs": [
        {
          "output_type": "execute_result",
          "data": {
            "text/plain": [
              "213271"
            ]
          },
          "metadata": {
            "tags": []
          },
          "execution_count": 8
        }
      ]
    },
    {
      "cell_type": "code",
      "metadata": {
        "colab": {
          "base_uri": "https://localhost:8080/",
          "height": 296
        },
        "id": "VSi1Vr7ae8bQ",
        "outputId": "9f5abff2-2dec-4a16-d08e-7e7195d51da3"
      },
      "source": [
        "# sns.countplot(x='toxic', data=data)"
      ],
      "execution_count": null,
      "outputs": [
        {
          "output_type": "execute_result",
          "data": {
            "text/plain": [
              "<matplotlib.axes._subplots.AxesSubplot at 0x7f938ec67b90>"
            ]
          },
          "metadata": {
            "tags": []
          },
          "execution_count": 9
        },
        {
          "output_type": "display_data",
          "data": {
            "image/png": "[encoded data removed]",
            "text/plain": [
              "<Figure size 432x288 with 1 Axes>"
            ]
          },
          "metadata": {
            "tags": [],
            "needs_background": "light"
          }
        }
      ]
    },
    {
      "cell_type": "code",
      "metadata": {
        "id": "sYA4-atPE_YW"
      },
      "source": [
        "# X_train, X_test, y_train, y_test = train_test_split(data.texts, data.toxic, test_size=0.05, random_state=42)"
      ],
      "execution_count": null,
      "outputs": []
    },
    {
      "cell_type": "code",
      "metadata": {
        "colab": {
          "base_uri": "https://localhost:8080/"
        },
        "id": "oWbPsKtMFmu6",
        "outputId": "476d8d77-c925-42ca-ecb2-a79a5eef4450"
      },
      "source": [
        "# len(X_train), len(X_test), len(y_train), len(y_test)"
      ],
      "execution_count": null,
      "outputs": [
        {
          "output_type": "execute_result",
          "data": {
            "text/plain": [
              "(249566, 13136, 249566, 13136)"
            ]
          },
          "metadata": {
            "tags": []
          },
          "execution_count": 81
        }
      ]
    },
    {
      "cell_type": "code",
      "metadata": {
        "id": "2K6oeNhxFEy1"
      },
      "source": [
        "# test_data = pd.DataFrame()\n",
        "# test_data[\"texts\"] = X_test\n",
        "# test_data[\"toxic\"] = y_test\n",
        "# test_data.to_csv(test_data_path)"
      ],
      "execution_count": null,
      "outputs": []
    },
    {
      "cell_type": "code",
      "metadata": {
        "id": "Qf4-7dM-FBBg"
      },
      "source": [
        "# train_texts, valid_texts, train_targets, valid_targets = train_test_split(X_train, y_train, test_size=0.15, random_state=42)"
      ],
      "execution_count": null,
      "outputs": []
    },
    {
      "cell_type": "code",
      "metadata": {
        "colab": {
          "base_uri": "https://localhost:8080/"
        },
        "id": "sfKCyPwDFdSQ",
        "outputId": "2dbabcd8-926b-4d15-9435-fe843bfd8bb5"
      },
      "source": [
        "# len(train_texts), len(valid_texts)"
      ],
      "execution_count": null,
      "outputs": [
        {
          "output_type": "execute_result",
          "data": {
            "text/plain": [
              "(212131, 37435)"
            ]
          },
          "metadata": {
            "tags": []
          },
          "execution_count": 86
        }
      ]
    },
    {
      "cell_type": "code",
      "metadata": {
        "id": "pq2tUrwVF8He"
      },
      "source": [
        "# train_data = pd.DataFrame()\n",
        "# train_data[\"texts\"] = train_texts\n",
        "# train_data[\"toxic\"] = train_targets\n",
        "# train_data.to_csv(train_data_path, index=False)\n",
        "\n",
        "# valid_data = pd.DataFrame()\n",
        "# valid_data[\"texts\"] = valid_texts\n",
        "# valid_data[\"toxic\"] = valid_targets\n",
        "# valid_data.to_csv(valid_data_path, index=False)"
      ],
      "execution_count": null,
      "outputs": []
    },
    {
      "cell_type": "code",
      "metadata": {
        "id": "lwkIDClQGPdt"
      },
      "source": [
        "train_data = pd.read_csv(train_data_path)\n",
        "valid_data = pd.read_csv(valid_data_path)\n",
        "\n",
        "train_texts = train_data[\"texts\"]\n",
        "train_targets = train_data[\"toxic\"]\n",
        "valid_texts = valid_data[\"texts\"] \n",
        "valid_targets = valid_data[\"toxic\"]"
      ],
      "execution_count": null,
      "outputs": []
    },
    {
      "cell_type": "code",
      "metadata": {
        "id": "85LYRsGBXrpv"
      },
      "source": [
        "tokenizer = WordPunctTokenizer().tokenize\n",
        "def split_emojis(word, token=\"<EMJ>\"):\n",
        "    result = []\n",
        "    detext = emoji.demojize(word)\n",
        "    detext = re.sub(r\"\\:[\\w]+\\:\", token, detext)\n",
        "    num = token_in_word(detext, token)\n",
        "    if num > 0:\n",
        "        for n in range(num):\n",
        "            result.append(token)\n",
        "    else:\n",
        "        result.append(detext)\n",
        "    return result\n",
        "\n",
        "def token_in_word(word, token):\n",
        "    if token in word:\n",
        "        return word.count(token)\n",
        "    else:\n",
        "        return 0\n",
        "\n",
        "def tokenize_replace_emojis(text, tokenizer=tokenizer, token=\"<EMJ>\"):\n",
        "    result = []\n",
        "    sentence = tokenizer(text)\n",
        "    for word in sentence:\n",
        "        word_in_list = split_emojis(word)\n",
        "        for w in word_in_list:\n",
        "            result.append(w)\n",
        "    return result"
      ],
      "execution_count": null,
      "outputs": []
    },
    {
      "cell_type": "code",
      "metadata": {
        "id": "hzkzW7WUW6VI"
      },
      "source": [
        "def tokenize_remove_emojis(text, tokenizer=tokenizer):\n",
        "    result = []\n",
        "    sentence = tokenizer(text)\n",
        "    for word in sentence:\n",
        "        detext = emoji.demojize(word)\n",
        "        detext = re.sub(r\"\\:[\\w]+\\:\", \"\", detext)\n",
        "        if detext:\n",
        "            result.append(detext)\n",
        "    return result"
      ],
      "execution_count": null,
      "outputs": []
    },
    {
      "cell_type": "code",
      "metadata": {
        "colab": {
          "base_uri": "https://localhost:8080/"
        },
        "id": "jfMzFElnX8rM",
        "outputId": "a1662046-0ee9-4ed3-a6bc-0a8b7824996b"
      },
      "source": [
        "for text in data.texts[:20]:\n",
        "    print(tokenize_replace_emojis(text))"
      ],
      "execution_count": null,
      "outputs": [
        {
          "output_type": "stream",
          "text": [
            "['скотина', '!', 'что', 'сказать']\n",
            "['я', 'сегодня', 'проезжала', 'по', 'рабочей', 'и', 'между', 'домами', 'снитенко', 'и', 'гомолысовой', 'магазином', '(', 'на', 'пустыре', ')', 'бежала', 'кошка', 'похожего', 'окраса', '.', 'может', ',', 'я', 'и', 'ошиблась', ',', 'но', 'необычный', 'окрас', 'бросился', 'в', 'глаза', '.']\n",
            "['очередной', 'лохотрон', '.', 'зачем', 'придумывать', 'очередной', 'налог', 'на', 'воздух', ',', 'если', 'можно', 'обьявить', 'инсульт', 'и', 'грипп', '-', 'пандемией', '!', 'и', 'лихо', 'на', 'придурках', 'зарабатывать', 'годами', 'на', 'штрафах', ',', 'фейковых', 'вакцинах', ',', 'всевозможных', 'платных', 'тестах', ',', 'продажей', 'масок', 'и', 'перчаток', 'по', 'баснословным', 'ценам', '..', 'самое', 'смешное', ',', 'что', 'бараны', 'блеют', 'и', 'верят', 'пастуху', ',', 'телевизору', '.', 'живут', 'как', 'под', 'гипнозом', '.', 'не', 'думая', ',', 'не', 'глядя', 'по', 'сторонам', '.']\n",
            "['ретро', 'дежавю', '...', 'сложно', 'понять', 'чужое', 'сердце', ',', 'лиш', 'ощутить', 'музыкой', 'видимо']\n",
            "['а', 'когда', 'мы', 'статус', 'агрогородка', 'получили', '?']\n",
            "['2', 'августа', 'поздно', 'вечером', 'нашли', 'вот', 'такую', 'потеряшку', 'в', 'раи', '̆', 'оне', 'высоток', 'на', 'победе', '.', 'девочка', 'явно', 'домашняя', ',', 'в', 'новом', 'ошеи', '̆', 'нике', '.', 'обращаться', '+', '7', '989', '816', '-', '43', '-', '42']\n",
            "['вчера', 'надыбала', 'новые', 'стикеры', '#', 'u2a94ec7fabs', '#']\n",
            "[',', 'заколоть', 'этого', 'плешивого', 'урода', 'что', 'бы', 'крякнул', 'как', 'селезень', 'гандон', 'штопанный', 'всю', 'вакцину', 'ему', 'в', 'бошку', 'что', 'бы', 'конкретно', 'его', 'завернуло']\n",
            "['а', 'еще', 'на', 'стоянке', 'никто', 'не', 'проверяет', 'безопасность', 'детей', '.', 'возле', 'порта', 'на', 'тарзанке', 'стоит', 'человек', 'и', 'смотрит', 'за', 'детьми', ',', 'а', 'на', 'стоянке', 'прыгает', 'девочка', ',', 'а', 'вокруг', 'никого', '.']\n",
            "['красота', '..!!', 'если', 'есть', ',', 'что', 'показать', '??!!', 'почему', '-', 'нет', '!!???']\n",
            "['ходунки', 'какая', 'цена', '?']\n",
            "['любовь', '....', 'с', 'первого', 'взгляда', '..']\n",
            "['ои', 'уже', 'и', 'етому', 'учат']\n",
            "['эти', 'скаты', ',', 'на', 'героев', 'пионеров', ',', 'анекдотов', 'навыдумывали', '.']\n",
            "['можно', 'подумать', 'москвичи', 'знают', 'хорошо', 'этого', 'фургало', '....']\n",
            "['еще', 'как', '.', 'каждый', 'день', 'свеженькую', '.']\n",
            "['классно', 'придумано', 'красота', '<EMJ>', '<EMJ>', '<EMJ>']\n",
            "['господи', ',', 'как', 'они', 'надоели', '.', 'всю', 'ерунду', 'выставляют', '.', 'мы', 'что', 'рыбу', 'не', 'кушаем', 'повашему', '?', 'пусть', 'себе', 'кушает', 'на', 'здоровье', 'раз', 'купил', '.', 'наверное', 'разбогател', 'чуть', 'чуть', '.']\n",
            "['это', 'просто', 'дэлика', 'зубилосовсем', 'немного', 'переделано', 'кузово', '.']\n",
            "['а', 'что', ',', 'карантин', 'отменяется', '?']\n"
          ],
          "name": "stdout"
        }
      ]
    },
    {
      "cell_type": "code",
      "metadata": {
        "colab": {
          "base_uri": "https://localhost:8080/"
        },
        "id": "HrzNwDGtYCuK",
        "outputId": "2da8a47d-e236-4686-b2c0-1f2a77e1165b"
      },
      "source": [
        "for text in data.texts[:20]:\n",
        "    print(tokenize_remove_emojis(text))"
      ],
      "execution_count": null,
      "outputs": [
        {
          "output_type": "stream",
          "text": [
            "['скотина', '!', 'что', 'сказать']\n",
            "['я', 'сегодня', 'проезжала', 'по', 'рабочей', 'и', 'между', 'домами', 'снитенко', 'и', 'гомолысовой', 'магазином', '(', 'на', 'пустыре', ')', 'бежала', 'кошка', 'похожего', 'окраса', '.', 'может', ',', 'я', 'и', 'ошиблась', ',', 'но', 'необычный', 'окрас', 'бросился', 'в', 'глаза', '.']\n",
            "['очередной', 'лохотрон', '.', 'зачем', 'придумывать', 'очередной', 'налог', 'на', 'воздух', ',', 'если', 'можно', 'обьявить', 'инсульт', 'и', 'грипп', '-', 'пандемией', '!', 'и', 'лихо', 'на', 'придурках', 'зарабатывать', 'годами', 'на', 'штрафах', ',', 'фейковых', 'вакцинах', ',', 'всевозможных', 'платных', 'тестах', ',', 'продажей', 'масок', 'и', 'перчаток', 'по', 'баснословным', 'ценам', '..', 'самое', 'смешное', ',', 'что', 'бараны', 'блеют', 'и', 'верят', 'пастуху', ',', 'телевизору', '.', 'живут', 'как', 'под', 'гипнозом', '.', 'не', 'думая', ',', 'не', 'глядя', 'по', 'сторонам', '.']\n",
            "['ретро', 'дежавю', '...', 'сложно', 'понять', 'чужое', 'сердце', ',', 'лиш', 'ощутить', 'музыкой', 'видимо']\n",
            "['а', 'когда', 'мы', 'статус', 'агрогородка', 'получили', '?']\n",
            "['2', 'августа', 'поздно', 'вечером', 'нашли', 'вот', 'такую', 'потеряшку', 'в', 'раи', '̆', 'оне', 'высоток', 'на', 'победе', '.', 'девочка', 'явно', 'домашняя', ',', 'в', 'новом', 'ошеи', '̆', 'нике', '.', 'обращаться', '+', '7', '989', '816', '-', '43', '-', '42']\n",
            "['вчера', 'надыбала', 'новые', 'стикеры', '#', 'u2a94ec7fabs', '#']\n",
            "[',', 'заколоть', 'этого', 'плешивого', 'урода', 'что', 'бы', 'крякнул', 'как', 'селезень', 'гандон', 'штопанный', 'всю', 'вакцину', 'ему', 'в', 'бошку', 'что', 'бы', 'конкретно', 'его', 'завернуло']\n",
            "['а', 'еще', 'на', 'стоянке', 'никто', 'не', 'проверяет', 'безопасность', 'детей', '.', 'возле', 'порта', 'на', 'тарзанке', 'стоит', 'человек', 'и', 'смотрит', 'за', 'детьми', ',', 'а', 'на', 'стоянке', 'прыгает', 'девочка', ',', 'а', 'вокруг', 'никого', '.']\n",
            "['красота', '..!!', 'если', 'есть', ',', 'что', 'показать', '??!!', 'почему', '-', 'нет', '!!???']\n",
            "['ходунки', 'какая', 'цена', '?']\n",
            "['любовь', '....', 'с', 'первого', 'взгляда', '..']\n",
            "['ои', 'уже', 'и', 'етому', 'учат']\n",
            "['эти', 'скаты', ',', 'на', 'героев', 'пионеров', ',', 'анекдотов', 'навыдумывали', '.']\n",
            "['можно', 'подумать', 'москвичи', 'знают', 'хорошо', 'этого', 'фургало', '....']\n",
            "['еще', 'как', '.', 'каждый', 'день', 'свеженькую', '.']\n",
            "['классно', 'придумано', 'красота']\n",
            "['господи', ',', 'как', 'они', 'надоели', '.', 'всю', 'ерунду', 'выставляют', '.', 'мы', 'что', 'рыбу', 'не', 'кушаем', 'повашему', '?', 'пусть', 'себе', 'кушает', 'на', 'здоровье', 'раз', 'купил', '.', 'наверное', 'разбогател', 'чуть', 'чуть', '.']\n",
            "['это', 'просто', 'дэлика', 'зубилосовсем', 'немного', 'переделано', 'кузово', '.']\n",
            "['а', 'что', ',', 'карантин', 'отменяется', '?']\n"
          ],
          "name": "stdout"
        }
      ]
    },
    {
      "cell_type": "code",
      "metadata": {
        "colab": {
          "base_uri": "https://localhost:8080/"
        },
        "id": "ptMq8bX_ZKgR",
        "outputId": "b7b7e14a-88c6-4767-e83b-cf54b7234140"
      },
      "source": [
        "for text in data.texts[20:40]:\n",
        "    print(tokenize_replace_emojis(text))"
      ],
      "execution_count": null,
      "outputs": [
        {
          "output_type": "stream",
          "text": [
            "['жамь', 'что', 'мама', 'ефремова', 'нисделала', 'вовремя', 'оборт', '.']\n",
            "['могу', 'повторить', '.', 'вы', 'живёте', 'в', 'россии', ',', 'не', 'оставляйте', 'российских', 'детей', 'без', 'вашей', 'заботы', '.']\n",
            "['и', 'там', 'новый', 'кинотеатр', '?', 'фасад', 'сочинили', 'а', 'остальное', '?']\n",
            "['кто', 'заседать', 'будет', '..????']\n",
            "['долбоебы', 'это', 'фэйк']\n",
            "['пиздаболы', ',', 'сделали', 'снимок', ',', 'придумали', 'историю', 'и', 'подали', 'дурачкам', 'через', 'сми']\n",
            "['кто', 'этот', 'бред', 'пишет']\n",
            "['да', '.', 'я', 'на', 'нем', 'за', '21', 'день', 'марафона', 'скинула', '5кг', 'и', 'обьемы', 'ушли', 'по', '8см', '.', 'а', 'потом', 'я', 'чего', 'то', 'расслабилась', 'в', 'принципе', 'как', 'всегда', 'и', 'все', '.', '((']\n",
            "['пиши', 'сразу', 'путину', 'раз', 'такая', 'смелая']\n",
            "['пока', 'хвалиться', 'нечем', ',', 'не', 'очень', 'хочется', 'затевать', 'ремонт', 'в', 'зале', 'и', 'в', 'коридоре', '.', 'сейчас', 'много', 'работы', 'на', 'огороде', '.']\n",
            "['батька', 'с', 'огнем', 'играет']\n",
            "['для', 'вас', ',', 'я', 'возьму', 'на', 'себя', 'труд', 'судить', 'о', 'вас', ',', 'по', '-', 'моему', 'большое', 'открытие', 'быть', 'человеком', '￼', '!!!!!', 'если', 'вы', 'с', 'такой', 'беспардонности', 'об', 'этом', 'говорить', '.']\n",
            "['да', 'это', 'пророк', 'илья', 'пописал', '<EMJ>', '<EMJ>', '<EMJ>']\n",
            "['секс', 'мосаж', 'чтоли', '?']\n",
            "['мляяя', '..', 'фомин', '..', 'ты', 'издесь', 'умничаешь', ',', 'чайка', 'помойная', '...', 'сука', '..', 'неужели', 'ты', 'думаешь', 'что', 'уже', 'непопробовали', 'через', 'друзей', 'знвкомых', '?,']\n",
            "['анна', 'склярова', '(', 'герасименкова', ')', '--', 'защитник', 'я', 'или', 'не', 'не', 'тебе', 'решать', ',', 'а', 'ты', '--', 'точно', 'тупой', 'вонючий', 'тролль', 'и', 'старый', 'пидорас', 'пошёл', 'нах', '!!!!!!!(', 'tr', ')']\n",
            "['как', 'же', 'здорово', 'осознавать', 'то', ',', 'что', 'людей', 'поддерживают', ',', 'помогают', ',', 'стимулируют', '!', ')']\n",
            "['я', 'тоже', 'так', 'считаю', ',', 'что', 'это', 'большой', 'грех', '.', 'моя', 'мама', 'доживала', 'со', 'мной', 'и', 'когда', 'заболела', ',', 'я', 'ухаживала', 'за', 'ней', '.', 'а', 'кто', 'должен', ',', 'как', 'не', 'дети', '?']\n",
            "['очень', 'поучительно', '!!!', 'слава', 'богу', 'за', 'все', '!!!']\n",
            "['как', 'здорово', '!', 'очень', ',', 'очень', 'рада', 'за', 'вас', '!', '<EMJ>', '<EMJ>']\n"
          ],
          "name": "stdout"
        }
      ]
    },
    {
      "cell_type": "code",
      "metadata": {
        "colab": {
          "base_uri": "https://localhost:8080/"
        },
        "id": "bGmv6CbaZL4o",
        "outputId": "7af77509-de36-4e33-e355-e6c9d43043e3"
      },
      "source": [
        "for text in data.texts[20:40]:\n",
        "    print(tokenize_remove_emojis(text))"
      ],
      "execution_count": null,
      "outputs": [
        {
          "output_type": "stream",
          "text": [
            "['жамь', 'что', 'мама', 'ефремова', 'нисделала', 'вовремя', 'оборт', '.']\n",
            "['могу', 'повторить', '.', 'вы', 'живёте', 'в', 'россии', ',', 'не', 'оставляйте', 'российских', 'детей', 'без', 'вашей', 'заботы', '.']\n",
            "['и', 'там', 'новый', 'кинотеатр', '?', 'фасад', 'сочинили', 'а', 'остальное', '?']\n",
            "['кто', 'заседать', 'будет', '..????']\n",
            "['долбоебы', 'это', 'фэйк']\n",
            "['пиздаболы', ',', 'сделали', 'снимок', ',', 'придумали', 'историю', 'и', 'подали', 'дурачкам', 'через', 'сми']\n",
            "['кто', 'этот', 'бред', 'пишет']\n",
            "['да', '.', 'я', 'на', 'нем', 'за', '21', 'день', 'марафона', 'скинула', '5кг', 'и', 'обьемы', 'ушли', 'по', '8см', '.', 'а', 'потом', 'я', 'чего', 'то', 'расслабилась', 'в', 'принципе', 'как', 'всегда', 'и', 'все', '.', '((']\n",
            "['пиши', 'сразу', 'путину', 'раз', 'такая', 'смелая']\n",
            "['пока', 'хвалиться', 'нечем', ',', 'не', 'очень', 'хочется', 'затевать', 'ремонт', 'в', 'зале', 'и', 'в', 'коридоре', '.', 'сейчас', 'много', 'работы', 'на', 'огороде', '.']\n",
            "['батька', 'с', 'огнем', 'играет']\n",
            "['для', 'вас', ',', 'я', 'возьму', 'на', 'себя', 'труд', 'судить', 'о', 'вас', ',', 'по', '-', 'моему', 'большое', 'открытие', 'быть', 'человеком', '￼', '!!!!!', 'если', 'вы', 'с', 'такой', 'беспардонности', 'об', 'этом', 'говорить', '.']\n",
            "['да', 'это', 'пророк', 'илья', 'пописал', '!!!']\n",
            "['секс', 'мосаж', 'чтоли', '?']\n",
            "['мляяя', '..', 'фомин', '..', 'ты', 'издесь', 'умничаешь', ',', 'чайка', 'помойная', '...', 'сука', '..', 'неужели', 'ты', 'думаешь', 'что', 'уже', 'непопробовали', 'через', 'друзей', 'знвкомых', '?,']\n",
            "['анна', 'склярова', '(', 'герасименкова', ')', '--', 'защитник', 'я', 'или', 'не', 'не', 'тебе', 'решать', ',', 'а', 'ты', '--', 'точно', 'тупой', 'вонючий', 'тролль', 'и', 'старый', 'пидорас', 'пошёл', 'нах', '!!!!!!!(', 'tr', ')']\n",
            "['как', 'же', 'здорово', 'осознавать', 'то', ',', 'что', 'людей', 'поддерживают', ',', 'помогают', ',', 'стимулируют', '!', ')']\n",
            "['я', 'тоже', 'так', 'считаю', ',', 'что', 'это', 'большой', 'грех', '.', 'моя', 'мама', 'доживала', 'со', 'мной', 'и', 'когда', 'заболела', ',', 'я', 'ухаживала', 'за', 'ней', '.', 'а', 'кто', 'должен', ',', 'как', 'не', 'дети', '?']\n",
            "['очень', 'поучительно', '!!!', 'слава', 'богу', 'за', 'все', '!!!']\n",
            "['как', 'здорово', '!', 'очень', ',', 'очень', 'рада', 'за', 'вас', '!']\n"
          ],
          "name": "stdout"
        }
      ]
    },
    {
      "cell_type": "code",
      "metadata": {
        "id": "sUA-P14fZj8b"
      },
      "source": [
        "len_with_emoji = [len(tokenize_replace_emojis(x)) for x in data.texts]\n",
        "len_no_emoji = [len(tokenize_remove_emojis(x)) for x in data.texts]"
      ],
      "execution_count": null,
      "outputs": []
    },
    {
      "cell_type": "code",
      "metadata": {
        "colab": {
          "base_uri": "https://localhost:8080/",
          "height": 336
        },
        "id": "OUQNm-4cqo6J",
        "outputId": "d1d58a51-2fdc-4ae6-9cec-b87d21145760"
      },
      "source": [
        "sns.distplot(len_with_emoji)"
      ],
      "execution_count": null,
      "outputs": [
        {
          "output_type": "stream",
          "text": [
            "/usr/local/lib/python3.7/dist-packages/seaborn/distributions.py:2557: FutureWarning: `distplot` is a deprecated function and will be removed in a future version. Please adapt your code to use either `displot` (a figure-level function with similar flexibility) or `histplot` (an axes-level function for histograms).\n",
            "  warnings.warn(msg, FutureWarning)\n"
          ],
          "name": "stderr"
        },
        {
          "output_type": "execute_result",
          "data": {
            "text/plain": [
              "<matplotlib.axes._subplots.AxesSubplot at 0x7f6d304e0c10>"
            ]
          },
          "metadata": {
            "tags": []
          },
          "execution_count": 25
        },
        {
          "output_type": "display_data",
          "data": {
            "image/png": "[encoded data removed]",
            "text/plain": [
              "<Figure size 432x288 with 1 Axes>"
            ]
          },
          "metadata": {
            "tags": [],
            "needs_background": "light"
          }
        }
      ]
    },
    {
      "cell_type": "code",
      "metadata": {
        "colab": {
          "base_uri": "https://localhost:8080/",
          "height": 336
        },
        "id": "aZKswfvsZsOT",
        "outputId": "75f32d7d-933b-43ef-e522-bb2ebc0dd3af"
      },
      "source": [
        "sns.distplot(len_no_emoji)"
      ],
      "execution_count": null,
      "outputs": [
        {
          "output_type": "stream",
          "text": [
            "/usr/local/lib/python3.7/dist-packages/seaborn/distributions.py:2557: FutureWarning: `distplot` is a deprecated function and will be removed in a future version. Please adapt your code to use either `displot` (a figure-level function with similar flexibility) or `histplot` (an axes-level function for histograms).\n",
            "  warnings.warn(msg, FutureWarning)\n"
          ],
          "name": "stderr"
        },
        {
          "output_type": "execute_result",
          "data": {
            "text/plain": [
              "<matplotlib.axes._subplots.AxesSubplot at 0x7f6d2b5b9710>"
            ]
          },
          "metadata": {
            "tags": []
          },
          "execution_count": 26
        },
        {
          "output_type": "display_data",
          "data": {
            "image/png": "[encoded data removed]",
            "text/plain": [
              "<Figure size 432x288 with 1 Axes>"
            ]
          },
          "metadata": {
            "tags": [],
            "needs_background": "light"
          }
        }
      ]
    },
    {
      "cell_type": "code",
      "metadata": {
        "colab": {
          "base_uri": "https://localhost:8080/"
        },
        "id": "BWNeZrlarHCT",
        "outputId": "bc648143-d393-447b-c92c-1441fc281dd6"
      },
      "source": [
        "np.mean(len_with_emoji)"
      ],
      "execution_count": null,
      "outputs": [
        {
          "output_type": "execute_result",
          "data": {
            "text/plain": [
              "16.571388874085464"
            ]
          },
          "metadata": {
            "tags": []
          },
          "execution_count": 27
        }
      ]
    },
    {
      "cell_type": "code",
      "metadata": {
        "colab": {
          "base_uri": "https://localhost:8080/"
        },
        "id": "H24R0hb_Zvsr",
        "outputId": "fc44d3f3-8f20-458d-a860-979a3e70bf3a"
      },
      "source": [
        "np.mean(len_no_emoji)"
      ],
      "execution_count": null,
      "outputs": [
        {
          "output_type": "execute_result",
          "data": {
            "text/plain": [
              "16.374055012904357"
            ]
          },
          "metadata": {
            "tags": []
          },
          "execution_count": 28
        }
      ]
    },
    {
      "cell_type": "code",
      "metadata": {
        "colab": {
          "base_uri": "https://localhost:8080/"
        },
        "id": "qThNKze9rNl3",
        "outputId": "d0886ec6-a7b4-4244-c597-48b182076f40"
      },
      "source": [
        "np.max(len_with_emoji)"
      ],
      "execution_count": null,
      "outputs": [
        {
          "output_type": "execute_result",
          "data": {
            "text/plain": [
              "1207"
            ]
          },
          "metadata": {
            "tags": []
          },
          "execution_count": 29
        }
      ]
    },
    {
      "cell_type": "code",
      "metadata": {
        "colab": {
          "base_uri": "https://localhost:8080/"
        },
        "id": "DX4bOxr9Z1HI",
        "outputId": "7ce6c77f-e087-4c5f-a8da-cd1651738f68"
      },
      "source": [
        "np.max(len_no_emoji)"
      ],
      "execution_count": null,
      "outputs": [
        {
          "output_type": "execute_result",
          "data": {
            "text/plain": [
              "1207"
            ]
          },
          "metadata": {
            "tags": []
          },
          "execution_count": 30
        }
      ]
    },
    {
      "cell_type": "code",
      "metadata": {
        "id": "ZE5xS446Z7la"
      },
      "source": [
        "max_len_with_emoji = 30\n",
        "max_len_no_emoji = 30"
      ],
      "execution_count": null,
      "outputs": []
    },
    {
      "cell_type": "markdown",
      "metadata": {
        "id": "Gh9RDDkQ49cJ"
      },
      "source": [
        "## Эмбеддинги"
      ]
    },
    {
      "cell_type": "code",
      "metadata": {
        "id": "t7fLMwhn5AEY"
      },
      "source": [
        "fasttext = KeyedVectors.load(vector_model_path)"
      ],
      "execution_count": null,
      "outputs": []
    },
    {
      "cell_type": "code",
      "metadata": {
        "id": "T2iHmIA35Chy"
      },
      "source": [
        "def get_vocab_embeddings(texts, tokenizer, vector_model=fasttext):\n",
        "    vocab = {'<PAD>': 0}\n",
        "    embeddings = [np.zeros(300)]\n",
        "    \n",
        "    for sentence in tqdm_notebook(texts):\n",
        "        words = tokenizer(sentence)\n",
        "        for word in words:\n",
        "            if word not in vocab:\n",
        "                vocab[word] = len(vocab)\n",
        "                embeddings.append(vector_model[word])\n",
        "    return vocab, embeddings"
      ],
      "execution_count": null,
      "outputs": []
    },
    {
      "cell_type": "code",
      "metadata": {
        "colab": {
          "base_uri": "https://localhost:8080/",
          "height": 66,
          "referenced_widgets": [
            "6f42c176e2ba484b89729e784ccc4d18",
            "c7246e0234ef414da9b54d01e7213b5d",
            "b009c215d03847a297f9f4e5ffd932d1",
            "c65c355a9b7340aa98bbca50c2d00042",
            "8e50b5418256422181e0832e1a95f944",
            "4bdd3bc0e082460881709b1726dd8084",
            "e71ebe922215448fb198387861a4b6a8",
            "640a3979e3854b6588a7d396f8792b05"
          ]
        },
        "id": "mAyW2qwW5DmK",
        "outputId": "dc48cac5-d4c0-40a1-87d8-ce3ef93840a2"
      },
      "source": [
        "word_to_id_with_emoji, embeddings = get_vocab_embeddings(data.texts, tokenize_replace_emojis)"
      ],
      "execution_count": null,
      "outputs": [
        {
          "output_type": "display_data",
          "data": {
            "application/vnd.jupyter.widget-view+json": {
              "model_id": "6f42c176e2ba484b89729e784ccc4d18",
              "version_minor": 0,
              "version_major": 2
            },
            "text/plain": [
              "HBox(children=(FloatProgress(value=0.0, max=262702.0), HTML(value='')))"
            ]
          },
          "metadata": {
            "tags": []
          }
        },
        {
          "output_type": "stream",
          "text": [
            "\n"
          ],
          "name": "stdout"
        }
      ]
    },
    {
      "cell_type": "code",
      "metadata": {
        "id": "Nok8iQZP5u1_"
      },
      "source": [
        "embeddings = torch.tensor(embeddings).float()"
      ],
      "execution_count": null,
      "outputs": []
    },
    {
      "cell_type": "code",
      "metadata": {
        "id": "KNb9W_Yd7R_r"
      },
      "source": [
        "json_dump = json.dumps(word_to_id_with_emoji)\n",
        "f = open(toxic_emj_vocab_path, \"w\")\n",
        "f.write(json_dump)\n",
        "f.close()  "
      ],
      "execution_count": null,
      "outputs": []
    },
    {
      "cell_type": "markdown",
      "metadata": {
        "id": "4MqtLPYEd2kB"
      },
      "source": [
        "## Определение токсичности текста с заменой эмодзи на специальный токен"
      ]
    },
    {
      "cell_type": "markdown",
      "metadata": {
        "id": "tpynrZryjorb"
      },
      "source": [
        "Обработчик данных с заменой эмодзи на специальный токен"
      ]
    },
    {
      "cell_type": "code",
      "metadata": {
        "id": "kLib-iYLfQlz"
      },
      "source": [
        "class BaddEMJTextClassifierDataset(Dataset):\n",
        "    \n",
        "    def __init__(self, texts, targets, word_to_id, tokenizer, token, pad_index=0, max_len=None):\n",
        "        super().__init__()\n",
        "        \n",
        "        self.texts = texts\n",
        "        self.targets = targets\n",
        "        self.vocab = word_to_id\n",
        "        self.tokenizer = tokenizer\n",
        "        self.token = token\n",
        "        self.pad_index = pad_index\n",
        "        self.max_len = max_len\n",
        "        \n",
        "    def __len__(self):\n",
        "\n",
        "        return len(self.texts)\n",
        "\n",
        "    def split_emojis(self, word):\n",
        "        result = []\n",
        "        detext = emoji.demojize(word)\n",
        "        detext = re.sub(r\"\\:[\\w]+\\:\", self.token, detext)\n",
        "        num = self.token_in_word(detext)\n",
        "        if num > 0:\n",
        "            for n in range(num):\n",
        "                result.append(self.token)\n",
        "        else:\n",
        "            result.append(detext)\n",
        "        return result\n",
        "\n",
        "    def token_in_word(self, word):\n",
        "        if self.token in word:\n",
        "            return word.count(self.token)\n",
        "        else:\n",
        "            return 0\n",
        "\n",
        "    def tokenization(self, text):\n",
        "        result = []\n",
        "        sentence = self.tokenizer(text)\n",
        "        for word in sentence:\n",
        "            word_in_list = self.split_emojis(word)\n",
        "            for w in word_in_list:\n",
        "                result.append(w)\n",
        "        return result\n",
        "\n",
        "    def get_text_indeces(self, tokenized_text):\n",
        "\n",
        "        return [self.vocab[token] for token in tokenized_text if token in self.vocab]\n",
        "\n",
        "    def padding(self, sequence):\n",
        "\n",
        "        padds = [self.pad_index] * (self.max_len - len(sequence))\n",
        "        sequence = sequence + padds\n",
        "        return sequence\n",
        "    \n",
        "    def __getitem__(self, index):\n",
        "       \n",
        "        text = self.texts[index][:self.max_len]      \n",
        "        tokenized_text = self.tokenization(text)\n",
        "        indeces_of_text = self.get_text_indeces(tokenized_text)\n",
        "        padded_text = self.padding(indeces_of_text)\n",
        "        converted_text = torch.tensor(padded_text)\n",
        "\n",
        "        target = self.targets[index]\n",
        "\n",
        "        return converted_text, target"
      ],
      "execution_count": null,
      "outputs": []
    },
    {
      "cell_type": "code",
      "metadata": {
        "id": "oWBv4F8WtdCU"
      },
      "source": [
        "train_dataset = BaddEMJTextClassifierDataset(train_texts, train_targets, word_to_id_with_emoji, tokenizer, \"<EMJ>\", pad_index=0, max_len=max_len_with_emoji)\n",
        "valid_dataset = BaddEMJTextClassifierDataset(valid_texts, valid_targets, word_to_id_with_emoji, tokenizer, \"<EMJ>\", pad_index=0, max_len=max_len_with_emoji)\n",
        "\n",
        "train_loader = DataLoader(train_dataset, batch_size=128, shuffle=True)\n",
        "valid_loader = DataLoader(valid_dataset, batch_size=128, shuffle=True)"
      ],
      "execution_count": null,
      "outputs": []
    },
    {
      "cell_type": "code",
      "metadata": {
        "id": "uAlMa06eeKGA"
      },
      "source": [
        "for x, y in train_loader:\n",
        "    break"
      ],
      "execution_count": null,
      "outputs": []
    },
    {
      "cell_type": "code",
      "metadata": {
        "colab": {
          "base_uri": "https://localhost:8080/"
        },
        "id": "RLYwOe1feKp1",
        "outputId": "ec8c105b-a265-4c38-a518-428b02668776"
      },
      "source": [
        "x[0]"
      ],
      "execution_count": null,
      "outputs": [
        {
          "output_type": "execute_result",
          "data": {
            "text/plain": [
              "tensor([ 1355,  7372,    74, 13023,   329,   924,   381,     0,     0,     0,\n",
              "            0,     0,     0,     0,     0,     0,     0,     0,     0,     0,\n",
              "            0,     0,     0,     0,     0,     0,     0,     0,     0,     0])"
            ]
          },
          "metadata": {
            "tags": []
          },
          "execution_count": 18
        }
      ]
    },
    {
      "cell_type": "code",
      "metadata": {
        "colab": {
          "base_uri": "https://localhost:8080/"
        },
        "id": "0HuxWdFGeLMp",
        "outputId": "3e14abdd-41b3-4974-eb0d-715473fe96c4"
      },
      "source": [
        "y[0]"
      ],
      "execution_count": null,
      "outputs": [
        {
          "output_type": "execute_result",
          "data": {
            "text/plain": [
              "tensor(1., dtype=torch.float64)"
            ]
          },
          "metadata": {
            "tags": []
          },
          "execution_count": 19
        }
      ]
    },
    {
      "cell_type": "code",
      "metadata": {
        "id": "dE_TbEb5eHaZ"
      },
      "source": [
        "device = torch.device('cpu')"
      ],
      "execution_count": null,
      "outputs": []
    },
    {
      "cell_type": "code",
      "metadata": {
        "id": "i3XBxWQOeCzd"
      },
      "source": [
        "assert torch.cuda.is_available()\n",
        "device = torch.device('cuda')"
      ],
      "execution_count": null,
      "outputs": []
    },
    {
      "cell_type": "code",
      "metadata": {
        "id": "33ATezJVgyG9"
      },
      "source": [
        "class BaddEMJToxicLSTM(torch.nn.Module):\n",
        "    \n",
        "    def __init__(self, embeddings, vocab_size, num_classes, embedding_dim, hidden_dim, num_lstm_layers, linear_size, padding_idx):\n",
        "        \n",
        "        super().__init__()\n",
        "\n",
        "        self.embedding_layer = nn.Embedding.from_pretrained(embeddings, padding_idx=padding_idx, freeze=False)\n",
        "\n",
        "        self.lstm = torch.nn.LSTM(input_size=embedding_dim, \n",
        "                                  hidden_size=hidden_dim,\n",
        "                                  num_layers=num_lstm_layers, \n",
        "                                  batch_first=True,\n",
        "                                  bidirectional=False)\n",
        "        \n",
        "\n",
        "        self.relu = nn.ReLU()\n",
        "        \n",
        "        self.output_layer = torch.nn.Linear(in_features=hidden_dim,\n",
        "                                            out_features=num_classes,\n",
        "                                            bias=False)\n",
        "\n",
        "        \n",
        "    def forward(self, x):\n",
        "        \n",
        "        x = self.embedding_layer(x)\n",
        "        x, _ = self.lstm(x)\n",
        "        x = x.mean(dim=1)\n",
        "        x = self.relu(x)\n",
        "        x = self.output_layer(x)\n",
        "        \n",
        "        return x"
      ],
      "execution_count": null,
      "outputs": []
    },
    {
      "cell_type": "code",
      "metadata": {
        "id": "Yp5VhgijinGh"
      },
      "source": [
        "vocab_size = len(word_to_id_with_emoji)\n",
        "num_classes = 1\n",
        "embedding_dim = 300\n",
        "hidden_dim = 254\n",
        "num_lstm_layers = 8\n",
        "linear_size = 128\n",
        "padding_idx = 0"
      ],
      "execution_count": null,
      "outputs": []
    },
    {
      "cell_type": "code",
      "metadata": {
        "colab": {
          "base_uri": "https://localhost:8080/"
        },
        "id": "PXBI_8fRiPwk",
        "outputId": "8d30009b-4a80-4ff7-e813-fe9bb6be341f"
      },
      "source": [
        "toxic_model_emj = BaddEMJToxicLSTM(embeddings,\n",
        "                                   vocab_size, \n",
        "                                   num_classes, \n",
        "                                   embedding_dim, \n",
        "                                   hidden_dim, \n",
        "                                   num_lstm_layers, \n",
        "                                   linear_size, \n",
        "                                   padding_idx)\n",
        "\n",
        "toxic_model_emj.to(device)"
      ],
      "execution_count": null,
      "outputs": [
        {
          "output_type": "execute_result",
          "data": {
            "text/plain": [
              "BaddEMJToxicLSTM(\n",
              "  (embedding_layer): Embedding(286256, 300, padding_idx=0)\n",
              "  (lstm): LSTM(300, 254, num_layers=8, batch_first=True)\n",
              "  (relu): ReLU()\n",
              "  (output_layer): Linear(in_features=254, out_features=1, bias=False)\n",
              ")"
            ]
          },
          "metadata": {
            "tags": []
          },
          "execution_count": 23
        }
      ]
    },
    {
      "cell_type": "code",
      "metadata": {
        "id": "BuN39IuYi-hv"
      },
      "source": [
        "def train_model(model, train_loader, optimizer, criterion, n_epoch, f_score_average, clip=3.0):\n",
        "\n",
        "    train_losses = []\n",
        "    f_scores_train = []\n",
        "\n",
        "    model.train()\n",
        "    \n",
        "    train_progress_bar = tqdm_notebook(total=len(train_loader.dataset), desc=f'Epoch: {n_epoch + 1}, train', position=0, leave=True)\n",
        "    \n",
        "\n",
        "    for x, y in train_loader:\n",
        "\n",
        "        x = x.to(device)\n",
        "        y = y.to(device)\n",
        "        optimizer.zero_grad()\n",
        "            \n",
        "        pred = model(x.detach())\n",
        "\n",
        "        f_scores_train.append(f1_score(y.cpu().numpy(), binarize(pred), average=f_score_average))\n",
        "        \n",
        "        loss = criterion(pred.cpu().squeeze(), y.cpu())\n",
        "\n",
        "        # loss = loss * weights[y.cpu().view(-1)]\n",
        "        # loss = loss.mean()\n",
        "        \n",
        "        loss.backward()\n",
        "        torch.nn.utils.clip_grad_norm_(model.parameters(), clip)\n",
        "        optimizer.step()\n",
        "\n",
        "        train_losses.append(loss.item())\n",
        "\n",
        "        train_progress_bar.set_postfix(train_loss = np.mean(train_losses[-500:]))\n",
        "        train_progress_bar.update(x.shape[0])\n",
        "\n",
        "    train_progress_bar.close()\n",
        "\n",
        "    return train_losses, f_scores_train"
      ],
      "execution_count": null,
      "outputs": []
    },
    {
      "cell_type": "code",
      "metadata": {
        "id": "yY9Xb_H1jKVZ"
      },
      "source": [
        "def validate_model(model, valid_loader, optimizer, criterion, n_epoch, f_score_average):\n",
        "\n",
        "    valid_losses = []\n",
        "    f_scores_valid = []\n",
        "\n",
        "    model.eval()\n",
        "\n",
        "    valid_progress_bar = tqdm_notebook(total=len(valid_loader.dataset), desc=f'Epoch: {n_epoch + 1}, validation', position=0, leave=True)\n",
        "\n",
        "    for x, y in valid_loader:\n",
        "\n",
        "        x = x.to(device)\n",
        "        y = y.to(device)\n",
        "        \n",
        "        with torch.no_grad():  \n",
        "            pred = model(x.detach())\n",
        "\n",
        "        f_scores_valid.append(f1_score(y.cpu().numpy(), binarize(pred), average=f_score_average))\n",
        "        loss = criterion(pred.cpu().squeeze(), y.cpu())\n",
        "\n",
        "        # loss = loss * weights[y.cpu().view(-1)]\n",
        "        # loss = loss.mean()\n",
        "\n",
        "        valid_losses.append(loss.item())\n",
        "\n",
        "        valid_progress_bar.set_postfix(valid_loss = np.mean(valid_losses[-500:]))\n",
        "        valid_progress_bar.update(x.shape[0])\n",
        "    \n",
        "    valid_progress_bar.close()\n",
        "\n",
        "    return valid_losses, f_scores_valid"
      ],
      "execution_count": null,
      "outputs": []
    },
    {
      "cell_type": "code",
      "metadata": {
        "id": "67ICFgeVMMcn"
      },
      "source": [
        "def binarize(pred):\n",
        "    pred = pred.cpu().detach().numpy()\n",
        "    result = []\n",
        "    for r in pred:\n",
        "        if r <= 0.5:\n",
        "            result.append(0.)\n",
        "        else:\n",
        "            result.append(1.)\n",
        "    return result"
      ],
      "execution_count": null,
      "outputs": []
    },
    {
      "cell_type": "code",
      "metadata": {
        "id": "xkzNh4XbjPe7"
      },
      "source": [
        "def save_model(model, optimizer, path_to_model_state, path_to_optimizer_state):\n",
        "    torch.save(model.state_dict(), path_to_model_state)\n",
        "    torch.save(optimizer.state_dict(), path_to_optimizer_state)\n",
        "    \n",
        "def load_model(path_to_model_state, path_to_optimizer_state):\n",
        "    model_state = torch.load(path_to_model_state)\n",
        "    optimizer_state = torch.load(path_to_optimizer_state)\n",
        "    return model_state, optimizer_state"
      ],
      "execution_count": null,
      "outputs": []
    },
    {
      "cell_type": "code",
      "metadata": {
        "id": "IWD9_AcDkE2L"
      },
      "source": [
        "def train_and_validate(model,\n",
        "                       n_epochs,\n",
        "                       train_loader,\n",
        "                       valid_loader,\n",
        "                       model_params,\n",
        "                       embedding_params,\n",
        "                       f_score_average,\n",
        "                       criterion,\n",
        "                       optimizer,\n",
        "                       scheduler,\n",
        "                       best_model_state_path,\n",
        "                       best_opt_state_path,\n",
        "                       last_model_state_path,\n",
        "                       last_opt_state_path):\n",
        "\n",
        "    val_losses = []\n",
        "    tr_losses = []\n",
        "    mean_f_scores_train = []\n",
        "    mean_f_scores_valid = []\n",
        "    best_val_loss = 10.0\n",
        "\n",
        "    for n_epoch in range(n_epochs):\n",
        "\n",
        "        epoch_train_losses, f_scores_train = train_model(model, train_loader, optimizer, criterion, n_epoch, f_score_average)\n",
        "        epoch_valid_losses, f_scores_valid = validate_model(model, valid_loader, optimizer, criterion, n_epoch, f_score_average)\n",
        "\n",
        "        mean_epoch_val_loss = np.mean(epoch_valid_losses)\n",
        "        mean_f_scores_train.append(np.mean(f_scores_train))\n",
        "        mean_f_scores_valid.append(np.mean(f_scores_valid))\n",
        "        val_losses.append(mean_epoch_val_loss)\n",
        "        tr_losses.append(np.mean(epoch_train_losses))\n",
        "\n",
        "        scheduler.step()\n",
        "\n",
        "        if mean_epoch_val_loss < best_val_loss:\n",
        "            best_val_loss = mean_epoch_val_loss\n",
        "            print(f\"F-score on validation: {np.mean(f_scores_valid)}\")\n",
        "            save_model(model, optimizer, best_model_state_path, best_opt_state_path)\n",
        "        else:\n",
        "            print(f'Early stopping on epoch {n_epoch+1}')\n",
        "            print(f\"F-score on validation: {np.mean(f_scores_valid)}\")\n",
        "            save_model(model, optimizer, last_model_state_path, last_opt_state_path)\n",
        "            break\n",
        "\n",
        "    return val_losses, tr_losses, mean_f_scores_train, mean_f_scores_valid"
      ],
      "execution_count": null,
      "outputs": []
    },
    {
      "cell_type": "code",
      "metadata": {
        "id": "_FYwgwguktoR"
      },
      "source": [
        "n_epochs = 30\n",
        "model_params =  [x[1] for x in list(filter(lambda x: x[0] != 'embedding_layer.weight', toxic_model_emj.named_parameters()))]\n",
        "embedding_params = toxic_model_emj.embedding_layer.parameters()\n",
        "f_score_average = \"micro\"\n",
        "criterion = nn.BCEWithLogitsLoss(reduction='mean')\n",
        "optimizer = torch.optim.Adam(params=[{'params': embedding_params, 'lr': 0.0001}, {'params': model_params, 'lr': 0.00001}])\n",
        "scheduler = StepLR(optimizer, step_size=3, gamma=0.1)"
      ],
      "execution_count": null,
      "outputs": []
    },
    {
      "cell_type": "code",
      "metadata": {
        "colab": {
          "base_uri": "https://localhost:8080/",
          "height": 528,
          "referenced_widgets": [
            "6cfad391b6844658817010fd911ceccc",
            "c2220c4276ed4c9486eeea13e51e774d",
            "233b209e395b4dc384d3a58f6c89bf7d",
            "2be56158c3254631989b4bedbe007a8f",
            "a7e4bdb938e34a43ad414f5cfb69dcdb",
            "dee11e027ae74d3198ef5e71df366221",
            "01e7dfbf44bb404094f21dd95ca541fe",
            "c00b3ea9b32f4825a9bdcef067c90550",
            "d220f14d0b2c4a6cbd069a1b99eed0b1",
            "61180c23a5454d90baec9503464e5b83",
            "1fdc444236d248cfb88c969a56546a78",
            "4d07683875a948a58a29b6e5d9ad5b12",
            "505aa867f6544ceb81b30c95ee0f0c29",
            "94d8a6b2214c47c7aff878a9b80e76b7",
            "6c7ba96f4f84400bbcf8a2c70c0045ee",
            "691cf417e72c4b8dba415d90ae7fd5cd",
            "3ec4cb57449f4f818761a6ac77b97554",
            "18745b04c5c14fa6b7d9c704b0de2ade",
            "edca53ece45a451290d6400899c7af3b",
            "2b82db08b8fb43ec8ab1befc7989f23a",
            "7343195b085441adad69df5011834841",
            "b3826efba00046ec90e865ec2c08dee1",
            "80c2835ecc844919899d852ed6bb81f7",
            "e83ba33aefc147d09b00dbd59524d270",
            "cc02be87a11646979fc792d0757d082a",
            "c1e0761a065841a6986b5216ae42b1f0",
            "8c65b75de8904de6967b25fde1df15b5",
            "7ed61c691f5041a4a42b67157b0ebfa8",
            "6227aa0328ba41f789a9a2b24f51db76",
            "848b48225c7a4d348040a900216aeffc",
            "63e22ea41f7e4ec38b1c96b678521b18",
            "82c1de5a76df4f6a96389458cab4ae90",
            "4cae57e9f74440b086a1f71f685d6914",
            "9d6dad1afa0940a4a010fd29290397f1",
            "ccb2b188ad4f462ca396fcf8f56e65ea",
            "0f9320a886a44572a430d022ad666ebb",
            "bc06c6c2b4774fed9c2d8f90d0dcc06d",
            "3932d513b434423294e118ee6c4c50e6",
            "424423f09d4c45d3af79a5e09fe35837",
            "2a238bc13ffe4a029621ca0c67848420",
            "4581ce19a6c445a8a3fd7c8cb9e6714a",
            "34112e62f05641b28d8583feb7ef4e18",
            "9c22e573bbdf47468317a91ca7464530",
            "957e7129b88b4a8c94f533701e2cf5b9",
            "47a0edc456584aafba9a3b0e23d539a5",
            "15ad4fcc50bd47248a33aee9f34c3689",
            "c5301ed29d0543bea2b0d17cd36a91d1",
            "7e3ee99212ce4ed584ca608d3d92563d",
            "f65b8d893315450e9df2cb25c5fefb47",
            "076f1801845a4498aeae3683bb8f1560",
            "570ea03c510f4b51a5c57ff7fb88a760",
            "b899d545321c413c9d21c04f4ce6f8b6",
            "ab31dea22baf4e81bde52cea4481c87e",
            "0d3912817d394649b03b0847f6adccbb",
            "f70b1bbd7aa14f74b09cd0bb90804615",
            "adba42dcf5864ea18e0d7a3d099ef95e",
            "b514b662442b4e71bb92e5801d81d0be",
            "942820d5780945d88edbb49d9d480811",
            "a9b2d0c5aa914bfd831cd2dfe724726a",
            "106153d6793f457da3db2e08d265bf5f",
            "a981b8ba0feb4f76b1ab7ab55592565c",
            "5a672ccba94346e7a7aec0aba81eabae",
            "479d74d4d79c4577952cf1009274a4d8",
            "480636abbb234c439f29d53199f778a4"
          ]
        },
        "id": "t-ECiI9rkwoJ",
        "outputId": "94833d0f-4894-4f68-8f84-948d063e0bbb"
      },
      "source": [
        "%%time\n",
        "valid_losses, train_losses, mean_f_scores_train, mean_f_scores_valid = train_and_validate(toxic_model_emj,\n",
        "                       n_epochs,\n",
        "                       train_loader,\n",
        "                       valid_loader,\n",
        "                       model_params,\n",
        "                       embedding_params,\n",
        "                       f_score_average,\n",
        "                       criterion,\n",
        "                       optimizer,\n",
        "                       scheduler,\n",
        "                       toxic_model_emj_best_state_path,\n",
        "                       toxic_opt_emj_best_state_path,\n",
        "                       toxic_model_emj_last_state_path,\n",
        "                       toxic_opt_emj_last_state_path)"
      ],
      "execution_count": null,
      "outputs": [
        {
          "output_type": "display_data",
          "data": {
            "application/vnd.jupyter.widget-view+json": {
              "model_id": "6cfad391b6844658817010fd911ceccc",
              "version_minor": 0,
              "version_major": 2
            },
            "text/plain": [
              "HBox(children=(FloatProgress(value=0.0, description='Epoch: 1, train', max=212131.0, style=ProgressStyle(descr…"
            ]
          },
          "metadata": {
            "tags": []
          }
        },
        {
          "output_type": "stream",
          "text": [
            "\n"
          ],
          "name": "stdout"
        },
        {
          "output_type": "display_data",
          "data": {
            "application/vnd.jupyter.widget-view+json": {
              "model_id": "d220f14d0b2c4a6cbd069a1b99eed0b1",
              "version_minor": 0,
              "version_major": 2
            },
            "text/plain": [
              "HBox(children=(FloatProgress(value=0.0, description='Epoch: 1, validation', max=37435.0, style=ProgressStyle(d…"
            ]
          },
          "metadata": {
            "tags": []
          }
        },
        {
          "output_type": "stream",
          "text": [
            "\n",
            "F-score on validation: 0.8939394487186904\n"
          ],
          "name": "stdout"
        },
        {
          "output_type": "display_data",
          "data": {
            "application/vnd.jupyter.widget-view+json": {
              "model_id": "3ec4cb57449f4f818761a6ac77b97554",
              "version_minor": 0,
              "version_major": 2
            },
            "text/plain": [
              "HBox(children=(FloatProgress(value=0.0, description='Epoch: 2, train', max=212131.0, style=ProgressStyle(descr…"
            ]
          },
          "metadata": {
            "tags": []
          }
        },
        {
          "output_type": "stream",
          "text": [
            "\n"
          ],
          "name": "stdout"
        },
        {
          "output_type": "display_data",
          "data": {
            "application/vnd.jupyter.widget-view+json": {
              "model_id": "cc02be87a11646979fc792d0757d082a",
              "version_minor": 0,
              "version_major": 2
            },
            "text/plain": [
              "HBox(children=(FloatProgress(value=0.0, description='Epoch: 2, validation', max=37435.0, style=ProgressStyle(d…"
            ]
          },
          "metadata": {
            "tags": []
          }
        },
        {
          "output_type": "stream",
          "text": [
            "\n",
            "F-score on validation: 0.9179197156823047\n"
          ],
          "name": "stdout"
        },
        {
          "output_type": "display_data",
          "data": {
            "application/vnd.jupyter.widget-view+json": {
              "model_id": "4cae57e9f74440b086a1f71f685d6914",
              "version_minor": 0,
              "version_major": 2
            },
            "text/plain": [
              "HBox(children=(FloatProgress(value=0.0, description='Epoch: 3, train', max=212131.0, style=ProgressStyle(descr…"
            ]
          },
          "metadata": {
            "tags": []
          }
        },
        {
          "output_type": "stream",
          "text": [
            "\n"
          ],
          "name": "stdout"
        },
        {
          "output_type": "display_data",
          "data": {
            "application/vnd.jupyter.widget-view+json": {
              "model_id": "4581ce19a6c445a8a3fd7c8cb9e6714a",
              "version_minor": 0,
              "version_major": 2
            },
            "text/plain": [
              "HBox(children=(FloatProgress(value=0.0, description='Epoch: 3, validation', max=37435.0, style=ProgressStyle(d…"
            ]
          },
          "metadata": {
            "tags": []
          }
        },
        {
          "output_type": "stream",
          "text": [
            "\n",
            "F-score on validation: 0.9211058165095158\n"
          ],
          "name": "stdout"
        },
        {
          "output_type": "display_data",
          "data": {
            "application/vnd.jupyter.widget-view+json": {
              "model_id": "f65b8d893315450e9df2cb25c5fefb47",
              "version_minor": 0,
              "version_major": 2
            },
            "text/plain": [
              "HBox(children=(FloatProgress(value=0.0, description='Epoch: 4, train', max=212131.0, style=ProgressStyle(descr…"
            ]
          },
          "metadata": {
            "tags": []
          }
        },
        {
          "output_type": "stream",
          "text": [
            "\n"
          ],
          "name": "stdout"
        },
        {
          "output_type": "display_data",
          "data": {
            "application/vnd.jupyter.widget-view+json": {
              "model_id": "b514b662442b4e71bb92e5801d81d0be",
              "version_minor": 0,
              "version_major": 2
            },
            "text/plain": [
              "HBox(children=(FloatProgress(value=0.0, description='Epoch: 4, validation', max=37435.0, style=ProgressStyle(d…"
            ]
          },
          "metadata": {
            "tags": []
          }
        },
        {
          "output_type": "stream",
          "text": [
            "\n",
            "Early stopping on epoch 4\n",
            "F-score on validation: 0.9198304723202407\n",
            "CPU times: user 11min 3s, sys: 4min 38s, total: 15min 41s\n",
            "Wall time: 15min 51s\n"
          ],
          "name": "stdout"
        }
      ]
    },
    {
      "cell_type": "code",
      "metadata": {
        "id": "PonTu5DGOLcZ"
      },
      "source": [
        "def show_f_scores_graph(f_scores, training=True, epoch=True):\n",
        "    plt.figure(figsize=(7, 7))\n",
        "    plt.plot(f_scores)\n",
        "    plt.grid()\n",
        "    if training:\n",
        "      plt.title('F-scores on train')\n",
        "    else:\n",
        "      plt.title('F-scores on validation')\n",
        "    if epoch:\n",
        "      plt.xlabel('Epochs')\n",
        "    else:\n",
        "      plt.xlabel('Iterations')\n",
        "    plt.ylabel('f-score')"
      ],
      "execution_count": null,
      "outputs": []
    },
    {
      "cell_type": "code",
      "metadata": {
        "id": "6HdQZxbKONwA"
      },
      "source": [
        "def show_losses_graph(losses, training=True, epoch=True):\n",
        "    plt.figure(figsize=(7, 7))\n",
        "    plt.plot(losses)\n",
        "    plt.grid()\n",
        "    if training:\n",
        "      plt.title('Training process')\n",
        "    else:\n",
        "      plt.title('Validation process')\n",
        "    if epoch:\n",
        "      plt.xlabel('Epochs')\n",
        "    else:\n",
        "      plt.xlabel('Iterations')\n",
        "    plt.ylabel('Loss function')"
      ],
      "execution_count": null,
      "outputs": []
    },
    {
      "cell_type": "code",
      "metadata": {
        "colab": {
          "base_uri": "https://localhost:8080/",
          "height": 458
        },
        "id": "uwnSZnvkOQfh",
        "outputId": "bcc704e5-131d-4467-e5b9-6da909e1c6a2"
      },
      "source": [
        "show_f_scores_graph(mean_f_scores_train, training=True)"
      ],
      "execution_count": null,
      "outputs": [
        {
          "output_type": "display_data",
          "data": {
            "image/png": "[encoded data removed]",
            "text/plain": [
              "<Figure size 504x504 with 1 Axes>"
            ]
          },
          "metadata": {
            "tags": [],
            "needs_background": "light"
          }
        }
      ]
    },
    {
      "cell_type": "code",
      "metadata": {
        "colab": {
          "base_uri": "https://localhost:8080/",
          "height": 458
        },
        "id": "Zu9M1e2OOUC_",
        "outputId": "0fa7ed0e-f546-47f2-a42d-7dc465c07b3d"
      },
      "source": [
        "show_f_scores_graph(mean_f_scores_valid, training=False)"
      ],
      "execution_count": null,
      "outputs": [
        {
          "output_type": "display_data",
          "data": {
            "image/png": "[encoded data removed]",
            "text/plain": [
              "<Figure size 504x504 with 1 Axes>"
            ]
          },
          "metadata": {
            "tags": [],
            "needs_background": "light"
          }
        }
      ]
    },
    {
      "cell_type": "code",
      "metadata": {
        "colab": {
          "base_uri": "https://localhost:8080/",
          "height": 458
        },
        "id": "Q8QzKqUiOW-b",
        "outputId": "b3cb8a5d-bace-489d-a4e2-a45d4774db36"
      },
      "source": [
        "show_losses_graph(train_losses, training=True)"
      ],
      "execution_count": null,
      "outputs": [
        {
          "output_type": "display_data",
          "data": {
            "image/png": "[encoded data removed]",
            "text/plain": [
              "<Figure size 504x504 with 1 Axes>"
            ]
          },
          "metadata": {
            "tags": [],
            "needs_background": "light"
          }
        }
      ]
    },
    {
      "cell_type": "code",
      "metadata": {
        "colab": {
          "base_uri": "https://localhost:8080/",
          "height": 458
        },
        "id": "pJB5ljWfOZRK",
        "outputId": "2be9a2cb-c0fd-4d8f-c1dc-0ce7f7d91944"
      },
      "source": [
        "show_losses_graph(valid_losses, training=False)"
      ],
      "execution_count": null,
      "outputs": [
        {
          "output_type": "display_data",
          "data": {
            "image/png": "[encoded data removed]",
            "text/plain": [
              "<Figure size 504x504 with 1 Axes>"
            ]
          },
          "metadata": {
            "tags": [],
            "needs_background": "light"
          }
        }
      ]
    },
    {
      "cell_type": "code",
      "metadata": {
        "id": "LZRHuRuo-1TZ"
      },
      "source": [
        "test_data = pd.read_csv(test_data_path)"
      ],
      "execution_count": null,
      "outputs": []
    },
    {
      "cell_type": "code",
      "metadata": {
        "colab": {
          "base_uri": "https://localhost:8080/"
        },
        "id": "5g5aKyVe-4Od",
        "outputId": "9a3ef8c9-0347-43a7-96f2-fb1bd2bb90b4"
      },
      "source": [
        "model, _ = load_model(toxic_model_emj_best_state_path, toxic_opt_emj_best_state_path)\n",
        "toxic_model_emj.load_state_dict(model)"
      ],
      "execution_count": null,
      "outputs": [
        {
          "output_type": "execute_result",
          "data": {
            "text/plain": [
              "<All keys matched successfully>"
            ]
          },
          "metadata": {
            "tags": []
          },
          "execution_count": 39
        }
      ]
    },
    {
      "cell_type": "code",
      "metadata": {
        "id": "m82clHVe7_HS"
      },
      "source": [
        "def predict_text(text, model, tokenizer, vocab, max_len):\n",
        "    tokenized_text = tokenizer(text.lower())\n",
        "    ids = [vocab[token] for token in tokenized_text if token in vocab]\n",
        "    padds = [0] * (max_len - len(ids))\n",
        "    padded_ids = ids + padds\n",
        "    tensor_ids = torch.tensor(padded_ids)\n",
        "    tensor_ids = torch.unsqueeze(tensor_ids,0)\n",
        "    \n",
        "    with torch.no_grad():\n",
        "      pred = model.forward(tensor_ids.to(device))\n",
        "      pred = binarize(pred)\n",
        "      return pred[0]"
      ],
      "execution_count": null,
      "outputs": []
    },
    {
      "cell_type": "code",
      "metadata": {
        "id": "U_27_Akw8CKc"
      },
      "source": [
        "def make_preds(model, texts, tokenizer, vocab, max_len):\n",
        "    model.eval()\n",
        "    y_preds = []\n",
        "    for text in texts:\n",
        "        y_preds.append(predict_text(text, model, tokenizer, vocab, max_len))\n",
        "    return y_preds"
      ],
      "execution_count": null,
      "outputs": []
    },
    {
      "cell_type": "code",
      "metadata": {
        "colab": {
          "base_uri": "https://localhost:8080/"
        },
        "id": "VbB4G2TU8D9P",
        "outputId": "0bd408fc-600a-487e-e859-b2f71ea0bceb"
      },
      "source": [
        "%%time\n",
        "y_preds = make_preds(toxic_model_emj, test_data.texts, tokenize_replace_emojis, word_to_id_with_emoji, max_len_with_emoji)\n",
        "y_trues = test_data.toxic"
      ],
      "execution_count": null,
      "outputs": [
        {
          "output_type": "stream",
          "text": [
            "CPU times: user 3min 6s, sys: 1min 45s, total: 4min 51s\n",
            "Wall time: 4min 50s\n"
          ],
          "name": "stdout"
        }
      ]
    },
    {
      "cell_type": "code",
      "metadata": {
        "id": "VvEEFS418Htb"
      },
      "source": [
        "def evaluate_on_texts(y_trues, y_preds, f_score_average = \"macro\"):\n",
        "    \n",
        "    print(f\"F1 score: {f1_score(y_trues, y_preds, average=f_score_average)}\")\n",
        "    print(f\"Accuracy: {accuracy_score(y_trues, y_preds)}\")\n",
        "    print(classification_report(y_trues, y_preds))"
      ],
      "execution_count": null,
      "outputs": []
    },
    {
      "cell_type": "code",
      "metadata": {
        "colab": {
          "base_uri": "https://localhost:8080/"
        },
        "id": "05uQS5Zo8JyN",
        "outputId": "de5677d7-3ad7-4b5c-d484-ab1b280f81af"
      },
      "source": [
        "evaluate_on_texts(y_trues, y_preds)"
      ],
      "execution_count": null,
      "outputs": [
        {
          "output_type": "stream",
          "text": [
            "F1 score: 0.8757561973684129\n",
            "Accuracy: 0.933084652862363\n",
            "              precision    recall  f1-score   support\n",
            "\n",
            "         0.0       0.93      0.99      0.96     10675\n",
            "         1.0       0.95      0.68      0.79      2461\n",
            "\n",
            "    accuracy                           0.93     13136\n",
            "   macro avg       0.94      0.83      0.88     13136\n",
            "weighted avg       0.93      0.93      0.93     13136\n",
            "\n"
          ],
          "name": "stdout"
        }
      ]
    },
    {
      "cell_type": "markdown",
      "metadata": {
        "id": "fO5LahmqdwHK"
      },
      "source": [
        "## Определение токсичности текстов без эмодзи"
      ]
    },
    {
      "cell_type": "code",
      "metadata": {
        "colab": {
          "base_uri": "https://localhost:8080/",
          "height": 66,
          "referenced_widgets": [
            "3167cdf72ca848beb7915612e8638324",
            "2a9794148a2546f1b508fb2592ec97ad",
            "19146df85f274880bcb2603515fc0ebf",
            "15b68eb3871e4d2881cf50a5503fcb1b",
            "70a9138b5ae84067bcd5b7d97d67f751",
            "c954fde5ebcb4d5c8cfb0d5a45966187",
            "54d3ba0d3e0d483ab65ebfc01a88f1b5",
            "f12cb21a034846ad9d62befc35fb4c90"
          ]
        },
        "id": "wA6m95Vq9jrU",
        "outputId": "d7f5ef16-1986-48f1-ac9d-94397be61908"
      },
      "source": [
        "word_to_id_no_emoji, embeddings = get_vocab_embeddings(data.texts, tokenize_remove_emojis)"
      ],
      "execution_count": null,
      "outputs": [
        {
          "output_type": "display_data",
          "data": {
            "application/vnd.jupyter.widget-view+json": {
              "model_id": "3167cdf72ca848beb7915612e8638324",
              "version_minor": 0,
              "version_major": 2
            },
            "text/plain": [
              "HBox(children=(FloatProgress(value=0.0, max=262702.0), HTML(value='')))"
            ]
          },
          "metadata": {
            "tags": []
          }
        },
        {
          "output_type": "stream",
          "text": [
            "\n"
          ],
          "name": "stdout"
        }
      ]
    },
    {
      "cell_type": "code",
      "metadata": {
        "id": "VnoEjw-wOduB"
      },
      "source": [
        "embeddings = torch.tensor(embeddings).float()"
      ],
      "execution_count": null,
      "outputs": []
    },
    {
      "cell_type": "code",
      "metadata": {
        "id": "yHMqNxdl-X--"
      },
      "source": [
        "json_dump = json.dumps(word_to_id_no_emoji)\n",
        "f = open(toxic_vocab_path, \"w\")\n",
        "f.write(json_dump)\n",
        "f.close()  "
      ],
      "execution_count": null,
      "outputs": []
    },
    {
      "cell_type": "markdown",
      "metadata": {
        "id": "6zk0Y6ORa2K2"
      },
      "source": [
        "Обработчик данных с удалением эмодзи"
      ]
    },
    {
      "cell_type": "code",
      "metadata": {
        "id": "zJtDkWJ6tcvh"
      },
      "source": [
        "class BaddTextClassifierDataset(Dataset):\n",
        "    \n",
        "    def __init__(self, texts, targets, word_to_id, tokenizer, pad_index=0, max_len=None):\n",
        "        super().__init__()\n",
        "        \n",
        "        self.texts = texts\n",
        "        self.targets = targets\n",
        "        self.vocab = word_to_id\n",
        "        self.tokenizer = tokenizer\n",
        "        self.pad_index = pad_index\n",
        "        self.max_len = max_len\n",
        "        \n",
        "    def __len__(self):\n",
        "\n",
        "        return len(self.texts)\n",
        "\n",
        "    def tokenization(self, text):\n",
        "        \n",
        "        result = []\n",
        "        sentence = self.tokenizer(text)\n",
        "        for word in sentence:\n",
        "            detext = emoji.demojize(word)\n",
        "            detext = re.sub(r\"\\:[\\w]+\\:\", \"\", detext)\n",
        "            if detext:\n",
        "                result.append(detext)\n",
        "        return result\n",
        "\n",
        "    def get_text_indeces(self, tokenized_text):\n",
        "\n",
        "        return [self.vocab[token] for token in tokenized_text if token in self.vocab]\n",
        "\n",
        "    def padding(self, sequence):\n",
        "\n",
        "        padds = [self.pad_index] * (self.max_len - len(sequence))\n",
        "        sequence = sequence + padds\n",
        "        return sequence\n",
        "    \n",
        "    def __getitem__(self, index):\n",
        "       \n",
        "        text = self.texts[index][:self.max_len]      \n",
        "        tokenized_text = self.tokenization(text)\n",
        "        indeces_of_text = self.get_text_indeces(tokenized_text)\n",
        "        padded_text = self.padding(indeces_of_text)\n",
        "        converted_text = torch.tensor(padded_text)\n",
        "\n",
        "        target = self.targets[index]\n",
        "\n",
        "        return converted_text, target"
      ],
      "execution_count": null,
      "outputs": []
    },
    {
      "cell_type": "code",
      "metadata": {
        "id": "odWneCXOay1U"
      },
      "source": [
        "train_dataset = BaddTextClassifierDataset(train_texts, train_targets, word_to_id_no_emoji, tokenizer, pad_index=0, max_len=max_len_no_emoji)\n",
        "valid_dataset = BaddTextClassifierDataset(valid_texts, valid_targets, word_to_id_no_emoji, tokenizer, pad_index=0, max_len=max_len_no_emoji)\n",
        "\n",
        "train_loader = DataLoader(train_dataset, batch_size=128, shuffle=True)\n",
        "valid_loader = DataLoader(valid_dataset, batch_size=128, shuffle=True)"
      ],
      "execution_count": null,
      "outputs": []
    },
    {
      "cell_type": "code",
      "metadata": {
        "id": "l1TWGUC6eM2U"
      },
      "source": [
        "for x, y in train_loader:\n",
        "    break"
      ],
      "execution_count": null,
      "outputs": []
    },
    {
      "cell_type": "code",
      "metadata": {
        "id": "m5Uh_1fqeNao",
        "colab": {
          "base_uri": "https://localhost:8080/"
        },
        "outputId": "4d88e5f6-906e-4b37-e12e-180c9b3c615a"
      },
      "source": [
        "x"
      ],
      "execution_count": null,
      "outputs": [
        {
          "output_type": "execute_result",
          "data": {
            "text/plain": [
              "tensor([[     5,    706,    477,  ...,      0,      0,      0],\n",
              "        [   833,  59016, 246356,  ...,      0,      0,      0],\n",
              "        [   167,    491,    492,  ...,      0,      0,      0],\n",
              "        ...,\n",
              "        [  4211,  30586,   6135,  ...,      0,      0,      0],\n",
              "        [209486, 179494,  13934,  ...,      0,      0,      0],\n",
              "        [   214,      3,     32,  ...,      0,      0,      0]])"
            ]
          },
          "metadata": {
            "tags": []
          },
          "execution_count": 25
        }
      ]
    },
    {
      "cell_type": "code",
      "metadata": {
        "id": "KaI03DKNeN0Y",
        "colab": {
          "base_uri": "https://localhost:8080/"
        },
        "outputId": "dac4c28b-6e47-4f64-deb2-630f82bf16a1"
      },
      "source": [
        "y"
      ],
      "execution_count": null,
      "outputs": [
        {
          "output_type": "execute_result",
          "data": {
            "text/plain": [
              "tensor([0., 0., 0., 1., 0., 0., 0., 1., 0., 0., 0., 0., 1., 0., 0., 1., 1., 1.,\n",
              "        0., 0., 0., 0., 0., 0., 0., 0., 0., 0., 0., 0., 0., 0., 0., 0., 0., 0.,\n",
              "        0., 0., 0., 1., 0., 0., 0., 0., 0., 0., 0., 1., 0., 0., 0., 1., 0., 0.,\n",
              "        0., 0., 0., 0., 1., 1., 0., 0., 0., 1., 0., 0., 0., 0., 0., 0., 0., 0.,\n",
              "        0., 0., 0., 0., 0., 0., 0., 0., 0., 0., 0., 0., 0., 1., 1., 0., 0., 0.,\n",
              "        0., 0., 0., 1., 0., 0., 0., 0., 0., 0., 0., 0., 0., 0., 0., 0., 0., 0.,\n",
              "        0., 0., 0., 1., 0., 0., 0., 0., 1., 0., 0., 1., 0., 0., 0., 1., 1., 0.,\n",
              "        0., 0.], dtype=torch.float64)"
            ]
          },
          "metadata": {
            "tags": []
          },
          "execution_count": 26
        }
      ]
    },
    {
      "cell_type": "code",
      "metadata": {
        "id": "Sx6Ktck8eGgN"
      },
      "source": [
        "device = torch.device('cpu')"
      ],
      "execution_count": null,
      "outputs": []
    },
    {
      "cell_type": "code",
      "metadata": {
        "id": "DcwPGRRbeEI8"
      },
      "source": [
        "assert torch.cuda.is_available()\n",
        "device = torch.device('cuda')"
      ],
      "execution_count": null,
      "outputs": []
    },
    {
      "cell_type": "code",
      "metadata": {
        "id": "XFnf7vfk880t"
      },
      "source": [
        "class BaddToxicLSTM(torch.nn.Module):\n",
        "    \n",
        "    def __init__(self, embeddings, vocab_size, num_classes, embedding_dim, hidden_dim, num_lstm_layers, linear_size, padding_idx):\n",
        "        \n",
        "        super().__init__()\n",
        "\n",
        "        self.embedding_layer = nn.Embedding.from_pretrained(embeddings, padding_idx=padding_idx, freeze=False)\n",
        "\n",
        "        self.lstm = torch.nn.LSTM(input_size=embedding_dim, \n",
        "                                  hidden_size=hidden_dim,\n",
        "                                  num_layers=num_lstm_layers, \n",
        "                                  batch_first=True,\n",
        "                                  bidirectional=False)\n",
        "        \n",
        "\n",
        "        self.relu = nn.ReLU()\n",
        "        \n",
        "        self.output_layer = torch.nn.Linear(in_features=hidden_dim,\n",
        "                                            out_features=num_classes,\n",
        "                                            bias=False)\n",
        "\n",
        "        \n",
        "    def forward(self, x):\n",
        "        \n",
        "        x = self.embedding_layer(x)\n",
        "        x, _ = self.lstm(x)\n",
        "        x = x.mean(dim=1)\n",
        "        x = self.relu(x)\n",
        "        x = self.output_layer(x)\n",
        "        \n",
        "        return x"
      ],
      "execution_count": null,
      "outputs": []
    },
    {
      "cell_type": "code",
      "metadata": {
        "id": "cqtTtns_9C1z"
      },
      "source": [
        "vocab_size = len(word_to_id_no_emoji)\n",
        "num_classes = 1\n",
        "embedding_dim = 300\n",
        "hidden_dim = 254\n",
        "num_lstm_layers = 8\n",
        "linear_size = 128\n",
        "padding_idx = 0"
      ],
      "execution_count": null,
      "outputs": []
    },
    {
      "cell_type": "code",
      "metadata": {
        "colab": {
          "base_uri": "https://localhost:8080/"
        },
        "id": "BrTpbnxS9HZF",
        "outputId": "b9adca3c-1435-41fb-db68-7aa66bbfccf0"
      },
      "source": [
        "toxic_model = BaddToxicLSTM(embeddings,\n",
        "                                   vocab_size, \n",
        "                                   num_classes, \n",
        "                                   embedding_dim, \n",
        "                                   hidden_dim, \n",
        "                                   num_lstm_layers, \n",
        "                                   linear_size, \n",
        "                                   padding_idx)\n",
        "\n",
        "toxic_model.to(device)"
      ],
      "execution_count": null,
      "outputs": [
        {
          "output_type": "execute_result",
          "data": {
            "text/plain": [
              "BaddToxicLSTM(\n",
              "  (embedding_layer): Embedding(286444, 300, padding_idx=0)\n",
              "  (lstm): LSTM(300, 254, num_layers=8, batch_first=True)\n",
              "  (relu): ReLU()\n",
              "  (output_layer): Linear(in_features=254, out_features=1, bias=False)\n",
              ")"
            ]
          },
          "metadata": {
            "tags": []
          },
          "execution_count": 31
        }
      ]
    },
    {
      "cell_type": "code",
      "metadata": {
        "id": "RpIDoF5H9MRn"
      },
      "source": [
        "n_epochs = 30\n",
        "model_params =  [x[1] for x in list(filter(lambda x: x[0] != 'embedding_layer.weight', toxic_model.named_parameters()))]\n",
        "embedding_params = toxic_model.embedding_layer.parameters()\n",
        "f_score_average = \"micro\"\n",
        "criterion = nn.BCEWithLogitsLoss(reduction='mean')\n",
        "optimizer = torch.optim.Adam(params=[{'params': embedding_params, 'lr': 0.0001}, {'params': model_params, 'lr': 0.00001}])\n",
        "scheduler = StepLR(optimizer, step_size=3, gamma=0.1)"
      ],
      "execution_count": null,
      "outputs": []
    },
    {
      "cell_type": "code",
      "metadata": {
        "colab": {
          "base_uri": "https://localhost:8080/",
          "height": 528,
          "referenced_widgets": [
            "2a920242610c449c8d58c89357149a89",
            "09a31340b285486db0246e7a526241b9",
            "8e59732e515648e7a582e9a902252273",
            "0619a87c69dd41fe96603694ba625532",
            "964126efe4fc4e7d93f4174d20f773be",
            "5e6cbd6a854c4f57ac64d730457d7924",
            "b7b8fe32da9e410aa0ff5492f4b85122",
            "7a0d43ee47634d3da039b07d318257b1",
            "f97d9727f77945a0a108d0cae5ec8ff0",
            "e8b698dbc2b846ed8cde8a70193f2bc1",
            "2fa8543d12864894b6936f5d6c98f097",
            "6d2deca72eff444280c73a53911786a6",
            "17eb9f575642433caf1c31526b413807",
            "a72be26a7bde44daa57c020d799ebcdd",
            "c1c5937b458644368f8a6802af56b9af",
            "1fefa482c4984129a4c65507beb3b121",
            "eeb127480c554471ac3f1903408f104f",
            "eb3d8768ba064bacb68480ac5a0efa8e",
            "a442701aaa2e452b8efad5ce7867c757",
            "88c84fd8ce2a44e48e1b21afe262b078",
            "34c09dd7e8714fc59229e532e4e263b6",
            "cbc825a66d514e549e1a4fcf55412565",
            "1b8568f6bdb94a2fa218bf2dfc3017f5",
            "7d0cc99b8b9a41058deda79f4d2e5cd8",
            "96cabb2965be43979d26b34061cd0f4e",
            "e9b5b6fd5a5845eba4afffd1afeda95e",
            "479ec3824c294d0d936114a6d18cd9fb",
            "773a3a30951641efa8abf29103861779",
            "267f99853061442c94a85e5b6259a60a",
            "04c095e650154843ac16cf66cc6991ae",
            "9ca380dd5e2b4e94ba15015a6403b7fb",
            "c5e68bfba2ac4ca48cea30e521da88ef",
            "c296f504c0d0417380466dae268bd6b9",
            "f597e861ee5a439880a486d1bf158ffa",
            "f3bd06a47e3c4556b955aa1d667cc733",
            "07d63e3ce07f4882ba561804b2c570c0",
            "f80290064c444b019a839d3c528d1271",
            "7a3de54a7d354ed9867adbddf78dd42c",
            "26c1d7eb05a54a5a891e3d53bd853b4d",
            "5827159732b04840a3d84da21a500724",
            "4a54f85c62b24c468c0a278721a3ba76",
            "d1321b44ea4649e6829d0f73edea3288",
            "5b34572c1ac74200b5d0e48fd72e8b50",
            "6f2cfb89e9c7408e8a701de456bc1d19",
            "0d23ed2ef86c452c8513de658ab72227",
            "91097997acbd4c608f1d2dd0aab55926",
            "121745a6ea5546498b387e80142a48f2",
            "6f85f7c3142a42a9a0b4acec8b300e72",
            "ead3a951a2f648a9934271e56867c86f",
            "ed76e5fdd78d4a52a5a2968508b7c0ad",
            "0a9bae73e1f84747aac6b4d4de368026",
            "022cce0bd2cd4a20b1c3ad7fbeebb28d",
            "279cb01f39f24ec79896559117cde8fb",
            "ea7836acf5434bc9b644fdefaa9aac75",
            "ce27e566ac3b47c0b054d84b7763d96f",
            "0a6d0048e4c64580aac1aeda422e0b3d",
            "41d7b1df898846e8bd0c4db52d48485b",
            "41b5a825b9d84e8480d54fce3e2846e0",
            "89d11658e8384e70a68a7deed5ae7ace",
            "a01d2a38972246c3a428cfd9ce1b9b8e",
            "74daec2e46664c9ca8145a4083def73e",
            "adf656a740604136b1f3f32c0d6b5ae2",
            "574634ba97fc42a7bfd1b1117b909640",
            "e25d8431b40a42dd9b55b4ea800358e4"
          ]
        },
        "id": "UDyJ4ZyJ_wmi",
        "outputId": "b3fa17e9-1304-4cbe-d12d-e4f9c4217671"
      },
      "source": [
        "%%time\n",
        "valid_losses, train_losses, mean_f_scores_train, mean_f_scores_valid = train_and_validate(toxic_model,\n",
        "                       n_epochs,\n",
        "                       train_loader,\n",
        "                       valid_loader,\n",
        "                       model_params,\n",
        "                       embedding_params,\n",
        "                       f_score_average,\n",
        "                       criterion,\n",
        "                       optimizer,\n",
        "                       scheduler,\n",
        "                       toxic_model_best_state_path,\n",
        "                       toxic_opt_best_state_path,\n",
        "                       toxic_model_last_state_path,\n",
        "                       toxic_opt_last_state_path)"
      ],
      "execution_count": null,
      "outputs": [
        {
          "output_type": "display_data",
          "data": {
            "application/vnd.jupyter.widget-view+json": {
              "model_id": "2a920242610c449c8d58c89357149a89",
              "version_minor": 0,
              "version_major": 2
            },
            "text/plain": [
              "HBox(children=(FloatProgress(value=0.0, description='Epoch: 1, train', max=212131.0, style=ProgressStyle(descr…"
            ]
          },
          "metadata": {
            "tags": []
          }
        },
        {
          "output_type": "stream",
          "text": [
            "\n"
          ],
          "name": "stdout"
        },
        {
          "output_type": "display_data",
          "data": {
            "application/vnd.jupyter.widget-view+json": {
              "model_id": "f97d9727f77945a0a108d0cae5ec8ff0",
              "version_minor": 0,
              "version_major": 2
            },
            "text/plain": [
              "HBox(children=(FloatProgress(value=0.0, description='Epoch: 1, validation', max=37435.0, style=ProgressStyle(d…"
            ]
          },
          "metadata": {
            "tags": []
          }
        },
        {
          "output_type": "stream",
          "text": [
            "\n",
            "F-score on validation: 0.8897134588129809\n"
          ],
          "name": "stdout"
        },
        {
          "output_type": "display_data",
          "data": {
            "application/vnd.jupyter.widget-view+json": {
              "model_id": "eeb127480c554471ac3f1903408f104f",
              "version_minor": 0,
              "version_major": 2
            },
            "text/plain": [
              "HBox(children=(FloatProgress(value=0.0, description='Epoch: 2, train', max=212131.0, style=ProgressStyle(descr…"
            ]
          },
          "metadata": {
            "tags": []
          }
        },
        {
          "output_type": "stream",
          "text": [
            "\n"
          ],
          "name": "stdout"
        },
        {
          "output_type": "display_data",
          "data": {
            "application/vnd.jupyter.widget-view+json": {
              "model_id": "96cabb2965be43979d26b34061cd0f4e",
              "version_minor": 0,
              "version_major": 2
            },
            "text/plain": [
              "HBox(children=(FloatProgress(value=0.0, description='Epoch: 2, validation', max=37435.0, style=ProgressStyle(d…"
            ]
          },
          "metadata": {
            "tags": []
          }
        },
        {
          "output_type": "stream",
          "text": [
            "\n",
            "F-score on validation: 0.9167284303233643\n"
          ],
          "name": "stdout"
        },
        {
          "output_type": "display_data",
          "data": {
            "application/vnd.jupyter.widget-view+json": {
              "model_id": "c296f504c0d0417380466dae268bd6b9",
              "version_minor": 0,
              "version_major": 2
            },
            "text/plain": [
              "HBox(children=(FloatProgress(value=0.0, description='Epoch: 3, train', max=212131.0, style=ProgressStyle(descr…"
            ]
          },
          "metadata": {
            "tags": []
          }
        },
        {
          "output_type": "stream",
          "text": [
            "\n"
          ],
          "name": "stdout"
        },
        {
          "output_type": "display_data",
          "data": {
            "application/vnd.jupyter.widget-view+json": {
              "model_id": "4a54f85c62b24c468c0a278721a3ba76",
              "version_minor": 0,
              "version_major": 2
            },
            "text/plain": [
              "HBox(children=(FloatProgress(value=0.0, description='Epoch: 3, validation', max=37435.0, style=ProgressStyle(d…"
            ]
          },
          "metadata": {
            "tags": []
          }
        },
        {
          "output_type": "stream",
          "text": [
            "\n",
            "F-score on validation: 0.9216214677214091\n"
          ],
          "name": "stdout"
        },
        {
          "output_type": "display_data",
          "data": {
            "application/vnd.jupyter.widget-view+json": {
              "model_id": "ead3a951a2f648a9934271e56867c86f",
              "version_minor": 0,
              "version_major": 2
            },
            "text/plain": [
              "HBox(children=(FloatProgress(value=0.0, description='Epoch: 4, train', max=212131.0, style=ProgressStyle(descr…"
            ]
          },
          "metadata": {
            "tags": []
          }
        },
        {
          "output_type": "stream",
          "text": [
            "\n"
          ],
          "name": "stdout"
        },
        {
          "output_type": "display_data",
          "data": {
            "application/vnd.jupyter.widget-view+json": {
              "model_id": "41d7b1df898846e8bd0c4db52d48485b",
              "version_minor": 0,
              "version_major": 2
            },
            "text/plain": [
              "HBox(children=(FloatProgress(value=0.0, description='Epoch: 4, validation', max=37435.0, style=ProgressStyle(d…"
            ]
          },
          "metadata": {
            "tags": []
          }
        },
        {
          "output_type": "stream",
          "text": [
            "\n",
            "Early stopping on epoch 4\n",
            "F-score on validation: 0.919750480852664\n",
            "CPU times: user 6min 11s, sys: 1min 4s, total: 7min 15s\n",
            "Wall time: 7min 30s\n"
          ],
          "name": "stdout"
        }
      ]
    },
    {
      "cell_type": "code",
      "metadata": {
        "colab": {
          "base_uri": "https://localhost:8080/",
          "height": 458
        },
        "id": "sQaZbvPiACem",
        "outputId": "fafd58f8-f236-4df8-af47-08f0e923eaf4"
      },
      "source": [
        "show_f_scores_graph(mean_f_scores_train, training=True)"
      ],
      "execution_count": null,
      "outputs": [
        {
          "output_type": "display_data",
          "data": {
            "image/png": "[encoded data removed]",
            "text/plain": [
              "<Figure size 504x504 with 1 Axes>"
            ]
          },
          "metadata": {
            "tags": [],
            "needs_background": "light"
          }
        }
      ]
    },
    {
      "cell_type": "code",
      "metadata": {
        "colab": {
          "base_uri": "https://localhost:8080/",
          "height": 458
        },
        "id": "OZXz7LcuAFvV",
        "outputId": "b520cd70-5d7a-4958-fe36-fb9c1fbb8da2"
      },
      "source": [
        "show_f_scores_graph(mean_f_scores_valid, training=False)"
      ],
      "execution_count": null,
      "outputs": [
        {
          "output_type": "display_data",
          "data": {
            "image/png": "[encoded data removed]",
            "text/plain": [
              "<Figure size 504x504 with 1 Axes>"
            ]
          },
          "metadata": {
            "tags": [],
            "needs_background": "light"
          }
        }
      ]
    },
    {
      "cell_type": "code",
      "metadata": {
        "colab": {
          "base_uri": "https://localhost:8080/",
          "height": 458
        },
        "id": "0fV2FkZKAJHe",
        "outputId": "e411767e-4118-4f08-cb25-fde3ce5a29a3"
      },
      "source": [
        "show_losses_graph(train_losses, training=True)"
      ],
      "execution_count": null,
      "outputs": [
        {
          "output_type": "display_data",
          "data": {
            "image/png": "[encoded data removed]",
            "text/plain": [
              "<Figure size 504x504 with 1 Axes>"
            ]
          },
          "metadata": {
            "tags": [],
            "needs_background": "light"
          }
        }
      ]
    },
    {
      "cell_type": "code",
      "metadata": {
        "colab": {
          "base_uri": "https://localhost:8080/",
          "height": 458
        },
        "id": "2c_jCBZ0ALqa",
        "outputId": "947c5594-84d9-44f8-c956-27f66e86a74c"
      },
      "source": [
        "show_losses_graph(valid_losses, training=False)"
      ],
      "execution_count": null,
      "outputs": [
        {
          "output_type": "display_data",
          "data": {
            "image/png": "[encoded data removed]",
            "text/plain": [
              "<Figure size 504x504 with 1 Axes>"
            ]
          },
          "metadata": {
            "tags": [],
            "needs_background": "light"
          }
        }
      ]
    },
    {
      "cell_type": "code",
      "metadata": {
        "id": "lnc6d3ADAUbZ"
      },
      "source": [
        "test_data = pd.read_csv(test_data_path)"
      ],
      "execution_count": null,
      "outputs": []
    },
    {
      "cell_type": "code",
      "metadata": {
        "colab": {
          "base_uri": "https://localhost:8080/"
        },
        "id": "1oO99SarASEP",
        "outputId": "f983cc9b-e10a-4ec2-fa71-4f200e9b725a"
      },
      "source": [
        "model, _ = load_model(toxic_model_best_state_path, toxic_opt_best_state_path)\n",
        "toxic_model.load_state_dict(model)"
      ],
      "execution_count": null,
      "outputs": [
        {
          "output_type": "execute_result",
          "data": {
            "text/plain": [
              "<All keys matched successfully>"
            ]
          },
          "metadata": {
            "tags": []
          },
          "execution_count": 40
        }
      ]
    },
    {
      "cell_type": "code",
      "metadata": {
        "colab": {
          "base_uri": "https://localhost:8080/"
        },
        "id": "AFSdC9JQAZwH",
        "outputId": "31f92fce-3cad-4f51-c789-5629c3c3802e"
      },
      "source": [
        "%%time\n",
        "y_preds = make_preds(toxic_model, test_data.texts, tokenize_remove_emojis, word_to_id_no_emoji, max_len_no_emoji)\n",
        "y_trues = test_data.toxic"
      ],
      "execution_count": null,
      "outputs": [
        {
          "output_type": "stream",
          "text": [
            "CPU times: user 1min 6s, sys: 17.4 s, total: 1min 23s\n",
            "Wall time: 1min 23s\n"
          ],
          "name": "stdout"
        }
      ]
    },
    {
      "cell_type": "code",
      "metadata": {
        "colab": {
          "base_uri": "https://localhost:8080/"
        },
        "id": "0qjDRMPgAgJH",
        "outputId": "2cea156a-0c2c-47e1-bfe8-4291fe8ddaa9"
      },
      "source": [
        "evaluate_on_texts(y_trues, y_preds)"
      ],
      "execution_count": null,
      "outputs": [
        {
          "output_type": "stream",
          "text": [
            "F1 score: 0.879560920907829\n",
            "Accuracy: 0.9338459196102314\n",
            "              precision    recall  f1-score   support\n",
            "\n",
            "         0.0       0.93      0.99      0.96     10675\n",
            "         1.0       0.93      0.70      0.80      2461\n",
            "\n",
            "    accuracy                           0.93     13136\n",
            "   macro avg       0.93      0.84      0.88     13136\n",
            "weighted avg       0.93      0.93      0.93     13136\n",
            "\n"
          ],
          "name": "stdout"
        }
      ]
    },
    {
      "cell_type": "markdown",
      "metadata": {
        "id": "nQw2uuSOLrEX"
      },
      "source": [
        "## Выводы\n",
        "\n",
        "С небольшим отрывом побеждает модель, токенизация данных для которой содержит функцию удаления эмодзи из текстов."
      ]
    }
  ]
}